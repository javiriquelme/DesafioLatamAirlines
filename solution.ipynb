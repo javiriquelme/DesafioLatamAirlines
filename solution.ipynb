{
 "cells": [
  {
   "cell_type": "code",
   "execution_count": 482,
   "id": "67dd549c",
   "metadata": {},
   "outputs": [],
   "source": [
    "import pandas as pd\n",
    "import numpy as np\n",
    "from datetime import datetime, date, time\n",
    "import seaborn as sns"
   ]
  },
  {
   "cell_type": "code",
   "execution_count": 483,
   "id": "74474508",
   "metadata": {},
   "outputs": [
    {
     "name": "stderr",
     "output_type": "stream",
     "text": [
      "C:\\Users\\Javiera\\anaconda3\\envs\\dhdsblend2021\\lib\\site-packages\\IPython\\core\\interactiveshell.py:3165: DtypeWarning: Columns (1,6) have mixed types.Specify dtype option on import or set low_memory=False.\n",
      "  has_raised = await self.run_ast_nodes(code_ast.body, cell_name,\n"
     ]
    }
   ],
   "source": [
    "data_location= \"dataset_SCL.csv\"\n",
    "data= pd.read_csv(data_location,  sep=\",\")"
   ]
  },
  {
   "cell_type": "code",
   "execution_count": 484,
   "id": "7eac9913",
   "metadata": {},
   "outputs": [
    {
     "data": {
      "text/html": [
       "<div>\n",
       "<style scoped>\n",
       "    .dataframe tbody tr th:only-of-type {\n",
       "        vertical-align: middle;\n",
       "    }\n",
       "\n",
       "    .dataframe tbody tr th {\n",
       "        vertical-align: top;\n",
       "    }\n",
       "\n",
       "    .dataframe thead th {\n",
       "        text-align: right;\n",
       "    }\n",
       "</style>\n",
       "<table border=\"1\" class=\"dataframe\">\n",
       "  <thead>\n",
       "    <tr style=\"text-align: right;\">\n",
       "      <th></th>\n",
       "      <th>Fecha-I</th>\n",
       "      <th>Vlo-I</th>\n",
       "      <th>Ori-I</th>\n",
       "      <th>Des-I</th>\n",
       "      <th>Emp-I</th>\n",
       "      <th>Fecha-O</th>\n",
       "      <th>Vlo-O</th>\n",
       "      <th>Ori-O</th>\n",
       "      <th>Des-O</th>\n",
       "      <th>Emp-O</th>\n",
       "      <th>DIA</th>\n",
       "      <th>MES</th>\n",
       "      <th>AÑO</th>\n",
       "      <th>DIANOM</th>\n",
       "      <th>TIPOVUELO</th>\n",
       "      <th>OPERA</th>\n",
       "      <th>SIGLAORI</th>\n",
       "      <th>SIGLADES</th>\n",
       "    </tr>\n",
       "  </thead>\n",
       "  <tbody>\n",
       "    <tr>\n",
       "      <th>17047</th>\n",
       "      <td>2017-03-26 11:20:00</td>\n",
       "      <td>7811</td>\n",
       "      <td>SCEL</td>\n",
       "      <td>SABE</td>\n",
       "      <td>LAN</td>\n",
       "      <td>2017-03-26 11:26:00</td>\n",
       "      <td>7811</td>\n",
       "      <td>SCEL</td>\n",
       "      <td>SABE</td>\n",
       "      <td>DSM</td>\n",
       "      <td>26</td>\n",
       "      <td>3</td>\n",
       "      <td>2017</td>\n",
       "      <td>Domingo</td>\n",
       "      <td>I</td>\n",
       "      <td>Grupo LATAM</td>\n",
       "      <td>Santiago</td>\n",
       "      <td>Buenos Aires</td>\n",
       "    </tr>\n",
       "    <tr>\n",
       "      <th>65867</th>\n",
       "      <td>2017-12-31 12:31:00</td>\n",
       "      <td>302</td>\n",
       "      <td>SCEL</td>\n",
       "      <td>SCSE</td>\n",
       "      <td>LAN</td>\n",
       "      <td>2017-12-31 12:29:00</td>\n",
       "      <td>302</td>\n",
       "      <td>SCEL</td>\n",
       "      <td>SCSE</td>\n",
       "      <td>LXP</td>\n",
       "      <td>31</td>\n",
       "      <td>12</td>\n",
       "      <td>2017</td>\n",
       "      <td>Domingo</td>\n",
       "      <td>N</td>\n",
       "      <td>Grupo LATAM</td>\n",
       "      <td>Santiago</td>\n",
       "      <td>La Serena</td>\n",
       "    </tr>\n",
       "    <tr>\n",
       "      <th>7508</th>\n",
       "      <td>2017-02-15 06:40:00</td>\n",
       "      <td>71</td>\n",
       "      <td>SCEL</td>\n",
       "      <td>SCIE</td>\n",
       "      <td>SKU</td>\n",
       "      <td>2017-02-15 06:40:00</td>\n",
       "      <td>71</td>\n",
       "      <td>SCEL</td>\n",
       "      <td>SCIE</td>\n",
       "      <td>SKU</td>\n",
       "      <td>15</td>\n",
       "      <td>2</td>\n",
       "      <td>2017</td>\n",
       "      <td>Miercoles</td>\n",
       "      <td>N</td>\n",
       "      <td>Sky Airline</td>\n",
       "      <td>Santiago</td>\n",
       "      <td>Concepcion</td>\n",
       "    </tr>\n",
       "    <tr>\n",
       "      <th>28659</th>\n",
       "      <td>2017-06-08 18:10:00</td>\n",
       "      <td>57</td>\n",
       "      <td>SCEL</td>\n",
       "      <td>SCQP</td>\n",
       "      <td>SKU</td>\n",
       "      <td>2017-06-08 18:12:00</td>\n",
       "      <td>57</td>\n",
       "      <td>SCEL</td>\n",
       "      <td>SCQP</td>\n",
       "      <td>SKU</td>\n",
       "      <td>8</td>\n",
       "      <td>6</td>\n",
       "      <td>2017</td>\n",
       "      <td>Jueves</td>\n",
       "      <td>N</td>\n",
       "      <td>Sky Airline</td>\n",
       "      <td>Santiago</td>\n",
       "      <td>Temuco</td>\n",
       "    </tr>\n",
       "    <tr>\n",
       "      <th>19006</th>\n",
       "      <td>2017-04-27 20:20:00</td>\n",
       "      <td>194</td>\n",
       "      <td>SCEL</td>\n",
       "      <td>SCAR</td>\n",
       "      <td>SKU</td>\n",
       "      <td>2017-04-27 20:19:00</td>\n",
       "      <td>194</td>\n",
       "      <td>SCEL</td>\n",
       "      <td>SCAR</td>\n",
       "      <td>SKU</td>\n",
       "      <td>27</td>\n",
       "      <td>4</td>\n",
       "      <td>2017</td>\n",
       "      <td>Jueves</td>\n",
       "      <td>N</td>\n",
       "      <td>Sky Airline</td>\n",
       "      <td>Santiago</td>\n",
       "      <td>Arica</td>\n",
       "    </tr>\n",
       "  </tbody>\n",
       "</table>\n",
       "</div>"
      ],
      "text/plain": [
       "                   Fecha-I Vlo-I Ori-I Des-I Emp-I              Fecha-O Vlo-O  \\\n",
       "17047  2017-03-26 11:20:00  7811  SCEL  SABE   LAN  2017-03-26 11:26:00  7811   \n",
       "65867  2017-12-31 12:31:00   302  SCEL  SCSE   LAN  2017-12-31 12:29:00   302   \n",
       "7508   2017-02-15 06:40:00    71  SCEL  SCIE   SKU  2017-02-15 06:40:00    71   \n",
       "28659  2017-06-08 18:10:00    57  SCEL  SCQP   SKU  2017-06-08 18:12:00    57   \n",
       "19006  2017-04-27 20:20:00   194  SCEL  SCAR   SKU  2017-04-27 20:19:00   194   \n",
       "\n",
       "      Ori-O Des-O Emp-O  DIA  MES   AÑO     DIANOM TIPOVUELO        OPERA  \\\n",
       "17047  SCEL  SABE   DSM   26    3  2017    Domingo         I  Grupo LATAM   \n",
       "65867  SCEL  SCSE   LXP   31   12  2017    Domingo         N  Grupo LATAM   \n",
       "7508   SCEL  SCIE   SKU   15    2  2017  Miercoles         N  Sky Airline   \n",
       "28659  SCEL  SCQP   SKU    8    6  2017     Jueves         N  Sky Airline   \n",
       "19006  SCEL  SCAR   SKU   27    4  2017     Jueves         N  Sky Airline   \n",
       "\n",
       "       SIGLAORI      SIGLADES  \n",
       "17047  Santiago  Buenos Aires  \n",
       "65867  Santiago     La Serena  \n",
       "7508   Santiago    Concepcion  \n",
       "28659  Santiago        Temuco  \n",
       "19006  Santiago         Arica  "
      ]
     },
     "execution_count": 484,
     "metadata": {},
     "output_type": "execute_result"
    }
   ],
   "source": [
    "data.sample(5)"
   ]
  },
  {
   "cell_type": "markdown",
   "id": "212958f0",
   "metadata": {},
   "source": [
    "## Siglas\n",
    "Fecha-I : Fecha y hora programada del vuelo.  \n",
    "Vlo-I : Número de vuelo programado.  \n",
    "Ori-I : Código de ciudad de origen programado.  \n",
    "Des-I : Código de ciudad de destino programado.  \n",
    "Emp-I : Código aerolínea de vuelo programado.  \n",
    "Fecha-O : Fecha y hora de operación del vuelo.  \n",
    "Vlo-O : Número de vuelo de operación del vuelo.  \n",
    "Ori-O : Código de ciudad de origen de operación  \n",
    "Des-O : Código de ciudad de destino de operación.  \n",
    "Emp-O : Código aerolínea de vuelo operado.  \n",
    "DIA : Día del mes de operación del vuelo.  \n",
    "MES : Número de mes de operación del vuelo.  \n",
    "AÑO : Año de operación del vuelo.  \n",
    "DIANOM : Día de la semana de operación del vuelo.  \n",
    "TIPOVUELO : Tipo de vuelo, I =Internacional, N =Nacional.  \n",
    "OPERA : Nombre de aerolínea que opera.  \n",
    "SIGLAORI : Nombre ciudad origen.  \n",
    "SIGLADES : Nombre ciudad destino  "
   ]
  },
  {
   "cell_type": "code",
   "execution_count": 485,
   "id": "c2f9e0c8",
   "metadata": {},
   "outputs": [
    {
     "data": {
      "text/plain": [
       "(68206, 18)"
      ]
     },
     "execution_count": 485,
     "metadata": {},
     "output_type": "execute_result"
    }
   ],
   "source": [
    "data.shape"
   ]
  },
  {
   "cell_type": "code",
   "execution_count": 486,
   "id": "f5e1a9e2",
   "metadata": {},
   "outputs": [
    {
     "data": {
      "text/plain": [
       "Fecha-I      0\n",
       "Vlo-I        0\n",
       "Ori-I        0\n",
       "Des-I        0\n",
       "Emp-I        0\n",
       "Fecha-O      0\n",
       "Vlo-O        1\n",
       "Ori-O        0\n",
       "Des-O        0\n",
       "Emp-O        0\n",
       "DIA          0\n",
       "MES          0\n",
       "AÑO          0\n",
       "DIANOM       0\n",
       "TIPOVUELO    0\n",
       "OPERA        0\n",
       "SIGLAORI     0\n",
       "SIGLADES     0\n",
       "dtype: int64"
      ]
     },
     "execution_count": 486,
     "metadata": {},
     "output_type": "execute_result"
    }
   ],
   "source": [
    "data.isnull().sum()"
   ]
  },
  {
   "cell_type": "code",
   "execution_count": 487,
   "id": "75be6904",
   "metadata": {},
   "outputs": [
    {
     "data": {
      "text/plain": [
       "Fecha-I      object\n",
       "Vlo-I        object\n",
       "Ori-I        object\n",
       "Des-I        object\n",
       "Emp-I        object\n",
       "Fecha-O      object\n",
       "Vlo-O        object\n",
       "Ori-O        object\n",
       "Des-O        object\n",
       "Emp-O        object\n",
       "DIA           int64\n",
       "MES           int64\n",
       "AÑO           int64\n",
       "DIANOM       object\n",
       "TIPOVUELO    object\n",
       "OPERA        object\n",
       "SIGLAORI     object\n",
       "SIGLADES     object\n",
       "dtype: object"
      ]
     },
     "execution_count": 487,
     "metadata": {},
     "output_type": "execute_result"
    }
   ],
   "source": [
    "data.dtypes"
   ]
  },
  {
   "cell_type": "code",
   "execution_count": 488,
   "id": "ee692372",
   "metadata": {},
   "outputs": [
    {
     "data": {
      "text/html": [
       "<div>\n",
       "<style scoped>\n",
       "    .dataframe tbody tr th:only-of-type {\n",
       "        vertical-align: middle;\n",
       "    }\n",
       "\n",
       "    .dataframe tbody tr th {\n",
       "        vertical-align: top;\n",
       "    }\n",
       "\n",
       "    .dataframe thead th {\n",
       "        text-align: right;\n",
       "    }\n",
       "</style>\n",
       "<table border=\"1\" class=\"dataframe\">\n",
       "  <thead>\n",
       "    <tr style=\"text-align: right;\">\n",
       "      <th></th>\n",
       "      <th>DIA</th>\n",
       "      <th>MES</th>\n",
       "      <th>AÑO</th>\n",
       "    </tr>\n",
       "  </thead>\n",
       "  <tbody>\n",
       "    <tr>\n",
       "      <th>count</th>\n",
       "      <td>68206.000000</td>\n",
       "      <td>68206.000000</td>\n",
       "      <td>68206.000000</td>\n",
       "    </tr>\n",
       "    <tr>\n",
       "      <th>mean</th>\n",
       "      <td>15.714790</td>\n",
       "      <td>6.622585</td>\n",
       "      <td>2017.000029</td>\n",
       "    </tr>\n",
       "    <tr>\n",
       "      <th>std</th>\n",
       "      <td>8.782886</td>\n",
       "      <td>3.523321</td>\n",
       "      <td>0.005415</td>\n",
       "    </tr>\n",
       "    <tr>\n",
       "      <th>min</th>\n",
       "      <td>1.000000</td>\n",
       "      <td>1.000000</td>\n",
       "      <td>2017.000000</td>\n",
       "    </tr>\n",
       "    <tr>\n",
       "      <th>25%</th>\n",
       "      <td>8.000000</td>\n",
       "      <td>3.000000</td>\n",
       "      <td>2017.000000</td>\n",
       "    </tr>\n",
       "    <tr>\n",
       "      <th>50%</th>\n",
       "      <td>16.000000</td>\n",
       "      <td>7.000000</td>\n",
       "      <td>2017.000000</td>\n",
       "    </tr>\n",
       "    <tr>\n",
       "      <th>75%</th>\n",
       "      <td>23.000000</td>\n",
       "      <td>10.000000</td>\n",
       "      <td>2017.000000</td>\n",
       "    </tr>\n",
       "    <tr>\n",
       "      <th>max</th>\n",
       "      <td>31.000000</td>\n",
       "      <td>12.000000</td>\n",
       "      <td>2018.000000</td>\n",
       "    </tr>\n",
       "  </tbody>\n",
       "</table>\n",
       "</div>"
      ],
      "text/plain": [
       "                DIA           MES           AÑO\n",
       "count  68206.000000  68206.000000  68206.000000\n",
       "mean      15.714790      6.622585   2017.000029\n",
       "std        8.782886      3.523321      0.005415\n",
       "min        1.000000      1.000000   2017.000000\n",
       "25%        8.000000      3.000000   2017.000000\n",
       "50%       16.000000      7.000000   2017.000000\n",
       "75%       23.000000     10.000000   2017.000000\n",
       "max       31.000000     12.000000   2018.000000"
      ]
     },
     "execution_count": 488,
     "metadata": {},
     "output_type": "execute_result"
    }
   ],
   "source": [
    "data.describe()"
   ]
  },
  {
   "cell_type": "code",
   "execution_count": null,
   "id": "de5fc130",
   "metadata": {},
   "outputs": [],
   "source": []
  },
  {
   "cell_type": "code",
   "execution_count": null,
   "id": "fe9e21e2",
   "metadata": {},
   "outputs": [],
   "source": []
  },
  {
   "cell_type": "code",
   "execution_count": null,
   "id": "f1091d3c",
   "metadata": {},
   "outputs": [],
   "source": []
  },
  {
   "cell_type": "code",
   "execution_count": null,
   "id": "b3a77951",
   "metadata": {},
   "outputs": [],
   "source": []
  },
  {
   "cell_type": "code",
   "execution_count": 489,
   "id": "bc2354bf",
   "metadata": {},
   "outputs": [],
   "source": [
    "data[\"Fecha-I\"]=pd.to_datetime(data[\"Fecha-I\"])\n",
    "data[\"Fecha-O\"]= pd.to_datetime(data[\"Fecha-O\"])"
   ]
  },
  {
   "cell_type": "code",
   "execution_count": 490,
   "id": "1e6ef6fb",
   "metadata": {},
   "outputs": [],
   "source": [
    "data[\"Retraso\"]= data[\"Fecha-O\"]- data[\"Fecha-I\"]"
   ]
  },
  {
   "cell_type": "code",
   "execution_count": 491,
   "id": "17394fc0",
   "metadata": {},
   "outputs": [
    {
     "data": {
      "text/plain": [
       "35212   -1 days +23:59:00\n",
       "28445     0 days 00:05:00\n",
       "17579     0 days 00:10:00\n",
       "5563      0 days 00:09:00\n",
       "55583     0 days 00:12:00\n",
       "35882     0 days 00:10:00\n",
       "29498     0 days 01:29:00\n",
       "46303   -1 days +23:58:00\n",
       "45069     0 days 00:04:00\n",
       "60221   -1 days +23:59:00\n",
       "Name: Retraso, dtype: timedelta64[ns]"
      ]
     },
     "execution_count": 491,
     "metadata": {},
     "output_type": "execute_result"
    }
   ],
   "source": [
    "data.Retraso.sample(10)"
   ]
  },
  {
   "cell_type": "code",
   "execution_count": null,
   "id": "31314513",
   "metadata": {},
   "outputs": [],
   "source": []
  },
  {
   "cell_type": "code",
   "execution_count": 492,
   "id": "e42a3962",
   "metadata": {},
   "outputs": [
    {
     "data": {
      "text/plain": [
       " 0.0      4789\n",
       "-1.0      4026\n",
       " 1.0      3921\n",
       " 2.0      3622\n",
       "-2.0      3582\n",
       "          ... \n",
       " 124.0       5\n",
       " 149.0       4\n",
       " 136.0       4\n",
       " 146.0       4\n",
       " 139.0       3\n",
       "Name: dif_min, Length: 176, dtype: int64"
      ]
     },
     "execution_count": 492,
     "metadata": {},
     "output_type": "execute_result"
    }
   ],
   "source": [
    "data[\"dif_min\"]= (data[\"Fecha-O\"]- data[\"Fecha-I\"]).dt.total_seconds()/60\n",
    "data[\"dif_min\"].value_counts()"
   ]
  },
  {
   "cell_type": "code",
   "execution_count": 493,
   "id": "04fd9eb0",
   "metadata": {},
   "outputs": [
    {
     "data": {
      "text/plain": [
       "<seaborn.axisgrid.FacetGrid at 0x18f8093c340>"
      ]
     },
     "execution_count": 493,
     "metadata": {},
     "output_type": "execute_result"
    },
    {
     "data": {
      "image/png": "[encoded data removed]",
      "text/plain": [
       "<Figure size 360x360 with 1 Axes>"
      ]
     },
     "metadata": {
      "needs_background": "light"
     },
     "output_type": "display_data"
    }
   ],
   "source": [
    "\n",
    "sns.displot(data= data, x= data[\"dif_min\"])\n"
   ]
  },
  {
   "cell_type": "code",
   "execution_count": null,
   "id": "a942611a",
   "metadata": {},
   "outputs": [],
   "source": []
  },
  {
   "cell_type": "code",
   "execution_count": 496,
   "id": "caad4049",
   "metadata": {},
   "outputs": [],
   "source": [
    "data[\"Retraso_dummie\"]= np.where(data[\"dif_min\"]>0,1,0)"
   ]
  },
  {
   "cell_type": "code",
   "execution_count": 497,
   "id": "9e345c48",
   "metadata": {},
   "outputs": [
    {
     "data": {
      "text/html": [
       "<div>\n",
       "<style scoped>\n",
       "    .dataframe tbody tr th:only-of-type {\n",
       "        vertical-align: middle;\n",
       "    }\n",
       "\n",
       "    .dataframe tbody tr th {\n",
       "        vertical-align: top;\n",
       "    }\n",
       "\n",
       "    .dataframe thead th {\n",
       "        text-align: right;\n",
       "    }\n",
       "</style>\n",
       "<table border=\"1\" class=\"dataframe\">\n",
       "  <thead>\n",
       "    <tr style=\"text-align: right;\">\n",
       "      <th></th>\n",
       "      <th>Fecha-I</th>\n",
       "      <th>Vlo-I</th>\n",
       "      <th>Ori-I</th>\n",
       "      <th>Des-I</th>\n",
       "      <th>Emp-I</th>\n",
       "      <th>Fecha-O</th>\n",
       "      <th>Vlo-O</th>\n",
       "      <th>Ori-O</th>\n",
       "      <th>Des-O</th>\n",
       "      <th>Emp-O</th>\n",
       "      <th>...</th>\n",
       "      <th>MES</th>\n",
       "      <th>AÑO</th>\n",
       "      <th>DIANOM</th>\n",
       "      <th>TIPOVUELO</th>\n",
       "      <th>OPERA</th>\n",
       "      <th>SIGLAORI</th>\n",
       "      <th>SIGLADES</th>\n",
       "      <th>Retraso</th>\n",
       "      <th>dif_min</th>\n",
       "      <th>Retraso_dummie</th>\n",
       "    </tr>\n",
       "  </thead>\n",
       "  <tbody>\n",
       "    <tr>\n",
       "      <th>3159</th>\n",
       "      <td>2017-01-14 11:00:00</td>\n",
       "      <td>170</td>\n",
       "      <td>SCEL</td>\n",
       "      <td>SCDA</td>\n",
       "      <td>LAN</td>\n",
       "      <td>2017-01-14 11:02:00</td>\n",
       "      <td>170</td>\n",
       "      <td>SCEL</td>\n",
       "      <td>SCDA</td>\n",
       "      <td>LAN</td>\n",
       "      <td>...</td>\n",
       "      <td>1</td>\n",
       "      <td>2017</td>\n",
       "      <td>Sabado</td>\n",
       "      <td>N</td>\n",
       "      <td>Grupo LATAM</td>\n",
       "      <td>Santiago</td>\n",
       "      <td>Iquique</td>\n",
       "      <td>0 days 00:02:00</td>\n",
       "      <td>2.0</td>\n",
       "      <td>1</td>\n",
       "    </tr>\n",
       "    <tr>\n",
       "      <th>58280</th>\n",
       "      <td>2017-11-10 20:00:00</td>\n",
       "      <td>93</td>\n",
       "      <td>SCEL</td>\n",
       "      <td>SCCI</td>\n",
       "      <td>LAN</td>\n",
       "      <td>2017-11-10 20:16:00</td>\n",
       "      <td>93</td>\n",
       "      <td>SCEL</td>\n",
       "      <td>SCCI</td>\n",
       "      <td>LAN</td>\n",
       "      <td>...</td>\n",
       "      <td>11</td>\n",
       "      <td>2017</td>\n",
       "      <td>Viernes</td>\n",
       "      <td>N</td>\n",
       "      <td>Grupo LATAM</td>\n",
       "      <td>Santiago</td>\n",
       "      <td>Punta Arenas</td>\n",
       "      <td>0 days 00:16:00</td>\n",
       "      <td>16.0</td>\n",
       "      <td>1</td>\n",
       "    </tr>\n",
       "    <tr>\n",
       "      <th>30384</th>\n",
       "      <td>2017-06-09 12:30:00</td>\n",
       "      <td>251</td>\n",
       "      <td>SCEL</td>\n",
       "      <td>SCJO</td>\n",
       "      <td>LAN</td>\n",
       "      <td>2017-06-09 12:35:00</td>\n",
       "      <td>251</td>\n",
       "      <td>SCEL</td>\n",
       "      <td>SCJO</td>\n",
       "      <td>LXP</td>\n",
       "      <td>...</td>\n",
       "      <td>6</td>\n",
       "      <td>2017</td>\n",
       "      <td>Viernes</td>\n",
       "      <td>N</td>\n",
       "      <td>Grupo LATAM</td>\n",
       "      <td>Santiago</td>\n",
       "      <td>Osorno</td>\n",
       "      <td>0 days 00:05:00</td>\n",
       "      <td>5.0</td>\n",
       "      <td>1</td>\n",
       "    </tr>\n",
       "    <tr>\n",
       "      <th>35056</th>\n",
       "      <td>2017-07-11 13:59:00</td>\n",
       "      <td>124</td>\n",
       "      <td>SCEL</td>\n",
       "      <td>SCFA</td>\n",
       "      <td>LAN</td>\n",
       "      <td>2017-07-11 16:11:00</td>\n",
       "      <td>124</td>\n",
       "      <td>SCEL</td>\n",
       "      <td>SCFA</td>\n",
       "      <td>LAN</td>\n",
       "      <td>...</td>\n",
       "      <td>7</td>\n",
       "      <td>2017</td>\n",
       "      <td>Martes</td>\n",
       "      <td>N</td>\n",
       "      <td>Grupo LATAM</td>\n",
       "      <td>Santiago</td>\n",
       "      <td>Antofagasta</td>\n",
       "      <td>0 days 02:12:00</td>\n",
       "      <td>132.0</td>\n",
       "      <td>1</td>\n",
       "    </tr>\n",
       "    <tr>\n",
       "      <th>9812</th>\n",
       "      <td>2017-02-12 07:45:00</td>\n",
       "      <td>287</td>\n",
       "      <td>SCEL</td>\n",
       "      <td>SCTE</td>\n",
       "      <td>LAN</td>\n",
       "      <td>2017-02-12 07:52:00</td>\n",
       "      <td>287</td>\n",
       "      <td>SCEL</td>\n",
       "      <td>SCTE</td>\n",
       "      <td>LXP</td>\n",
       "      <td>...</td>\n",
       "      <td>2</td>\n",
       "      <td>2017</td>\n",
       "      <td>Domingo</td>\n",
       "      <td>N</td>\n",
       "      <td>Grupo LATAM</td>\n",
       "      <td>Santiago</td>\n",
       "      <td>Puerto Montt</td>\n",
       "      <td>0 days 00:07:00</td>\n",
       "      <td>7.0</td>\n",
       "      <td>1</td>\n",
       "    </tr>\n",
       "  </tbody>\n",
       "</table>\n",
       "<p>5 rows × 21 columns</p>\n",
       "</div>"
      ],
      "text/plain": [
       "                  Fecha-I Vlo-I Ori-I Des-I Emp-I             Fecha-O Vlo-O  \\\n",
       "3159  2017-01-14 11:00:00   170  SCEL  SCDA   LAN 2017-01-14 11:02:00   170   \n",
       "58280 2017-11-10 20:00:00    93  SCEL  SCCI   LAN 2017-11-10 20:16:00    93   \n",
       "30384 2017-06-09 12:30:00   251  SCEL  SCJO   LAN 2017-06-09 12:35:00   251   \n",
       "35056 2017-07-11 13:59:00   124  SCEL  SCFA   LAN 2017-07-11 16:11:00   124   \n",
       "9812  2017-02-12 07:45:00   287  SCEL  SCTE   LAN 2017-02-12 07:52:00   287   \n",
       "\n",
       "      Ori-O Des-O Emp-O  ...  MES   AÑO   DIANOM TIPOVUELO        OPERA  \\\n",
       "3159   SCEL  SCDA   LAN  ...    1  2017   Sabado         N  Grupo LATAM   \n",
       "58280  SCEL  SCCI   LAN  ...   11  2017  Viernes         N  Grupo LATAM   \n",
       "30384  SCEL  SCJO   LXP  ...    6  2017  Viernes         N  Grupo LATAM   \n",
       "35056  SCEL  SCFA   LAN  ...    7  2017   Martes         N  Grupo LATAM   \n",
       "9812   SCEL  SCTE   LXP  ...    2  2017  Domingo         N  Grupo LATAM   \n",
       "\n",
       "       SIGLAORI      SIGLADES         Retraso dif_min  Retraso_dummie  \n",
       "3159   Santiago       Iquique 0 days 00:02:00     2.0               1  \n",
       "58280  Santiago  Punta Arenas 0 days 00:16:00    16.0               1  \n",
       "30384  Santiago        Osorno 0 days 00:05:00     5.0               1  \n",
       "35056  Santiago   Antofagasta 0 days 02:12:00   132.0               1  \n",
       "9812   Santiago  Puerto Montt 0 days 00:07:00     7.0               1  \n",
       "\n",
       "[5 rows x 21 columns]"
      ]
     },
     "execution_count": 497,
     "metadata": {},
     "output_type": "execute_result"
    }
   ],
   "source": [
    "data.sample(5)"
   ]
  },
  {
   "cell_type": "code",
   "execution_count": 498,
   "id": "d2d0c53d",
   "metadata": {},
   "outputs": [
    {
     "data": {
      "text/plain": [
       "1    45507\n",
       "0    22699\n",
       "Name: Retraso_dummie, dtype: int64"
      ]
     },
     "execution_count": 498,
     "metadata": {},
     "output_type": "execute_result"
    }
   ],
   "source": [
    "data[\"Retraso_dummie\"].value_counts()"
   ]
  },
  {
   "cell_type": "code",
   "execution_count": 499,
   "id": "4b3ad2f8",
   "metadata": {},
   "outputs": [
    {
     "data": {
      "text/html": [
       "<div>\n",
       "<style scoped>\n",
       "    .dataframe tbody tr th:only-of-type {\n",
       "        vertical-align: middle;\n",
       "    }\n",
       "\n",
       "    .dataframe tbody tr th {\n",
       "        vertical-align: top;\n",
       "    }\n",
       "\n",
       "    .dataframe thead th {\n",
       "        text-align: right;\n",
       "    }\n",
       "</style>\n",
       "<table border=\"1\" class=\"dataframe\">\n",
       "  <thead>\n",
       "    <tr style=\"text-align: right;\">\n",
       "      <th></th>\n",
       "      <th>Fecha-I</th>\n",
       "      <th>Vlo-I</th>\n",
       "      <th>Ori-I</th>\n",
       "      <th>Des-I</th>\n",
       "      <th>Emp-I</th>\n",
       "      <th>Fecha-O</th>\n",
       "      <th>Vlo-O</th>\n",
       "      <th>Ori-O</th>\n",
       "      <th>Des-O</th>\n",
       "      <th>Emp-O</th>\n",
       "      <th>...</th>\n",
       "      <th>MES</th>\n",
       "      <th>AÑO</th>\n",
       "      <th>DIANOM</th>\n",
       "      <th>TIPOVUELO</th>\n",
       "      <th>OPERA</th>\n",
       "      <th>SIGLAORI</th>\n",
       "      <th>SIGLADES</th>\n",
       "      <th>Retraso</th>\n",
       "      <th>dif_min</th>\n",
       "      <th>Retraso_dummie</th>\n",
       "    </tr>\n",
       "  </thead>\n",
       "  <tbody>\n",
       "    <tr>\n",
       "      <th>64594</th>\n",
       "      <td>2017-12-04 14:26:00</td>\n",
       "      <td>99</td>\n",
       "      <td>SCEL</td>\n",
       "      <td>SCCI</td>\n",
       "      <td>LAN</td>\n",
       "      <td>2017-12-04 14:26:00</td>\n",
       "      <td>99.0</td>\n",
       "      <td>SCEL</td>\n",
       "      <td>SCCI</td>\n",
       "      <td>LAN</td>\n",
       "      <td>...</td>\n",
       "      <td>12</td>\n",
       "      <td>2017</td>\n",
       "      <td>Lunes</td>\n",
       "      <td>N</td>\n",
       "      <td>Grupo LATAM</td>\n",
       "      <td>Santiago</td>\n",
       "      <td>Punta Arenas</td>\n",
       "      <td>0 days 00:00:00</td>\n",
       "      <td>0.0</td>\n",
       "      <td>0</td>\n",
       "    </tr>\n",
       "    <tr>\n",
       "      <th>63352</th>\n",
       "      <td>2017-12-09 13:45:00</td>\n",
       "      <td>53</td>\n",
       "      <td>SCEL</td>\n",
       "      <td>SCQP</td>\n",
       "      <td>SKU</td>\n",
       "      <td>2017-12-09 13:58:00</td>\n",
       "      <td>53</td>\n",
       "      <td>SCEL</td>\n",
       "      <td>SCQP</td>\n",
       "      <td>SKU</td>\n",
       "      <td>...</td>\n",
       "      <td>12</td>\n",
       "      <td>2017</td>\n",
       "      <td>Sabado</td>\n",
       "      <td>N</td>\n",
       "      <td>Sky Airline</td>\n",
       "      <td>Santiago</td>\n",
       "      <td>Temuco</td>\n",
       "      <td>0 days 00:13:00</td>\n",
       "      <td>13.0</td>\n",
       "      <td>1</td>\n",
       "    </tr>\n",
       "    <tr>\n",
       "      <th>33903</th>\n",
       "      <td>2017-07-21 08:10:00</td>\n",
       "      <td>51</td>\n",
       "      <td>SCEL</td>\n",
       "      <td>SCQP</td>\n",
       "      <td>SKU</td>\n",
       "      <td>2017-07-21 08:35:00</td>\n",
       "      <td>51</td>\n",
       "      <td>SCEL</td>\n",
       "      <td>SCQP</td>\n",
       "      <td>SKU</td>\n",
       "      <td>...</td>\n",
       "      <td>7</td>\n",
       "      <td>2017</td>\n",
       "      <td>Viernes</td>\n",
       "      <td>N</td>\n",
       "      <td>Sky Airline</td>\n",
       "      <td>Santiago</td>\n",
       "      <td>Temuco</td>\n",
       "      <td>0 days 00:25:00</td>\n",
       "      <td>25.0</td>\n",
       "      <td>1</td>\n",
       "    </tr>\n",
       "    <tr>\n",
       "      <th>1123</th>\n",
       "      <td>2017-01-10 22:30:00</td>\n",
       "      <td>8160</td>\n",
       "      <td>SCEL</td>\n",
       "      <td>SPJC</td>\n",
       "      <td>TAM</td>\n",
       "      <td>2017-01-10 22:53:00</td>\n",
       "      <td>8160</td>\n",
       "      <td>SCEL</td>\n",
       "      <td>SPJC</td>\n",
       "      <td>TAM</td>\n",
       "      <td>...</td>\n",
       "      <td>1</td>\n",
       "      <td>2017</td>\n",
       "      <td>Martes</td>\n",
       "      <td>I</td>\n",
       "      <td>Grupo LATAM</td>\n",
       "      <td>Santiago</td>\n",
       "      <td>Lima</td>\n",
       "      <td>0 days 00:23:00</td>\n",
       "      <td>23.0</td>\n",
       "      <td>1</td>\n",
       "    </tr>\n",
       "    <tr>\n",
       "      <th>20557</th>\n",
       "      <td>2017-04-27 17:05:00</td>\n",
       "      <td>306</td>\n",
       "      <td>SCEL</td>\n",
       "      <td>SCSE</td>\n",
       "      <td>LAN</td>\n",
       "      <td>2017-04-27 17:15:00</td>\n",
       "      <td>306</td>\n",
       "      <td>SCEL</td>\n",
       "      <td>SCSE</td>\n",
       "      <td>LXP</td>\n",
       "      <td>...</td>\n",
       "      <td>4</td>\n",
       "      <td>2017</td>\n",
       "      <td>Jueves</td>\n",
       "      <td>N</td>\n",
       "      <td>Grupo LATAM</td>\n",
       "      <td>Santiago</td>\n",
       "      <td>La Serena</td>\n",
       "      <td>0 days 00:10:00</td>\n",
       "      <td>10.0</td>\n",
       "      <td>1</td>\n",
       "    </tr>\n",
       "  </tbody>\n",
       "</table>\n",
       "<p>5 rows × 21 columns</p>\n",
       "</div>"
      ],
      "text/plain": [
       "                  Fecha-I Vlo-I Ori-I Des-I Emp-I             Fecha-O Vlo-O  \\\n",
       "64594 2017-12-04 14:26:00    99  SCEL  SCCI   LAN 2017-12-04 14:26:00  99.0   \n",
       "63352 2017-12-09 13:45:00    53  SCEL  SCQP   SKU 2017-12-09 13:58:00    53   \n",
       "33903 2017-07-21 08:10:00    51  SCEL  SCQP   SKU 2017-07-21 08:35:00    51   \n",
       "1123  2017-01-10 22:30:00  8160  SCEL  SPJC   TAM 2017-01-10 22:53:00  8160   \n",
       "20557 2017-04-27 17:05:00   306  SCEL  SCSE   LAN 2017-04-27 17:15:00   306   \n",
       "\n",
       "      Ori-O Des-O Emp-O  ...  MES   AÑO   DIANOM TIPOVUELO        OPERA  \\\n",
       "64594  SCEL  SCCI   LAN  ...   12  2017    Lunes         N  Grupo LATAM   \n",
       "63352  SCEL  SCQP   SKU  ...   12  2017   Sabado         N  Sky Airline   \n",
       "33903  SCEL  SCQP   SKU  ...    7  2017  Viernes         N  Sky Airline   \n",
       "1123   SCEL  SPJC   TAM  ...    1  2017   Martes         I  Grupo LATAM   \n",
       "20557  SCEL  SCSE   LXP  ...    4  2017   Jueves         N  Grupo LATAM   \n",
       "\n",
       "       SIGLAORI      SIGLADES         Retraso dif_min  Retraso_dummie  \n",
       "64594  Santiago  Punta Arenas 0 days 00:00:00     0.0               0  \n",
       "63352  Santiago        Temuco 0 days 00:13:00    13.0               1  \n",
       "33903  Santiago        Temuco 0 days 00:25:00    25.0               1  \n",
       "1123   Santiago          Lima 0 days 00:23:00    23.0               1  \n",
       "20557  Santiago     La Serena 0 days 00:10:00    10.0               1  \n",
       "\n",
       "[5 rows x 21 columns]"
      ]
     },
     "execution_count": 499,
     "metadata": {},
     "output_type": "execute_result"
    }
   ],
   "source": [
    "data.sample(5)"
   ]
  },
  {
   "cell_type": "code",
   "execution_count": 500,
   "id": "b49b6e4f",
   "metadata": {},
   "outputs": [],
   "source": [
    "import matplotlib.pyplot as plt\n",
    "import seaborn as sns\n",
    "%matplotlib inline"
   ]
  },
  {
   "cell_type": "code",
   "execution_count": 501,
   "id": "b731059e",
   "metadata": {},
   "outputs": [
    {
     "data": {
      "text/plain": [
       "<AxesSubplot:>"
      ]
     },
     "execution_count": 501,
     "metadata": {},
     "output_type": "execute_result"
    },
    {
     "data": {
      "image/png": "[encoded data removed]",
      "text/plain": [
       "<Figure size 576x864 with 2 Axes>"
      ]
     },
     "metadata": {
      "needs_background": "light"
     },
     "output_type": "display_data"
    }
   ],
   "source": [
    "plt.figure(figsize=(8,12))\n",
    "sns.heatmap(data.corr()[['Retraso_dummie']], annot=True)"
   ]
  },
  {
   "cell_type": "code",
   "execution_count": 502,
   "id": "d3b18f54",
   "metadata": {},
   "outputs": [],
   "source": [
    "data[\"atraso_15\"]= np.where(data[\"dif_min\"]>15,1,0)"
   ]
  },
  {
   "cell_type": "code",
   "execution_count": 503,
   "id": "2e1e0fd0",
   "metadata": {},
   "outputs": [
    {
     "data": {
      "text/plain": [
       "0    55592\n",
       "1    12614\n",
       "Name: atraso_15, dtype: int64"
      ]
     },
     "execution_count": 503,
     "metadata": {},
     "output_type": "execute_result"
    }
   ],
   "source": [
    "data[\"atraso_15\"].value_counts()"
   ]
  },
  {
   "cell_type": "code",
   "execution_count": 573,
   "id": "92db3d07",
   "metadata": {},
   "outputs": [
    {
     "data": {
      "text/plain": [
       "2017    68204\n",
       "2018        2\n",
       "Name: AÑO, dtype: int64"
      ]
     },
     "execution_count": 573,
     "metadata": {},
     "output_type": "execute_result"
    }
   ],
   "source": [
    "data[\"AÑO\"].value_counts()"
   ]
  },
  {
   "cell_type": "code",
   "execution_count": 583,
   "id": "5645e44a",
   "metadata": {},
   "outputs": [
    {
     "data": {
      "text/plain": [
       "0    45995\n",
       "1    22211\n",
       "Name: temporada_alta, dtype: int64"
      ]
     },
     "execution_count": 583,
     "metadata": {},
     "output_type": "execute_result"
    }
   ],
   "source": [
    "#emporada_alta : 1 si Fecha-I está entre 15-Dic y 3-Mar, o 15-Jul y 31-Jul, o 11-Sep y 30-Sep, 0 si no\n",
    "fecha1= pd.to_datetime('20161215', format='%Y%m%d')\n",
    "fecha2= pd.to_datetime('20170303',format='%Y%m%d')\n",
    "fecha3= pd.to_datetime('20170715',format='%Y%m%d')\n",
    "fecha4= pd.to_datetime('20170731',format='%Y%m%d')\n",
    "fecha5= pd.to_datetime('20170911',format='%Y%m%d')\n",
    "fecha6= pd.to_datetime('20170930',format='%Y%m%d')\n",
    "fecha7= pd.to_datetime('20171215', format='%Y%m%d')\n",
    "fecha8= pd.to_datetime('20180303',format='%Y%m%d')\n",
    "\n",
    "\n",
    "data[\"temporada_alta\"] = np.where((data['Fecha-I']>= fecha1) & (data['Fecha-I']<= fecha2) |\n",
    "                                  (data['Fecha-I']>= fecha3) & (data['Fecha-I']<= fecha4) |\n",
    "                                  (data['Fecha-I']>= fecha5) & (data['Fecha-I']<= fecha6) |\n",
    "                                  (data['Fecha-I']>= fecha7) & (data['Fecha-I']<= fecha8)\n",
    "                                  ,1,0)\n",
    "\n",
    "data[\"temporada_alta\"].value_counts()"
   ]
  },
  {
   "cell_type": "code",
   "execution_count": 588,
   "id": "6fb1393c",
   "metadata": {},
   "outputs": [
    {
     "data": {
      "text/plain": [
       "Fecha-I           2017-12-15 06:10:00\n",
       "Vlo-I                               7\n",
       "Ori-I                            SCEL\n",
       "Des-I                            SCCI\n",
       "Emp-I                             SKU\n",
       "Fecha-O           2017-12-15 06:22:00\n",
       "Vlo-O                               7\n",
       "Ori-O                            SCEL\n",
       "Des-O                            SCCI\n",
       "Emp-O                             SKU\n",
       "DIA                                15\n",
       "MES                                12\n",
       "AÑO                              2017\n",
       "DIANOM                        Viernes\n",
       "TIPOVUELO                           N\n",
       "OPERA                     Sky Airline\n",
       "SIGLAORI                     Santiago\n",
       "SIGLADES                 Punta Arenas\n",
       "Retraso               0 days 00:12:00\n",
       "dif_min                            12\n",
       "Retraso_dummie                      1\n",
       "atraso_15                           0\n",
       "temporada_alta                      1\n",
       "Name: 63119, dtype: object"
      ]
     },
     "execution_count": 588,
     "metadata": {},
     "output_type": "execute_result"
    }
   ],
   "source": [
    "data.iloc[63119]"
   ]
  },
  {
   "cell_type": "code",
   "execution_count": 504,
   "id": "4cff2dfb",
   "metadata": {},
   "outputs": [],
   "source": [
    "data[\"Fecha-I\"]"
   ]
  },
  {
   "cell_type": "code",
   "execution_count": 614,
   "id": "c192566a",
   "metadata": {},
   "outputs": [
    {
     "data": {
      "text/plain": [
       "tarde    68206\n",
       "Name: periodo_dia, dtype: int64"
      ]
     },
     "execution_count": 614,
     "metadata": {},
     "output_type": "execute_result"
    }
   ],
   "source": [
    "#mañana (entre 5:00 y 11:59), tarde (entre 12:00 y 18:59) y noche (entre 19:00 y 4:59), en base a\n",
    "#Fecha-I \n",
    "mañana1= pd.to_datetime('05:00:00',format='%H:%M:%S')\n",
    "mañana2=pd.to_datetime('11:59:00', format='%H:%M:%S')\n",
    "tarde1= pd.to_datetime('12:00:00',format='%H:%M:%S')\n",
    "tarde2=pd.to_datetime('18:59:00', format='%H:%M:%S')\n",
    "noche1= pd.to_datetime('19:00:00',format='%H:%M:%S')\n",
    "noche2=pd.to_datetime('04:59:00', format='%H:%M:%S')\n",
    "data['periodo_dia']= np.where((data['Fecha-I']>= mañana1) & (data['Fecha-I']<= mañana2),'mañana','tarde')\n",
    "data['periodo_dia'].value_counts()"
   ]
  },
  {
   "cell_type": "code",
   "execution_count": 629,
   "id": "d9f2ecea",
   "metadata": {},
   "outputs": [],
   "source": [
    "#data['periodo_dia']=np.where((data['Fecha-I']>= tarde1) & (data['Fecha-I']<= tarde2),'tarde','noche')\n",
    "#data['periodo_dia'].value_counts()"
   ]
  },
  {
   "cell_type": "code",
   "execution_count": 610,
   "id": "e51e9385",
   "metadata": {},
   "outputs": [],
   "source": []
  },
  {
   "cell_type": "code",
   "execution_count": null,
   "id": "1881fb23",
   "metadata": {},
   "outputs": [],
   "source": [
    "\n",
    "        "
   ]
  },
  {
   "cell_type": "code",
   "execution_count": null,
   "id": "1e42cb0f",
   "metadata": {},
   "outputs": [],
   "source": []
  },
  {
   "cell_type": "code",
   "execution_count": null,
   "id": "bccb077f",
   "metadata": {},
   "outputs": [],
   "source": []
  },
  {
   "cell_type": "code",
   "execution_count": 504,
   "id": "a7d13278",
   "metadata": {},
   "outputs": [
    {
     "data": {
      "text/plain": [
       "(68206, 22)"
      ]
     },
     "execution_count": 504,
     "metadata": {},
     "output_type": "execute_result"
    }
   ],
   "source": [
    "data.shape"
   ]
  },
  {
   "cell_type": "code",
   "execution_count": null,
   "id": "c240ac81",
   "metadata": {},
   "outputs": [],
   "source": []
  },
  {
   "cell_type": "code",
   "execution_count": null,
   "id": "1c775865",
   "metadata": {},
   "outputs": [],
   "source": []
  },
  {
   "cell_type": "code",
   "execution_count": 533,
   "id": "2716376c",
   "metadata": {},
   "outputs": [],
   "source": [
    "\n",
    "data_ml= data.drop(columns=[\"Fecha-I\", \"Vlo-I\",\"Fecha-O\", \"Vlo-O\", \"Retraso\", \"atraso_15\"] )\n",
    "\n",
    "columnas_dummie=[\"Ori-I\", \"Des-I\", \"Emp-I\", \"Ori-O\", \"Des-O\", \"Emp-O\", \"DIANOM\", \"TIPOVUELO\", \"OPERA\", \"SIGLAORI\", \"SIGLADES\"]"
   ]
  },
  {
   "cell_type": "code",
   "execution_count": 534,
   "id": "2f592e87",
   "metadata": {},
   "outputs": [
    {
     "data": {
      "text/plain": [
       "Index(['Ori-I', 'Des-I', 'Emp-I', 'Ori-O', 'Des-O', 'Emp-O', 'DIA', 'MES',\n",
       "       'AÑO', 'DIANOM', 'TIPOVUELO', 'OPERA', 'SIGLAORI', 'SIGLADES',\n",
       "       'dif_min', 'Retraso_dummie'],\n",
       "      dtype='object')"
      ]
     },
     "execution_count": 534,
     "metadata": {},
     "output_type": "execute_result"
    }
   ],
   "source": [
    "data_ml.columns"
   ]
  },
  {
   "cell_type": "code",
   "execution_count": 535,
   "id": "925a83c3",
   "metadata": {},
   "outputs": [
    {
     "data": {
      "text/plain": [
       "(68206, 16)"
      ]
     },
     "execution_count": 535,
     "metadata": {},
     "output_type": "execute_result"
    }
   ],
   "source": [
    "data_ml.shape"
   ]
  },
  {
   "cell_type": "code",
   "execution_count": 543,
   "id": "1f391be6",
   "metadata": {},
   "outputs": [],
   "source": [
    "data_ml = pd.get_dummies(data=data_ml, columns= [\"Ori-I\", \"Des-I\", \"Emp-I\", \"Ori-O\", \"Des-O\", \"Emp-O\", \"DIANOM\", \"TIPOVUELO\", \"OPERA\", \"SIGLAORI\", \"SIGLADES\"], drop_first= True)\n"
   ]
  },
  {
   "cell_type": "code",
   "execution_count": 548,
   "id": "9b89836e",
   "metadata": {},
   "outputs": [
    {
     "data": {
      "text/html": [
       "<div>\n",
       "<style scoped>\n",
       "    .dataframe tbody tr th:only-of-type {\n",
       "        vertical-align: middle;\n",
       "    }\n",
       "\n",
       "    .dataframe tbody tr th {\n",
       "        vertical-align: top;\n",
       "    }\n",
       "\n",
       "    .dataframe thead th {\n",
       "        text-align: right;\n",
       "    }\n",
       "</style>\n",
       "<table border=\"1\" class=\"dataframe\">\n",
       "  <thead>\n",
       "    <tr style=\"text-align: right;\">\n",
       "      <th></th>\n",
       "      <th>DIA</th>\n",
       "      <th>MES</th>\n",
       "      <th>AÑO</th>\n",
       "      <th>dif_min</th>\n",
       "      <th>Retraso_dummie</th>\n",
       "      <th>Des-I_EGLL</th>\n",
       "      <th>Des-I_EGYP</th>\n",
       "      <th>Des-I_KATL</th>\n",
       "      <th>Des-I_KDFW</th>\n",
       "      <th>Des-I_KIAH</th>\n",
       "      <th>...</th>\n",
       "      <th>SIGLADES_San Juan, Arg.</th>\n",
       "      <th>SIGLADES_Santa Cruz</th>\n",
       "      <th>SIGLADES_Sao Paulo</th>\n",
       "      <th>SIGLADES_Sydney</th>\n",
       "      <th>SIGLADES_Temuco</th>\n",
       "      <th>SIGLADES_Toronto</th>\n",
       "      <th>SIGLADES_Tucuman</th>\n",
       "      <th>SIGLADES_Ushuia</th>\n",
       "      <th>SIGLADES_Valdivia</th>\n",
       "      <th>SIGLADES_Washington</th>\n",
       "    </tr>\n",
       "  </thead>\n",
       "  <tbody>\n",
       "    <tr>\n",
       "      <th>19442</th>\n",
       "      <td>6</td>\n",
       "      <td>4</td>\n",
       "      <td>2017</td>\n",
       "      <td>12.0</td>\n",
       "      <td>1</td>\n",
       "      <td>0</td>\n",
       "      <td>0</td>\n",
       "      <td>0</td>\n",
       "      <td>0</td>\n",
       "      <td>0</td>\n",
       "      <td>...</td>\n",
       "      <td>0</td>\n",
       "      <td>0</td>\n",
       "      <td>0</td>\n",
       "      <td>0</td>\n",
       "      <td>0</td>\n",
       "      <td>0</td>\n",
       "      <td>0</td>\n",
       "      <td>0</td>\n",
       "      <td>0</td>\n",
       "      <td>0</td>\n",
       "    </tr>\n",
       "    <tr>\n",
       "      <th>43845</th>\n",
       "      <td>9</td>\n",
       "      <td>8</td>\n",
       "      <td>2017</td>\n",
       "      <td>24.0</td>\n",
       "      <td>1</td>\n",
       "      <td>0</td>\n",
       "      <td>0</td>\n",
       "      <td>0</td>\n",
       "      <td>0</td>\n",
       "      <td>0</td>\n",
       "      <td>...</td>\n",
       "      <td>0</td>\n",
       "      <td>0</td>\n",
       "      <td>0</td>\n",
       "      <td>0</td>\n",
       "      <td>0</td>\n",
       "      <td>0</td>\n",
       "      <td>0</td>\n",
       "      <td>0</td>\n",
       "      <td>0</td>\n",
       "      <td>0</td>\n",
       "    </tr>\n",
       "    <tr>\n",
       "      <th>10578</th>\n",
       "      <td>6</td>\n",
       "      <td>2</td>\n",
       "      <td>2017</td>\n",
       "      <td>1.0</td>\n",
       "      <td>1</td>\n",
       "      <td>0</td>\n",
       "      <td>0</td>\n",
       "      <td>0</td>\n",
       "      <td>0</td>\n",
       "      <td>0</td>\n",
       "      <td>...</td>\n",
       "      <td>0</td>\n",
       "      <td>0</td>\n",
       "      <td>0</td>\n",
       "      <td>0</td>\n",
       "      <td>0</td>\n",
       "      <td>0</td>\n",
       "      <td>0</td>\n",
       "      <td>0</td>\n",
       "      <td>0</td>\n",
       "      <td>0</td>\n",
       "    </tr>\n",
       "  </tbody>\n",
       "</table>\n",
       "<p>3 rows × 280 columns</p>\n",
       "</div>"
      ],
      "text/plain": [
       "       DIA  MES   AÑO  dif_min  Retraso_dummie  Des-I_EGLL  Des-I_EGYP  \\\n",
       "19442    6    4  2017     12.0               1           0           0   \n",
       "43845    9    8  2017     24.0               1           0           0   \n",
       "10578    6    2  2017      1.0               1           0           0   \n",
       "\n",
       "       Des-I_KATL  Des-I_KDFW  Des-I_KIAH  ...  SIGLADES_San Juan, Arg.  \\\n",
       "19442           0           0           0  ...                        0   \n",
       "43845           0           0           0  ...                        0   \n",
       "10578           0           0           0  ...                        0   \n",
       "\n",
       "       SIGLADES_Santa Cruz  SIGLADES_Sao Paulo  SIGLADES_Sydney  \\\n",
       "19442                    0                   0                0   \n",
       "43845                    0                   0                0   \n",
       "10578                    0                   0                0   \n",
       "\n",
       "       SIGLADES_Temuco  SIGLADES_Toronto  SIGLADES_Tucuman  SIGLADES_Ushuia  \\\n",
       "19442                0                 0                 0                0   \n",
       "43845                0                 0                 0                0   \n",
       "10578                0                 0                 0                0   \n",
       "\n",
       "       SIGLADES_Valdivia  SIGLADES_Washington  \n",
       "19442                  0                    0  \n",
       "43845                  0                    0  \n",
       "10578                  0                    0  \n",
       "\n",
       "[3 rows x 280 columns]"
      ]
     },
     "execution_count": 548,
     "metadata": {},
     "output_type": "execute_result"
    }
   ],
   "source": [
    "data_ml.sample(3)"
   ]
  },
  {
   "cell_type": "code",
   "execution_count": null,
   "id": "c020bca8",
   "metadata": {},
   "outputs": [],
   "source": []
  },
  {
   "cell_type": "code",
   "execution_count": 530,
   "id": "5f516432",
   "metadata": {},
   "outputs": [],
   "source": [
    "#data_ml= pd.concat([data_ml, dummies], axis=1)\n",
    "#data_ml= data_ml.drop(columns= columnas_dummie)"
   ]
  },
  {
   "cell_type": "code",
   "execution_count": 549,
   "id": "6568146e",
   "metadata": {},
   "outputs": [
    {
     "data": {
      "text/plain": [
       "Index(['Fecha-I', 'Vlo-I', 'Ori-I', 'Des-I', 'Emp-I', 'Fecha-O', 'Vlo-O',\n",
       "       'Ori-O', 'Des-O', 'Emp-O', 'DIA', 'MES', 'AÑO', 'DIANOM', 'TIPOVUELO',\n",
       "       'OPERA', 'SIGLAORI', 'SIGLADES', 'Retraso', 'dif_min', 'Retraso_dummie',\n",
       "       'atraso_15'],\n",
       "      dtype='object')"
      ]
     },
     "execution_count": 549,
     "metadata": {},
     "output_type": "execute_result"
    }
   ],
   "source": []
  },
  {
   "cell_type": "code",
   "execution_count": 550,
   "id": "183332f6",
   "metadata": {},
   "outputs": [
    {
     "data": {
      "text/html": [
       "<div>\n",
       "<style scoped>\n",
       "    .dataframe tbody tr th:only-of-type {\n",
       "        vertical-align: middle;\n",
       "    }\n",
       "\n",
       "    .dataframe tbody tr th {\n",
       "        vertical-align: top;\n",
       "    }\n",
       "\n",
       "    .dataframe thead th {\n",
       "        text-align: right;\n",
       "    }\n",
       "</style>\n",
       "<table border=\"1\" class=\"dataframe\">\n",
       "  <thead>\n",
       "    <tr style=\"text-align: right;\">\n",
       "      <th></th>\n",
       "      <th>DIA</th>\n",
       "      <th>MES</th>\n",
       "      <th>AÑO</th>\n",
       "      <th>dif_min</th>\n",
       "      <th>Retraso_dummie</th>\n",
       "      <th>Des-I_EGLL</th>\n",
       "      <th>Des-I_EGYP</th>\n",
       "      <th>Des-I_KATL</th>\n",
       "      <th>Des-I_KDFW</th>\n",
       "      <th>Des-I_KIAH</th>\n",
       "      <th>...</th>\n",
       "      <th>SIGLADES_San Juan, Arg.</th>\n",
       "      <th>SIGLADES_Santa Cruz</th>\n",
       "      <th>SIGLADES_Sao Paulo</th>\n",
       "      <th>SIGLADES_Sydney</th>\n",
       "      <th>SIGLADES_Temuco</th>\n",
       "      <th>SIGLADES_Toronto</th>\n",
       "      <th>SIGLADES_Tucuman</th>\n",
       "      <th>SIGLADES_Ushuia</th>\n",
       "      <th>SIGLADES_Valdivia</th>\n",
       "      <th>SIGLADES_Washington</th>\n",
       "    </tr>\n",
       "  </thead>\n",
       "  <tbody>\n",
       "    <tr>\n",
       "      <th>62429</th>\n",
       "      <td>18</td>\n",
       "      <td>12</td>\n",
       "      <td>2017</td>\n",
       "      <td>1.0</td>\n",
       "      <td>1</td>\n",
       "      <td>0</td>\n",
       "      <td>0</td>\n",
       "      <td>0</td>\n",
       "      <td>0</td>\n",
       "      <td>0</td>\n",
       "      <td>...</td>\n",
       "      <td>0</td>\n",
       "      <td>0</td>\n",
       "      <td>0</td>\n",
       "      <td>0</td>\n",
       "      <td>0</td>\n",
       "      <td>0</td>\n",
       "      <td>0</td>\n",
       "      <td>0</td>\n",
       "      <td>0</td>\n",
       "      <td>0</td>\n",
       "    </tr>\n",
       "    <tr>\n",
       "      <th>57677</th>\n",
       "      <td>30</td>\n",
       "      <td>11</td>\n",
       "      <td>2017</td>\n",
       "      <td>14.0</td>\n",
       "      <td>1</td>\n",
       "      <td>0</td>\n",
       "      <td>0</td>\n",
       "      <td>0</td>\n",
       "      <td>0</td>\n",
       "      <td>0</td>\n",
       "      <td>...</td>\n",
       "      <td>0</td>\n",
       "      <td>0</td>\n",
       "      <td>0</td>\n",
       "      <td>0</td>\n",
       "      <td>0</td>\n",
       "      <td>0</td>\n",
       "      <td>0</td>\n",
       "      <td>0</td>\n",
       "      <td>0</td>\n",
       "      <td>0</td>\n",
       "    </tr>\n",
       "    <tr>\n",
       "      <th>57992</th>\n",
       "      <td>18</td>\n",
       "      <td>11</td>\n",
       "      <td>2017</td>\n",
       "      <td>13.0</td>\n",
       "      <td>1</td>\n",
       "      <td>0</td>\n",
       "      <td>0</td>\n",
       "      <td>0</td>\n",
       "      <td>0</td>\n",
       "      <td>0</td>\n",
       "      <td>...</td>\n",
       "      <td>0</td>\n",
       "      <td>0</td>\n",
       "      <td>0</td>\n",
       "      <td>0</td>\n",
       "      <td>0</td>\n",
       "      <td>0</td>\n",
       "      <td>0</td>\n",
       "      <td>0</td>\n",
       "      <td>0</td>\n",
       "      <td>0</td>\n",
       "    </tr>\n",
       "    <tr>\n",
       "      <th>19269</th>\n",
       "      <td>3</td>\n",
       "      <td>4</td>\n",
       "      <td>2017</td>\n",
       "      <td>0.0</td>\n",
       "      <td>0</td>\n",
       "      <td>0</td>\n",
       "      <td>0</td>\n",
       "      <td>0</td>\n",
       "      <td>0</td>\n",
       "      <td>0</td>\n",
       "      <td>...</td>\n",
       "      <td>0</td>\n",
       "      <td>0</td>\n",
       "      <td>0</td>\n",
       "      <td>0</td>\n",
       "      <td>0</td>\n",
       "      <td>0</td>\n",
       "      <td>0</td>\n",
       "      <td>0</td>\n",
       "      <td>0</td>\n",
       "      <td>0</td>\n",
       "    </tr>\n",
       "    <tr>\n",
       "      <th>20129</th>\n",
       "      <td>16</td>\n",
       "      <td>4</td>\n",
       "      <td>2017</td>\n",
       "      <td>-1.0</td>\n",
       "      <td>0</td>\n",
       "      <td>0</td>\n",
       "      <td>0</td>\n",
       "      <td>0</td>\n",
       "      <td>0</td>\n",
       "      <td>0</td>\n",
       "      <td>...</td>\n",
       "      <td>0</td>\n",
       "      <td>0</td>\n",
       "      <td>0</td>\n",
       "      <td>0</td>\n",
       "      <td>0</td>\n",
       "      <td>0</td>\n",
       "      <td>0</td>\n",
       "      <td>0</td>\n",
       "      <td>1</td>\n",
       "      <td>0</td>\n",
       "    </tr>\n",
       "  </tbody>\n",
       "</table>\n",
       "<p>5 rows × 280 columns</p>\n",
       "</div>"
      ],
      "text/plain": [
       "       DIA  MES   AÑO  dif_min  Retraso_dummie  Des-I_EGLL  Des-I_EGYP  \\\n",
       "62429   18   12  2017      1.0               1           0           0   \n",
       "57677   30   11  2017     14.0               1           0           0   \n",
       "57992   18   11  2017     13.0               1           0           0   \n",
       "19269    3    4  2017      0.0               0           0           0   \n",
       "20129   16    4  2017     -1.0               0           0           0   \n",
       "\n",
       "       Des-I_KATL  Des-I_KDFW  Des-I_KIAH  ...  SIGLADES_San Juan, Arg.  \\\n",
       "62429           0           0           0  ...                        0   \n",
       "57677           0           0           0  ...                        0   \n",
       "57992           0           0           0  ...                        0   \n",
       "19269           0           0           0  ...                        0   \n",
       "20129           0           0           0  ...                        0   \n",
       "\n",
       "       SIGLADES_Santa Cruz  SIGLADES_Sao Paulo  SIGLADES_Sydney  \\\n",
       "62429                    0                   0                0   \n",
       "57677                    0                   0                0   \n",
       "57992                    0                   0                0   \n",
       "19269                    0                   0                0   \n",
       "20129                    0                   0                0   \n",
       "\n",
       "       SIGLADES_Temuco  SIGLADES_Toronto  SIGLADES_Tucuman  SIGLADES_Ushuia  \\\n",
       "62429                0                 0                 0                0   \n",
       "57677                0                 0                 0                0   \n",
       "57992                0                 0                 0                0   \n",
       "19269                0                 0                 0                0   \n",
       "20129                0                 0                 0                0   \n",
       "\n",
       "       SIGLADES_Valdivia  SIGLADES_Washington  \n",
       "62429                  0                    0  \n",
       "57677                  0                    0  \n",
       "57992                  0                    0  \n",
       "19269                  0                    0  \n",
       "20129                  1                    0  \n",
       "\n",
       "[5 rows x 280 columns]"
      ]
     },
     "execution_count": 550,
     "metadata": {},
     "output_type": "execute_result"
    }
   ],
   "source": [
    "data_ml.sample(5)"
   ]
  },
  {
   "cell_type": "code",
   "execution_count": null,
   "id": "aba4be1a",
   "metadata": {},
   "outputs": [],
   "source": [
    "# Modelo"
   ]
  },
  {
   "cell_type": "code",
   "execution_count": null,
   "id": "e0985d7b",
   "metadata": {},
   "outputs": [],
   "source": []
  },
  {
   "cell_type": "code",
   "execution_count": 551,
   "id": "35c56e99",
   "metadata": {},
   "outputs": [],
   "source": [
    "X = data_ml.drop(columns=['Retraso_dummie'])\n",
    "y = data_ml['Retraso_dummie']"
   ]
  },
  {
   "cell_type": "code",
   "execution_count": 561,
   "id": "f84c9992",
   "metadata": {},
   "outputs": [
    {
     "data": {
      "text/plain": [
       "16750    1\n",
       "Name: Retraso_dummie, dtype: int32"
      ]
     },
     "execution_count": 561,
     "metadata": {},
     "output_type": "execute_result"
    }
   ],
   "source": []
  },
  {
   "cell_type": "code",
   "execution_count": 562,
   "id": "2a9d8c57",
   "metadata": {},
   "outputs": [],
   "source": [
    "# Separamos un set de testeo para evaluar el modelo\n",
    "from sklearn.model_selection import train_test_split\n",
    "X_train, X_test, y_train, y_test = train_test_split(X, y, stratify=y, random_state = 0)"
   ]
  },
  {
   "cell_type": "code",
   "execution_count": 563,
   "id": "38571a23",
   "metadata": {},
   "outputs": [
    {
     "data": {
      "text/plain": [
       "(0.6672010008992454, 0.6671944639924936)"
      ]
     },
     "execution_count": 563,
     "metadata": {},
     "output_type": "execute_result"
    }
   ],
   "source": [
    "# Verificamos que coincidan las proporciones del target\n",
    "y_train.mean(), y_test.mean()"
   ]
  },
  {
   "cell_type": "code",
   "execution_count": 554,
   "id": "9486ab81",
   "metadata": {},
   "outputs": [],
   "source": []
  },
  {
   "cell_type": "code",
   "execution_count": 564,
   "id": "7f2b506b",
   "metadata": {},
   "outputs": [
    {
     "data": {
      "text/plain": [
       "LogisticRegression()"
      ]
     },
     "execution_count": 564,
     "metadata": {},
     "output_type": "execute_result"
    }
   ],
   "source": [
    "from sklearn.linear_model import LogisticRegression\n",
    "lr = LogisticRegression()\n",
    "lr.fit(X_train, y_train)"
   ]
  },
  {
   "cell_type": "code",
   "execution_count": 565,
   "id": "2cb56ba8",
   "metadata": {},
   "outputs": [],
   "source": [
    "from sklearn.metrics import accuracy_score, confusion_matrix, classification_report"
   ]
  },
  {
   "cell_type": "code",
   "execution_count": 566,
   "id": "2c9f639a",
   "metadata": {},
   "outputs": [
    {
     "data": {
      "text/plain": [
       "0.6471830159909293"
      ]
     },
     "execution_count": 566,
     "metadata": {},
     "output_type": "execute_result"
    }
   ],
   "source": [
    "accuracy_score(y_train, lr.predict(X_train_std))"
   ]
  },
  {
   "cell_type": "code",
   "execution_count": 567,
   "id": "ed59e228",
   "metadata": {},
   "outputs": [
    {
     "data": {
      "text/plain": [
       "Text(33.0, 0.5, 'Reales')"
      ]
     },
     "execution_count": 567,
     "metadata": {},
     "output_type": "execute_result"
    },
    {
     "data": {
      "image/png": "[encoded data removed]",
      "text/plain": [
       "<Figure size 432x288 with 2 Axes>"
      ]
     },
     "metadata": {
      "needs_background": "light"
     },
     "output_type": "display_data"
    }
   ],
   "source": [
    "sns.heatmap(confusion_matrix(y_train, lr.predict(X_train_std)), annot=True, fmt='4d')\n",
    "plt.xlabel('Predichos')\n",
    "plt.ylabel('Reales')"
   ]
  },
  {
   "cell_type": "code",
   "execution_count": null,
   "id": "65594099",
   "metadata": {},
   "outputs": [],
   "source": []
  },
  {
   "cell_type": "code",
   "execution_count": null,
   "id": "5951cdcd",
   "metadata": {},
   "outputs": [],
   "source": []
  },
  {
   "cell_type": "code",
   "execution_count": 195,
   "id": "f2f5903a",
   "metadata": {},
   "outputs": [
    {
     "data": {
      "text/plain": [
       "<seaborn.axisgrid.FacetGrid at 0x18fe555ff70>"
      ]
     },
     "execution_count": 195,
     "metadata": {},
     "output_type": "execute_result"
    },
    {
     "data": {
      "image/png": "[encoded data removed]",
      "text/plain": [
       "<Figure size 360x360 with 1 Axes>"
      ]
     },
     "metadata": {
      "needs_background": "light"
     },
     "output_type": "display_data"
    }
   ],
   "source": [
    "sns.displot(data=data, x=\"TIPOVUELO\")"
   ]
  },
  {
   "cell_type": "code",
   "execution_count": 196,
   "id": "4d487940",
   "metadata": {},
   "outputs": [],
   "source": []
  },
  {
   "cell_type": "code",
   "execution_count": 217,
   "id": "18c81d0c",
   "metadata": {},
   "outputs": [],
   "source": []
  },
  {
   "cell_type": "code",
   "execution_count": 246,
   "id": "0a842ba4",
   "metadata": {},
   "outputs": [],
   "source": []
  },
  {
   "cell_type": "code",
   "execution_count": null,
   "id": "9bf0c626",
   "metadata": {},
   "outputs": [],
   "source": []
  },
  {
   "cell_type": "code",
   "execution_count": null,
   "id": "1ba5c37e",
   "metadata": {},
   "outputs": [],
   "source": []
  },
  {
   "cell_type": "code",
   "execution_count": null,
   "id": "af43b483",
   "metadata": {},
   "outputs": [],
   "source": []
  },
  {
   "cell_type": "code",
   "execution_count": null,
   "id": "680250a6",
   "metadata": {},
   "outputs": [],
   "source": []
  },
  {
   "cell_type": "code",
   "execution_count": 167,
   "id": "192773ba",
   "metadata": {},
   "outputs": [],
   "source": []
  },
  {
   "cell_type": "code",
   "execution_count": null,
   "id": "7483c7d7",
   "metadata": {},
   "outputs": [],
   "source": []
  },
  {
   "cell_type": "code",
   "execution_count": null,
   "id": "fc643fe1",
   "metadata": {},
   "outputs": [],
   "source": []
  },
  {
   "cell_type": "code",
   "execution_count": null,
   "id": "1bd17b8c",
   "metadata": {},
   "outputs": [],
   "source": [
    "\n",
    "\n"
   ]
  },
  {
   "cell_type": "code",
   "execution_count": null,
   "id": "b43570bd",
   "metadata": {},
   "outputs": [],
   "source": []
  },
  {
   "cell_type": "code",
   "execution_count": null,
   "id": "9dec2871",
   "metadata": {},
   "outputs": [],
   "source": []
  }
 ],
 "metadata": {
  "kernelspec": {
   "display_name": "Python 3",
   "language": "python",
   "name": "python3"
  },
  "language_info": {
   "codemirror_mode": {
    "name": "ipython",
    "version": 3
   },
   "file_extension": ".py",
   "mimetype": "text/x-python",
   "name": "python",
   "nbconvert_exporter": "python",
   "pygments_lexer": "ipython3",
   "version": "3.8.10"
  }
 },
 "nbformat": 4,
 "nbformat_minor": 5
}
