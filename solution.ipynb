{
 "cells": [
  {
   "cell_type": "code",
   "execution_count": 152,
   "id": "45859ecb",
   "metadata": {},
   "outputs": [],
   "source": [
    "import pandas as pd\n",
    "import numpy as np\n",
    "from datetime import datetime, date, time\n",
    "import seaborn as sns"
   ]
  },
  {
   "cell_type": "code",
   "execution_count": 153,
   "id": "dfcc9d2e",
   "metadata": {},
   "outputs": [
    {
     "name": "stderr",
     "output_type": "stream",
     "text": [
      "C:\\Users\\Javiera\\anaconda3\\envs\\dhdsblend2021\\lib\\site-packages\\IPython\\core\\interactiveshell.py:3165: DtypeWarning: Columns (1,6) have mixed types.Specify dtype option on import or set low_memory=False.\n",
      "  has_raised = await self.run_ast_nodes(code_ast.body, cell_name,\n"
     ]
    }
   ],
   "source": [
    "data_location= \"dataset_SCL.csv\"\n",
    "data= pd.read_csv(data_location,  sep=\",\")"
   ]
  },
  {
   "cell_type": "code",
   "execution_count": 154,
   "id": "ee41b632",
   "metadata": {},
   "outputs": [
    {
     "data": {
      "text/html": [
       "<div>\n",
       "<style scoped>\n",
       "    .dataframe tbody tr th:only-of-type {\n",
       "        vertical-align: middle;\n",
       "    }\n",
       "\n",
       "    .dataframe tbody tr th {\n",
       "        vertical-align: top;\n",
       "    }\n",
       "\n",
       "    .dataframe thead th {\n",
       "        text-align: right;\n",
       "    }\n",
       "</style>\n",
       "<table border=\"1\" class=\"dataframe\">\n",
       "  <thead>\n",
       "    <tr style=\"text-align: right;\">\n",
       "      <th></th>\n",
       "      <th>Fecha-I</th>\n",
       "      <th>Vlo-I</th>\n",
       "      <th>Ori-I</th>\n",
       "      <th>Des-I</th>\n",
       "      <th>Emp-I</th>\n",
       "      <th>Fecha-O</th>\n",
       "      <th>Vlo-O</th>\n",
       "      <th>Ori-O</th>\n",
       "      <th>Des-O</th>\n",
       "      <th>Emp-O</th>\n",
       "      <th>DIA</th>\n",
       "      <th>MES</th>\n",
       "      <th>AÑO</th>\n",
       "      <th>DIANOM</th>\n",
       "      <th>TIPOVUELO</th>\n",
       "      <th>OPERA</th>\n",
       "      <th>SIGLAORI</th>\n",
       "      <th>SIGLADES</th>\n",
       "    </tr>\n",
       "  </thead>\n",
       "  <tbody>\n",
       "    <tr>\n",
       "      <th>56777</th>\n",
       "      <td>2017-11-24 20:50:00</td>\n",
       "      <td>8083</td>\n",
       "      <td>SCEL</td>\n",
       "      <td>SBGR</td>\n",
       "      <td>TAM</td>\n",
       "      <td>2017-11-24 20:58:00</td>\n",
       "      <td>8083</td>\n",
       "      <td>SCEL</td>\n",
       "      <td>SBGR</td>\n",
       "      <td>TAM</td>\n",
       "      <td>24</td>\n",
       "      <td>11</td>\n",
       "      <td>2017</td>\n",
       "      <td>Viernes</td>\n",
       "      <td>I</td>\n",
       "      <td>Grupo LATAM</td>\n",
       "      <td>Santiago</td>\n",
       "      <td>Sao Paulo</td>\n",
       "    </tr>\n",
       "    <tr>\n",
       "      <th>33307</th>\n",
       "      <td>2017-07-24 20:55:00</td>\n",
       "      <td>846</td>\n",
       "      <td>SCEL</td>\n",
       "      <td>KIAH</td>\n",
       "      <td>UAL</td>\n",
       "      <td>2017-07-24 20:41:00</td>\n",
       "      <td>846</td>\n",
       "      <td>SCEL</td>\n",
       "      <td>KIAH</td>\n",
       "      <td>UAL</td>\n",
       "      <td>24</td>\n",
       "      <td>7</td>\n",
       "      <td>2017</td>\n",
       "      <td>Lunes</td>\n",
       "      <td>I</td>\n",
       "      <td>United Airlines</td>\n",
       "      <td>Santiago</td>\n",
       "      <td>Houston</td>\n",
       "    </tr>\n",
       "    <tr>\n",
       "      <th>59339</th>\n",
       "      <td>2017-11-14 07:09:00</td>\n",
       "      <td>271</td>\n",
       "      <td>SCEL</td>\n",
       "      <td>SCBA</td>\n",
       "      <td>LAN</td>\n",
       "      <td>2017-11-14 07:21:00</td>\n",
       "      <td>271</td>\n",
       "      <td>SCEL</td>\n",
       "      <td>SCBA</td>\n",
       "      <td>LXP</td>\n",
       "      <td>14</td>\n",
       "      <td>11</td>\n",
       "      <td>2017</td>\n",
       "      <td>Martes</td>\n",
       "      <td>N</td>\n",
       "      <td>Grupo LATAM</td>\n",
       "      <td>Santiago</td>\n",
       "      <td>Balmaceda</td>\n",
       "    </tr>\n",
       "    <tr>\n",
       "      <th>4849</th>\n",
       "      <td>2017-01-03 09:20:00</td>\n",
       "      <td>455</td>\n",
       "      <td>SCEL</td>\n",
       "      <td>SAEZ</td>\n",
       "      <td>LAN</td>\n",
       "      <td>2017-01-03 09:21:00</td>\n",
       "      <td>455</td>\n",
       "      <td>SCEL</td>\n",
       "      <td>SAEZ</td>\n",
       "      <td>LAN</td>\n",
       "      <td>3</td>\n",
       "      <td>1</td>\n",
       "      <td>2017</td>\n",
       "      <td>Martes</td>\n",
       "      <td>I</td>\n",
       "      <td>Grupo LATAM</td>\n",
       "      <td>Santiago</td>\n",
       "      <td>Buenos Aires</td>\n",
       "    </tr>\n",
       "    <tr>\n",
       "      <th>42247</th>\n",
       "      <td>2017-08-27 08:42:00</td>\n",
       "      <td>314</td>\n",
       "      <td>SCEL</td>\n",
       "      <td>SCAT</td>\n",
       "      <td>LAN</td>\n",
       "      <td>2017-08-27 08:44:00</td>\n",
       "      <td>314</td>\n",
       "      <td>SCEL</td>\n",
       "      <td>SCAT</td>\n",
       "      <td>LXP</td>\n",
       "      <td>27</td>\n",
       "      <td>8</td>\n",
       "      <td>2017</td>\n",
       "      <td>Domingo</td>\n",
       "      <td>N</td>\n",
       "      <td>Grupo LATAM</td>\n",
       "      <td>Santiago</td>\n",
       "      <td>Copiapo</td>\n",
       "    </tr>\n",
       "  </tbody>\n",
       "</table>\n",
       "</div>"
      ],
      "text/plain": [
       "                   Fecha-I Vlo-I Ori-I Des-I Emp-I              Fecha-O Vlo-O  \\\n",
       "56777  2017-11-24 20:50:00  8083  SCEL  SBGR   TAM  2017-11-24 20:58:00  8083   \n",
       "33307  2017-07-24 20:55:00   846  SCEL  KIAH   UAL  2017-07-24 20:41:00   846   \n",
       "59339  2017-11-14 07:09:00   271  SCEL  SCBA   LAN  2017-11-14 07:21:00   271   \n",
       "4849   2017-01-03 09:20:00   455  SCEL  SAEZ   LAN  2017-01-03 09:21:00   455   \n",
       "42247  2017-08-27 08:42:00   314  SCEL  SCAT   LAN  2017-08-27 08:44:00   314   \n",
       "\n",
       "      Ori-O Des-O Emp-O  DIA  MES   AÑO   DIANOM TIPOVUELO            OPERA  \\\n",
       "56777  SCEL  SBGR   TAM   24   11  2017  Viernes         I      Grupo LATAM   \n",
       "33307  SCEL  KIAH   UAL   24    7  2017    Lunes         I  United Airlines   \n",
       "59339  SCEL  SCBA   LXP   14   11  2017   Martes         N      Grupo LATAM   \n",
       "4849   SCEL  SAEZ   LAN    3    1  2017   Martes         I      Grupo LATAM   \n",
       "42247  SCEL  SCAT   LXP   27    8  2017  Domingo         N      Grupo LATAM   \n",
       "\n",
       "       SIGLAORI      SIGLADES  \n",
       "56777  Santiago     Sao Paulo  \n",
       "33307  Santiago       Houston  \n",
       "59339  Santiago     Balmaceda  \n",
       "4849   Santiago  Buenos Aires  \n",
       "42247  Santiago       Copiapo  "
      ]
     },
     "execution_count": 154,
     "metadata": {},
     "output_type": "execute_result"
    }
   ],
   "source": [
    "data.sample(5)"
   ]
  },
  {
   "cell_type": "markdown",
   "id": "5ea15cb5",
   "metadata": {},
   "source": [
    "## Siglas\n",
    "Fecha-I : Fecha y hora programada del vuelo.  \n",
    "Vlo-I : Número de vuelo programado.  \n",
    "Ori-I : Código de ciudad de origen programado.  \n",
    "Des-I : Código de ciudad de destino programado.  \n",
    "Emp-I : Código aerolínea de vuelo programado.  \n",
    "Fecha-O : Fecha y hora de operación del vuelo.  \n",
    "Vlo-O : Número de vuelo de operación del vuelo.  \n",
    "Ori-O : Código de ciudad de origen de operación  \n",
    "Des-O : Código de ciudad de destino de operación.  \n",
    "Emp-O : Código aerolínea de vuelo operado.  \n",
    "DIA : Día del mes de operación del vuelo.  \n",
    "MES : Número de mes de operación del vuelo.  \n",
    "AÑO : Año de operación del vuelo.  \n",
    "DIANOM : Día de la semana de operación del vuelo.  \n",
    "TIPOVUELO : Tipo de vuelo, I =Internacional, N =Nacional.  \n",
    "OPERA : Nombre de aerolínea que opera.  \n",
    "SIGLAORI : Nombre ciudad origen.  \n",
    "SIGLADES : Nombre ciudad destino  "
   ]
  },
  {
   "cell_type": "code",
   "execution_count": 155,
   "id": "de264328",
   "metadata": {},
   "outputs": [
    {
     "data": {
      "text/plain": [
       "(68206, 18)"
      ]
     },
     "execution_count": 155,
     "metadata": {},
     "output_type": "execute_result"
    }
   ],
   "source": [
    "data.shape"
   ]
  },
  {
   "cell_type": "code",
   "execution_count": 156,
   "id": "0911ce1b",
   "metadata": {},
   "outputs": [
    {
     "data": {
      "text/plain": [
       "Fecha-I      0\n",
       "Vlo-I        0\n",
       "Ori-I        0\n",
       "Des-I        0\n",
       "Emp-I        0\n",
       "Fecha-O      0\n",
       "Vlo-O        1\n",
       "Ori-O        0\n",
       "Des-O        0\n",
       "Emp-O        0\n",
       "DIA          0\n",
       "MES          0\n",
       "AÑO          0\n",
       "DIANOM       0\n",
       "TIPOVUELO    0\n",
       "OPERA        0\n",
       "SIGLAORI     0\n",
       "SIGLADES     0\n",
       "dtype: int64"
      ]
     },
     "execution_count": 156,
     "metadata": {},
     "output_type": "execute_result"
    }
   ],
   "source": [
    "data.isnull().sum()"
   ]
  },
  {
   "cell_type": "code",
   "execution_count": 157,
   "id": "99351449",
   "metadata": {},
   "outputs": [
    {
     "data": {
      "text/plain": [
       "Fecha-I      object\n",
       "Vlo-I        object\n",
       "Ori-I        object\n",
       "Des-I        object\n",
       "Emp-I        object\n",
       "Fecha-O      object\n",
       "Vlo-O        object\n",
       "Ori-O        object\n",
       "Des-O        object\n",
       "Emp-O        object\n",
       "DIA           int64\n",
       "MES           int64\n",
       "AÑO           int64\n",
       "DIANOM       object\n",
       "TIPOVUELO    object\n",
       "OPERA        object\n",
       "SIGLAORI     object\n",
       "SIGLADES     object\n",
       "dtype: object"
      ]
     },
     "execution_count": 157,
     "metadata": {},
     "output_type": "execute_result"
    }
   ],
   "source": [
    "data.dtypes"
   ]
  },
  {
   "cell_type": "code",
   "execution_count": 158,
   "id": "1617451c",
   "metadata": {},
   "outputs": [
    {
     "data": {
      "text/html": [
       "<div>\n",
       "<style scoped>\n",
       "    .dataframe tbody tr th:only-of-type {\n",
       "        vertical-align: middle;\n",
       "    }\n",
       "\n",
       "    .dataframe tbody tr th {\n",
       "        vertical-align: top;\n",
       "    }\n",
       "\n",
       "    .dataframe thead th {\n",
       "        text-align: right;\n",
       "    }\n",
       "</style>\n",
       "<table border=\"1\" class=\"dataframe\">\n",
       "  <thead>\n",
       "    <tr style=\"text-align: right;\">\n",
       "      <th></th>\n",
       "      <th>DIA</th>\n",
       "      <th>MES</th>\n",
       "      <th>AÑO</th>\n",
       "    </tr>\n",
       "  </thead>\n",
       "  <tbody>\n",
       "    <tr>\n",
       "      <th>count</th>\n",
       "      <td>68206.000000</td>\n",
       "      <td>68206.000000</td>\n",
       "      <td>68206.000000</td>\n",
       "    </tr>\n",
       "    <tr>\n",
       "      <th>mean</th>\n",
       "      <td>15.714790</td>\n",
       "      <td>6.622585</td>\n",
       "      <td>2017.000029</td>\n",
       "    </tr>\n",
       "    <tr>\n",
       "      <th>std</th>\n",
       "      <td>8.782886</td>\n",
       "      <td>3.523321</td>\n",
       "      <td>0.005415</td>\n",
       "    </tr>\n",
       "    <tr>\n",
       "      <th>min</th>\n",
       "      <td>1.000000</td>\n",
       "      <td>1.000000</td>\n",
       "      <td>2017.000000</td>\n",
       "    </tr>\n",
       "    <tr>\n",
       "      <th>25%</th>\n",
       "      <td>8.000000</td>\n",
       "      <td>3.000000</td>\n",
       "      <td>2017.000000</td>\n",
       "    </tr>\n",
       "    <tr>\n",
       "      <th>50%</th>\n",
       "      <td>16.000000</td>\n",
       "      <td>7.000000</td>\n",
       "      <td>2017.000000</td>\n",
       "    </tr>\n",
       "    <tr>\n",
       "      <th>75%</th>\n",
       "      <td>23.000000</td>\n",
       "      <td>10.000000</td>\n",
       "      <td>2017.000000</td>\n",
       "    </tr>\n",
       "    <tr>\n",
       "      <th>max</th>\n",
       "      <td>31.000000</td>\n",
       "      <td>12.000000</td>\n",
       "      <td>2018.000000</td>\n",
       "    </tr>\n",
       "  </tbody>\n",
       "</table>\n",
       "</div>"
      ],
      "text/plain": [
       "                DIA           MES           AÑO\n",
       "count  68206.000000  68206.000000  68206.000000\n",
       "mean      15.714790      6.622585   2017.000029\n",
       "std        8.782886      3.523321      0.005415\n",
       "min        1.000000      1.000000   2017.000000\n",
       "25%        8.000000      3.000000   2017.000000\n",
       "50%       16.000000      7.000000   2017.000000\n",
       "75%       23.000000     10.000000   2017.000000\n",
       "max       31.000000     12.000000   2018.000000"
      ]
     },
     "execution_count": 158,
     "metadata": {},
     "output_type": "execute_result"
    }
   ],
   "source": [
    "data.describe()"
   ]
  },
  {
   "cell_type": "code",
   "execution_count": null,
   "id": "de3d0231",
   "metadata": {},
   "outputs": [],
   "source": []
  },
  {
   "cell_type": "code",
   "execution_count": null,
   "id": "f4461148",
   "metadata": {},
   "outputs": [],
   "source": []
  },
  {
   "cell_type": "code",
   "execution_count": null,
   "id": "851c0f39",
   "metadata": {},
   "outputs": [],
   "source": []
  },
  {
   "cell_type": "code",
   "execution_count": 159,
   "id": "eafe5e4f",
   "metadata": {},
   "outputs": [
    {
     "data": {
      "text/plain": [
       "True    68206\n",
       "dtype: int64"
      ]
     },
     "execution_count": 159,
     "metadata": {},
     "output_type": "execute_result"
    }
   ],
   "source": [
    "(data[\"Ori-I\"] == data[\"Ori-O\"]).value_counts()"
   ]
  },
  {
   "cell_type": "code",
   "execution_count": 160,
   "id": "73302efc",
   "metadata": {},
   "outputs": [],
   "source": [
    "# Siempre salen de la ciudad de origen programada, por tanto eliminaremos ori-o, ya que no aporta valor en la información\n"
   ]
  },
  {
   "cell_type": "code",
   "execution_count": 161,
   "id": "fe34941a",
   "metadata": {},
   "outputs": [
    {
     "data": {
      "text/plain": [
       "True     0.972876\n",
       "False    0.027124\n",
       "dtype: float64"
      ]
     },
     "execution_count": 161,
     "metadata": {},
     "output_type": "execute_result"
    }
   ],
   "source": [
    "(data['Vlo-I'] == data['Vlo-O']).value_counts()/data.shape[0]"
   ]
  },
  {
   "cell_type": "code",
   "execution_count": 162,
   "id": "3967bbca",
   "metadata": {},
   "outputs": [],
   "source": [
    "# Se observa que el numero de vuelo es distinto un 2% de las veces.\n",
    "#El numero de vuelo en si no aporta información, pero si las veces que este es distinto puede afectar en que un vuelo\n",
    "#salga tarde, por eso voy a crear una nueva columna que indique 1 si el N° de vuelo es distinto del inicial y 0 si es el mismo\n",
    "# luego de lo anterior dropeare las columnas Vlo-I y Vlo-o"
   ]
  },
  {
   "cell_type": "code",
   "execution_count": 163,
   "id": "04e7ce31",
   "metadata": {},
   "outputs": [],
   "source": [
    "data[\"Cambio_Nvuelo\"]= np.where(data['Vlo-I']==data['Vlo-O'],0,1)"
   ]
  },
  {
   "cell_type": "code",
   "execution_count": 164,
   "id": "b60ecd47",
   "metadata": {},
   "outputs": [
    {
     "data": {
      "text/plain": [
       "0    0.972876\n",
       "1    0.027124\n",
       "Name: Cambio_Nvuelo, dtype: float64"
      ]
     },
     "execution_count": 164,
     "metadata": {},
     "output_type": "execute_result"
    }
   ],
   "source": [
    "data['Cambio_Nvuelo'].value_counts()/data.shape[0]"
   ]
  },
  {
   "cell_type": "code",
   "execution_count": 165,
   "id": "62af2667",
   "metadata": {},
   "outputs": [
    {
     "data": {
      "text/plain": [
       "True     0.999589\n",
       "False    0.000411\n",
       "dtype: float64"
      ]
     },
     "execution_count": 165,
     "metadata": {},
     "output_type": "execute_result"
    }
   ],
   "source": [
    "(data['Des-I'] == data['Des-O']).value_counts()/data.shape[0]"
   ]
  },
  {
   "cell_type": "code",
   "execution_count": 166,
   "id": "ef8c31db",
   "metadata": {},
   "outputs": [],
   "source": [
    "#Es muy poco probable que un vuelo cambie el destino inicial. Aun así al igual que en al anterior nos interesa saber si el cambio de\n",
    "#destino afecta en el retraso del vuelo, por lo que creare una variable que indique:\n",
    "#1: si cambia el destino 0: si no cambia\n",
    "#Segun lo anterior las columnas Des-I y Des-O ya no aportan inf. asique las eliminaré"
   ]
  },
  {
   "cell_type": "code",
   "execution_count": 167,
   "id": "f83f33b5",
   "metadata": {},
   "outputs": [],
   "source": [
    "data['Cambio_destino']=np.where(data['Des-I']== data['Des-O'],0,1)"
   ]
  },
  {
   "cell_type": "code",
   "execution_count": 168,
   "id": "0ec600c4",
   "metadata": {},
   "outputs": [
    {
     "data": {
      "text/plain": [
       "0    0.999589\n",
       "1    0.000411\n",
       "Name: Cambio_destino, dtype: float64"
      ]
     },
     "execution_count": 168,
     "metadata": {},
     "output_type": "execute_result"
    }
   ],
   "source": [
    "data['Cambio_destino'].value_counts()/data.shape[0]"
   ]
  },
  {
   "cell_type": "code",
   "execution_count": 169,
   "id": "b4265fc1",
   "metadata": {},
   "outputs": [
    {
     "data": {
      "text/plain": [
       "True     0.726285\n",
       "False    0.273715\n",
       "dtype: float64"
      ]
     },
     "execution_count": 169,
     "metadata": {},
     "output_type": "execute_result"
    }
   ],
   "source": [
    "(data['Emp-I']== data['Emp-O']).value_counts()/data.shape[0]"
   ]
  },
  {
   "cell_type": "code",
   "execution_count": 170,
   "id": "e7dc6eca",
   "metadata": {},
   "outputs": [],
   "source": [
    "# Se observa que el codigo de la aerolinea del vuelo programada con el operado cambian. Esto puede verse relacionado con\n",
    "#los atrasos. por tanto creo una nueva columna que indica 1: si el codigo de la aerolinea cambio  0: si no\n",
    "#Luego dropeo Emp-I Y Emp-O"
   ]
  },
  {
   "cell_type": "code",
   "execution_count": 171,
   "id": "6e5496ea",
   "metadata": {},
   "outputs": [],
   "source": [
    "data['Cambio_aerolinea']=np.where(data['Emp-I']== data['Emp-O'],0,1)"
   ]
  },
  {
   "cell_type": "code",
   "execution_count": 172,
   "id": "6ea9fe52",
   "metadata": {},
   "outputs": [
    {
     "data": {
      "text/plain": [
       "0    0.726285\n",
       "1    0.273715\n",
       "Name: Cambio_aerolinea, dtype: float64"
      ]
     },
     "execution_count": 172,
     "metadata": {},
     "output_type": "execute_result"
    }
   ],
   "source": [
    "data['Cambio_aerolinea'].value_counts()/data.shape[0]"
   ]
  },
  {
   "cell_type": "code",
   "execution_count": 173,
   "id": "51d9740c",
   "metadata": {},
   "outputs": [],
   "source": [
    "#Tambien dropeo la SIGLAORI ya que esa información la tengo \"2 veces\" de distinta forma\n",
    "# solo sirve como GLOSARIO"
   ]
  },
  {
   "cell_type": "code",
   "execution_count": 174,
   "id": "421f66cf",
   "metadata": {},
   "outputs": [],
   "source": [
    "data=data.drop(columns= [ \"Ori-O\", 'Vlo-I','Vlo-O','Des-I','Des-O','Emp-I', 'Emp-O', 'SIGLAORI'])"
   ]
  },
  {
   "cell_type": "code",
   "execution_count": 175,
   "id": "4b87afcb",
   "metadata": {},
   "outputs": [],
   "source": [
    "#Ahora calculamos la variables target que es si el vuelo se atrasa o no"
   ]
  },
  {
   "cell_type": "code",
   "execution_count": 176,
   "id": "f4c4cf01",
   "metadata": {},
   "outputs": [],
   "source": [
    "data[\"Fecha-I\"]=pd.to_datetime(data[\"Fecha-I\"])\n",
    "data[\"Fecha-O\"]= pd.to_datetime(data[\"Fecha-O\"])"
   ]
  },
  {
   "cell_type": "code",
   "execution_count": 177,
   "id": "ce382172",
   "metadata": {},
   "outputs": [],
   "source": [
    "data[\"Retraso\"]= data[\"Fecha-O\"]- data[\"Fecha-I\"]"
   ]
  },
  {
   "cell_type": "code",
   "execution_count": 178,
   "id": "b5e8214d",
   "metadata": {},
   "outputs": [
    {
     "data": {
      "text/plain": [
       "21668   -1 days +23:57:00\n",
       "21655     0 days 00:04:00\n",
       "67220     0 days 00:00:00\n",
       "39008     0 days 01:59:00\n",
       "44357   -1 days +23:58:00\n",
       "10809     0 days 00:03:00\n",
       "625     -1 days +23:55:00\n",
       "39605     0 days 00:20:00\n",
       "54336     0 days 00:16:00\n",
       "6191      0 days 00:06:00\n",
       "Name: Retraso, dtype: timedelta64[ns]"
      ]
     },
     "execution_count": 178,
     "metadata": {},
     "output_type": "execute_result"
    }
   ],
   "source": [
    "data.Retraso.sample(10)"
   ]
  },
  {
   "cell_type": "markdown",
   "id": "ab262d94",
   "metadata": {},
   "source": [
    "## 2. Genera las columnas adicionales y luego expórtelas en un archivo synthetic_features.csv "
   ]
  },
  {
   "cell_type": "markdown",
   "id": "5ef6d3d5",
   "metadata": {},
   "source": [
    "1) dif_min"
   ]
  },
  {
   "cell_type": "code",
   "execution_count": 179,
   "id": "167eea97",
   "metadata": {},
   "outputs": [
    {
     "data": {
      "text/plain": [
       " 0.0      4789\n",
       "-1.0      4026\n",
       " 1.0      3921\n",
       " 2.0      3622\n",
       "-2.0      3582\n",
       "          ... \n",
       " 124.0       5\n",
       " 149.0       4\n",
       " 136.0       4\n",
       " 146.0       4\n",
       " 139.0       3\n",
       "Name: dif_min, Length: 176, dtype: int64"
      ]
     },
     "execution_count": 179,
     "metadata": {},
     "output_type": "execute_result"
    }
   ],
   "source": [
    "data[\"dif_min\"]= (data[\"Fecha-O\"]- data[\"Fecha-I\"]).dt.total_seconds()/60\n",
    "data[\"dif_min\"].value_counts()"
   ]
  },
  {
   "cell_type": "code",
   "execution_count": 180,
   "id": "75c05cb0",
   "metadata": {},
   "outputs": [
    {
     "data": {
      "text/plain": [
       "<seaborn.axisgrid.FacetGrid at 0x274f16cf280>"
      ]
     },
     "execution_count": 180,
     "metadata": {},
     "output_type": "execute_result"
    },
    {
     "data": {
      "image/png": "[encoded data removed]",
      "text/plain": [
       "<Figure size 360x360 with 1 Axes>"
      ]
     },
     "metadata": {
      "needs_background": "light"
     },
     "output_type": "display_data"
    }
   ],
   "source": [
    "sns.displot(data= data, x= data[\"dif_min\"])\n"
   ]
  },
  {
   "cell_type": "code",
   "execution_count": 181,
   "id": "94f8a068",
   "metadata": {},
   "outputs": [],
   "source": [
    "#Creamos la variable dummie para luego poder calcular la probabilidad de que se atrase o no"
   ]
  },
  {
   "cell_type": "code",
   "execution_count": 182,
   "id": "71094620",
   "metadata": {},
   "outputs": [],
   "source": [
    "data[\"Retraso_dummie\"]= np.where(data[\"dif_min\"]>0,1,0)"
   ]
  },
  {
   "cell_type": "code",
   "execution_count": 183,
   "id": "cc43450c",
   "metadata": {},
   "outputs": [
    {
     "data": {
      "text/html": [
       "<div>\n",
       "<style scoped>\n",
       "    .dataframe tbody tr th:only-of-type {\n",
       "        vertical-align: middle;\n",
       "    }\n",
       "\n",
       "    .dataframe tbody tr th {\n",
       "        vertical-align: top;\n",
       "    }\n",
       "\n",
       "    .dataframe thead th {\n",
       "        text-align: right;\n",
       "    }\n",
       "</style>\n",
       "<table border=\"1\" class=\"dataframe\">\n",
       "  <thead>\n",
       "    <tr style=\"text-align: right;\">\n",
       "      <th></th>\n",
       "      <th>Fecha-I</th>\n",
       "      <th>Ori-I</th>\n",
       "      <th>Fecha-O</th>\n",
       "      <th>DIA</th>\n",
       "      <th>MES</th>\n",
       "      <th>AÑO</th>\n",
       "      <th>DIANOM</th>\n",
       "      <th>TIPOVUELO</th>\n",
       "      <th>OPERA</th>\n",
       "      <th>SIGLADES</th>\n",
       "      <th>Cambio_Nvuelo</th>\n",
       "      <th>Cambio_destino</th>\n",
       "      <th>Cambio_aerolinea</th>\n",
       "      <th>Retraso</th>\n",
       "      <th>dif_min</th>\n",
       "      <th>Retraso_dummie</th>\n",
       "    </tr>\n",
       "  </thead>\n",
       "  <tbody>\n",
       "    <tr>\n",
       "      <th>7193</th>\n",
       "      <td>2017-02-02 08:55:00</td>\n",
       "      <td>SCEL</td>\n",
       "      <td>2017-02-02 08:54:00</td>\n",
       "      <td>2</td>\n",
       "      <td>2</td>\n",
       "      <td>2017</td>\n",
       "      <td>Jueves</td>\n",
       "      <td>N</td>\n",
       "      <td>Sky Airline</td>\n",
       "      <td>Puerto Montt</td>\n",
       "      <td>0</td>\n",
       "      <td>0</td>\n",
       "      <td>0</td>\n",
       "      <td>-1 days +23:59:00</td>\n",
       "      <td>-1.0</td>\n",
       "      <td>0</td>\n",
       "    </tr>\n",
       "    <tr>\n",
       "      <th>68094</th>\n",
       "      <td>2017-12-19 16:49:00</td>\n",
       "      <td>SCEL</td>\n",
       "      <td>2017-12-19 17:07:00</td>\n",
       "      <td>19</td>\n",
       "      <td>12</td>\n",
       "      <td>2017</td>\n",
       "      <td>Martes</td>\n",
       "      <td>N</td>\n",
       "      <td>JetSmart SPA</td>\n",
       "      <td>Concepcion</td>\n",
       "      <td>0</td>\n",
       "      <td>0</td>\n",
       "      <td>0</td>\n",
       "      <td>0 days 00:18:00</td>\n",
       "      <td>18.0</td>\n",
       "      <td>1</td>\n",
       "    </tr>\n",
       "    <tr>\n",
       "      <th>38544</th>\n",
       "      <td>2017-08-20 23:10:00</td>\n",
       "      <td>SCEL</td>\n",
       "      <td>2017-08-20 23:10:00</td>\n",
       "      <td>20</td>\n",
       "      <td>8</td>\n",
       "      <td>2017</td>\n",
       "      <td>Domingo</td>\n",
       "      <td>I</td>\n",
       "      <td>Aeromexico</td>\n",
       "      <td>Ciudad de Mexico</td>\n",
       "      <td>0</td>\n",
       "      <td>0</td>\n",
       "      <td>0</td>\n",
       "      <td>0 days 00:00:00</td>\n",
       "      <td>0.0</td>\n",
       "      <td>0</td>\n",
       "    </tr>\n",
       "    <tr>\n",
       "      <th>53991</th>\n",
       "      <td>2017-10-19 08:50:00</td>\n",
       "      <td>SCEL</td>\n",
       "      <td>2017-10-19 10:14:00</td>\n",
       "      <td>19</td>\n",
       "      <td>10</td>\n",
       "      <td>2017</td>\n",
       "      <td>Jueves</td>\n",
       "      <td>I</td>\n",
       "      <td>Grupo LATAM</td>\n",
       "      <td>Montevideo</td>\n",
       "      <td>0</td>\n",
       "      <td>0</td>\n",
       "      <td>0</td>\n",
       "      <td>0 days 01:24:00</td>\n",
       "      <td>84.0</td>\n",
       "      <td>1</td>\n",
       "    </tr>\n",
       "    <tr>\n",
       "      <th>62677</th>\n",
       "      <td>2017-12-11 13:40:00</td>\n",
       "      <td>SCEL</td>\n",
       "      <td>2017-12-11 13:40:00</td>\n",
       "      <td>11</td>\n",
       "      <td>12</td>\n",
       "      <td>2017</td>\n",
       "      <td>Lunes</td>\n",
       "      <td>I</td>\n",
       "      <td>Oceanair Linhas Aereas</td>\n",
       "      <td>Sao Paulo</td>\n",
       "      <td>0</td>\n",
       "      <td>0</td>\n",
       "      <td>0</td>\n",
       "      <td>0 days 00:00:00</td>\n",
       "      <td>0.0</td>\n",
       "      <td>0</td>\n",
       "    </tr>\n",
       "  </tbody>\n",
       "</table>\n",
       "</div>"
      ],
      "text/plain": [
       "                  Fecha-I Ori-I             Fecha-O  DIA  MES   AÑO   DIANOM  \\\n",
       "7193  2017-02-02 08:55:00  SCEL 2017-02-02 08:54:00    2    2  2017   Jueves   \n",
       "68094 2017-12-19 16:49:00  SCEL 2017-12-19 17:07:00   19   12  2017   Martes   \n",
       "38544 2017-08-20 23:10:00  SCEL 2017-08-20 23:10:00   20    8  2017  Domingo   \n",
       "53991 2017-10-19 08:50:00  SCEL 2017-10-19 10:14:00   19   10  2017   Jueves   \n",
       "62677 2017-12-11 13:40:00  SCEL 2017-12-11 13:40:00   11   12  2017    Lunes   \n",
       "\n",
       "      TIPOVUELO                   OPERA          SIGLADES  Cambio_Nvuelo  \\\n",
       "7193          N             Sky Airline      Puerto Montt              0   \n",
       "68094         N            JetSmart SPA        Concepcion              0   \n",
       "38544         I              Aeromexico  Ciudad de Mexico              0   \n",
       "53991         I             Grupo LATAM        Montevideo              0   \n",
       "62677         I  Oceanair Linhas Aereas         Sao Paulo              0   \n",
       "\n",
       "       Cambio_destino  Cambio_aerolinea           Retraso  dif_min  \\\n",
       "7193                0                 0 -1 days +23:59:00     -1.0   \n",
       "68094               0                 0   0 days 00:18:00     18.0   \n",
       "38544               0                 0   0 days 00:00:00      0.0   \n",
       "53991               0                 0   0 days 01:24:00     84.0   \n",
       "62677               0                 0   0 days 00:00:00      0.0   \n",
       "\n",
       "       Retraso_dummie  \n",
       "7193                0  \n",
       "68094               1  \n",
       "38544               0  \n",
       "53991               1  \n",
       "62677               0  "
      ]
     },
     "execution_count": 183,
     "metadata": {},
     "output_type": "execute_result"
    }
   ],
   "source": [
    "data.sample(5)"
   ]
  },
  {
   "cell_type": "code",
   "execution_count": 184,
   "id": "f560d1a7",
   "metadata": {},
   "outputs": [
    {
     "data": {
      "text/plain": [
       "1    45507\n",
       "0    22699\n",
       "Name: Retraso_dummie, dtype: int64"
      ]
     },
     "execution_count": 184,
     "metadata": {},
     "output_type": "execute_result"
    }
   ],
   "source": [
    "data[\"Retraso_dummie\"].value_counts()"
   ]
  },
  {
   "cell_type": "code",
   "execution_count": 185,
   "id": "fe37de24",
   "metadata": {},
   "outputs": [],
   "source": [
    "data[\"Adelanto_dummie\"]= np.where(data[\"dif_min\"]<0,1,0)"
   ]
  },
  {
   "cell_type": "code",
   "execution_count": null,
   "id": "31065333",
   "metadata": {},
   "outputs": [],
   "source": []
  },
  {
   "cell_type": "markdown",
   "id": "51a3e76d",
   "metadata": {},
   "source": [
    "2) atraso_15"
   ]
  },
  {
   "cell_type": "code",
   "execution_count": 186,
   "id": "efbcb586",
   "metadata": {},
   "outputs": [],
   "source": [
    "data[\"atraso_15\"]= np.where(data[\"dif_min\"]>15,1,0)"
   ]
  },
  {
   "cell_type": "code",
   "execution_count": 187,
   "id": "b6b3ace8",
   "metadata": {},
   "outputs": [
    {
     "data": {
      "text/plain": [
       "0    55592\n",
       "1    12614\n",
       "Name: atraso_15, dtype: int64"
      ]
     },
     "execution_count": 187,
     "metadata": {},
     "output_type": "execute_result"
    }
   ],
   "source": [
    "data[\"atraso_15\"].value_counts()"
   ]
  },
  {
   "cell_type": "code",
   "execution_count": 188,
   "id": "3df2d895",
   "metadata": {},
   "outputs": [
    {
     "data": {
      "text/plain": [
       "2017    68204\n",
       "2018        2\n",
       "Name: AÑO, dtype: int64"
      ]
     },
     "execution_count": 188,
     "metadata": {},
     "output_type": "execute_result"
    }
   ],
   "source": [
    "data[\"AÑO\"].value_counts()"
   ]
  },
  {
   "cell_type": "markdown",
   "id": "39f3ed56",
   "metadata": {},
   "source": [
    "3) temporada_alta"
   ]
  },
  {
   "cell_type": "code",
   "execution_count": 189,
   "id": "c9780adf",
   "metadata": {},
   "outputs": [
    {
     "data": {
      "text/plain": [
       "0    45995\n",
       "1    22211\n",
       "Name: temporada_alta, dtype: int64"
      ]
     },
     "execution_count": 189,
     "metadata": {},
     "output_type": "execute_result"
    }
   ],
   "source": [
    "#Agrego temporada alta segun lo solicitado\n",
    "#temporada_alta : 1 si Fecha-I está entre 15-Dic y 3-Mar, o 15-Jul y 31-Jul, o 11-Sep y 30-Sep, 0 si no\n",
    "fecha1= pd.to_datetime('20161215', format='%Y%m%d')\n",
    "fecha2= pd.to_datetime('20170303',format='%Y%m%d')\n",
    "fecha3= pd.to_datetime('20170715',format='%Y%m%d')\n",
    "fecha4= pd.to_datetime('20170731',format='%Y%m%d')\n",
    "fecha5= pd.to_datetime('20170911',format='%Y%m%d')\n",
    "fecha6= pd.to_datetime('20170930',format='%Y%m%d')\n",
    "fecha7= pd.to_datetime('20171215', format='%Y%m%d')\n",
    "fecha8= pd.to_datetime('20180303',format='%Y%m%d')\n",
    "\n",
    "\n",
    "data[\"temporada_alta\"] = np.where((data['Fecha-I']>= fecha1) & (data['Fecha-I']<= fecha2) |\n",
    "                                  (data['Fecha-I']>= fecha3) & (data['Fecha-I']<= fecha4) |\n",
    "                                  (data['Fecha-I']>= fecha5) & (data['Fecha-I']<= fecha6) |\n",
    "                                  (data['Fecha-I']>= fecha7) & (data['Fecha-I']<= fecha8)\n",
    "                                  ,1,0)\n",
    "\n",
    "data[\"temporada_alta\"].value_counts()"
   ]
  },
  {
   "cell_type": "code",
   "execution_count": 190,
   "id": "0c6ab332",
   "metadata": {},
   "outputs": [
    {
     "data": {
      "text/plain": [
       "Fecha-I             2017-12-15 06:10:00\n",
       "Ori-I                              SCEL\n",
       "Fecha-O             2017-12-15 06:22:00\n",
       "DIA                                  15\n",
       "MES                                  12\n",
       "AÑO                                2017\n",
       "DIANOM                          Viernes\n",
       "TIPOVUELO                             N\n",
       "OPERA                       Sky Airline\n",
       "SIGLADES                   Punta Arenas\n",
       "Cambio_Nvuelo                         0\n",
       "Cambio_destino                        0\n",
       "Cambio_aerolinea                      0\n",
       "Retraso                 0 days 00:12:00\n",
       "dif_min                              12\n",
       "Retraso_dummie                        1\n",
       "Adelanto_dummie                       0\n",
       "atraso_15                             0\n",
       "temporada_alta                        1\n",
       "Name: 63119, dtype: object"
      ]
     },
     "execution_count": 190,
     "metadata": {},
     "output_type": "execute_result"
    }
   ],
   "source": [
    "data.iloc[63119]"
   ]
  },
  {
   "cell_type": "code",
   "execution_count": null,
   "id": "1997ac9d",
   "metadata": {},
   "outputs": [],
   "source": []
  },
  {
   "cell_type": "code",
   "execution_count": 191,
   "id": "0972a5c5",
   "metadata": {},
   "outputs": [],
   "source": [
    "#mañana (entre 5:00 y 11:59), tarde (entre 12:00 y 18:59) y noche (entre 19:00 y 4:59), en base a\n",
    "#Fecha-I \n",
    "#mañana1= pd.to_datetime('05:00:00',format='%H:%M:%S')\n",
    "#mañana2=pd.to_datetime('11:59:00', format='%H:%M:%S')\n",
    "#tarde1= pd.to_datetime('12:00:00',format='%H:%M:%S')\n",
    "#tarde2=pd.to_datetime('18:59:00', format='%H:%M:%S')\n",
    "#noche1= pd.to_datetime('19:00:00',format='%H:%M:%S')\n",
    "#noche2=pd.to_datetime('04:59:00', format='%H:%M:%S')\n",
    "#data['periodo_dia']= np.where((data['Fecha-I']>= mañana1) & (data['Fecha-I']<= mañana2),'mañana','tarde')\n",
    "#data['periodo_dia'].value_counts()"
   ]
  },
  {
   "cell_type": "code",
   "execution_count": 192,
   "id": "b339e6f0",
   "metadata": {},
   "outputs": [],
   "source": [
    "#data['periodo_dia']=np.where((data['Fecha-I']>= tarde1) & (data['Fecha-I']<= tarde2),'tarde','noche')\n",
    "#data['periodo_dia'].value_counts()"
   ]
  },
  {
   "cell_type": "code",
   "execution_count": 193,
   "id": "252c08cf",
   "metadata": {},
   "outputs": [
    {
     "data": {
      "text/html": [
       "<div>\n",
       "<style scoped>\n",
       "    .dataframe tbody tr th:only-of-type {\n",
       "        vertical-align: middle;\n",
       "    }\n",
       "\n",
       "    .dataframe tbody tr th {\n",
       "        vertical-align: top;\n",
       "    }\n",
       "\n",
       "    .dataframe thead th {\n",
       "        text-align: right;\n",
       "    }\n",
       "</style>\n",
       "<table border=\"1\" class=\"dataframe\">\n",
       "  <thead>\n",
       "    <tr style=\"text-align: right;\">\n",
       "      <th></th>\n",
       "      <th>Ori-I</th>\n",
       "      <th>DIA</th>\n",
       "      <th>MES</th>\n",
       "      <th>AÑO</th>\n",
       "      <th>DIANOM</th>\n",
       "      <th>TIPOVUELO</th>\n",
       "      <th>OPERA</th>\n",
       "      <th>SIGLADES</th>\n",
       "      <th>Cambio_Nvuelo</th>\n",
       "      <th>Cambio_destino</th>\n",
       "      <th>Cambio_aerolinea</th>\n",
       "      <th>dif_min</th>\n",
       "      <th>Retraso_dummie</th>\n",
       "      <th>Adelanto_dummie</th>\n",
       "      <th>atraso_15</th>\n",
       "      <th>temporada_alta</th>\n",
       "    </tr>\n",
       "  </thead>\n",
       "  <tbody>\n",
       "    <tr>\n",
       "      <th>41714</th>\n",
       "      <td>SCEL</td>\n",
       "      <td>11</td>\n",
       "      <td>8</td>\n",
       "      <td>2017</td>\n",
       "      <td>Viernes</td>\n",
       "      <td>N</td>\n",
       "      <td>Grupo LATAM</td>\n",
       "      <td>Temuco</td>\n",
       "      <td>0</td>\n",
       "      <td>0</td>\n",
       "      <td>1</td>\n",
       "      <td>5.0</td>\n",
       "      <td>1</td>\n",
       "      <td>0</td>\n",
       "      <td>0</td>\n",
       "      <td>0</td>\n",
       "    </tr>\n",
       "    <tr>\n",
       "      <th>5403</th>\n",
       "      <td>SCEL</td>\n",
       "      <td>21</td>\n",
       "      <td>1</td>\n",
       "      <td>2017</td>\n",
       "      <td>Sabado</td>\n",
       "      <td>I</td>\n",
       "      <td>Grupo LATAM</td>\n",
       "      <td>Sao Paulo</td>\n",
       "      <td>0</td>\n",
       "      <td>0</td>\n",
       "      <td>0</td>\n",
       "      <td>20.0</td>\n",
       "      <td>1</td>\n",
       "      <td>0</td>\n",
       "      <td>1</td>\n",
       "      <td>1</td>\n",
       "    </tr>\n",
       "    <tr>\n",
       "      <th>3624</th>\n",
       "      <td>SCEL</td>\n",
       "      <td>10</td>\n",
       "      <td>1</td>\n",
       "      <td>2017</td>\n",
       "      <td>Martes</td>\n",
       "      <td>N</td>\n",
       "      <td>Grupo LATAM</td>\n",
       "      <td>Temuco</td>\n",
       "      <td>0</td>\n",
       "      <td>0</td>\n",
       "      <td>1</td>\n",
       "      <td>11.0</td>\n",
       "      <td>1</td>\n",
       "      <td>0</td>\n",
       "      <td>0</td>\n",
       "      <td>1</td>\n",
       "    </tr>\n",
       "    <tr>\n",
       "      <th>47360</th>\n",
       "      <td>SCEL</td>\n",
       "      <td>4</td>\n",
       "      <td>9</td>\n",
       "      <td>2017</td>\n",
       "      <td>Lunes</td>\n",
       "      <td>N</td>\n",
       "      <td>Grupo LATAM</td>\n",
       "      <td>Temuco</td>\n",
       "      <td>0</td>\n",
       "      <td>0</td>\n",
       "      <td>1</td>\n",
       "      <td>13.0</td>\n",
       "      <td>1</td>\n",
       "      <td>0</td>\n",
       "      <td>0</td>\n",
       "      <td>0</td>\n",
       "    </tr>\n",
       "    <tr>\n",
       "      <th>50566</th>\n",
       "      <td>SCEL</td>\n",
       "      <td>31</td>\n",
       "      <td>10</td>\n",
       "      <td>2017</td>\n",
       "      <td>Martes</td>\n",
       "      <td>I</td>\n",
       "      <td>Oceanair Linhas Aereas</td>\n",
       "      <td>Sao Paulo</td>\n",
       "      <td>0</td>\n",
       "      <td>0</td>\n",
       "      <td>0</td>\n",
       "      <td>6.0</td>\n",
       "      <td>1</td>\n",
       "      <td>0</td>\n",
       "      <td>0</td>\n",
       "      <td>0</td>\n",
       "    </tr>\n",
       "  </tbody>\n",
       "</table>\n",
       "</div>"
      ],
      "text/plain": [
       "      Ori-I  DIA  MES   AÑO   DIANOM TIPOVUELO                   OPERA  \\\n",
       "41714  SCEL   11    8  2017  Viernes         N             Grupo LATAM   \n",
       "5403   SCEL   21    1  2017   Sabado         I             Grupo LATAM   \n",
       "3624   SCEL   10    1  2017   Martes         N             Grupo LATAM   \n",
       "47360  SCEL    4    9  2017    Lunes         N             Grupo LATAM   \n",
       "50566  SCEL   31   10  2017   Martes         I  Oceanair Linhas Aereas   \n",
       "\n",
       "        SIGLADES  Cambio_Nvuelo  Cambio_destino  Cambio_aerolinea  dif_min  \\\n",
       "41714     Temuco              0               0                 1      5.0   \n",
       "5403   Sao Paulo              0               0                 0     20.0   \n",
       "3624      Temuco              0               0                 1     11.0   \n",
       "47360     Temuco              0               0                 1     13.0   \n",
       "50566  Sao Paulo              0               0                 0      6.0   \n",
       "\n",
       "       Retraso_dummie  Adelanto_dummie  atraso_15  temporada_alta  \n",
       "41714               1                0          0               0  \n",
       "5403                1                0          1               1  \n",
       "3624                1                0          0               1  \n",
       "47360               1                0          0               0  \n",
       "50566               1                0          0               0  "
      ]
     },
     "execution_count": 193,
     "metadata": {},
     "output_type": "execute_result"
    }
   ],
   "source": [
    "#Ahora que ya termine de utilizar la variable Fecha-I Dropeare Fecha-I Y Fecha-O y Retraso\n",
    "data= data.drop(columns=['Fecha-I', 'Fecha-O', 'Retraso'])\n",
    "data.sample(5)"
   ]
  },
  {
   "cell_type": "code",
   "execution_count": 194,
   "id": "7474a1a5",
   "metadata": {},
   "outputs": [],
   "source": [
    "#Distribución de los datos"
   ]
  },
  {
   "cell_type": "code",
   "execution_count": 195,
   "id": "77b484f7",
   "metadata": {},
   "outputs": [
    {
     "data": {
      "text/plain": [
       "SCEL    68206\n",
       "Name: Ori-I, dtype: int64"
      ]
     },
     "execution_count": 195,
     "metadata": {},
     "output_type": "execute_result"
    }
   ],
   "source": [
    "data['Ori-I'].value_counts()"
   ]
  },
  {
   "cell_type": "markdown",
   "id": "e3e0f00c",
   "metadata": {},
   "source": [
    "## 1)¿Cómo se distribuyen los datos? ¿Qué te llama la atención o cuál es tu conclusión sobre esto?\n"
   ]
  },
  {
   "cell_type": "code",
   "execution_count": 196,
   "id": "e72787eb",
   "metadata": {},
   "outputs": [],
   "source": [
    "import matplotlib.pyplot as plt\n",
    "import seaborn as sns\n",
    "%matplotlib inline"
   ]
  },
  {
   "cell_type": "code",
   "execution_count": 197,
   "id": "ea3054f1",
   "metadata": {},
   "outputs": [
    {
     "data": {
      "image/png": "[encoded data removed]",
      "text/plain": [
       "<Figure size 1080x1080 with 16 Axes>"
      ]
     },
     "metadata": {
      "needs_background": "light"
     },
     "output_type": "display_data"
    }
   ],
   "source": [
    "fig, axes = plt.subplots(nrows=8, ncols=2, figsize=(15, 15))\n",
    "axes = axes.flat\n",
    "data_plot = data.drop(columns=['Ori-I'])\n",
    "columnas= data_plot.columns\n",
    "\n",
    "for i, colum in enumerate(columnas):\n",
    "    sns.histplot(\n",
    "        data    = data_plot,\n",
    "        x       = colum,\n",
    "        stat    = \"count\",\n",
    "        kde     = True,\n",
    "        color   = (list(plt.rcParams['axes.prop_cycle'])*2)[i][\"color\"],\n",
    "        line_kws= {'linewidth': 2},\n",
    "        alpha   = 0.3,\n",
    "        ax      = axes[i]\n",
    "    )\n",
    "    axes[i].set_title(colum, fontsize = 6, fontweight = \"bold\")\n",
    "    axes[i].tick_params(labelsize = 6)\n",
    "    axes[i].set_xlabel(\"\")\n",
    "    \n",
    "    \n",
    "fig.tight_layout()\n",
    "plt.subplots_adjust(top = 0.9)\n",
    "fig.suptitle('Fig 1: Distribución de las variables del dataset', fontsize = 10, fontweight = \"bold\");"
   ]
  },
  {
   "cell_type": "code",
   "execution_count": 198,
   "id": "0fdb605d",
   "metadata": {},
   "outputs": [
    {
     "data": {
      "text/plain": [
       "0    0.737413\n",
       "1    0.262587\n",
       "Name: Adelanto_dummie, dtype: float64"
      ]
     },
     "execution_count": 198,
     "metadata": {},
     "output_type": "execute_result"
    }
   ],
   "source": [
    "data.Adelanto_dummie.value_counts()/data.shape[0]"
   ]
  },
  {
   "cell_type": "code",
   "execution_count": null,
   "id": "052220da",
   "metadata": {},
   "outputs": [],
   "source": []
  },
  {
   "cell_type": "code",
   "execution_count": 199,
   "id": "87e92266",
   "metadata": {},
   "outputs": [
    {
     "data": {
      "text/plain": [
       "0    0.737413\n",
       "1    0.262587\n",
       "Name: Adelanto_dummie, dtype: float64"
      ]
     },
     "execution_count": 199,
     "metadata": {},
     "output_type": "execute_result"
    }
   ],
   "source": [
    "(data.Adelanto_dummie.value_counts()/data.shape[0]).sort_values(ascending=False)"
   ]
  },
  {
   "cell_type": "code",
   "execution_count": 200,
   "id": "84c2fbad",
   "metadata": {},
   "outputs": [
    {
     "data": {
      "text/plain": [
       "0    0.81506\n",
       "1    0.18494\n",
       "Name: atraso_15, dtype: float64"
      ]
     },
     "execution_count": 200,
     "metadata": {},
     "output_type": "execute_result"
    }
   ],
   "source": [
    "(data.atraso_15.value_counts()/data.shape[0]).sort_values(ascending=False)"
   ]
  },
  {
   "cell_type": "code",
   "execution_count": 201,
   "id": "450c08ed",
   "metadata": {},
   "outputs": [
    {
     "data": {
      "text/plain": [
       "0    0.674354\n",
       "1    0.325646\n",
       "Name: temporada_alta, dtype: float64"
      ]
     },
     "execution_count": 201,
     "metadata": {},
     "output_type": "execute_result"
    }
   ],
   "source": [
    "(data.temporada_alta.value_counts()/data.shape[0]).sort_values(ascending=False)"
   ]
  },
  {
   "cell_type": "code",
   "execution_count": 202,
   "id": "ce28383a",
   "metadata": {},
   "outputs": [
    {
     "data": {
      "text/plain": [
       "1    0.667199\n",
       "0    0.332801\n",
       "Name: Retraso_dummie, dtype: float64"
      ]
     },
     "execution_count": 202,
     "metadata": {},
     "output_type": "execute_result"
    }
   ],
   "source": [
    "(data.Retraso_dummie.value_counts()/data.shape[0]).sort_values(ascending=False)"
   ]
  },
  {
   "cell_type": "code",
   "execution_count": 203,
   "id": "41cab25c",
   "metadata": {},
   "outputs": [
    {
     "data": {
      "text/plain": [
       "N    0.541976\n",
       "I    0.458024\n",
       "Name: TIPOVUELO, dtype: float64"
      ]
     },
     "execution_count": 203,
     "metadata": {},
     "output_type": "execute_result"
    }
   ],
   "source": [
    "(data.TIPOVUELO.value_counts()/data.shape[0]).sort_values(ascending=False)"
   ]
  },
  {
   "cell_type": "code",
   "execution_count": 204,
   "id": "88174274",
   "metadata": {},
   "outputs": [
    {
     "data": {
      "text/plain": [
       "Viernes      0.150896\n",
       "Jueves       0.150295\n",
       "Lunes        0.148535\n",
       "Domingo      0.143624\n",
       "Miercoles    0.142539\n",
       "Martes       0.141659\n",
       "Sabado       0.122453\n",
       "Name: DIANOM, dtype: float64"
      ]
     },
     "execution_count": 204,
     "metadata": {},
     "output_type": "execute_result"
    }
   ],
   "source": [
    "(data.DIANOM.value_counts()/data.shape[0]).sort_values(ascending=False)"
   ]
  },
  {
   "cell_type": "code",
   "execution_count": 205,
   "id": "c18f6608",
   "metadata": {},
   "outputs": [
    {
     "data": {
      "text/plain": [
       "20    0.033575\n",
       "27    0.033516\n",
       "12    0.033487\n",
       "10    0.033472\n",
       "6     0.033355\n",
       "13    0.033311\n",
       "22    0.033311\n",
       "3     0.033296\n",
       "16    0.033252\n",
       "26    0.033238\n",
       "21    0.033238\n",
       "7     0.033194\n",
       "23    0.033135\n",
       "5     0.032856\n",
       "15    0.032827\n",
       "19    0.032812\n",
       "11    0.032798\n",
       "24    0.032724\n",
       "28    0.032724\n",
       "17    0.032666\n",
       "9     0.032651\n",
       "2     0.032592\n",
       "14    0.032563\n",
       "4     0.032475\n",
       "8     0.032446\n",
       "1     0.032373\n",
       "25    0.031947\n",
       "18    0.031669\n",
       "29    0.029968\n",
       "30    0.029616\n",
       "31    0.018913\n",
       "Name: DIA, dtype: float64"
      ]
     },
     "execution_count": 205,
     "metadata": {},
     "output_type": "execute_result"
    }
   ],
   "source": [
    "(data.DIA.value_counts()/data.shape[0]).sort_values(ascending=False)"
   ]
  },
  {
   "cell_type": "code",
   "execution_count": 206,
   "id": "594f36fa",
   "metadata": {},
   "outputs": [
    {
     "data": {
      "text/plain": [
       "Grupo LATAM                 0.599537\n",
       "Sky Airline                 0.209630\n",
       "Aerolineas Argentinas       0.028575\n",
       "Copa Air                    0.027124\n",
       "Latin American Wings        0.024543\n",
       "Avianca                     0.016890\n",
       "JetSmart SPA                0.016054\n",
       "Gol Trans                   0.011817\n",
       "American Airlines           0.011099\n",
       "Air Canada                  0.008284\n",
       "Iberia                      0.005307\n",
       "Air France                  0.005249\n",
       "Delta Air                   0.005249\n",
       "Aeromexico                  0.005146\n",
       "United Airlines             0.004912\n",
       "Oceanair Linhas Aereas      0.004091\n",
       "Alitalia                    0.003797\n",
       "K.L.M.                      0.003680\n",
       "British Airways             0.003006\n",
       "Qantas Airways              0.002859\n",
       "Lacsa                       0.001349\n",
       "Austral                     0.001085\n",
       "Plus Ultra Lineas Aereas    0.000718\n",
       "Name: OPERA, dtype: float64"
      ]
     },
     "execution_count": 206,
     "metadata": {},
     "output_type": "execute_result"
    }
   ],
   "source": [
    "(data.OPERA.value_counts()/data.shape[0]).sort_values(ascending=False)"
   ]
  },
  {
   "cell_type": "code",
   "execution_count": 207,
   "id": "0211cd99",
   "metadata": {},
   "outputs": [
    {
     "data": {
      "text/plain": [
       "Buenos Aires        0.092880\n",
       "Antofagasta         0.084831\n",
       "Lima                0.077266\n",
       "Calama              0.075448\n",
       "Puerto Montt        0.063880\n",
       "                      ...   \n",
       "Cataratas Iguacu    0.000029\n",
       "Washington          0.000015\n",
       "Puerto Stanley      0.000015\n",
       "Pisco, Peru         0.000015\n",
       "Cochabamba          0.000015\n",
       "Name: SIGLADES, Length: 62, dtype: float64"
      ]
     },
     "execution_count": 207,
     "metadata": {},
     "output_type": "execute_result"
    }
   ],
   "source": [
    "(data.SIGLADES.value_counts()/data.shape[0]).sort_values(ascending=False)"
   ]
  },
  {
   "cell_type": "code",
   "execution_count": 208,
   "id": "973e773b",
   "metadata": {},
   "outputs": [
    {
     "data": {
      "text/plain": [
       "Index(['Ori-I', 'DIA', 'MES', 'AÑO', 'DIANOM', 'TIPOVUELO', 'OPERA',\n",
       "       'SIGLADES', 'Cambio_Nvuelo', 'Cambio_destino', 'Cambio_aerolinea',\n",
       "       'dif_min', 'Retraso_dummie', 'Adelanto_dummie', 'atraso_15',\n",
       "       'temporada_alta'],\n",
       "      dtype='object')"
      ]
     },
     "execution_count": 208,
     "metadata": {},
     "output_type": "execute_result"
    }
   ],
   "source": [
    "data.columns"
   ]
  },
  {
   "cell_type": "markdown",
   "id": "f2de8328",
   "metadata": {},
   "source": [
    " ¿Qué te llama la atención o cuál es tu conclusión sobre esto?  \n",
    "    \n",
    "-La distribucion de datos por mes, dia de semana, y dia del mes es similar, es decir la cantidad de vuelos no depende del mes dia o dia de semana.  \n",
    "-Latam es la aerolinea con mayor participacion con aproximadamente 60% seguido por Skyairline con aproximadamente 21%-  \n",
    "-Aproximadamente un 66%  del total de los vuelos sale atrasado de estos solo aproximadamente un 18% se retrasa mas de 15 minutos.  \n",
    "-Aproximadamente un 26% de los vuelos sale adelantado y aproximadamente 66% sale atrasado, por tanto existe aproximadamente \n",
    "solo un 8% de vuelos que salen a tiempo.\n",
    "\n"
   ]
  },
  {
   "cell_type": "code",
   "execution_count": 209,
   "id": "35d78e0c",
   "metadata": {},
   "outputs": [],
   "source": [
    "data=data.drop(columns=['Adelanto_dummie'])"
   ]
  },
  {
   "cell_type": "code",
   "execution_count": null,
   "id": "13d67939",
   "metadata": {},
   "outputs": [],
   "source": []
  },
  {
   "cell_type": "code",
   "execution_count": null,
   "id": "141f0394",
   "metadata": {},
   "outputs": [],
   "source": []
  },
  {
   "cell_type": "code",
   "execution_count": null,
   "id": "565d12cb",
   "metadata": {},
   "outputs": [],
   "source": []
  },
  {
   "cell_type": "code",
   "execution_count": null,
   "id": "7216720b",
   "metadata": {},
   "outputs": [],
   "source": []
  },
  {
   "cell_type": "code",
   "execution_count": null,
   "id": "6aa40edd",
   "metadata": {},
   "outputs": [],
   "source": []
  },
  {
   "cell_type": "markdown",
   "id": "1ab31067",
   "metadata": {},
   "source": [
    "## 3. ¿Cómo se compone la tasa de atraso por destino, aerolínea, mes del año, día de la semana, temporada, tipo de vuelo?¿Qué variables esperarías que más influyeran en predecir atrasos?\n"
   ]
  },
  {
   "cell_type": "markdown",
   "id": "699b304b",
   "metadata": {},
   "source": [
    "Tasa de atraso por destino"
   ]
  },
  {
   "cell_type": "code",
   "execution_count": 210,
   "id": "76825f90",
   "metadata": {},
   "outputs": [
    {
     "data": {
      "text/plain": [
       "SIGLADES\n",
       "Puerto Stanley    1.000000\n",
       "Pisco, Peru       1.000000\n",
       "Ushuia            1.000000\n",
       "Quito             1.000000\n",
       "Cochabamba        1.000000\n",
       "Bariloche         1.000000\n",
       "Melbourne         0.923077\n",
       "Rosario           0.919118\n",
       "Sydney            0.912371\n",
       "Santa Cruz        0.900000\n",
       "Name: Retraso_dummie, dtype: float64"
      ]
     },
     "execution_count": 210,
     "metadata": {},
     "output_type": "execute_result"
    }
   ],
   "source": [
    "data.groupby('SIGLADES').Retraso_dummie.mean().sort_values(ascending=False).head(10)"
   ]
  },
  {
   "cell_type": "code",
   "execution_count": 211,
   "id": "b0af91a9",
   "metadata": {},
   "outputs": [
    {
     "data": {
      "text/plain": [
       "SIGLADES\n",
       "Cataratas Iguacu    0.500000\n",
       "Punta del Este      0.500000\n",
       "Ciudad de Mexico    0.451429\n",
       "Paris               0.423398\n",
       "Ciudad de Panama    0.370270\n",
       "Curitiba, Bra.      0.333333\n",
       "Atlanta             0.307263\n",
       "Dallas              0.235294\n",
       "Houston             0.203593\n",
       "Washington          0.000000\n",
       "Name: Retraso_dummie, dtype: float64"
      ]
     },
     "execution_count": 211,
     "metadata": {},
     "output_type": "execute_result"
    }
   ],
   "source": [
    "data.groupby('SIGLADES').Retraso_dummie.mean().sort_values(ascending=False).tail(10)"
   ]
  },
  {
   "cell_type": "code",
   "execution_count": 212,
   "id": "b9a9c027",
   "metadata": {},
   "outputs": [
    {
     "data": {
      "text/plain": [
       "0.6895093386176337"
      ]
     },
     "execution_count": 212,
     "metadata": {},
     "output_type": "execute_result"
    }
   ],
   "source": [
    "(data.groupby('SIGLADES').Retraso_dummie.mean()).mean()"
   ]
  },
  {
   "cell_type": "code",
   "execution_count": 213,
   "id": "176455bb",
   "metadata": {},
   "outputs": [
    {
     "data": {
      "text/plain": [
       "0.2058355004236715"
      ]
     },
     "execution_count": 213,
     "metadata": {},
     "output_type": "execute_result"
    }
   ],
   "source": [
    "(data.groupby('SIGLADES').Retraso_dummie.mean()).std()"
   ]
  },
  {
   "cell_type": "markdown",
   "id": "959655c4",
   "metadata": {},
   "source": [
    "-En el atraso segun destino podemos ver que los destinos que siempre se atrasan con una tasa de atraso mayor a 95% son Puerto Stanley \"Pisco, Peru\", Ushuia, Quito, Cochabamba, Bariloche.  \n",
    "-El único destino que no se a atrasado nunca es Washington.  \n",
    "-La tasa promedio de atraso por destino para el dataset es de 68,9%.   \n",
    "-Es decir si clasificamos por destino el 69% de los destinos sale atrasado"
   ]
  },
  {
   "cell_type": "markdown",
   "id": "c242c33d",
   "metadata": {},
   "source": [
    "Tasa de atraso segun aerolínea"
   ]
  },
  {
   "cell_type": "code",
   "execution_count": 214,
   "id": "c888c69f",
   "metadata": {},
   "outputs": [
    {
     "data": {
      "text/plain": [
       "OPERA\n",
       "Qantas Airways              0.912821\n",
       "Plus Ultra Lineas Aereas    0.857143\n",
       "Air Canada                  0.775221\n",
       "Latin American Wings        0.749104\n",
       "Grupo LATAM                 0.736868\n",
       "Austral                     0.648649\n",
       "British Airways             0.604878\n",
       "Aerolineas Argentinas       0.591072\n",
       "JetSmart SPA                0.590868\n",
       "Sky Airline                 0.589593\n",
       "Name: Retraso_dummie, dtype: float64"
      ]
     },
     "execution_count": 214,
     "metadata": {},
     "output_type": "execute_result"
    }
   ],
   "source": [
    "data.groupby('OPERA').Retraso_dummie.mean().sort_values(ascending=False).head(10)"
   ]
  },
  {
   "cell_type": "code",
   "execution_count": 215,
   "id": "60612ccc",
   "metadata": {},
   "outputs": [
    {
     "data": {
      "text/plain": [
       "OPERA\n",
       "Avianca                   0.572917\n",
       "Oceanair Linhas Aereas    0.480287\n",
       "Lacsa                     0.434783\n",
       "Air France                0.421788\n",
       "Copa Air                  0.370270\n",
       "K.L.M.                    0.346614\n",
       "Delta Air                 0.307263\n",
       "American Airlines         0.284016\n",
       "Aeromexico                0.222222\n",
       "United Airlines           0.202985\n",
       "Name: Retraso_dummie, dtype: float64"
      ]
     },
     "execution_count": 215,
     "metadata": {},
     "output_type": "execute_result"
    }
   ],
   "source": [
    "data.groupby('OPERA').Retraso_dummie.mean().sort_values(ascending=False).tail(10)"
   ]
  },
  {
   "cell_type": "code",
   "execution_count": 216,
   "id": "0c2b422f",
   "metadata": {},
   "outputs": [
    {
     "data": {
      "text/plain": [
       "0.5413597758108079"
      ]
     },
     "execution_count": 216,
     "metadata": {},
     "output_type": "execute_result"
    }
   ],
   "source": [
    "(data.groupby('OPERA').Retraso_dummie.mean()).mean()"
   ]
  },
  {
   "cell_type": "code",
   "execution_count": 217,
   "id": "e1c6f438",
   "metadata": {},
   "outputs": [
    {
     "data": {
      "text/plain": [
       "0.1950538562212911"
      ]
     },
     "execution_count": 217,
     "metadata": {},
     "output_type": "execute_result"
    }
   ],
   "source": [
    "(data.groupby('OPERA').Retraso_dummie.mean()).std()"
   ]
  },
  {
   "cell_type": "markdown",
   "id": "626777fc",
   "metadata": {},
   "source": [
    "-Qantas Airways, Plus Ultra Lineas Aereas, Air Canada, Latin American Wings, Grupo LATAM. Son los grupos que poseen un atraso de mas de un 70% de sus vuelos emitidos.  \n",
    "-Aeromexico y United airlines presentan aproximadamente menos de un 25% de sus vuelos retrasados.  \n",
    "-La tasa promedio de atraso por aerolinea del data set es de aproximadamente 54%.  "
   ]
  },
  {
   "cell_type": "markdown",
   "id": "fe974ca8",
   "metadata": {},
   "source": [
    "Tasa de atraso según mes"
   ]
  },
  {
   "cell_type": "code",
   "execution_count": 218,
   "id": "46332996",
   "metadata": {},
   "outputs": [
    {
     "data": {
      "text/plain": [
       "MES\n",
       "7     0.770027\n",
       "12    0.741032\n",
       "10    0.712865\n",
       "11    0.692434\n",
       "1     0.661755\n",
       "2     0.652401\n",
       "6     0.648464\n",
       "8     0.647110\n",
       "9     0.645455\n",
       "5     0.641221\n",
       "4     0.592430\n",
       "3     0.565669\n",
       "Name: Retraso_dummie, dtype: float64"
      ]
     },
     "execution_count": 218,
     "metadata": {},
     "output_type": "execute_result"
    }
   ],
   "source": [
    "data.groupby('MES').Retraso_dummie.mean().sort_values(ascending=False)"
   ]
  },
  {
   "cell_type": "code",
   "execution_count": 219,
   "id": "9023f8ae",
   "metadata": {},
   "outputs": [
    {
     "data": {
      "text/plain": [
       "0.05775443670244032"
      ]
     },
     "execution_count": 219,
     "metadata": {},
     "output_type": "execute_result"
    }
   ],
   "source": [
    "(data.groupby('MES').Retraso_dummie.mean().sort_values(ascending=False)).std()"
   ]
  },
  {
   "cell_type": "code",
   "execution_count": 220,
   "id": "e68f7a78",
   "metadata": {},
   "outputs": [
    {
     "data": {
      "text/plain": [
       "0.6642386088647986"
      ]
     },
     "execution_count": 220,
     "metadata": {},
     "output_type": "execute_result"
    }
   ],
   "source": [
    "(data.groupby('MES').Retraso_dummie.mean().sort_values(ascending=False)).mean()"
   ]
  },
  {
   "cell_type": "markdown",
   "id": "e909bf64",
   "metadata": {},
   "source": [
    "Los retrasos por mes, estos se distribuyen de manera similar con una desviación estandar de 0,05 y una tasa promedio de atraso por mes de un 66%"
   ]
  },
  {
   "cell_type": "markdown",
   "id": "6f4a896a",
   "metadata": {},
   "source": [
    "Tasa de retraso por día de semana"
   ]
  },
  {
   "cell_type": "code",
   "execution_count": 221,
   "id": "948615f5",
   "metadata": {},
   "outputs": [
    {
     "data": {
      "text/plain": [
       "DIANOM\n",
       "Viernes      0.717159\n",
       "Jueves       0.683543\n",
       "Lunes        0.675155\n",
       "Miercoles    0.659947\n",
       "Sabado       0.645953\n",
       "Martes       0.642310\n",
       "Domingo      0.639241\n",
       "Name: Retraso_dummie, dtype: float64"
      ]
     },
     "execution_count": 221,
     "metadata": {},
     "output_type": "execute_result"
    }
   ],
   "source": [
    "data.groupby('DIANOM').Retraso_dummie.mean().sort_values(ascending=False)"
   ]
  },
  {
   "cell_type": "code",
   "execution_count": 222,
   "id": "ee94f7bf",
   "metadata": {},
   "outputs": [
    {
     "data": {
      "text/plain": [
       "0.028060599907687257"
      ]
     },
     "execution_count": 222,
     "metadata": {},
     "output_type": "execute_result"
    }
   ],
   "source": [
    "data.groupby('DIANOM').Retraso_dummie.mean().sort_values(ascending=False).std()"
   ]
  },
  {
   "cell_type": "code",
   "execution_count": 223,
   "id": "e10b0129",
   "metadata": {},
   "outputs": [
    {
     "data": {
      "text/plain": [
       "0.6661868080096084"
      ]
     },
     "execution_count": 223,
     "metadata": {},
     "output_type": "execute_result"
    }
   ],
   "source": [
    "data.groupby('DIANOM').Retraso_dummie.mean().sort_values(ascending=False).mean()"
   ]
  },
  {
   "cell_type": "markdown",
   "id": "968687bf",
   "metadata": {},
   "source": [
    "-Los retrasos por dia de semana se distribuyen de manera similar con una desviación estandar de 0,03 y una tasa promedio de atraso por mes de un 66%"
   ]
  },
  {
   "cell_type": "markdown",
   "id": "5dcdf6b4",
   "metadata": {},
   "source": [
    "Tasa de atraso temporada_alta"
   ]
  },
  {
   "cell_type": "code",
   "execution_count": 224,
   "id": "2d4ecd5c",
   "metadata": {},
   "outputs": [
    {
     "data": {
      "text/plain": [
       "temporada_alta\n",
       "1    0.682455\n",
       "0    0.659833\n",
       "Name: Retraso_dummie, dtype: float64"
      ]
     },
     "execution_count": 224,
     "metadata": {},
     "output_type": "execute_result"
    }
   ],
   "source": [
    "data.groupby('temporada_alta').Retraso_dummie.mean().sort_values(ascending=False)"
   ]
  },
  {
   "cell_type": "code",
   "execution_count": 225,
   "id": "42869ac4",
   "metadata": {},
   "outputs": [
    {
     "data": {
      "text/plain": [
       "0.015996204318721632"
      ]
     },
     "execution_count": 225,
     "metadata": {},
     "output_type": "execute_result"
    }
   ],
   "source": [
    "data.groupby('temporada_alta').Retraso_dummie.mean().sort_values(ascending=False).std()"
   ]
  },
  {
   "cell_type": "code",
   "execution_count": 226,
   "id": "830bfe0b",
   "metadata": {},
   "outputs": [
    {
     "data": {
      "text/plain": [
       "0.6711436150459809"
      ]
     },
     "execution_count": 226,
     "metadata": {},
     "output_type": "execute_result"
    }
   ],
   "source": [
    "data.groupby('temporada_alta').Retraso_dummie.mean().sort_values(ascending=False).mean()"
   ]
  },
  {
   "cell_type": "markdown",
   "id": "f6a36b0c",
   "metadata": {},
   "source": [
    "-Los retrasos por temporada se distribuyen de manera similar con una desviación estandar de 0,015 y una tasa promedio de atraso por mes de un 67%"
   ]
  },
  {
   "cell_type": "markdown",
   "id": "f21a0c62",
   "metadata": {},
   "source": [
    "Tasa de atraso segun tipo de vuelo"
   ]
  },
  {
   "cell_type": "code",
   "execution_count": 227,
   "id": "1e75c353",
   "metadata": {},
   "outputs": [
    {
     "data": {
      "text/plain": [
       "TIPOVUELO\n",
       "I    0.678521\n",
       "N    0.657631\n",
       "Name: Retraso_dummie, dtype: float64"
      ]
     },
     "execution_count": 227,
     "metadata": {},
     "output_type": "execute_result"
    }
   ],
   "source": [
    "data.groupby('TIPOVUELO').Retraso_dummie.mean().sort_values(ascending=False)"
   ]
  },
  {
   "cell_type": "code",
   "execution_count": 228,
   "id": "0587208c",
   "metadata": {},
   "outputs": [
    {
     "data": {
      "text/plain": [
       "0.014771312065009127"
      ]
     },
     "execution_count": 228,
     "metadata": {},
     "output_type": "execute_result"
    }
   ],
   "source": [
    "data.groupby('TIPOVUELO').Retraso_dummie.mean().sort_values(ascending=False).std()"
   ]
  },
  {
   "cell_type": "code",
   "execution_count": 229,
   "id": "b22706f7",
   "metadata": {},
   "outputs": [
    {
     "data": {
      "text/plain": [
       "0.6680762318323727"
      ]
     },
     "execution_count": 229,
     "metadata": {},
     "output_type": "execute_result"
    }
   ],
   "source": [
    "data.groupby('TIPOVUELO').Retraso_dummie.mean().sort_values(ascending=False).mean()"
   ]
  },
  {
   "cell_type": "markdown",
   "id": "2245df2c",
   "metadata": {},
   "source": [
    "-Los retrasos según Tipo de vuelo se distribuyen de manera similar con una desviación estandar de 0,014 y una tasa promedio de atraso por mes de un 66%"
   ]
  },
  {
   "cell_type": "markdown",
   "id": "b853f079",
   "metadata": {},
   "source": [
    "¿Qué variables esperarías que más influyeran en predecir atrasos?  \n",
    "-Al dividir por los distintos grupos, todos muestran una tasa de atraso mayor al 50%.  \n",
    "-Según la información anterior podemos ver que en general las variables se distribuyen de forma similar en atrasos,EXCEPTO por el atraso segun destino std=0.2058 y el atraso segun OPERADOR std=0.195, por tanto espero que estas variables influyan más a la hora de predecir atrasos (difieren mucho el atraso segun tipo de operador y destino).\n"
   ]
  },
  {
   "cell_type": "code",
   "execution_count": 230,
   "id": "e0a687f2",
   "metadata": {},
   "outputs": [
    {
     "data": {
      "text/plain": [
       "Index(['Ori-I', 'DIA', 'MES', 'AÑO', 'DIANOM', 'TIPOVUELO', 'OPERA',\n",
       "       'SIGLADES', 'Cambio_Nvuelo', 'Cambio_destino', 'Cambio_aerolinea',\n",
       "       'dif_min', 'Retraso_dummie', 'atraso_15', 'temporada_alta'],\n",
       "      dtype='object')"
      ]
     },
     "execution_count": 230,
     "metadata": {},
     "output_type": "execute_result"
    }
   ],
   "source": [
    "data.columns"
   ]
  },
  {
   "cell_type": "markdown",
   "id": "30258a47",
   "metadata": {},
   "source": [
    "## 2. Genera las columnas adicionales y luego expórtelas en un archivo synthetic_features.csv "
   ]
  },
  {
   "cell_type": "code",
   "execution_count": 232,
   "id": "607b3e6b",
   "metadata": {},
   "outputs": [],
   "source": [
    "#synthetic_features= data['atraso_15', 'temporada_alta', 'periodo_dia']\n",
    "columns=['atraso_15', 'temporada_alta']\n",
    "synthetic_features= data[columns]\n",
    "synthetic_features.to_csv(\"synthetic_features.csv\", sep=\"\\t\", header=True, index = False)"
   ]
  },
  {
   "cell_type": "code",
   "execution_count": null,
   "id": "833b589b",
   "metadata": {},
   "outputs": [],
   "source": []
  },
  {
   "cell_type": "code",
   "execution_count": 233,
   "id": "f31c1e3d",
   "metadata": {},
   "outputs": [],
   "source": [
    "#Ahora voy a pasar las variables a categoricas a dummies\n",
    "# Ori-I para tener el origen del vuelo en dummie, DIANOM, para tener que dia de la semana fue, Tipo de vuelo,\n",
    "#para tener separado que vuelo era, lo mismo con el día del mes, el mes y el año. (podria tener relación con los atrasos)\n",
    "# "
   ]
  },
  {
   "cell_type": "code",
   "execution_count": 234,
   "id": "f1f5c244",
   "metadata": {},
   "outputs": [],
   "source": [
    "data_ml= pd.get_dummies(data=data, columns= ['Ori-I', 'DIANOM', 'TIPOVUELO','DIA','MES','AÑO','OPERA','SIGLADES'], drop_first= True)"
   ]
  },
  {
   "cell_type": "code",
   "execution_count": 235,
   "id": "92f8fd7d",
   "metadata": {},
   "outputs": [
    {
     "data": {
      "text/html": [
       "<div>\n",
       "<style scoped>\n",
       "    .dataframe tbody tr th:only-of-type {\n",
       "        vertical-align: middle;\n",
       "    }\n",
       "\n",
       "    .dataframe tbody tr th {\n",
       "        vertical-align: top;\n",
       "    }\n",
       "\n",
       "    .dataframe thead th {\n",
       "        text-align: right;\n",
       "    }\n",
       "</style>\n",
       "<table border=\"1\" class=\"dataframe\">\n",
       "  <thead>\n",
       "    <tr style=\"text-align: right;\">\n",
       "      <th></th>\n",
       "      <th>Cambio_Nvuelo</th>\n",
       "      <th>Cambio_destino</th>\n",
       "      <th>Cambio_aerolinea</th>\n",
       "      <th>dif_min</th>\n",
       "      <th>Retraso_dummie</th>\n",
       "      <th>atraso_15</th>\n",
       "      <th>temporada_alta</th>\n",
       "      <th>DIANOM_Jueves</th>\n",
       "      <th>DIANOM_Lunes</th>\n",
       "      <th>DIANOM_Martes</th>\n",
       "      <th>...</th>\n",
       "      <th>SIGLADES_San Juan, Arg.</th>\n",
       "      <th>SIGLADES_Santa Cruz</th>\n",
       "      <th>SIGLADES_Sao Paulo</th>\n",
       "      <th>SIGLADES_Sydney</th>\n",
       "      <th>SIGLADES_Temuco</th>\n",
       "      <th>SIGLADES_Toronto</th>\n",
       "      <th>SIGLADES_Tucuman</th>\n",
       "      <th>SIGLADES_Ushuia</th>\n",
       "      <th>SIGLADES_Valdivia</th>\n",
       "      <th>SIGLADES_Washington</th>\n",
       "    </tr>\n",
       "  </thead>\n",
       "  <tbody>\n",
       "    <tr>\n",
       "      <th>8419</th>\n",
       "      <td>0</td>\n",
       "      <td>0</td>\n",
       "      <td>0</td>\n",
       "      <td>1.0</td>\n",
       "      <td>1</td>\n",
       "      <td>0</td>\n",
       "      <td>1</td>\n",
       "      <td>0</td>\n",
       "      <td>1</td>\n",
       "      <td>0</td>\n",
       "      <td>...</td>\n",
       "      <td>0</td>\n",
       "      <td>0</td>\n",
       "      <td>0</td>\n",
       "      <td>0</td>\n",
       "      <td>1</td>\n",
       "      <td>0</td>\n",
       "      <td>0</td>\n",
       "      <td>0</td>\n",
       "      <td>0</td>\n",
       "      <td>0</td>\n",
       "    </tr>\n",
       "    <tr>\n",
       "      <th>23556</th>\n",
       "      <td>0</td>\n",
       "      <td>0</td>\n",
       "      <td>0</td>\n",
       "      <td>15.0</td>\n",
       "      <td>1</td>\n",
       "      <td>0</td>\n",
       "      <td>0</td>\n",
       "      <td>0</td>\n",
       "      <td>0</td>\n",
       "      <td>0</td>\n",
       "      <td>...</td>\n",
       "      <td>0</td>\n",
       "      <td>0</td>\n",
       "      <td>0</td>\n",
       "      <td>0</td>\n",
       "      <td>0</td>\n",
       "      <td>0</td>\n",
       "      <td>0</td>\n",
       "      <td>0</td>\n",
       "      <td>0</td>\n",
       "      <td>0</td>\n",
       "    </tr>\n",
       "    <tr>\n",
       "      <th>257</th>\n",
       "      <td>0</td>\n",
       "      <td>0</td>\n",
       "      <td>0</td>\n",
       "      <td>4.0</td>\n",
       "      <td>1</td>\n",
       "      <td>0</td>\n",
       "      <td>1</td>\n",
       "      <td>0</td>\n",
       "      <td>0</td>\n",
       "      <td>0</td>\n",
       "      <td>...</td>\n",
       "      <td>0</td>\n",
       "      <td>0</td>\n",
       "      <td>0</td>\n",
       "      <td>0</td>\n",
       "      <td>0</td>\n",
       "      <td>0</td>\n",
       "      <td>0</td>\n",
       "      <td>0</td>\n",
       "      <td>0</td>\n",
       "      <td>0</td>\n",
       "    </tr>\n",
       "    <tr>\n",
       "      <th>67931</th>\n",
       "      <td>0</td>\n",
       "      <td>0</td>\n",
       "      <td>0</td>\n",
       "      <td>-3.0</td>\n",
       "      <td>0</td>\n",
       "      <td>0</td>\n",
       "      <td>0</td>\n",
       "      <td>0</td>\n",
       "      <td>0</td>\n",
       "      <td>0</td>\n",
       "      <td>...</td>\n",
       "      <td>0</td>\n",
       "      <td>0</td>\n",
       "      <td>0</td>\n",
       "      <td>0</td>\n",
       "      <td>0</td>\n",
       "      <td>0</td>\n",
       "      <td>0</td>\n",
       "      <td>0</td>\n",
       "      <td>0</td>\n",
       "      <td>0</td>\n",
       "    </tr>\n",
       "    <tr>\n",
       "      <th>25244</th>\n",
       "      <td>0</td>\n",
       "      <td>0</td>\n",
       "      <td>1</td>\n",
       "      <td>-1.0</td>\n",
       "      <td>0</td>\n",
       "      <td>0</td>\n",
       "      <td>0</td>\n",
       "      <td>0</td>\n",
       "      <td>1</td>\n",
       "      <td>0</td>\n",
       "      <td>...</td>\n",
       "      <td>0</td>\n",
       "      <td>0</td>\n",
       "      <td>0</td>\n",
       "      <td>0</td>\n",
       "      <td>1</td>\n",
       "      <td>0</td>\n",
       "      <td>0</td>\n",
       "      <td>0</td>\n",
       "      <td>0</td>\n",
       "      <td>0</td>\n",
       "    </tr>\n",
       "  </tbody>\n",
       "</table>\n",
       "<p>5 rows × 139 columns</p>\n",
       "</div>"
      ],
      "text/plain": [
       "       Cambio_Nvuelo  Cambio_destino  Cambio_aerolinea  dif_min  \\\n",
       "8419               0               0                 0      1.0   \n",
       "23556              0               0                 0     15.0   \n",
       "257                0               0                 0      4.0   \n",
       "67931              0               0                 0     -3.0   \n",
       "25244              0               0                 1     -1.0   \n",
       "\n",
       "       Retraso_dummie  atraso_15  temporada_alta  DIANOM_Jueves  DIANOM_Lunes  \\\n",
       "8419                1          0               1              0             1   \n",
       "23556               1          0               0              0             0   \n",
       "257                 1          0               1              0             0   \n",
       "67931               0          0               0              0             0   \n",
       "25244               0          0               0              0             1   \n",
       "\n",
       "       DIANOM_Martes  ...  SIGLADES_San Juan, Arg.  SIGLADES_Santa Cruz  \\\n",
       "8419               0  ...                        0                    0   \n",
       "23556              0  ...                        0                    0   \n",
       "257                0  ...                        0                    0   \n",
       "67931              0  ...                        0                    0   \n",
       "25244              0  ...                        0                    0   \n",
       "\n",
       "       SIGLADES_Sao Paulo  SIGLADES_Sydney  SIGLADES_Temuco  SIGLADES_Toronto  \\\n",
       "8419                    0                0                1                 0   \n",
       "23556                   0                0                0                 0   \n",
       "257                     0                0                0                 0   \n",
       "67931                   0                0                0                 0   \n",
       "25244                   0                0                1                 0   \n",
       "\n",
       "       SIGLADES_Tucuman  SIGLADES_Ushuia  SIGLADES_Valdivia  \\\n",
       "8419                  0                0                  0   \n",
       "23556                 0                0                  0   \n",
       "257                   0                0                  0   \n",
       "67931                 0                0                  0   \n",
       "25244                 0                0                  0   \n",
       "\n",
       "       SIGLADES_Washington  \n",
       "8419                     0  \n",
       "23556                    0  \n",
       "257                      0  \n",
       "67931                    0  \n",
       "25244                    0  \n",
       "\n",
       "[5 rows x 139 columns]"
      ]
     },
     "execution_count": 235,
     "metadata": {},
     "output_type": "execute_result"
    }
   ],
   "source": [
    "data_ml.sample(5)"
   ]
  },
  {
   "cell_type": "code",
   "execution_count": null,
   "id": "5adb9679",
   "metadata": {},
   "outputs": [],
   "source": []
  },
  {
   "cell_type": "code",
   "execution_count": 236,
   "id": "46b7ad8c",
   "metadata": {},
   "outputs": [],
   "source": [
    "import matplotlib.pyplot as plt\n",
    "import seaborn as sns\n",
    "%matplotlib inline"
   ]
  },
  {
   "cell_type": "markdown",
   "id": "8c67a01d",
   "metadata": {},
   "source": [
    "Grafico las correlaciones de las variables con el target"
   ]
  },
  {
   "cell_type": "code",
   "execution_count": 237,
   "id": "d52038b9",
   "metadata": {},
   "outputs": [
    {
     "data": {
      "text/plain": [
       "<AxesSubplot:>"
      ]
     },
     "execution_count": 237,
     "metadata": {},
     "output_type": "execute_result"
    },
    {
     "data": {
      "image/png": "[encoded data removed]",
      "text/plain": [
       "<Figure size 1080x2160 with 2 Axes>"
      ]
     },
     "metadata": {
      "needs_background": "light"
     },
     "output_type": "display_data"
    }
   ],
   "source": [
    "plt.figure(figsize=(15,30))\n",
    "sns.heatmap(data_ml.corr()[['Retraso_dummie']], annot=True)"
   ]
  },
  {
   "cell_type": "code",
   "execution_count": null,
   "id": "c7574167",
   "metadata": {},
   "outputs": [],
   "source": []
  },
  {
   "cell_type": "markdown",
   "id": "dab1d49a",
   "metadata": {},
   "source": [
    "## 4)Entrena uno o varios modelos (usando el/los algoritmo(s) que prefieras) para estimar la probabilidad de atraso de un vuelo.Siéntete libre de generar variables adicionales y/o complementar con variables externas."
   ]
  },
  {
   "cell_type": "code",
   "execution_count": 238,
   "id": "c9540f0a",
   "metadata": {},
   "outputs": [
    {
     "data": {
      "text/plain": [
       "Index(['Cambio_Nvuelo', 'Cambio_destino', 'Cambio_aerolinea', 'dif_min',\n",
       "       'Retraso_dummie', 'atraso_15', 'temporada_alta', 'DIANOM_Jueves',\n",
       "       'DIANOM_Lunes', 'DIANOM_Martes',\n",
       "       ...\n",
       "       'SIGLADES_San Juan, Arg.', 'SIGLADES_Santa Cruz', 'SIGLADES_Sao Paulo',\n",
       "       'SIGLADES_Sydney', 'SIGLADES_Temuco', 'SIGLADES_Toronto',\n",
       "       'SIGLADES_Tucuman', 'SIGLADES_Ushuia', 'SIGLADES_Valdivia',\n",
       "       'SIGLADES_Washington'],\n",
       "      dtype='object', length=139)"
      ]
     },
     "execution_count": 238,
     "metadata": {},
     "output_type": "execute_result"
    }
   ],
   "source": [
    "data_ml.columns"
   ]
  },
  {
   "cell_type": "code",
   "execution_count": 239,
   "id": "ce92d0bb",
   "metadata": {},
   "outputs": [
    {
     "data": {
      "text/html": [
       "<div>\n",
       "<style scoped>\n",
       "    .dataframe tbody tr th:only-of-type {\n",
       "        vertical-align: middle;\n",
       "    }\n",
       "\n",
       "    .dataframe tbody tr th {\n",
       "        vertical-align: top;\n",
       "    }\n",
       "\n",
       "    .dataframe thead th {\n",
       "        text-align: right;\n",
       "    }\n",
       "</style>\n",
       "<table border=\"1\" class=\"dataframe\">\n",
       "  <thead>\n",
       "    <tr style=\"text-align: right;\">\n",
       "      <th></th>\n",
       "      <th>Cambio_Nvuelo</th>\n",
       "      <th>Cambio_destino</th>\n",
       "      <th>Cambio_aerolinea</th>\n",
       "      <th>dif_min</th>\n",
       "      <th>Retraso_dummie</th>\n",
       "      <th>atraso_15</th>\n",
       "      <th>temporada_alta</th>\n",
       "      <th>DIANOM_Jueves</th>\n",
       "      <th>DIANOM_Lunes</th>\n",
       "      <th>DIANOM_Martes</th>\n",
       "      <th>...</th>\n",
       "      <th>SIGLADES_San Juan, Arg.</th>\n",
       "      <th>SIGLADES_Santa Cruz</th>\n",
       "      <th>SIGLADES_Sao Paulo</th>\n",
       "      <th>SIGLADES_Sydney</th>\n",
       "      <th>SIGLADES_Temuco</th>\n",
       "      <th>SIGLADES_Toronto</th>\n",
       "      <th>SIGLADES_Tucuman</th>\n",
       "      <th>SIGLADES_Ushuia</th>\n",
       "      <th>SIGLADES_Valdivia</th>\n",
       "      <th>SIGLADES_Washington</th>\n",
       "    </tr>\n",
       "  </thead>\n",
       "  <tbody>\n",
       "    <tr>\n",
       "      <th>count</th>\n",
       "      <td>68206.000000</td>\n",
       "      <td>68206.000000</td>\n",
       "      <td>68206.000000</td>\n",
       "      <td>68206.000000</td>\n",
       "      <td>68206.000000</td>\n",
       "      <td>68206.000000</td>\n",
       "      <td>68206.000000</td>\n",
       "      <td>68206.000000</td>\n",
       "      <td>68206.000000</td>\n",
       "      <td>68206.000000</td>\n",
       "      <td>...</td>\n",
       "      <td>68206.000000</td>\n",
       "      <td>68206.000000</td>\n",
       "      <td>68206.000000</td>\n",
       "      <td>68206.000000</td>\n",
       "      <td>68206.000000</td>\n",
       "      <td>68206.000000</td>\n",
       "      <td>68206.000000</td>\n",
       "      <td>68206.000000</td>\n",
       "      <td>68206.000000</td>\n",
       "      <td>68206.000000</td>\n",
       "    </tr>\n",
       "    <tr>\n",
       "      <th>mean</th>\n",
       "      <td>0.027124</td>\n",
       "      <td>0.000411</td>\n",
       "      <td>0.273715</td>\n",
       "      <td>9.110855</td>\n",
       "      <td>0.667199</td>\n",
       "      <td>0.184940</td>\n",
       "      <td>0.325646</td>\n",
       "      <td>0.150295</td>\n",
       "      <td>0.148535</td>\n",
       "      <td>0.141659</td>\n",
       "      <td>...</td>\n",
       "      <td>0.000513</td>\n",
       "      <td>0.001759</td>\n",
       "      <td>0.052327</td>\n",
       "      <td>0.002844</td>\n",
       "      <td>0.037959</td>\n",
       "      <td>0.004149</td>\n",
       "      <td>0.000557</td>\n",
       "      <td>0.000088</td>\n",
       "      <td>0.011040</td>\n",
       "      <td>0.000015</td>\n",
       "    </tr>\n",
       "    <tr>\n",
       "      <th>std</th>\n",
       "      <td>0.162445</td>\n",
       "      <td>0.020257</td>\n",
       "      <td>0.445868</td>\n",
       "      <td>19.313387</td>\n",
       "      <td>0.471219</td>\n",
       "      <td>0.388252</td>\n",
       "      <td>0.468619</td>\n",
       "      <td>0.357363</td>\n",
       "      <td>0.355632</td>\n",
       "      <td>0.348703</td>\n",
       "      <td>...</td>\n",
       "      <td>0.022647</td>\n",
       "      <td>0.041908</td>\n",
       "      <td>0.222687</td>\n",
       "      <td>0.053257</td>\n",
       "      <td>0.191097</td>\n",
       "      <td>0.064281</td>\n",
       "      <td>0.023597</td>\n",
       "      <td>0.009379</td>\n",
       "      <td>0.104491</td>\n",
       "      <td>0.003829</td>\n",
       "    </tr>\n",
       "    <tr>\n",
       "      <th>min</th>\n",
       "      <td>0.000000</td>\n",
       "      <td>0.000000</td>\n",
       "      <td>0.000000</td>\n",
       "      <td>-14.000000</td>\n",
       "      <td>0.000000</td>\n",
       "      <td>0.000000</td>\n",
       "      <td>0.000000</td>\n",
       "      <td>0.000000</td>\n",
       "      <td>0.000000</td>\n",
       "      <td>0.000000</td>\n",
       "      <td>...</td>\n",
       "      <td>0.000000</td>\n",
       "      <td>0.000000</td>\n",
       "      <td>0.000000</td>\n",
       "      <td>0.000000</td>\n",
       "      <td>0.000000</td>\n",
       "      <td>0.000000</td>\n",
       "      <td>0.000000</td>\n",
       "      <td>0.000000</td>\n",
       "      <td>0.000000</td>\n",
       "      <td>0.000000</td>\n",
       "    </tr>\n",
       "    <tr>\n",
       "      <th>25%</th>\n",
       "      <td>0.000000</td>\n",
       "      <td>0.000000</td>\n",
       "      <td>0.000000</td>\n",
       "      <td>-1.000000</td>\n",
       "      <td>0.000000</td>\n",
       "      <td>0.000000</td>\n",
       "      <td>0.000000</td>\n",
       "      <td>0.000000</td>\n",
       "      <td>0.000000</td>\n",
       "      <td>0.000000</td>\n",
       "      <td>...</td>\n",
       "      <td>0.000000</td>\n",
       "      <td>0.000000</td>\n",
       "      <td>0.000000</td>\n",
       "      <td>0.000000</td>\n",
       "      <td>0.000000</td>\n",
       "      <td>0.000000</td>\n",
       "      <td>0.000000</td>\n",
       "      <td>0.000000</td>\n",
       "      <td>0.000000</td>\n",
       "      <td>0.000000</td>\n",
       "    </tr>\n",
       "    <tr>\n",
       "      <th>50%</th>\n",
       "      <td>0.000000</td>\n",
       "      <td>0.000000</td>\n",
       "      <td>0.000000</td>\n",
       "      <td>4.000000</td>\n",
       "      <td>1.000000</td>\n",
       "      <td>0.000000</td>\n",
       "      <td>0.000000</td>\n",
       "      <td>0.000000</td>\n",
       "      <td>0.000000</td>\n",
       "      <td>0.000000</td>\n",
       "      <td>...</td>\n",
       "      <td>0.000000</td>\n",
       "      <td>0.000000</td>\n",
       "      <td>0.000000</td>\n",
       "      <td>0.000000</td>\n",
       "      <td>0.000000</td>\n",
       "      <td>0.000000</td>\n",
       "      <td>0.000000</td>\n",
       "      <td>0.000000</td>\n",
       "      <td>0.000000</td>\n",
       "      <td>0.000000</td>\n",
       "    </tr>\n",
       "    <tr>\n",
       "      <th>75%</th>\n",
       "      <td>0.000000</td>\n",
       "      <td>0.000000</td>\n",
       "      <td>1.000000</td>\n",
       "      <td>12.000000</td>\n",
       "      <td>1.000000</td>\n",
       "      <td>0.000000</td>\n",
       "      <td>1.000000</td>\n",
       "      <td>0.000000</td>\n",
       "      <td>0.000000</td>\n",
       "      <td>0.000000</td>\n",
       "      <td>...</td>\n",
       "      <td>0.000000</td>\n",
       "      <td>0.000000</td>\n",
       "      <td>0.000000</td>\n",
       "      <td>0.000000</td>\n",
       "      <td>0.000000</td>\n",
       "      <td>0.000000</td>\n",
       "      <td>0.000000</td>\n",
       "      <td>0.000000</td>\n",
       "      <td>0.000000</td>\n",
       "      <td>0.000000</td>\n",
       "    </tr>\n",
       "    <tr>\n",
       "      <th>max</th>\n",
       "      <td>1.000000</td>\n",
       "      <td>1.000000</td>\n",
       "      <td>1.000000</td>\n",
       "      <td>161.000000</td>\n",
       "      <td>1.000000</td>\n",
       "      <td>1.000000</td>\n",
       "      <td>1.000000</td>\n",
       "      <td>1.000000</td>\n",
       "      <td>1.000000</td>\n",
       "      <td>1.000000</td>\n",
       "      <td>...</td>\n",
       "      <td>1.000000</td>\n",
       "      <td>1.000000</td>\n",
       "      <td>1.000000</td>\n",
       "      <td>1.000000</td>\n",
       "      <td>1.000000</td>\n",
       "      <td>1.000000</td>\n",
       "      <td>1.000000</td>\n",
       "      <td>1.000000</td>\n",
       "      <td>1.000000</td>\n",
       "      <td>1.000000</td>\n",
       "    </tr>\n",
       "  </tbody>\n",
       "</table>\n",
       "<p>8 rows × 139 columns</p>\n",
       "</div>"
      ],
      "text/plain": [
       "       Cambio_Nvuelo  Cambio_destino  Cambio_aerolinea       dif_min  \\\n",
       "count   68206.000000    68206.000000      68206.000000  68206.000000   \n",
       "mean        0.027124        0.000411          0.273715      9.110855   \n",
       "std         0.162445        0.020257          0.445868     19.313387   \n",
       "min         0.000000        0.000000          0.000000    -14.000000   \n",
       "25%         0.000000        0.000000          0.000000     -1.000000   \n",
       "50%         0.000000        0.000000          0.000000      4.000000   \n",
       "75%         0.000000        0.000000          1.000000     12.000000   \n",
       "max         1.000000        1.000000          1.000000    161.000000   \n",
       "\n",
       "       Retraso_dummie     atraso_15  temporada_alta  DIANOM_Jueves  \\\n",
       "count    68206.000000  68206.000000    68206.000000   68206.000000   \n",
       "mean         0.667199      0.184940        0.325646       0.150295   \n",
       "std          0.471219      0.388252        0.468619       0.357363   \n",
       "min          0.000000      0.000000        0.000000       0.000000   \n",
       "25%          0.000000      0.000000        0.000000       0.000000   \n",
       "50%          1.000000      0.000000        0.000000       0.000000   \n",
       "75%          1.000000      0.000000        1.000000       0.000000   \n",
       "max          1.000000      1.000000        1.000000       1.000000   \n",
       "\n",
       "       DIANOM_Lunes  DIANOM_Martes  ...  SIGLADES_San Juan, Arg.  \\\n",
       "count  68206.000000   68206.000000  ...             68206.000000   \n",
       "mean       0.148535       0.141659  ...                 0.000513   \n",
       "std        0.355632       0.348703  ...                 0.022647   \n",
       "min        0.000000       0.000000  ...                 0.000000   \n",
       "25%        0.000000       0.000000  ...                 0.000000   \n",
       "50%        0.000000       0.000000  ...                 0.000000   \n",
       "75%        0.000000       0.000000  ...                 0.000000   \n",
       "max        1.000000       1.000000  ...                 1.000000   \n",
       "\n",
       "       SIGLADES_Santa Cruz  SIGLADES_Sao Paulo  SIGLADES_Sydney  \\\n",
       "count         68206.000000        68206.000000     68206.000000   \n",
       "mean              0.001759            0.052327         0.002844   \n",
       "std               0.041908            0.222687         0.053257   \n",
       "min               0.000000            0.000000         0.000000   \n",
       "25%               0.000000            0.000000         0.000000   \n",
       "50%               0.000000            0.000000         0.000000   \n",
       "75%               0.000000            0.000000         0.000000   \n",
       "max               1.000000            1.000000         1.000000   \n",
       "\n",
       "       SIGLADES_Temuco  SIGLADES_Toronto  SIGLADES_Tucuman  SIGLADES_Ushuia  \\\n",
       "count     68206.000000      68206.000000      68206.000000     68206.000000   \n",
       "mean          0.037959          0.004149          0.000557         0.000088   \n",
       "std           0.191097          0.064281          0.023597         0.009379   \n",
       "min           0.000000          0.000000          0.000000         0.000000   \n",
       "25%           0.000000          0.000000          0.000000         0.000000   \n",
       "50%           0.000000          0.000000          0.000000         0.000000   \n",
       "75%           0.000000          0.000000          0.000000         0.000000   \n",
       "max           1.000000          1.000000          1.000000         1.000000   \n",
       "\n",
       "       SIGLADES_Valdivia  SIGLADES_Washington  \n",
       "count       68206.000000         68206.000000  \n",
       "mean            0.011040             0.000015  \n",
       "std             0.104491             0.003829  \n",
       "min             0.000000             0.000000  \n",
       "25%             0.000000             0.000000  \n",
       "50%             0.000000             0.000000  \n",
       "75%             0.000000             0.000000  \n",
       "max             1.000000             1.000000  \n",
       "\n",
       "[8 rows x 139 columns]"
      ]
     },
     "execution_count": 239,
     "metadata": {},
     "output_type": "execute_result"
    }
   ],
   "source": [
    "data_ml.describe()"
   ]
  },
  {
   "cell_type": "code",
   "execution_count": 240,
   "id": "9837ba06",
   "metadata": {},
   "outputs": [],
   "source": [
    "#  para poder predecir, tengo que sacar las variables que dicen que ya esta atrasado,\n",
    "#dropear: dif_min y atraso_15"
   ]
  },
  {
   "cell_type": "code",
   "execution_count": 241,
   "id": "e70c3c13",
   "metadata": {},
   "outputs": [],
   "source": [
    "data_ml= data_ml.drop(columns=['dif_min','atraso_15'])"
   ]
  },
  {
   "cell_type": "code",
   "execution_count": 242,
   "id": "9bb6ae92",
   "metadata": {},
   "outputs": [
    {
     "data": {
      "text/plain": [
       "(68206, 137)"
      ]
     },
     "execution_count": 242,
     "metadata": {},
     "output_type": "execute_result"
    }
   ],
   "source": [
    "data_ml.columns\n",
    "data_ml.shape"
   ]
  },
  {
   "cell_type": "markdown",
   "id": "b43cc3d9",
   "metadata": {},
   "source": [
    "Creo modelo"
   ]
  },
  {
   "cell_type": "code",
   "execution_count": 244,
   "id": "b2d1e74f",
   "metadata": {},
   "outputs": [],
   "source": [
    "X = data_ml.drop(columns=['Retraso_dummie'])\n",
    "y = data_ml['Retraso_dummie']"
   ]
  },
  {
   "cell_type": "code",
   "execution_count": 245,
   "id": "0b36dff3",
   "metadata": {},
   "outputs": [],
   "source": [
    "# Separamos un set de testeo para evaluar el modelo\n",
    "from sklearn.model_selection import train_test_split\n",
    "X_train, X_test, y_train, y_test = train_test_split(X, y,stratify=y, random_state = 123)"
   ]
  },
  {
   "cell_type": "code",
   "execution_count": 246,
   "id": "61d0dfa6",
   "metadata": {},
   "outputs": [
    {
     "data": {
      "text/plain": [
       "(0.6672010008992454, 0.6671944639924936)"
      ]
     },
     "execution_count": 246,
     "metadata": {},
     "output_type": "execute_result"
    }
   ],
   "source": [
    "# Verificamos que coincidan las proporciones del target\n",
    "y_train.mean(), y_test.mean()"
   ]
  },
  {
   "cell_type": "code",
   "execution_count": 247,
   "id": "e29964f6",
   "metadata": {},
   "outputs": [],
   "source": [
    "# Estandarizamos los datos\n",
    "from sklearn.preprocessing import StandardScaler\n",
    "scaler = StandardScaler()\n",
    "X_train_std = scaler.fit_transform(X_train)\n",
    "X_test_std = scaler.transform(X_test)"
   ]
  },
  {
   "cell_type": "markdown",
   "id": "134a7dca",
   "metadata": {},
   "source": [
    "Modelo 1: Regresión Logistica"
   ]
  },
  {
   "cell_type": "code",
   "execution_count": 248,
   "id": "33399891",
   "metadata": {},
   "outputs": [],
   "source": [
    "from sklearn.linear_model import LogisticRegression\n",
    "lr = LogisticRegression()\n",
    "fit1= lr.fit(X_train_std, y_train)"
   ]
  },
  {
   "cell_type": "code",
   "execution_count": 257,
   "id": "3f015224",
   "metadata": {},
   "outputs": [
    {
     "name": "stdout",
     "output_type": "stream",
     "text": [
      "[[ 3.31568140e-02  1.52018445e-03  9.20662153e-04  6.41114623e-03\n",
      "   9.87466081e-02  7.11384120e-02  2.15782582e-02  4.10179715e-02\n",
      "   5.37461369e-03  1.47543158e-01 -2.21428931e-01 -2.36076187e-02\n",
      "   1.09087019e-03  1.83411364e-02 -5.33656280e-03 -2.37140936e-03\n",
      "   4.64411882e-03 -7.06074168e-03 -7.30326159e-03  3.88566920e-02\n",
      "   5.01165587e-02  2.04885993e-02 -5.26352670e-03  5.38432762e-03\n",
      "   3.65671227e-02  3.55649962e-02 -1.31835624e-03  1.54363622e-02\n",
      "  -1.11712285e-03 -3.60308433e-03  9.88016111e-03  2.06939831e-02\n",
      "  -7.15474523e-03 -4.61755502e-03 -9.76004886e-03  9.31644143e-03\n",
      "  -9.66963462e-03 -1.45910930e-02  7.81544594e-04 -1.81143272e-02\n",
      "  -2.13986731e-02 -5.55175240e-03 -1.10828957e-01 -6.10868475e-02\n",
      "  -8.55512506e-03 -1.19645535e-02  1.75740339e-01 -5.42045999e-03\n",
      "  -3.16081676e-03  9.90346551e-02  5.88159485e-02  1.29184850e-01\n",
      "   7.61616747e-02 -5.24242510e-02  1.59508141e-01 -1.56731288e-01\n",
      "   1.36533951e-02 -1.02362947e-01 -2.34096841e-03  6.96941013e-02\n",
      "   1.48380450e-02 -3.09406964e-02 -2.91344420e-02  2.81949088e-02\n",
      "   5.84901430e-01  3.47737278e-02  7.93781514e-02 -6.63496863e-02\n",
      "  -1.34090215e-02  1.99103248e-01 -1.92834912e-02  4.48326897e-02\n",
      "   1.02113300e-01  2.35346558e-01 -5.13118899e-02  4.87980526e-02\n",
      "   3.00837958e-02 -2.91344420e-02  5.78763654e-02  6.57688592e-02\n",
      "   7.32096557e-02  1.55040054e-03  1.44538923e-01 -2.05840697e-02\n",
      "   2.24896222e-03 -1.23660094e-02  5.11033222e-02 -3.47010889e-02\n",
      "  -3.09406964e-02  5.33255330e-02  8.95307147e-03  3.77795303e-02\n",
      "   1.31615641e-01 -3.18890236e-03  5.54097131e-03 -1.06609563e-02\n",
      "  -1.68446540e-02 -4.80040830e-02  1.20373863e-01  8.62487641e-02\n",
      "   2.18293948e-02  1.86182508e-02  4.41520463e-05  1.48380450e-02\n",
      "   2.68159158e-02  6.86025675e-03  3.96214217e-02  5.35521700e-02\n",
      "   5.27545733e-02  6.24934821e-02 -1.54177962e-02  2.66167174e-02\n",
      "   3.68849654e-03  3.88577423e-02  1.44671313e-01  5.28669666e-02\n",
      "   1.54845009e-01 -1.04042933e-03  5.16064378e-02  1.57803596e-01\n",
      "   2.73154049e-02 -9.08490565e-03  7.34927555e-02  4.39825295e-02\n",
      "   1.36533951e-02  7.68629549e-02 -9.15536979e-03  3.51272580e-02\n",
      "   4.04155743e-02  4.03762938e-02  9.18027955e-02 -5.34396585e-02\n",
      "  -2.30496800e-02  1.18364100e-01  2.35457712e-02 -5.31757251e-02]]\n",
      "[0.76884602]\n"
     ]
    }
   ],
   "source": [
    "print(lr.coef_)\n",
    "print(lr.intercept_)"
   ]
  },
  {
   "cell_type": "code",
   "execution_count": null,
   "id": "f1d9b03e",
   "metadata": {},
   "outputs": [],
   "source": []
  },
  {
   "cell_type": "code",
   "execution_count": 250,
   "id": "c3292a01",
   "metadata": {},
   "outputs": [],
   "source": [
    "y_train_pred = lr.predict(X_train_std)\n",
    "y_test_pred = lr.predict(X_test_std)"
   ]
  },
  {
   "cell_type": "markdown",
   "id": "1b6a1e95",
   "metadata": {},
   "source": [
    "Probabilidad de que se atrase el vuelo"
   ]
  },
  {
   "cell_type": "code",
   "execution_count": 279,
   "id": "41fc3312",
   "metadata": {},
   "outputs": [
    {
     "data": {
      "text/plain": [
       "array([[0.3727523 , 0.6272477 ],\n",
       "       [0.37934219, 0.62065781],\n",
       "       [0.10923805, 0.89076195],\n",
       "       ...,\n",
       "       [0.4609189 , 0.5390811 ],\n",
       "       [0.27521013, 0.72478987],\n",
       "       [0.15504364, 0.84495636]])"
      ]
     },
     "execution_count": 279,
     "metadata": {},
     "output_type": "execute_result"
    }
   ],
   "source": [
    "y_test_proba= lr.predict_proba(X_test_std)\n",
    "y_test_proba"
   ]
  },
  {
   "cell_type": "markdown",
   "id": "521847b4",
   "metadata": {},
   "source": [
    "## Evalúa tu modelo. ¿Qué performance tiene? ¿Qué métricas usaste para evaluar esa performance y por qué? ¿Por qué elegiste ese algoritmo en particular? ¿Qué variables son las que más influyen en la predicción? ¿Cómo podrías mejorar la performance?"
   ]
  },
  {
   "cell_type": "code",
   "execution_count": 251,
   "id": "7e359207",
   "metadata": {},
   "outputs": [],
   "source": [
    "# Elaboramos la matriz de confusión"
   ]
  },
  {
   "cell_type": "code",
   "execution_count": 252,
   "id": "419f006e",
   "metadata": {},
   "outputs": [
    {
     "data": {
      "image/png": "[encoded data removed]",
      "text/plain": [
       "<Figure size 432x288 with 2 Axes>"
      ]
     },
     "metadata": {
      "needs_background": "light"
     },
     "output_type": "display_data"
    }
   ],
   "source": [
    "from sklearn.metrics import confusion_matrix\n",
    "confusion_matrix(y_test, y_test_pred)\n",
    "sns.heatmap(confusion_matrix(y_test, y_test_pred), annot=True)\n",
    "plt.ylabel('Verdaderos')\n",
    "plt.xlabel('Predichos');"
   ]
  },
  {
   "cell_type": "code",
   "execution_count": 254,
   "id": "4f30430d",
   "metadata": {},
   "outputs": [
    {
     "data": {
      "text/plain": [
       "0.6940534834623504"
      ]
     },
     "execution_count": 254,
     "metadata": {},
     "output_type": "execute_result"
    }
   ],
   "source": [
    "from sklearn.metrics import accuracy_score\n",
    "accuracy_score(y_test, y_test_pred)"
   ]
  },
  {
   "cell_type": "markdown",
   "id": "ce91a1cc",
   "metadata": {},
   "source": [
    " performance= 0,6940 \n",
    "- Qué métricas usaste para evaluar esa performance y por qué, ¿Por qué?  \n",
    "Para evaluar la perfomance use el accuracy score, ya que esta muestra la proporción de casos correctamente clasificados de los datos de test sobre el total de casos de test. \n",
    "-  ¿Por qué elegiste ese algoritmo en particular?  \n",
    "El modelo de Regresión Logística es muy útil para abordar problemas de clasificación. Es un modelo muy versátil ya que puede ayudarnos a estimar las probabilidades de pertenecer a distintas categorías (lo solicitado en este caso), y también poder interpretar la influencia de muchas variables de entrada sobre la probabilidad de pertenecer a cada categoría.\n",
    "-  ¿Qué variables son las que más influyen en la predicción?  \n",
    "Son aquellas con mayor coeficiente de intersección.\n",
    "-  ¿Cómo podrías mejorar la performance?  \n",
    "Podría mejorar la perfomance realizando una regularización o con GridSearch para mejorar los hiperparametros\n"
   ]
  },
  {
   "cell_type": "markdown",
   "id": "1ea421f3",
   "metadata": {},
   "source": [
    "Modelo 2: Naive Bayes"
   ]
  },
  {
   "cell_type": "code",
   "execution_count": 274,
   "id": "e5ce6afd",
   "metadata": {},
   "outputs": [],
   "source": [
    "from sklearn.naive_bayes import GaussianNB\n",
    "\n",
    "gnb = GaussianNB()\n",
    "\n",
    "fit2=gnb.fit(X_train, y_train)"
   ]
  },
  {
   "cell_type": "code",
   "execution_count": 275,
   "id": "c3e09ee7",
   "metadata": {},
   "outputs": [],
   "source": [
    "Y_pred_GNB = gnb.predict(X_test)\n"
   ]
  },
  {
   "cell_type": "code",
   "execution_count": 280,
   "id": "6d93c818",
   "metadata": {},
   "outputs": [
    {
     "data": {
      "text/plain": [
       "0.37"
      ]
     },
     "execution_count": 280,
     "metadata": {},
     "output_type": "execute_result"
    }
   ],
   "source": [
    "round(accuracy_score(y_test, Y_pred_GNB), 2)"
   ]
  },
  {
   "cell_type": "code",
   "execution_count": null,
   "id": "a93d9a24",
   "metadata": {},
   "outputs": [],
   "source": []
  },
  {
   "cell_type": "code",
   "execution_count": 277,
   "id": "4e7e7175",
   "metadata": {},
   "outputs": [
    {
     "data": {
      "image/png": "[encoded data removed]",
      "text/plain": [
       "<Figure size 432x288 with 2 Axes>"
      ]
     },
     "metadata": {
      "needs_background": "light"
     },
     "output_type": "display_data"
    }
   ],
   "source": [
    "confusion_matrix(y_test, y_test_pred)\n",
    "sns.heatmap(confusion_matrix(y_test, y_test_pred), annot=True)\n",
    "plt.ylabel('Verdaderos')\n",
    "plt.xlabel('Predichos');"
   ]
  },
  {
   "cell_type": "markdown",
   "id": "03f630b0",
   "metadata": {},
   "source": [
    "Evalúa tu modelo.\n",
    "-  ¿Qué performance tiene? 0.37\n",
    "-  ¿Qué métricas usaste para evaluar esa performance y por qué? \n",
    "Para evaluar la perfomance use el accuracy score, ya que esta muestra la proporción de casos correctamente clasificados de los datos de test sobre el total de casos de test.\n",
    "-  ¿Por qué elegiste ese algoritmo en particular? \n",
    " Naive Bayes nos permite, dado un conjunto de características, predecir una clase usando la probabilidad. Es relativamente simple de entender y construir . No es sensible a características irrelevantes. Su principal desventaja es que asume que cada característica es independiente, lo cual no siempre sucede.\n",
    " Dado que Naive Bayes es tan fácil de optimizar y tan rápido desde el punto de vista computacional, es un buen \"baseline\" para un problema de clasificación. Si performa bien, podemos quedarnos con este modelo y si necesitamos mejorar la precisión, tenemos una línea de base sobre la cual mejorar. En este caso no performo bien ya que dio un accuracy de 0.37\n",
    "-  ¿Qué variables son las que más influyen en la predicción? ¿Cómo podrías mejorar la performance?¶\n",
    "Las variables que mas influyen son... Podría mejorar la perfomance haciendo un ensamble con el modelo de regresion logistica."
   ]
  },
  {
   "cell_type": "markdown",
   "id": "2bf801d7",
   "metadata": {},
   "source": [
    "Modelo KNN  \n",
    "Intente realizar el modelo KNN, pero fue muy pesado para mi computador y nunca termino de ejecutar."
   ]
  },
  {
   "cell_type": "code",
   "execution_count": 283,
   "id": "38d31d4e",
   "metadata": {},
   "outputs": [],
   "source": [
    "#from sklearn.neighbors import KNeighborsClassifier"
   ]
  },
  {
   "cell_type": "code",
   "execution_count": 284,
   "id": "79834fee",
   "metadata": {},
   "outputs": [],
   "source": [
    "#from sklearn.model_selection import cross_val_score, KFold\n",
    "#from sklearn.neighbors import KNeighborsClassifier"
   ]
  },
  {
   "cell_type": "code",
   "execution_count": 289,
   "id": "c169f320",
   "metadata": {},
   "outputs": [],
   "source": [
    "#def scores_knn(X, y, start,stop,step):\n",
    "    \n",
    "    # Vamos a querer graficar los distintos valores del score de cross validation en función del hiperparámetro n_neighbors\n",
    "    # Para esto vamos a generar una lista de diccionarios que después se puede convertir fácilmente en DataFrame\n",
    "    \n",
    "    # Lista de diccionarios - la inicializamos vacío y por fuera del for loop para ir alimentándola en cada iteración\n",
    "#    scores_para_df = []\n",
    "    \n",
    "    \n",
    "#    for i in range(start,stop,step):\n",
    "        \n",
    "        # En cada iteración, instanciamos el modelo con un hiperparámetro distinto\n",
    "#        model = KNeighborsClassifier(n_neighbors=i)\n",
    "\n",
    "        # cross_val_scores nos devuelve un array de 5 resultados, uno por cada partición que hizo automáticamente CV\n",
    "#        kf = KFold(n_splits=5, shuffle=True, random_state=10)\n",
    "#        cv_scores = cross_val_score(model, X, y, cv=kf)\n",
    "\n",
    "        # Para cada valor de n_neighbours, creamos un diccionario con el valor de n_neighbours y la media y el desvío de los scores\n",
    "#        dict_row_score = {'score_medio':np.mean(cv_scores),'score_std':np.std(cv_scores),'n_neighbours':i}\n",
    "\n",
    "        # Guardamos cada uno en la lista de diccionarios\n",
    "#        scores_para_df.append(dict_row_score)\n",
    "    \n",
    "    # Creamos el DF a partir de la lista de resultados\n",
    "#    df_scores = pd.DataFrame(scores_para_df)\n",
    "    \n",
    "    # Incorporamos los límites inferior y superior, restando y sumando el valor del desvío estándar, respectivamente\n",
    "#    df_scores['limite_inferior'] = df_scores['score_medio'] - df_scores['score_std']\n",
    "#    df_scores['limite_superior'] = df_scores['score_medio'] + df_scores['score_std']\n",
    "    \n",
    "    # Retornamos el DF\n",
    "#    return df_scores"
   ]
  },
  {
   "cell_type": "code",
   "execution_count": 290,
   "id": "e4ec1d5d",
   "metadata": {},
   "outputs": [],
   "source": [
    "# Probamos de 1 a 20 vecinos\n",
    "#df_scores= scores_knn(X_train_std, y_train, 1, 10, 1)"
   ]
  },
  {
   "cell_type": "code",
   "execution_count": 291,
   "id": "336f9fa4",
   "metadata": {},
   "outputs": [],
   "source": [
    "#best_k = df_scores.loc[df_scores.score_medio == df_scores.score_medio.max(),'n_neighbours'].values[0]\n",
    "#best_k"
   ]
  },
  {
   "cell_type": "code",
   "execution_count": 292,
   "id": "cb991dc5",
   "metadata": {},
   "outputs": [],
   "source": [
    "\n",
    "#model_knn = KNeighborsClassifier()\n",
    "\n",
    "#Lo ajustamos sobre datos de entrenamiento\n",
    "#fit4= model_knn.fit(X_train_std, y_train)"
   ]
  },
  {
   "cell_type": "code",
   "execution_count": null,
   "id": "b89cc2ad",
   "metadata": {},
   "outputs": [],
   "source": []
  },
  {
   "cell_type": "code",
   "execution_count": 293,
   "id": "2bf36b63",
   "metadata": {},
   "outputs": [],
   "source": [
    "# Lo utilizamos para predecir en test\n",
    "#y_pred_knn = model_knn.predict(X_test_std)"
   ]
  },
  {
   "cell_type": "code",
   "execution_count": 294,
   "id": "48365407",
   "metadata": {},
   "outputs": [],
   "source": [
    "# Computamos el accuracy score en test\n",
    "#accuracy_score(y_test, y_pred_knn)"
   ]
  },
  {
   "cell_type": "code",
   "execution_count": 295,
   "id": "7cb8fd75",
   "metadata": {},
   "outputs": [],
   "source": [
    "#sns.heatmap(confusion_matrix(y_test, y_pred_knn), annot=True, fmt='.0f')\n",
    "#plt.ylabel('Etiquetas reales')\n",
    "#plt.xlabel('Etiquetas predichas');"
   ]
  },
  {
   "cell_type": "markdown",
   "id": "92fbb74b",
   "metadata": {},
   "source": [
    "Lo mismo con GRIDSEARCH. Quise utilizar gridsearch para mejorar la performance de los modelos pero no pude ejecutarla por la cantidad de data."
   ]
  },
  {
   "cell_type": "code",
   "execution_count": null,
   "id": "405695c3",
   "metadata": {},
   "outputs": [],
   "source": [
    "#Aplicación de GRIDSEARCH"
   ]
  },
  {
   "cell_type": "code",
   "execution_count": 143,
   "id": "569084c4",
   "metadata": {},
   "outputs": [],
   "source": [
    "#from sklearn.model_selection import GridSearchCV, train_test_split"
   ]
  },
  {
   "cell_type": "code",
   "execution_count": 144,
   "id": "707102b0",
   "metadata": {},
   "outputs": [],
   "source": [
    "#models = [LogisticRegression(),\n",
    "#          KNeighborsClassifier()]"
   ]
  },
  {
   "cell_type": "code",
   "execution_count": 145,
   "id": "6b21eb4f",
   "metadata": {},
   "outputs": [],
   "source": [
    "#params = [\n",
    "#    {'C': [1, 10, 100, 1000],\n",
    "#     'penalty': ['l1', 'l2',],\n",
    "#     'solver': ['saga']},\n",
    "#    {'n_neighbors': range(1,15),\n",
    "#     'weights' : ['uniform', 'distance'],\n",
    "#     'p' : [1, 2, 3]}\n",
    "#]"
   ]
  },
  {
   "cell_type": "code",
   "execution_count": 146,
   "id": "71c26300",
   "metadata": {},
   "outputs": [],
   "source": [
    "#from sklearn.model_selection import StratifiedKFold\n",
    "#folds=StratifiedKFold(n_splits=10, random_state=19, shuffle=True)"
   ]
  },
  {
   "cell_type": "code",
   "execution_count": null,
   "id": "37c79001",
   "metadata": {},
   "outputs": [
    {
     "name": "stdout",
     "output_type": "stream",
     "text": [
      "GridSearchCV(cv=StratifiedKFold(n_splits=10, random_state=19, shuffle=True),\n",
      "             estimator=LogisticRegression(), n_jobs=4,\n",
      "             param_grid={'C': [1, 10, 100, 1000], 'penalty': ['l1', 'l2'],\n",
      "                         'solver': ['saga']},\n",
      "             scoring='accuracy')\n"
     ]
    },
    {
     "name": "stderr",
     "output_type": "stream",
     "text": [
      "C:\\Users\\Javiera\\anaconda3\\envs\\dhdsblend2021\\lib\\site-packages\\sklearn\\linear_model\\_sag.py:329: ConvergenceWarning: The max_iter was reached which means the coef_ did not converge\n",
      "  warnings.warn(\"The max_iter was reached which means \"\n"
     ]
    },
    {
     "name": "stdout",
     "output_type": "stream",
     "text": [
      "GridSearchCV(cv=StratifiedKFold(n_splits=10, random_state=19, shuffle=True),\n",
      "             estimator=KNeighborsClassifier(), n_jobs=4,\n",
      "             param_grid={'n_neighbors': range(1, 15), 'p': [1, 2, 3],\n",
      "                         'weights': ['uniform', 'distance']},\n",
      "             scoring='accuracy')\n"
     ]
    }
   ],
   "source": [
    "#grids = []\n",
    "#for i in range(len(models)):\n",
    "#    gs = GridSearchCV(estimator=models[i], param_grid=params[i], scoring='accuracy', cv=folds, n_jobs=4)\n",
    "#    print (gs)\n",
    "#    fit = gs.fit(X_train_std, y_train)\n",
    "#    grids.append(fit)"
   ]
  },
  {
   "cell_type": "code",
   "execution_count": null,
   "id": "3255569b",
   "metadata": {},
   "outputs": [],
   "source": [
    "#for i in grids:\n",
    "#    print (i.best_score_)\n",
    "#    print (i.best_estimator_)\n",
    "#    print (i.best_params_)"
   ]
  },
  {
   "cell_type": "code",
   "execution_count": 167,
   "id": "61b9e3a1",
   "metadata": {},
   "outputs": [],
   "source": [
    "#pd.DataFrame(grids[0].cv_results_)"
   ]
  },
  {
   "cell_type": "code",
   "execution_count": null,
   "id": "4a4b3efe",
   "metadata": {},
   "outputs": [],
   "source": [
    "#pd.DataFrame(grids[1].cv_results_)"
   ]
  },
  {
   "cell_type": "code",
   "execution_count": null,
   "id": "170c2a09",
   "metadata": {},
   "outputs": [],
   "source": []
  },
  {
   "cell_type": "code",
   "execution_count": null,
   "id": "fac5b1ba",
   "metadata": {},
   "outputs": [],
   "source": [
    "#X_test = scaler.transform(X_test)\n",
    "#X_test = scaler.transform(X_test)\n",
    "#y_preds_log = grids[0].predict(X_test)\n",
    "#y_preds_knn = grids[1].predict(X_test)"
   ]
  },
  {
   "cell_type": "code",
   "execution_count": null,
   "id": "06a9d254",
   "metadata": {},
   "outputs": [],
   "source": [
    "#print (classification_report(y_test, y_preds_log))"
   ]
  },
  {
   "cell_type": "code",
   "execution_count": null,
   "id": "d6087d14",
   "metadata": {},
   "outputs": [],
   "source": [
    "#confusion_matrix(y_test, y_preds_log)"
   ]
  },
  {
   "cell_type": "code",
   "execution_count": null,
   "id": "b4fe5619",
   "metadata": {},
   "outputs": [],
   "source": [
    "#print (classification_report(y_test, y_preds_knn)"
   ]
  },
  {
   "cell_type": "code",
   "execution_count": null,
   "id": "6f5cc82f",
   "metadata": {},
   "outputs": [],
   "source": [
    "#confusion_matrix(y_test, y_preds_knn)"
   ]
  },
  {
   "cell_type": "markdown",
   "id": "e571d22a",
   "metadata": {},
   "source": [
    "Modelo 3: CART"
   ]
  },
  {
   "cell_type": "code",
   "execution_count": 314,
   "id": "4651d894",
   "metadata": {},
   "outputs": [],
   "source": [
    "from sklearn import tree"
   ]
  },
  {
   "cell_type": "code",
   "execution_count": 315,
   "id": "ac2f82c0",
   "metadata": {},
   "outputs": [],
   "source": [
    "tr = tree.DecisionTreeClassifier(random_state=17)\n",
    "fit3= tr.fit(X_train_std, y_train)"
   ]
  },
  {
   "cell_type": "code",
   "execution_count": 316,
   "id": "dc7268fa",
   "metadata": {},
   "outputs": [
    {
     "data": {
      "text/plain": [
       "array([0.00359934, 0.00037546, 0.02622649, 0.01715134, 0.01329634,\n",
       "       0.01202053, 0.01362084, 0.01377426, 0.01560759, 0.01345528,\n",
       "       0.01633081, 0.01362559, 0.01033692, 0.01100793, 0.01192393,\n",
       "       0.01312394, 0.01209175, 0.01466274, 0.01327613, 0.01169559,\n",
       "       0.01145854, 0.01277384, 0.01155263, 0.01191017, 0.01386536,\n",
       "       0.01400294, 0.01222719, 0.01115556, 0.01146204, 0.01204339,\n",
       "       0.0133302 , 0.01450452, 0.01243513, 0.01357154, 0.01295291,\n",
       "       0.01287104, 0.01082771, 0.01249439, 0.01331729, 0.01254373,\n",
       "       0.00931783, 0.00962118, 0.01313952, 0.010182  , 0.0096421 ,\n",
       "       0.009331  , 0.00970422, 0.0085824 , 0.01161296, 0.01213427,\n",
       "       0.01160696, 0.01203684, 0.        , 0.00493611, 0.00314835,\n",
       "       0.0023474 , 0.00145013, 0.00721288, 0.0010576 , 0.00313236,\n",
       "       0.00145592, 0.        , 0.00076744, 0.00264095, 0.05932611,\n",
       "       0.00175286, 0.00332604, 0.00223896, 0.00145875, 0.00569798,\n",
       "       0.00157137, 0.00016212, 0.00013657, 0.01084156, 0.00667517,\n",
       "       0.01153511, 0.00160758, 0.00319112, 0.00178932, 0.00433741,\n",
       "       0.        , 0.00463398, 0.01027418, 0.01391481, 0.00078403,\n",
       "       0.00332673, 0.        , 0.00418449, 0.00867398, 0.        ,\n",
       "       0.01626241, 0.01387755, 0.00329973, 0.00015733, 0.00026387,\n",
       "       0.00086581, 0.00247882, 0.        , 0.0105936 , 0.00201705,\n",
       "       0.00158817, 0.01518401, 0.01327151, 0.00158118, 0.0012604 ,\n",
       "       0.00643638, 0.00010792, 0.00783853, 0.0041981 , 0.00451487,\n",
       "       0.0005419 , 0.00234964, 0.00047391, 0.00342537, 0.00172364,\n",
       "       0.        , 0.01337422, 0.00132697, 0.        , 0.00603434,\n",
       "       0.00026782, 0.00021782, 0.        , 0.0049901 , 0.00172194,\n",
       "       0.00054907, 0.00042749, 0.00100635, 0.00577704, 0.00251337,\n",
       "       0.0118179 , 0.00081609, 0.00020484, 0.        , 0.00963941,\n",
       "       0.        ])"
      ]
     },
     "execution_count": 316,
     "metadata": {},
     "output_type": "execute_result"
    }
   ],
   "source": [
    "tr.feature_importances_"
   ]
  },
  {
   "cell_type": "code",
   "execution_count": 317,
   "id": "6cd13a71",
   "metadata": {},
   "outputs": [],
   "source": [
    "y_pred_test_tree = tr.predict(X_test_std)"
   ]
  },
  {
   "cell_type": "code",
   "execution_count": 318,
   "id": "9c6b858a",
   "metadata": {},
   "outputs": [
    {
     "data": {
      "text/plain": [
       "array([[2682, 2993],\n",
       "       [3439, 7938]], dtype=int64)"
      ]
     },
     "execution_count": 318,
     "metadata": {},
     "output_type": "execute_result"
    }
   ],
   "source": [
    "confusion_matrix(y_test, y_pred_test_tree)"
   ]
  },
  {
   "cell_type": "code",
   "execution_count": 319,
   "id": "b4137d24",
   "metadata": {},
   "outputs": [
    {
     "data": {
      "text/plain": [
       "0.6228008444757214"
      ]
     },
     "execution_count": 319,
     "metadata": {},
     "output_type": "execute_result"
    }
   ],
   "source": [
    "accuracy_score(y_test, y_pred_test_tree)"
   ]
  },
  {
   "cell_type": "markdown",
   "id": "0c74de5b",
   "metadata": {},
   "source": [
    "Evalúa tu modelo.\n",
    "-  ¿Qué performance tiene? 0.62\n",
    "Lo qe es malo, ya que solo considerando la distribución de la variable atraso, podría decir que un 66% se atrasa. Este accuracy es peor que esa base.\n",
    "-  ¿Qué métricas usaste para evaluar esa performance y por qué? \n",
    "Para evaluar la perfomance use el accuracy score, ya que esta muestra la proporción de casos correctamente clasificados de los datos de test sobre el total de casos de test.\n",
    "-  ¿Por qué elegiste ese algoritmo en particular? \n",
    "Lo utilice para despues poder hacer modelos de ensamble y ver si se podría mejorar la performance.  En general los modelos CART no tienen el mismo nivel de precisión en la predicción comparados con otros enfoques para regresión y clasificación vistos previamente.\n",
    "-  ¿Cómo podrías mejorar la performance?¶\n",
    " Podría mejorar la perfomance haciendo un ensamble con los dos modelos anteriores"
   ]
  },
  {
   "cell_type": "code",
   "execution_count": 323,
   "id": "68e592d7",
   "metadata": {},
   "outputs": [],
   "source": [
    "from scipy.stats import mode"
   ]
  },
  {
   "cell_type": "code",
   "execution_count": 324,
   "id": "5a67374a",
   "metadata": {},
   "outputs": [],
   "source": [
    "def predict_ensamble(X, model_1, model_2, model_3):\n",
    "    y_pred_1 = lr.predict(X)\n",
    "    y_pred_2 = gnb.predict(X)\n",
    "    y_pred_3 = tr.predict(X)\n",
    "    result_mode = mode([y_test_pred, Y_pred_GNB, y_pred_test_tree]).mode\n",
    "    result = np.transpose(result_mode)    \n",
    "    return result"
   ]
  },
  {
   "cell_type": "code",
   "execution_count": 325,
   "id": "c887bbd6",
   "metadata": {},
   "outputs": [
    {
     "name": "stdout",
     "output_type": "stream",
     "text": [
      "0.6347642505277973\n",
      "[[3040 2635]\n",
      " [3593 7784]]\n"
     ]
    }
   ],
   "source": [
    "predict_cat_ensemble = predict_ensamble(X_test_std, fit1, fit2, fit3)\n",
    "accuracy_ensemble = accuracy_score(y_test, predict_cat_ensemble)\n",
    "print(accuracy_ensemble)\n",
    "predict_cat_ensemble.shape\n",
    "conf_mat_ensemble = confusion_matrix(y_test, predict_cat_ensemble)\n",
    "print(conf_mat_ensemble)"
   ]
  },
  {
   "cell_type": "code",
   "execution_count": null,
   "id": "b36f7683",
   "metadata": {},
   "outputs": [],
   "source": []
  },
  {
   "cell_type": "code",
   "execution_count": 310,
   "id": "9c2ee848",
   "metadata": {},
   "outputs": [],
   "source": [
    "def predict_ensamble(X, model_1, model_3):\n",
    "    y_pred_1 = lr.predict(X)\n",
    "    y_pred_3 = tr.predict(X)\n",
    "    result_mode = mode([y_test_pred, y_pred_test_tree]).mode\n",
    "    result = np.transpose(result_mode)    \n",
    "    return result"
   ]
  },
  {
   "cell_type": "code",
   "execution_count": 311,
   "id": "a37e3eef",
   "metadata": {},
   "outputs": [
    {
     "name": "stdout",
     "output_type": "stream",
     "text": [
      "0.6297208538587848\n",
      "[[3098 2577]\n",
      " [3737 7640]]\n"
     ]
    }
   ],
   "source": [
    "predict_cat_ensemble = predict_ensamble(X_test_std, fit1, fit3)\n",
    "accuracy_ensemble = accuracy_score(y_test, predict_cat_ensemble)\n",
    "print(accuracy_ensemble)\n",
    "predict_cat_ensemble.shape\n",
    "conf_mat_ensemble = confusion_matrix(y_test, predict_cat_ensemble)\n",
    "print(conf_mat_ensemble)"
   ]
  },
  {
   "cell_type": "markdown",
   "id": "64ddda10",
   "metadata": {},
   "source": [
    "Realizar ensamble no mejora la perfomance del modelo. El mejor modelo para este caso sería la regresión logistica con un 0,69 de accuracy. Gridsearch podría ayudar a mejorar estos valores. También probar ensamble con KNN "
   ]
  },
  {
   "cell_type": "code",
   "execution_count": null,
   "id": "3590ef4e",
   "metadata": {},
   "outputs": [],
   "source": []
  }
 ],
 "metadata": {
  "kernelspec": {
   "display_name": "Python 3",
   "language": "python",
   "name": "python3"
  },
  "language_info": {
   "codemirror_mode": {
    "name": "ipython",
    "version": 3
   },
   "file_extension": ".py",
   "mimetype": "text/x-python",
   "name": "python",
   "nbconvert_exporter": "python",
   "pygments_lexer": "ipython3",
   "version": "3.8.10"
  }
 },
 "nbformat": 4,
 "nbformat_minor": 5
}
