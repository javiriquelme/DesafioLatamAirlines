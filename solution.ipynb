{
 "cells": [
  {
   "cell_type": "code",
   "execution_count": 656,
   "id": "25f3c487",
   "metadata": {},
   "outputs": [],
   "source": [
    "import pandas as pd\n",
    "import numpy as np\n",
    "from datetime import datetime, date, time\n",
    "import seaborn as sns"
   ]
  },
  {
   "cell_type": "code",
   "execution_count": 657,
   "id": "19ea19c2",
   "metadata": {},
   "outputs": [
    {
     "name": "stderr",
     "output_type": "stream",
     "text": [
      "C:\\Users\\Javiera\\anaconda3\\envs\\dhdsblend2021\\lib\\site-packages\\IPython\\core\\interactiveshell.py:3165: DtypeWarning: Columns (1,6) have mixed types.Specify dtype option on import or set low_memory=False.\n",
      "  has_raised = await self.run_ast_nodes(code_ast.body, cell_name,\n"
     ]
    }
   ],
   "source": [
    "data_location= \"dataset_SCL.csv\"\n",
    "data= pd.read_csv(data_location,  sep=\",\")"
   ]
  },
  {
   "cell_type": "code",
   "execution_count": 658,
   "id": "db92cffd",
   "metadata": {},
   "outputs": [
    {
     "data": {
      "text/html": [
       "<div>\n",
       "<style scoped>\n",
       "    .dataframe tbody tr th:only-of-type {\n",
       "        vertical-align: middle;\n",
       "    }\n",
       "\n",
       "    .dataframe tbody tr th {\n",
       "        vertical-align: top;\n",
       "    }\n",
       "\n",
       "    .dataframe thead th {\n",
       "        text-align: right;\n",
       "    }\n",
       "</style>\n",
       "<table border=\"1\" class=\"dataframe\">\n",
       "  <thead>\n",
       "    <tr style=\"text-align: right;\">\n",
       "      <th></th>\n",
       "      <th>Fecha-I</th>\n",
       "      <th>Vlo-I</th>\n",
       "      <th>Ori-I</th>\n",
       "      <th>Des-I</th>\n",
       "      <th>Emp-I</th>\n",
       "      <th>Fecha-O</th>\n",
       "      <th>Vlo-O</th>\n",
       "      <th>Ori-O</th>\n",
       "      <th>Des-O</th>\n",
       "      <th>Emp-O</th>\n",
       "      <th>DIA</th>\n",
       "      <th>MES</th>\n",
       "      <th>AÑO</th>\n",
       "      <th>DIANOM</th>\n",
       "      <th>TIPOVUELO</th>\n",
       "      <th>OPERA</th>\n",
       "      <th>SIGLAORI</th>\n",
       "      <th>SIGLADES</th>\n",
       "    </tr>\n",
       "  </thead>\n",
       "  <tbody>\n",
       "    <tr>\n",
       "      <th>10965</th>\n",
       "      <td>2017-02-13 08:30:00</td>\n",
       "      <td>750</td>\n",
       "      <td>SCEL</td>\n",
       "      <td>SBGR</td>\n",
       "      <td>LAN</td>\n",
       "      <td>2017-02-13 08:27:00</td>\n",
       "      <td>750</td>\n",
       "      <td>SCEL</td>\n",
       "      <td>SBGR</td>\n",
       "      <td>LAN</td>\n",
       "      <td>13</td>\n",
       "      <td>2</td>\n",
       "      <td>2017</td>\n",
       "      <td>Lunes</td>\n",
       "      <td>I</td>\n",
       "      <td>Grupo LATAM</td>\n",
       "      <td>Santiago</td>\n",
       "      <td>Sao Paulo</td>\n",
       "    </tr>\n",
       "    <tr>\n",
       "      <th>1384</th>\n",
       "      <td>2017-01-02 19:20:00</td>\n",
       "      <td>25</td>\n",
       "      <td>SCEL</td>\n",
       "      <td>SCTE</td>\n",
       "      <td>SKU</td>\n",
       "      <td>2017-01-02 19:17:00</td>\n",
       "      <td>25</td>\n",
       "      <td>SCEL</td>\n",
       "      <td>SCTE</td>\n",
       "      <td>SKU</td>\n",
       "      <td>2</td>\n",
       "      <td>1</td>\n",
       "      <td>2017</td>\n",
       "      <td>Lunes</td>\n",
       "      <td>N</td>\n",
       "      <td>Sky Airline</td>\n",
       "      <td>Santiago</td>\n",
       "      <td>Puerto Montt</td>\n",
       "    </tr>\n",
       "    <tr>\n",
       "      <th>26550</th>\n",
       "      <td>2017-05-27 21:25:00</td>\n",
       "      <td>502</td>\n",
       "      <td>SCEL</td>\n",
       "      <td>KMIA</td>\n",
       "      <td>LAN</td>\n",
       "      <td>2017-05-27 21:27:00</td>\n",
       "      <td>502</td>\n",
       "      <td>SCEL</td>\n",
       "      <td>KMIA</td>\n",
       "      <td>LAN</td>\n",
       "      <td>27</td>\n",
       "      <td>5</td>\n",
       "      <td>2017</td>\n",
       "      <td>Sabado</td>\n",
       "      <td>I</td>\n",
       "      <td>Grupo LATAM</td>\n",
       "      <td>Santiago</td>\n",
       "      <td>Miami</td>\n",
       "    </tr>\n",
       "    <tr>\n",
       "      <th>39724</th>\n",
       "      <td>2017-08-23 13:00:00</td>\n",
       "      <td>13</td>\n",
       "      <td>SCEL</td>\n",
       "      <td>SCTE</td>\n",
       "      <td>SKU</td>\n",
       "      <td>2017-08-23 13:05:00</td>\n",
       "      <td>13</td>\n",
       "      <td>SCEL</td>\n",
       "      <td>SCTE</td>\n",
       "      <td>SKU</td>\n",
       "      <td>23</td>\n",
       "      <td>8</td>\n",
       "      <td>2017</td>\n",
       "      <td>Miercoles</td>\n",
       "      <td>N</td>\n",
       "      <td>Sky Airline</td>\n",
       "      <td>Santiago</td>\n",
       "      <td>Puerto Montt</td>\n",
       "    </tr>\n",
       "    <tr>\n",
       "      <th>32397</th>\n",
       "      <td>2017-07-07 20:00:00</td>\n",
       "      <td>912</td>\n",
       "      <td>SCEL</td>\n",
       "      <td>KMIA</td>\n",
       "      <td>AAL</td>\n",
       "      <td>2017-07-07 20:04:00</td>\n",
       "      <td>912</td>\n",
       "      <td>SCEL</td>\n",
       "      <td>KMIA</td>\n",
       "      <td>AAL</td>\n",
       "      <td>7</td>\n",
       "      <td>7</td>\n",
       "      <td>2017</td>\n",
       "      <td>Viernes</td>\n",
       "      <td>I</td>\n",
       "      <td>American Airlines</td>\n",
       "      <td>Santiago</td>\n",
       "      <td>Miami</td>\n",
       "    </tr>\n",
       "  </tbody>\n",
       "</table>\n",
       "</div>"
      ],
      "text/plain": [
       "                   Fecha-I Vlo-I Ori-I Des-I Emp-I              Fecha-O Vlo-O  \\\n",
       "10965  2017-02-13 08:30:00   750  SCEL  SBGR   LAN  2017-02-13 08:27:00   750   \n",
       "1384   2017-01-02 19:20:00    25  SCEL  SCTE   SKU  2017-01-02 19:17:00    25   \n",
       "26550  2017-05-27 21:25:00   502  SCEL  KMIA   LAN  2017-05-27 21:27:00   502   \n",
       "39724  2017-08-23 13:00:00    13  SCEL  SCTE   SKU  2017-08-23 13:05:00    13   \n",
       "32397  2017-07-07 20:00:00   912  SCEL  KMIA   AAL  2017-07-07 20:04:00   912   \n",
       "\n",
       "      Ori-O Des-O Emp-O  DIA  MES   AÑO     DIANOM TIPOVUELO  \\\n",
       "10965  SCEL  SBGR   LAN   13    2  2017      Lunes         I   \n",
       "1384   SCEL  SCTE   SKU    2    1  2017      Lunes         N   \n",
       "26550  SCEL  KMIA   LAN   27    5  2017     Sabado         I   \n",
       "39724  SCEL  SCTE   SKU   23    8  2017  Miercoles         N   \n",
       "32397  SCEL  KMIA   AAL    7    7  2017    Viernes         I   \n",
       "\n",
       "                   OPERA  SIGLAORI      SIGLADES  \n",
       "10965        Grupo LATAM  Santiago     Sao Paulo  \n",
       "1384         Sky Airline  Santiago  Puerto Montt  \n",
       "26550        Grupo LATAM  Santiago         Miami  \n",
       "39724        Sky Airline  Santiago  Puerto Montt  \n",
       "32397  American Airlines  Santiago         Miami  "
      ]
     },
     "execution_count": 658,
     "metadata": {},
     "output_type": "execute_result"
    }
   ],
   "source": [
    "data.sample(5)"
   ]
  },
  {
   "cell_type": "markdown",
   "id": "b2b3bd81",
   "metadata": {},
   "source": [
    "## Siglas\n",
    "Fecha-I : Fecha y hora programada del vuelo.  \n",
    "Vlo-I : Número de vuelo programado.  \n",
    "Ori-I : Código de ciudad de origen programado.  \n",
    "Des-I : Código de ciudad de destino programado.  \n",
    "Emp-I : Código aerolínea de vuelo programado.  \n",
    "Fecha-O : Fecha y hora de operación del vuelo.  \n",
    "Vlo-O : Número de vuelo de operación del vuelo.  \n",
    "Ori-O : Código de ciudad de origen de operación  \n",
    "Des-O : Código de ciudad de destino de operación.  \n",
    "Emp-O : Código aerolínea de vuelo operado.  \n",
    "DIA : Día del mes de operación del vuelo.  \n",
    "MES : Número de mes de operación del vuelo.  \n",
    "AÑO : Año de operación del vuelo.  \n",
    "DIANOM : Día de la semana de operación del vuelo.  \n",
    "TIPOVUELO : Tipo de vuelo, I =Internacional, N =Nacional.  \n",
    "OPERA : Nombre de aerolínea que opera.  \n",
    "SIGLAORI : Nombre ciudad origen.  \n",
    "SIGLADES : Nombre ciudad destino  "
   ]
  },
  {
   "cell_type": "code",
   "execution_count": 659,
   "id": "69b7c358",
   "metadata": {},
   "outputs": [
    {
     "data": {
      "text/plain": [
       "(68206, 18)"
      ]
     },
     "execution_count": 659,
     "metadata": {},
     "output_type": "execute_result"
    }
   ],
   "source": [
    "data.shape"
   ]
  },
  {
   "cell_type": "code",
   "execution_count": 660,
   "id": "e2de157f",
   "metadata": {},
   "outputs": [
    {
     "data": {
      "text/plain": [
       "Fecha-I      0\n",
       "Vlo-I        0\n",
       "Ori-I        0\n",
       "Des-I        0\n",
       "Emp-I        0\n",
       "Fecha-O      0\n",
       "Vlo-O        1\n",
       "Ori-O        0\n",
       "Des-O        0\n",
       "Emp-O        0\n",
       "DIA          0\n",
       "MES          0\n",
       "AÑO          0\n",
       "DIANOM       0\n",
       "TIPOVUELO    0\n",
       "OPERA        0\n",
       "SIGLAORI     0\n",
       "SIGLADES     0\n",
       "dtype: int64"
      ]
     },
     "execution_count": 660,
     "metadata": {},
     "output_type": "execute_result"
    }
   ],
   "source": [
    "data.isnull().sum()"
   ]
  },
  {
   "cell_type": "code",
   "execution_count": 661,
   "id": "583e24a9",
   "metadata": {},
   "outputs": [
    {
     "data": {
      "text/plain": [
       "Fecha-I      object\n",
       "Vlo-I        object\n",
       "Ori-I        object\n",
       "Des-I        object\n",
       "Emp-I        object\n",
       "Fecha-O      object\n",
       "Vlo-O        object\n",
       "Ori-O        object\n",
       "Des-O        object\n",
       "Emp-O        object\n",
       "DIA           int64\n",
       "MES           int64\n",
       "AÑO           int64\n",
       "DIANOM       object\n",
       "TIPOVUELO    object\n",
       "OPERA        object\n",
       "SIGLAORI     object\n",
       "SIGLADES     object\n",
       "dtype: object"
      ]
     },
     "execution_count": 661,
     "metadata": {},
     "output_type": "execute_result"
    }
   ],
   "source": [
    "data.dtypes"
   ]
  },
  {
   "cell_type": "code",
   "execution_count": 662,
   "id": "37f7e978",
   "metadata": {},
   "outputs": [
    {
     "data": {
      "text/html": [
       "<div>\n",
       "<style scoped>\n",
       "    .dataframe tbody tr th:only-of-type {\n",
       "        vertical-align: middle;\n",
       "    }\n",
       "\n",
       "    .dataframe tbody tr th {\n",
       "        vertical-align: top;\n",
       "    }\n",
       "\n",
       "    .dataframe thead th {\n",
       "        text-align: right;\n",
       "    }\n",
       "</style>\n",
       "<table border=\"1\" class=\"dataframe\">\n",
       "  <thead>\n",
       "    <tr style=\"text-align: right;\">\n",
       "      <th></th>\n",
       "      <th>DIA</th>\n",
       "      <th>MES</th>\n",
       "      <th>AÑO</th>\n",
       "    </tr>\n",
       "  </thead>\n",
       "  <tbody>\n",
       "    <tr>\n",
       "      <th>count</th>\n",
       "      <td>68206.000000</td>\n",
       "      <td>68206.000000</td>\n",
       "      <td>68206.000000</td>\n",
       "    </tr>\n",
       "    <tr>\n",
       "      <th>mean</th>\n",
       "      <td>15.714790</td>\n",
       "      <td>6.622585</td>\n",
       "      <td>2017.000029</td>\n",
       "    </tr>\n",
       "    <tr>\n",
       "      <th>std</th>\n",
       "      <td>8.782886</td>\n",
       "      <td>3.523321</td>\n",
       "      <td>0.005415</td>\n",
       "    </tr>\n",
       "    <tr>\n",
       "      <th>min</th>\n",
       "      <td>1.000000</td>\n",
       "      <td>1.000000</td>\n",
       "      <td>2017.000000</td>\n",
       "    </tr>\n",
       "    <tr>\n",
       "      <th>25%</th>\n",
       "      <td>8.000000</td>\n",
       "      <td>3.000000</td>\n",
       "      <td>2017.000000</td>\n",
       "    </tr>\n",
       "    <tr>\n",
       "      <th>50%</th>\n",
       "      <td>16.000000</td>\n",
       "      <td>7.000000</td>\n",
       "      <td>2017.000000</td>\n",
       "    </tr>\n",
       "    <tr>\n",
       "      <th>75%</th>\n",
       "      <td>23.000000</td>\n",
       "      <td>10.000000</td>\n",
       "      <td>2017.000000</td>\n",
       "    </tr>\n",
       "    <tr>\n",
       "      <th>max</th>\n",
       "      <td>31.000000</td>\n",
       "      <td>12.000000</td>\n",
       "      <td>2018.000000</td>\n",
       "    </tr>\n",
       "  </tbody>\n",
       "</table>\n",
       "</div>"
      ],
      "text/plain": [
       "                DIA           MES           AÑO\n",
       "count  68206.000000  68206.000000  68206.000000\n",
       "mean      15.714790      6.622585   2017.000029\n",
       "std        8.782886      3.523321      0.005415\n",
       "min        1.000000      1.000000   2017.000000\n",
       "25%        8.000000      3.000000   2017.000000\n",
       "50%       16.000000      7.000000   2017.000000\n",
       "75%       23.000000     10.000000   2017.000000\n",
       "max       31.000000     12.000000   2018.000000"
      ]
     },
     "execution_count": 662,
     "metadata": {},
     "output_type": "execute_result"
    }
   ],
   "source": [
    "data.describe()"
   ]
  },
  {
   "cell_type": "code",
   "execution_count": null,
   "id": "1202c802",
   "metadata": {},
   "outputs": [],
   "source": []
  },
  {
   "cell_type": "code",
   "execution_count": null,
   "id": "2e03ab91",
   "metadata": {},
   "outputs": [],
   "source": []
  },
  {
   "cell_type": "code",
   "execution_count": null,
   "id": "f604e2f6",
   "metadata": {},
   "outputs": [],
   "source": []
  },
  {
   "cell_type": "code",
   "execution_count": 663,
   "id": "15b51f22",
   "metadata": {},
   "outputs": [
    {
     "data": {
      "text/plain": [
       "True    68206\n",
       "dtype: int64"
      ]
     },
     "execution_count": 663,
     "metadata": {},
     "output_type": "execute_result"
    }
   ],
   "source": [
    "(data[\"Ori-I\"] == data[\"Ori-O\"]).value_counts()"
   ]
  },
  {
   "cell_type": "code",
   "execution_count": 664,
   "id": "dafe6a57",
   "metadata": {},
   "outputs": [],
   "source": [
    "# Siempre salen de la ciudad de origen programada, por tanto eliminaremos ori-o, ya que no aporta valor en la información\n"
   ]
  },
  {
   "cell_type": "code",
   "execution_count": 665,
   "id": "9100dc7c",
   "metadata": {},
   "outputs": [
    {
     "data": {
      "text/plain": [
       "True     0.972876\n",
       "False    0.027124\n",
       "dtype: float64"
      ]
     },
     "execution_count": 665,
     "metadata": {},
     "output_type": "execute_result"
    }
   ],
   "source": [
    "(data['Vlo-I'] == data['Vlo-O']).value_counts()/data.shape[0]"
   ]
  },
  {
   "cell_type": "code",
   "execution_count": 666,
   "id": "3f6b3172",
   "metadata": {},
   "outputs": [],
   "source": [
    "# Se observa que el numero de vuelo es distinto un 2% de las veces.\n",
    "#El numero de vuelo en si no aporta información, pero si las veces que este es distinto puede afectar en que un vuelo\n",
    "#salga tarde, por eso voy a crear una nueva columna que indique 1 si el N° de vuelo es distinto del inicial y 0 si es el mismo\n",
    "# luego de lo anterior dropeare las columnas Vlo-I y Vlo-o"
   ]
  },
  {
   "cell_type": "code",
   "execution_count": 667,
   "id": "9242f1e5",
   "metadata": {},
   "outputs": [],
   "source": [
    "data[\"Cambio_Nvuelo\"]= np.where(data['Vlo-I']==data['Vlo-O'],0,1)"
   ]
  },
  {
   "cell_type": "code",
   "execution_count": 668,
   "id": "ddc72c68",
   "metadata": {},
   "outputs": [
    {
     "data": {
      "text/plain": [
       "0    0.972876\n",
       "1    0.027124\n",
       "Name: Cambio_Nvuelo, dtype: float64"
      ]
     },
     "execution_count": 668,
     "metadata": {},
     "output_type": "execute_result"
    }
   ],
   "source": [
    "data['Cambio_Nvuelo'].value_counts()/data.shape[0]"
   ]
  },
  {
   "cell_type": "code",
   "execution_count": 669,
   "id": "88c0937e",
   "metadata": {},
   "outputs": [
    {
     "data": {
      "text/plain": [
       "True     0.999589\n",
       "False    0.000411\n",
       "dtype: float64"
      ]
     },
     "execution_count": 669,
     "metadata": {},
     "output_type": "execute_result"
    }
   ],
   "source": [
    "(data['Des-I'] == data['Des-O']).value_counts()/data.shape[0]"
   ]
  },
  {
   "cell_type": "code",
   "execution_count": 670,
   "id": "e0705a7e",
   "metadata": {},
   "outputs": [],
   "source": [
    "#Es muy poco probable que un vuelo cambie el destino inicial. Aun así al igual que en al anterior nos interesa saber si el cambio de\n",
    "#destino afecta en el retraso del vuelo, por lo que creare una variable que indique:\n",
    "#1: si cambia el destino 0: si no cambia\n",
    "#Segun lo anterior las columnas Des-I y Des-O ya no aportan inf. asique las eliminaré"
   ]
  },
  {
   "cell_type": "code",
   "execution_count": 671,
   "id": "7e4299d4",
   "metadata": {},
   "outputs": [],
   "source": [
    "data['Cambio_destino']=np.where(data['Des-I']== data['Des-O'],0,1)"
   ]
  },
  {
   "cell_type": "code",
   "execution_count": 672,
   "id": "01db1d39",
   "metadata": {},
   "outputs": [
    {
     "data": {
      "text/plain": [
       "0    0.999589\n",
       "1    0.000411\n",
       "Name: Cambio_destino, dtype: float64"
      ]
     },
     "execution_count": 672,
     "metadata": {},
     "output_type": "execute_result"
    }
   ],
   "source": [
    "data['Cambio_destino'].value_counts()/data.shape[0]"
   ]
  },
  {
   "cell_type": "code",
   "execution_count": 673,
   "id": "ab0adaa6",
   "metadata": {},
   "outputs": [
    {
     "data": {
      "text/plain": [
       "True     0.726285\n",
       "False    0.273715\n",
       "dtype: float64"
      ]
     },
     "execution_count": 673,
     "metadata": {},
     "output_type": "execute_result"
    }
   ],
   "source": [
    "(data['Emp-I']== data['Emp-O']).value_counts()/data.shape[0]"
   ]
  },
  {
   "cell_type": "code",
   "execution_count": 674,
   "id": "85705305",
   "metadata": {},
   "outputs": [],
   "source": [
    "# Se observa que el codigo de la aerolinea del vuelo programada con el operado cambian. Esto puede verse relacionado con\n",
    "#los atrasos. por tanto creo una nueva columna que indica 1: si el codigo de la aerolinea cambio  0: si no\n",
    "#Luego dropeo Emp-I Y Emp-O"
   ]
  },
  {
   "cell_type": "code",
   "execution_count": 675,
   "id": "913a14a5",
   "metadata": {},
   "outputs": [],
   "source": [
    "data['Cambio_aerolinea']=np.where(data['Emp-I']== data['Emp-O'],0,1)"
   ]
  },
  {
   "cell_type": "code",
   "execution_count": 676,
   "id": "d83260bd",
   "metadata": {},
   "outputs": [
    {
     "data": {
      "text/plain": [
       "0    0.726285\n",
       "1    0.273715\n",
       "Name: Cambio_aerolinea, dtype: float64"
      ]
     },
     "execution_count": 676,
     "metadata": {},
     "output_type": "execute_result"
    }
   ],
   "source": [
    "data['Cambio_aerolinea'].value_counts()/data.shape[0]"
   ]
  },
  {
   "cell_type": "code",
   "execution_count": 677,
   "id": "f1fe781e",
   "metadata": {},
   "outputs": [],
   "source": [
    "#Tambien dropeo la SIGLAORI ya que esa información la tengo \"2 veces\" de distinta forma\n",
    "# solo sirve como GLOSARIO"
   ]
  },
  {
   "cell_type": "code",
   "execution_count": 678,
   "id": "33889109",
   "metadata": {},
   "outputs": [],
   "source": [
    "data=data.drop(columns= [ \"Ori-O\", 'Vlo-I','Vlo-O','Des-I','Des-O','Emp-I', 'Emp-O', 'SIGLAORI'])"
   ]
  },
  {
   "cell_type": "code",
   "execution_count": 679,
   "id": "948d84ad",
   "metadata": {},
   "outputs": [],
   "source": [
    "#Ahora calculamos la variables target que es si el vuelo se atrasa o no"
   ]
  },
  {
   "cell_type": "code",
   "execution_count": 680,
   "id": "3331d2d4",
   "metadata": {},
   "outputs": [],
   "source": [
    "data[\"Fecha-I\"]=pd.to_datetime(data[\"Fecha-I\"])\n",
    "data[\"Fecha-O\"]= pd.to_datetime(data[\"Fecha-O\"])"
   ]
  },
  {
   "cell_type": "code",
   "execution_count": 681,
   "id": "d0dbeb6c",
   "metadata": {},
   "outputs": [],
   "source": [
    "data[\"Retraso\"]= data[\"Fecha-O\"]- data[\"Fecha-I\"]"
   ]
  },
  {
   "cell_type": "code",
   "execution_count": 682,
   "id": "8400b18a",
   "metadata": {},
   "outputs": [
    {
     "data": {
      "text/plain": [
       "57718     0 days 00:12:00\n",
       "49266   -1 days +23:56:00\n",
       "49182     0 days 00:15:00\n",
       "16064     0 days 00:04:00\n",
       "4984      0 days 00:11:00\n",
       "32855     0 days 00:17:00\n",
       "67179     0 days 00:06:00\n",
       "22435     0 days 00:22:00\n",
       "49820   -1 days +23:46:00\n",
       "14729     0 days 00:10:00\n",
       "Name: Retraso, dtype: timedelta64[ns]"
      ]
     },
     "execution_count": 682,
     "metadata": {},
     "output_type": "execute_result"
    }
   ],
   "source": [
    "data.Retraso.sample(10)"
   ]
  },
  {
   "cell_type": "markdown",
   "id": "9ddb563e",
   "metadata": {},
   "source": [
    "## 2. Genera las columnas adicionales y luego expórtelas en un archivo synthetic_features.csv "
   ]
  },
  {
   "cell_type": "markdown",
   "id": "3fec9602",
   "metadata": {},
   "source": [
    "1) dif_min"
   ]
  },
  {
   "cell_type": "code",
   "execution_count": 683,
   "id": "e64c52b3",
   "metadata": {},
   "outputs": [
    {
     "data": {
      "text/plain": [
       " 0.0      4789\n",
       "-1.0      4026\n",
       " 1.0      3921\n",
       " 2.0      3622\n",
       "-2.0      3582\n",
       "          ... \n",
       " 124.0       5\n",
       " 149.0       4\n",
       " 136.0       4\n",
       " 146.0       4\n",
       " 139.0       3\n",
       "Name: dif_min, Length: 176, dtype: int64"
      ]
     },
     "execution_count": 683,
     "metadata": {},
     "output_type": "execute_result"
    }
   ],
   "source": [
    "data[\"dif_min\"]= (data[\"Fecha-O\"]- data[\"Fecha-I\"]).dt.total_seconds()/60\n",
    "data[\"dif_min\"].value_counts()"
   ]
  },
  {
   "cell_type": "code",
   "execution_count": 684,
   "id": "df334fbf",
   "metadata": {},
   "outputs": [
    {
     "data": {
      "text/plain": [
       "<seaborn.axisgrid.FacetGrid at 0x274864a9b80>"
      ]
     },
     "execution_count": 684,
     "metadata": {},
     "output_type": "execute_result"
    },
    {
     "data": {
      "image/png": "[encoded data removed]",
      "text/plain": [
       "<Figure size 360x360 with 1 Axes>"
      ]
     },
     "metadata": {
      "needs_background": "light"
     },
     "output_type": "display_data"
    }
   ],
   "source": [
    "sns.displot(data= data, x= data[\"dif_min\"])\n"
   ]
  },
  {
   "cell_type": "code",
   "execution_count": 685,
   "id": "dbef20b1",
   "metadata": {},
   "outputs": [],
   "source": [
    "#Creamos la variable dummie para luego poder calcular la probabilidad de que se atrase o no"
   ]
  },
  {
   "cell_type": "code",
   "execution_count": 686,
   "id": "4f8fd6d1",
   "metadata": {},
   "outputs": [],
   "source": [
    "data[\"Retraso_dummie\"]= np.where(data[\"dif_min\"]>0,1,0)"
   ]
  },
  {
   "cell_type": "code",
   "execution_count": 687,
   "id": "9ff793a4",
   "metadata": {},
   "outputs": [
    {
     "data": {
      "text/html": [
       "<div>\n",
       "<style scoped>\n",
       "    .dataframe tbody tr th:only-of-type {\n",
       "        vertical-align: middle;\n",
       "    }\n",
       "\n",
       "    .dataframe tbody tr th {\n",
       "        vertical-align: top;\n",
       "    }\n",
       "\n",
       "    .dataframe thead th {\n",
       "        text-align: right;\n",
       "    }\n",
       "</style>\n",
       "<table border=\"1\" class=\"dataframe\">\n",
       "  <thead>\n",
       "    <tr style=\"text-align: right;\">\n",
       "      <th></th>\n",
       "      <th>Fecha-I</th>\n",
       "      <th>Ori-I</th>\n",
       "      <th>Fecha-O</th>\n",
       "      <th>DIA</th>\n",
       "      <th>MES</th>\n",
       "      <th>AÑO</th>\n",
       "      <th>DIANOM</th>\n",
       "      <th>TIPOVUELO</th>\n",
       "      <th>OPERA</th>\n",
       "      <th>SIGLADES</th>\n",
       "      <th>Cambio_Nvuelo</th>\n",
       "      <th>Cambio_destino</th>\n",
       "      <th>Cambio_aerolinea</th>\n",
       "      <th>Retraso</th>\n",
       "      <th>dif_min</th>\n",
       "      <th>Retraso_dummie</th>\n",
       "    </tr>\n",
       "  </thead>\n",
       "  <tbody>\n",
       "    <tr>\n",
       "      <th>61876</th>\n",
       "      <td>2017-12-14 21:45:00</td>\n",
       "      <td>SCEL</td>\n",
       "      <td>2017-12-14 21:40:00</td>\n",
       "      <td>14</td>\n",
       "      <td>12</td>\n",
       "      <td>2017</td>\n",
       "      <td>Jueves</td>\n",
       "      <td>I</td>\n",
       "      <td>American Airlines</td>\n",
       "      <td>Miami</td>\n",
       "      <td>0</td>\n",
       "      <td>0</td>\n",
       "      <td>0</td>\n",
       "      <td>-1 days +23:55:00</td>\n",
       "      <td>-5.0</td>\n",
       "      <td>0</td>\n",
       "    </tr>\n",
       "    <tr>\n",
       "      <th>55306</th>\n",
       "      <td>2017-10-03 20:05:00</td>\n",
       "      <td>SCEL</td>\n",
       "      <td>2017-10-03 20:06:00</td>\n",
       "      <td>3</td>\n",
       "      <td>10</td>\n",
       "      <td>2017</td>\n",
       "      <td>Martes</td>\n",
       "      <td>I</td>\n",
       "      <td>Grupo LATAM</td>\n",
       "      <td>Buenos Aires</td>\n",
       "      <td>0</td>\n",
       "      <td>0</td>\n",
       "      <td>1</td>\n",
       "      <td>0 days 00:01:00</td>\n",
       "      <td>1.0</td>\n",
       "      <td>1</td>\n",
       "    </tr>\n",
       "    <tr>\n",
       "      <th>54008</th>\n",
       "      <td>2017-10-02 15:40:00</td>\n",
       "      <td>SCEL</td>\n",
       "      <td>2017-10-02 15:51:00</td>\n",
       "      <td>2</td>\n",
       "      <td>10</td>\n",
       "      <td>2017</td>\n",
       "      <td>Lunes</td>\n",
       "      <td>I</td>\n",
       "      <td>Grupo LATAM</td>\n",
       "      <td>Montevideo</td>\n",
       "      <td>0</td>\n",
       "      <td>0</td>\n",
       "      <td>0</td>\n",
       "      <td>0 days 00:11:00</td>\n",
       "      <td>11.0</td>\n",
       "      <td>1</td>\n",
       "    </tr>\n",
       "    <tr>\n",
       "      <th>61910</th>\n",
       "      <td>2017-12-18 22:30:00</td>\n",
       "      <td>SCEL</td>\n",
       "      <td>2017-12-18 22:25:00</td>\n",
       "      <td>18</td>\n",
       "      <td>12</td>\n",
       "      <td>2017</td>\n",
       "      <td>Lunes</td>\n",
       "      <td>I</td>\n",
       "      <td>American Airlines</td>\n",
       "      <td>Dallas</td>\n",
       "      <td>0</td>\n",
       "      <td>0</td>\n",
       "      <td>0</td>\n",
       "      <td>-1 days +23:55:00</td>\n",
       "      <td>-5.0</td>\n",
       "      <td>0</td>\n",
       "    </tr>\n",
       "    <tr>\n",
       "      <th>21224</th>\n",
       "      <td>2017-04-17 04:35:00</td>\n",
       "      <td>SCEL</td>\n",
       "      <td>2017-04-17 04:37:00</td>\n",
       "      <td>17</td>\n",
       "      <td>4</td>\n",
       "      <td>2017</td>\n",
       "      <td>Lunes</td>\n",
       "      <td>I</td>\n",
       "      <td>Grupo LATAM</td>\n",
       "      <td>Buenos Aires</td>\n",
       "      <td>0</td>\n",
       "      <td>0</td>\n",
       "      <td>0</td>\n",
       "      <td>0 days 00:02:00</td>\n",
       "      <td>2.0</td>\n",
       "      <td>1</td>\n",
       "    </tr>\n",
       "  </tbody>\n",
       "</table>\n",
       "</div>"
      ],
      "text/plain": [
       "                  Fecha-I Ori-I             Fecha-O  DIA  MES   AÑO  DIANOM  \\\n",
       "61876 2017-12-14 21:45:00  SCEL 2017-12-14 21:40:00   14   12  2017  Jueves   \n",
       "55306 2017-10-03 20:05:00  SCEL 2017-10-03 20:06:00    3   10  2017  Martes   \n",
       "54008 2017-10-02 15:40:00  SCEL 2017-10-02 15:51:00    2   10  2017   Lunes   \n",
       "61910 2017-12-18 22:30:00  SCEL 2017-12-18 22:25:00   18   12  2017   Lunes   \n",
       "21224 2017-04-17 04:35:00  SCEL 2017-04-17 04:37:00   17    4  2017   Lunes   \n",
       "\n",
       "      TIPOVUELO              OPERA      SIGLADES  Cambio_Nvuelo  \\\n",
       "61876         I  American Airlines         Miami              0   \n",
       "55306         I        Grupo LATAM  Buenos Aires              0   \n",
       "54008         I        Grupo LATAM    Montevideo              0   \n",
       "61910         I  American Airlines        Dallas              0   \n",
       "21224         I        Grupo LATAM  Buenos Aires              0   \n",
       "\n",
       "       Cambio_destino  Cambio_aerolinea           Retraso  dif_min  \\\n",
       "61876               0                 0 -1 days +23:55:00     -5.0   \n",
       "55306               0                 1   0 days 00:01:00      1.0   \n",
       "54008               0                 0   0 days 00:11:00     11.0   \n",
       "61910               0                 0 -1 days +23:55:00     -5.0   \n",
       "21224               0                 0   0 days 00:02:00      2.0   \n",
       "\n",
       "       Retraso_dummie  \n",
       "61876               0  \n",
       "55306               1  \n",
       "54008               1  \n",
       "61910               0  \n",
       "21224               1  "
      ]
     },
     "execution_count": 687,
     "metadata": {},
     "output_type": "execute_result"
    }
   ],
   "source": [
    "data.sample(5)"
   ]
  },
  {
   "cell_type": "code",
   "execution_count": 688,
   "id": "4e1a2a6d",
   "metadata": {},
   "outputs": [
    {
     "data": {
      "text/plain": [
       "1    45507\n",
       "0    22699\n",
       "Name: Retraso_dummie, dtype: int64"
      ]
     },
     "execution_count": 688,
     "metadata": {},
     "output_type": "execute_result"
    }
   ],
   "source": [
    "data[\"Retraso_dummie\"].value_counts()"
   ]
  },
  {
   "cell_type": "code",
   "execution_count": 689,
   "id": "1abded8e",
   "metadata": {},
   "outputs": [],
   "source": [
    "data[\"Adelanto_dummie\"]= np.where(data[\"dif_min\"]<0,1,0)"
   ]
  },
  {
   "cell_type": "code",
   "execution_count": null,
   "id": "026fc2da",
   "metadata": {},
   "outputs": [],
   "source": []
  },
  {
   "cell_type": "markdown",
   "id": "48ed02cd",
   "metadata": {},
   "source": [
    "2) atraso_15"
   ]
  },
  {
   "cell_type": "code",
   "execution_count": 690,
   "id": "1633416a",
   "metadata": {},
   "outputs": [],
   "source": [
    "data[\"atraso_15\"]= np.where(data[\"dif_min\"]>15,1,0)"
   ]
  },
  {
   "cell_type": "code",
   "execution_count": 691,
   "id": "a743e1ec",
   "metadata": {},
   "outputs": [
    {
     "data": {
      "text/plain": [
       "0    55592\n",
       "1    12614\n",
       "Name: atraso_15, dtype: int64"
      ]
     },
     "execution_count": 691,
     "metadata": {},
     "output_type": "execute_result"
    }
   ],
   "source": [
    "data[\"atraso_15\"].value_counts()"
   ]
  },
  {
   "cell_type": "code",
   "execution_count": 692,
   "id": "fe40689a",
   "metadata": {},
   "outputs": [
    {
     "data": {
      "text/plain": [
       "2017    68204\n",
       "2018        2\n",
       "Name: AÑO, dtype: int64"
      ]
     },
     "execution_count": 692,
     "metadata": {},
     "output_type": "execute_result"
    }
   ],
   "source": [
    "data[\"AÑO\"].value_counts()"
   ]
  },
  {
   "cell_type": "markdown",
   "id": "ba5b8764",
   "metadata": {},
   "source": [
    "3) temporada_alta"
   ]
  },
  {
   "cell_type": "code",
   "execution_count": 693,
   "id": "90ba4b6c",
   "metadata": {},
   "outputs": [
    {
     "data": {
      "text/plain": [
       "0    45995\n",
       "1    22211\n",
       "Name: temporada_alta, dtype: int64"
      ]
     },
     "execution_count": 693,
     "metadata": {},
     "output_type": "execute_result"
    }
   ],
   "source": [
    "#Agrego temporada alta segun lo solicitado\n",
    "#temporada_alta : 1 si Fecha-I está entre 15-Dic y 3-Mar, o 15-Jul y 31-Jul, o 11-Sep y 30-Sep, 0 si no\n",
    "fecha1= pd.to_datetime('20161215', format='%Y%m%d')\n",
    "fecha2= pd.to_datetime('20170303',format='%Y%m%d')\n",
    "fecha3= pd.to_datetime('20170715',format='%Y%m%d')\n",
    "fecha4= pd.to_datetime('20170731',format='%Y%m%d')\n",
    "fecha5= pd.to_datetime('20170911',format='%Y%m%d')\n",
    "fecha6= pd.to_datetime('20170930',format='%Y%m%d')\n",
    "fecha7= pd.to_datetime('20171215', format='%Y%m%d')\n",
    "fecha8= pd.to_datetime('20180303',format='%Y%m%d')\n",
    "\n",
    "\n",
    "data[\"temporada_alta\"] = np.where((data['Fecha-I']>= fecha1) & (data['Fecha-I']<= fecha2) |\n",
    "                                  (data['Fecha-I']>= fecha3) & (data['Fecha-I']<= fecha4) |\n",
    "                                  (data['Fecha-I']>= fecha5) & (data['Fecha-I']<= fecha6) |\n",
    "                                  (data['Fecha-I']>= fecha7) & (data['Fecha-I']<= fecha8)\n",
    "                                  ,1,0)\n",
    "\n",
    "data[\"temporada_alta\"].value_counts()"
   ]
  },
  {
   "cell_type": "code",
   "execution_count": 694,
   "id": "cf1d9573",
   "metadata": {},
   "outputs": [
    {
     "data": {
      "text/plain": [
       "Fecha-I             2017-12-15 06:10:00\n",
       "Ori-I                              SCEL\n",
       "Fecha-O             2017-12-15 06:22:00\n",
       "DIA                                  15\n",
       "MES                                  12\n",
       "AÑO                                2017\n",
       "DIANOM                          Viernes\n",
       "TIPOVUELO                             N\n",
       "OPERA                       Sky Airline\n",
       "SIGLADES                   Punta Arenas\n",
       "Cambio_Nvuelo                         0\n",
       "Cambio_destino                        0\n",
       "Cambio_aerolinea                      0\n",
       "Retraso                 0 days 00:12:00\n",
       "dif_min                              12\n",
       "Retraso_dummie                        1\n",
       "Adelanto_dummie                       0\n",
       "atraso_15                             0\n",
       "temporada_alta                        1\n",
       "Name: 63119, dtype: object"
      ]
     },
     "execution_count": 694,
     "metadata": {},
     "output_type": "execute_result"
    }
   ],
   "source": [
    "data.iloc[63119]"
   ]
  },
  {
   "cell_type": "code",
   "execution_count": 695,
   "id": "bc568c56",
   "metadata": {},
   "outputs": [
    {
     "data": {
      "text/plain": [
       "Timestamp('2017-01-04 13:50:00')"
      ]
     },
     "execution_count": 695,
     "metadata": {},
     "output_type": "execute_result"
    }
   ],
   "source": [
    "data['Fecha-I'].iloc[896]"
   ]
  },
  {
   "cell_type": "code",
   "execution_count": 696,
   "id": "a9f4bd1e",
   "metadata": {},
   "outputs": [],
   "source": [
    "data['Hora'] = data['Fecha-I'].dt.hour"
   ]
  },
  {
   "cell_type": "code",
   "execution_count": 697,
   "id": "48606bf6",
   "metadata": {},
   "outputs": [
    {
     "data": {
      "text/plain": [
       "61503    16\n",
       "62772    13\n",
       "56499     6\n",
       "Name: Hora, dtype: int64"
      ]
     },
     "execution_count": 697,
     "metadata": {},
     "output_type": "execute_result"
    }
   ],
   "source": [
    "data['Hora'].sample(3)"
   ]
  },
  {
   "cell_type": "code",
   "execution_count": 649,
   "id": "42841ec7",
   "metadata": {},
   "outputs": [
    {
     "data": {
      "text/plain": [
       "Index(['Ori-I', 'DIA', 'MES', 'AÑO', 'DIANOM', 'TIPOVUELO', 'OPERA',\n",
       "       'SIGLADES', 'Cambio_Nvuelo', 'Cambio_destino', 'Cambio_aerolinea',\n",
       "       'dif_min', 'Retraso_dummie', 'atraso_15', 'temporada_alta', 'Hora'],\n",
       "      dtype='object')"
      ]
     },
     "execution_count": 649,
     "metadata": {},
     "output_type": "execute_result"
    }
   ],
   "source": [
    "data.columns"
   ]
  },
  {
   "cell_type": "code",
   "execution_count": 698,
   "id": "f67cb091",
   "metadata": {},
   "outputs": [],
   "source": [
    "def period(row):\n",
    "    if row['Hora'] >= 5 and row['Hora']< 12:\n",
    "        return 'mañana'\n",
    "    elif row['Hora'] >= 12 and row['Hora']<19:\n",
    "        return 'tarde'\n",
    "    else:\n",
    "        return 'noche'"
   ]
  },
  {
   "cell_type": "code",
   "execution_count": 699,
   "id": "b75477f1",
   "metadata": {},
   "outputs": [],
   "source": [
    "data['periodo_dia']= data.apply(lambda r: period(r), axis=1)"
   ]
  },
  {
   "cell_type": "code",
   "execution_count": 700,
   "id": "917d5bc1",
   "metadata": {},
   "outputs": [
    {
     "data": {
      "text/plain": [
       "tarde     25506\n",
       "mañana    25352\n",
       "noche     17348\n",
       "Name: periodo_dia, dtype: int64"
      ]
     },
     "execution_count": 700,
     "metadata": {},
     "output_type": "execute_result"
    }
   ],
   "source": [
    "data.periodo_dia.value_counts()"
   ]
  },
  {
   "cell_type": "code",
   "execution_count": null,
   "id": "fd2631d9",
   "metadata": {},
   "outputs": [],
   "source": []
  },
  {
   "cell_type": "code",
   "execution_count": 701,
   "id": "8422b32e",
   "metadata": {},
   "outputs": [
    {
     "data": {
      "text/html": [
       "<div>\n",
       "<style scoped>\n",
       "    .dataframe tbody tr th:only-of-type {\n",
       "        vertical-align: middle;\n",
       "    }\n",
       "\n",
       "    .dataframe tbody tr th {\n",
       "        vertical-align: top;\n",
       "    }\n",
       "\n",
       "    .dataframe thead th {\n",
       "        text-align: right;\n",
       "    }\n",
       "</style>\n",
       "<table border=\"1\" class=\"dataframe\">\n",
       "  <thead>\n",
       "    <tr style=\"text-align: right;\">\n",
       "      <th></th>\n",
       "      <th>Ori-I</th>\n",
       "      <th>DIA</th>\n",
       "      <th>MES</th>\n",
       "      <th>AÑO</th>\n",
       "      <th>DIANOM</th>\n",
       "      <th>TIPOVUELO</th>\n",
       "      <th>OPERA</th>\n",
       "      <th>SIGLADES</th>\n",
       "      <th>Cambio_Nvuelo</th>\n",
       "      <th>Cambio_destino</th>\n",
       "      <th>Cambio_aerolinea</th>\n",
       "      <th>dif_min</th>\n",
       "      <th>Retraso_dummie</th>\n",
       "      <th>Adelanto_dummie</th>\n",
       "      <th>atraso_15</th>\n",
       "      <th>temporada_alta</th>\n",
       "      <th>Hora</th>\n",
       "      <th>periodo_dia</th>\n",
       "    </tr>\n",
       "  </thead>\n",
       "  <tbody>\n",
       "    <tr>\n",
       "      <th>53311</th>\n",
       "      <td>SCEL</td>\n",
       "      <td>6</td>\n",
       "      <td>10</td>\n",
       "      <td>2017</td>\n",
       "      <td>Viernes</td>\n",
       "      <td>N</td>\n",
       "      <td>Grupo LATAM</td>\n",
       "      <td>Punta Arenas</td>\n",
       "      <td>0</td>\n",
       "      <td>0</td>\n",
       "      <td>1</td>\n",
       "      <td>-1.0</td>\n",
       "      <td>0</td>\n",
       "      <td>1</td>\n",
       "      <td>0</td>\n",
       "      <td>0</td>\n",
       "      <td>5</td>\n",
       "      <td>mañana</td>\n",
       "    </tr>\n",
       "    <tr>\n",
       "      <th>29415</th>\n",
       "      <td>SCEL</td>\n",
       "      <td>5</td>\n",
       "      <td>6</td>\n",
       "      <td>2017</td>\n",
       "      <td>Lunes</td>\n",
       "      <td>I</td>\n",
       "      <td>Sky Airline</td>\n",
       "      <td>Lima</td>\n",
       "      <td>0</td>\n",
       "      <td>0</td>\n",
       "      <td>0</td>\n",
       "      <td>0.0</td>\n",
       "      <td>0</td>\n",
       "      <td>0</td>\n",
       "      <td>0</td>\n",
       "      <td>0</td>\n",
       "      <td>14</td>\n",
       "      <td>tarde</td>\n",
       "    </tr>\n",
       "    <tr>\n",
       "      <th>25720</th>\n",
       "      <td>SCEL</td>\n",
       "      <td>20</td>\n",
       "      <td>5</td>\n",
       "      <td>2017</td>\n",
       "      <td>Sabado</td>\n",
       "      <td>N</td>\n",
       "      <td>Grupo LATAM</td>\n",
       "      <td>Copiapo</td>\n",
       "      <td>0</td>\n",
       "      <td>0</td>\n",
       "      <td>1</td>\n",
       "      <td>3.0</td>\n",
       "      <td>1</td>\n",
       "      <td>0</td>\n",
       "      <td>0</td>\n",
       "      <td>0</td>\n",
       "      <td>16</td>\n",
       "      <td>tarde</td>\n",
       "    </tr>\n",
       "    <tr>\n",
       "      <th>26742</th>\n",
       "      <td>SCEL</td>\n",
       "      <td>16</td>\n",
       "      <td>5</td>\n",
       "      <td>2017</td>\n",
       "      <td>Martes</td>\n",
       "      <td>I</td>\n",
       "      <td>Grupo LATAM</td>\n",
       "      <td>Ciudad de Mexico</td>\n",
       "      <td>0</td>\n",
       "      <td>0</td>\n",
       "      <td>0</td>\n",
       "      <td>15.0</td>\n",
       "      <td>1</td>\n",
       "      <td>0</td>\n",
       "      <td>0</td>\n",
       "      <td>0</td>\n",
       "      <td>22</td>\n",
       "      <td>noche</td>\n",
       "    </tr>\n",
       "    <tr>\n",
       "      <th>67286</th>\n",
       "      <td>SCEL</td>\n",
       "      <td>2</td>\n",
       "      <td>12</td>\n",
       "      <td>2017</td>\n",
       "      <td>Sabado</td>\n",
       "      <td>N</td>\n",
       "      <td>Grupo LATAM</td>\n",
       "      <td>Iquique</td>\n",
       "      <td>0</td>\n",
       "      <td>0</td>\n",
       "      <td>0</td>\n",
       "      <td>11.0</td>\n",
       "      <td>1</td>\n",
       "      <td>0</td>\n",
       "      <td>0</td>\n",
       "      <td>0</td>\n",
       "      <td>13</td>\n",
       "      <td>tarde</td>\n",
       "    </tr>\n",
       "  </tbody>\n",
       "</table>\n",
       "</div>"
      ],
      "text/plain": [
       "      Ori-I  DIA  MES   AÑO   DIANOM TIPOVUELO        OPERA          SIGLADES  \\\n",
       "53311  SCEL    6   10  2017  Viernes         N  Grupo LATAM      Punta Arenas   \n",
       "29415  SCEL    5    6  2017    Lunes         I  Sky Airline              Lima   \n",
       "25720  SCEL   20    5  2017   Sabado         N  Grupo LATAM           Copiapo   \n",
       "26742  SCEL   16    5  2017   Martes         I  Grupo LATAM  Ciudad de Mexico   \n",
       "67286  SCEL    2   12  2017   Sabado         N  Grupo LATAM           Iquique   \n",
       "\n",
       "       Cambio_Nvuelo  Cambio_destino  Cambio_aerolinea  dif_min  \\\n",
       "53311              0               0                 1     -1.0   \n",
       "29415              0               0                 0      0.0   \n",
       "25720              0               0                 1      3.0   \n",
       "26742              0               0                 0     15.0   \n",
       "67286              0               0                 0     11.0   \n",
       "\n",
       "       Retraso_dummie  Adelanto_dummie  atraso_15  temporada_alta  Hora  \\\n",
       "53311               0                1          0               0     5   \n",
       "29415               0                0          0               0    14   \n",
       "25720               1                0          0               0    16   \n",
       "26742               1                0          0               0    22   \n",
       "67286               1                0          0               0    13   \n",
       "\n",
       "      periodo_dia  \n",
       "53311      mañana  \n",
       "29415       tarde  \n",
       "25720       tarde  \n",
       "26742       noche  \n",
       "67286       tarde  "
      ]
     },
     "execution_count": 701,
     "metadata": {},
     "output_type": "execute_result"
    }
   ],
   "source": [
    "#Ahora que ya termine de utilizar la variable Fecha-I Dropeare Fecha-I Y Fecha-O y Retraso\n",
    "data= data.drop(columns=['Fecha-I', 'Fecha-O', 'Retraso'])\n",
    "data.sample(5)"
   ]
  },
  {
   "cell_type": "code",
   "execution_count": 702,
   "id": "76d84137",
   "metadata": {},
   "outputs": [],
   "source": [
    "#Distribución de los datos"
   ]
  },
  {
   "cell_type": "code",
   "execution_count": 703,
   "id": "bb7d9815",
   "metadata": {},
   "outputs": [
    {
     "data": {
      "text/plain": [
       "SCEL    68206\n",
       "Name: Ori-I, dtype: int64"
      ]
     },
     "execution_count": 703,
     "metadata": {},
     "output_type": "execute_result"
    }
   ],
   "source": [
    "data['Ori-I'].value_counts()"
   ]
  },
  {
   "cell_type": "markdown",
   "id": "482d13b1",
   "metadata": {},
   "source": [
    "## 1)¿Cómo se distribuyen los datos? ¿Qué te llama la atención o cuál es tu conclusión sobre esto?\n"
   ]
  },
  {
   "cell_type": "code",
   "execution_count": 704,
   "id": "095f51c7",
   "metadata": {},
   "outputs": [],
   "source": [
    "import matplotlib.pyplot as plt\n",
    "import seaborn as sns\n",
    "%matplotlib inline"
   ]
  },
  {
   "cell_type": "code",
   "execution_count": 706,
   "id": "5fa849e6",
   "metadata": {},
   "outputs": [
    {
     "data": {
      "image/png": "[encoded data removed]",
      "text/plain": [
       "<Figure size 1080x1080 with 18 Axes>"
      ]
     },
     "metadata": {
      "needs_background": "light"
     },
     "output_type": "display_data"
    }
   ],
   "source": [
    "fig, axes = plt.subplots(nrows=9, ncols=2, figsize=(15, 15))\n",
    "axes = axes.flat\n",
    "data_plot = data.drop(columns=['Ori-I'])\n",
    "columnas= data_plot.columns\n",
    "\n",
    "for i, colum in enumerate(columnas):\n",
    "    sns.histplot(\n",
    "        data    = data_plot,\n",
    "        x       = colum,\n",
    "        stat    = \"count\",\n",
    "        kde     = True,\n",
    "        color   = (list(plt.rcParams['axes.prop_cycle'])*2)[i][\"color\"],\n",
    "        line_kws= {'linewidth': 2},\n",
    "        alpha   = 0.3,\n",
    "        ax      = axes[i]\n",
    "    )\n",
    "    axes[i].set_title(colum, fontsize = 6, fontweight = \"bold\")\n",
    "    axes[i].tick_params(labelsize = 6)\n",
    "    axes[i].set_xlabel(\"\")\n",
    "    \n",
    "    \n",
    "fig.tight_layout()\n",
    "plt.subplots_adjust(top = 0.9)\n",
    "fig.suptitle('Fig 1: Distribución de las variables del dataset', fontsize = 10, fontweight = \"bold\");"
   ]
  },
  {
   "cell_type": "code",
   "execution_count": 707,
   "id": "89d4d328",
   "metadata": {},
   "outputs": [
    {
     "data": {
      "text/plain": [
       "0    0.737413\n",
       "1    0.262587\n",
       "Name: Adelanto_dummie, dtype: float64"
      ]
     },
     "execution_count": 707,
     "metadata": {},
     "output_type": "execute_result"
    }
   ],
   "source": [
    "data.Adelanto_dummie.value_counts()/data.shape[0]"
   ]
  },
  {
   "cell_type": "code",
   "execution_count": 708,
   "id": "7ce8cfd9",
   "metadata": {},
   "outputs": [
    {
     "data": {
      "text/plain": [
       "7     0.071577\n",
       "8     0.063968\n",
       "6     0.061563\n",
       "18    0.061021\n",
       "15    0.056945\n",
       "14    0.056241\n",
       "13    0.053881\n",
       "11    0.053778\n",
       "19    0.052649\n",
       "17    0.050802\n",
       "12    0.050025\n",
       "9     0.047855\n",
       "16    0.045040\n",
       "20    0.043031\n",
       "5     0.036859\n",
       "10    0.036097\n",
       "22    0.034015\n",
       "21    0.033897\n",
       "1     0.023062\n",
       "23    0.019016\n",
       "4     0.016010\n",
       "0     0.015864\n",
       "2     0.009398\n",
       "3     0.007404\n",
       "Name: Hora, dtype: float64"
      ]
     },
     "execution_count": 708,
     "metadata": {},
     "output_type": "execute_result"
    }
   ],
   "source": [
    "data.Hora.value_counts()/data.shape[0]"
   ]
  },
  {
   "cell_type": "code",
   "execution_count": 712,
   "id": "8f3f5cc4",
   "metadata": {},
   "outputs": [
    {
     "data": {
      "text/plain": [
       "0    0.737413\n",
       "1    0.262587\n",
       "Name: Adelanto_dummie, dtype: float64"
      ]
     },
     "execution_count": 712,
     "metadata": {},
     "output_type": "execute_result"
    }
   ],
   "source": [
    "(data.Adelanto_dummie.value_counts()/data.shape[0]).sort_values(ascending=False)"
   ]
  },
  {
   "cell_type": "code",
   "execution_count": 713,
   "id": "06341ddc",
   "metadata": {},
   "outputs": [
    {
     "data": {
      "text/plain": [
       "tarde     0.373955\n",
       "mañana    0.371698\n",
       "noche     0.254347\n",
       "Name: periodo_dia, dtype: float64"
      ]
     },
     "execution_count": 713,
     "metadata": {},
     "output_type": "execute_result"
    }
   ],
   "source": [
    "(data.periodo_dia.value_counts()/data.shape[0]).sort_values(ascending=False)"
   ]
  },
  {
   "cell_type": "code",
   "execution_count": 714,
   "id": "7feaa8b1",
   "metadata": {},
   "outputs": [
    {
     "data": {
      "text/plain": [
       "0    0.81506\n",
       "1    0.18494\n",
       "Name: atraso_15, dtype: float64"
      ]
     },
     "execution_count": 714,
     "metadata": {},
     "output_type": "execute_result"
    }
   ],
   "source": [
    "(data.atraso_15.value_counts()/data.shape[0]).sort_values(ascending=False)"
   ]
  },
  {
   "cell_type": "code",
   "execution_count": 715,
   "id": "8364366e",
   "metadata": {},
   "outputs": [
    {
     "data": {
      "text/plain": [
       "0    0.674354\n",
       "1    0.325646\n",
       "Name: temporada_alta, dtype: float64"
      ]
     },
     "execution_count": 715,
     "metadata": {},
     "output_type": "execute_result"
    }
   ],
   "source": [
    "(data.temporada_alta.value_counts()/data.shape[0]).sort_values(ascending=False)"
   ]
  },
  {
   "cell_type": "code",
   "execution_count": 716,
   "id": "4040a3fa",
   "metadata": {},
   "outputs": [
    {
     "data": {
      "text/plain": [
       "1    0.667199\n",
       "0    0.332801\n",
       "Name: Retraso_dummie, dtype: float64"
      ]
     },
     "execution_count": 716,
     "metadata": {},
     "output_type": "execute_result"
    }
   ],
   "source": [
    "(data.Retraso_dummie.value_counts()/data.shape[0]).sort_values(ascending=False)"
   ]
  },
  {
   "cell_type": "code",
   "execution_count": 717,
   "id": "b8a4c62d",
   "metadata": {},
   "outputs": [
    {
     "data": {
      "text/plain": [
       "N    0.541976\n",
       "I    0.458024\n",
       "Name: TIPOVUELO, dtype: float64"
      ]
     },
     "execution_count": 717,
     "metadata": {},
     "output_type": "execute_result"
    }
   ],
   "source": [
    "(data.TIPOVUELO.value_counts()/data.shape[0]).sort_values(ascending=False)"
   ]
  },
  {
   "cell_type": "code",
   "execution_count": 718,
   "id": "858392ba",
   "metadata": {},
   "outputs": [
    {
     "data": {
      "text/plain": [
       "Viernes      0.150896\n",
       "Jueves       0.150295\n",
       "Lunes        0.148535\n",
       "Domingo      0.143624\n",
       "Miercoles    0.142539\n",
       "Martes       0.141659\n",
       "Sabado       0.122453\n",
       "Name: DIANOM, dtype: float64"
      ]
     },
     "execution_count": 718,
     "metadata": {},
     "output_type": "execute_result"
    }
   ],
   "source": [
    "(data.DIANOM.value_counts()/data.shape[0]).sort_values(ascending=False)"
   ]
  },
  {
   "cell_type": "code",
   "execution_count": 719,
   "id": "e85af30e",
   "metadata": {},
   "outputs": [
    {
     "data": {
      "text/plain": [
       "20    0.033575\n",
       "27    0.033516\n",
       "12    0.033487\n",
       "10    0.033472\n",
       "6     0.033355\n",
       "13    0.033311\n",
       "22    0.033311\n",
       "3     0.033296\n",
       "16    0.033252\n",
       "26    0.033238\n",
       "21    0.033238\n",
       "7     0.033194\n",
       "23    0.033135\n",
       "5     0.032856\n",
       "15    0.032827\n",
       "19    0.032812\n",
       "11    0.032798\n",
       "24    0.032724\n",
       "28    0.032724\n",
       "17    0.032666\n",
       "9     0.032651\n",
       "2     0.032592\n",
       "14    0.032563\n",
       "4     0.032475\n",
       "8     0.032446\n",
       "1     0.032373\n",
       "25    0.031947\n",
       "18    0.031669\n",
       "29    0.029968\n",
       "30    0.029616\n",
       "31    0.018913\n",
       "Name: DIA, dtype: float64"
      ]
     },
     "execution_count": 719,
     "metadata": {},
     "output_type": "execute_result"
    }
   ],
   "source": [
    "(data.DIA.value_counts()/data.shape[0]).sort_values(ascending=False)"
   ]
  },
  {
   "cell_type": "code",
   "execution_count": 720,
   "id": "15ba6869",
   "metadata": {},
   "outputs": [
    {
     "data": {
      "text/plain": [
       "Grupo LATAM                 0.599537\n",
       "Sky Airline                 0.209630\n",
       "Aerolineas Argentinas       0.028575\n",
       "Copa Air                    0.027124\n",
       "Latin American Wings        0.024543\n",
       "Avianca                     0.016890\n",
       "JetSmart SPA                0.016054\n",
       "Gol Trans                   0.011817\n",
       "American Airlines           0.011099\n",
       "Air Canada                  0.008284\n",
       "Iberia                      0.005307\n",
       "Air France                  0.005249\n",
       "Delta Air                   0.005249\n",
       "Aeromexico                  0.005146\n",
       "United Airlines             0.004912\n",
       "Oceanair Linhas Aereas      0.004091\n",
       "Alitalia                    0.003797\n",
       "K.L.M.                      0.003680\n",
       "British Airways             0.003006\n",
       "Qantas Airways              0.002859\n",
       "Lacsa                       0.001349\n",
       "Austral                     0.001085\n",
       "Plus Ultra Lineas Aereas    0.000718\n",
       "Name: OPERA, dtype: float64"
      ]
     },
     "execution_count": 720,
     "metadata": {},
     "output_type": "execute_result"
    }
   ],
   "source": [
    "(data.OPERA.value_counts()/data.shape[0]).sort_values(ascending=False)"
   ]
  },
  {
   "cell_type": "code",
   "execution_count": 721,
   "id": "77273fdf",
   "metadata": {},
   "outputs": [
    {
     "data": {
      "text/plain": [
       "Buenos Aires        0.092880\n",
       "Antofagasta         0.084831\n",
       "Lima                0.077266\n",
       "Calama              0.075448\n",
       "Puerto Montt        0.063880\n",
       "                      ...   \n",
       "Cataratas Iguacu    0.000029\n",
       "Washington          0.000015\n",
       "Puerto Stanley      0.000015\n",
       "Pisco, Peru         0.000015\n",
       "Cochabamba          0.000015\n",
       "Name: SIGLADES, Length: 62, dtype: float64"
      ]
     },
     "execution_count": 721,
     "metadata": {},
     "output_type": "execute_result"
    }
   ],
   "source": [
    "(data.SIGLADES.value_counts()/data.shape[0]).sort_values(ascending=False)"
   ]
  },
  {
   "cell_type": "code",
   "execution_count": 722,
   "id": "c9f8f68b",
   "metadata": {},
   "outputs": [
    {
     "data": {
      "text/plain": [
       "Index(['Ori-I', 'DIA', 'MES', 'AÑO', 'DIANOM', 'TIPOVUELO', 'OPERA',\n",
       "       'SIGLADES', 'Cambio_Nvuelo', 'Cambio_destino', 'Cambio_aerolinea',\n",
       "       'dif_min', 'Retraso_dummie', 'Adelanto_dummie', 'atraso_15',\n",
       "       'temporada_alta', 'Hora', 'periodo_dia'],\n",
       "      dtype='object')"
      ]
     },
     "execution_count": 722,
     "metadata": {},
     "output_type": "execute_result"
    }
   ],
   "source": [
    "data.columns"
   ]
  },
  {
   "cell_type": "markdown",
   "id": "07a0c0b1",
   "metadata": {},
   "source": [
    " ¿Qué te llama la atención o cuál es tu conclusión sobre esto?  \n",
    "    \n",
    "-La distribucion de datos por mes, dia de semana, y dia del mes es similar, es decir la cantidad de vuelos no depende del mes dia o dia de semana.  \n",
    "-Latam es la aerolinea con mayor participacion con aproximadamente 60% seguido por Skyairline con aproximadamente 21%-  \n",
    "-Aproximadamente un 66%  del total de los vuelos sale atrasado de estos solo aproximadamente un 18% se retrasa mas de 15 minutos.  \n",
    "-Aproximadamente un 26% de los vuelos sale adelantado y aproximadamente 66% sale atrasado, por tanto existe aproximadamente \n",
    "solo un 8% de vuelos que salen a tiempo.\n",
    "\n"
   ]
  },
  {
   "cell_type": "code",
   "execution_count": 723,
   "id": "3884633a",
   "metadata": {},
   "outputs": [],
   "source": [
    "data=data.drop(columns=['Adelanto_dummie'])"
   ]
  },
  {
   "cell_type": "code",
   "execution_count": null,
   "id": "97773a0c",
   "metadata": {},
   "outputs": [],
   "source": []
  },
  {
   "cell_type": "markdown",
   "id": "90ba143b",
   "metadata": {},
   "source": [
    "## 3. ¿Cómo se compone la tasa de atraso por destino, aerolínea, mes del año, día de la semana, temporada, tipo de vuelo?¿Qué variables esperarías que más influyeran en predecir atrasos?\n"
   ]
  },
  {
   "cell_type": "markdown",
   "id": "0902ef5a",
   "metadata": {},
   "source": [
    "Tasa de atraso por destino"
   ]
  },
  {
   "cell_type": "code",
   "execution_count": 724,
   "id": "4e16a435",
   "metadata": {},
   "outputs": [
    {
     "data": {
      "text/plain": [
       "SIGLADES\n",
       "Puerto Stanley    1.000000\n",
       "Pisco, Peru       1.000000\n",
       "Ushuia            1.000000\n",
       "Quito             1.000000\n",
       "Cochabamba        1.000000\n",
       "Bariloche         1.000000\n",
       "Melbourne         0.923077\n",
       "Rosario           0.919118\n",
       "Sydney            0.912371\n",
       "Santa Cruz        0.900000\n",
       "Name: Retraso_dummie, dtype: float64"
      ]
     },
     "execution_count": 724,
     "metadata": {},
     "output_type": "execute_result"
    }
   ],
   "source": [
    "data.groupby('SIGLADES').Retraso_dummie.mean().sort_values(ascending=False).head(10)"
   ]
  },
  {
   "cell_type": "code",
   "execution_count": 725,
   "id": "9714e5a9",
   "metadata": {},
   "outputs": [
    {
     "data": {
      "text/plain": [
       "SIGLADES\n",
       "Cataratas Iguacu    0.500000\n",
       "Punta del Este      0.500000\n",
       "Ciudad de Mexico    0.451429\n",
       "Paris               0.423398\n",
       "Ciudad de Panama    0.370270\n",
       "Curitiba, Bra.      0.333333\n",
       "Atlanta             0.307263\n",
       "Dallas              0.235294\n",
       "Houston             0.203593\n",
       "Washington          0.000000\n",
       "Name: Retraso_dummie, dtype: float64"
      ]
     },
     "execution_count": 725,
     "metadata": {},
     "output_type": "execute_result"
    }
   ],
   "source": [
    "data.groupby('SIGLADES').Retraso_dummie.mean().sort_values(ascending=False).tail(10)"
   ]
  },
  {
   "cell_type": "code",
   "execution_count": 726,
   "id": "006cd85e",
   "metadata": {},
   "outputs": [
    {
     "data": {
      "text/plain": [
       "0.6895093386176337"
      ]
     },
     "execution_count": 726,
     "metadata": {},
     "output_type": "execute_result"
    }
   ],
   "source": [
    "(data.groupby('SIGLADES').Retraso_dummie.mean()).mean()"
   ]
  },
  {
   "cell_type": "code",
   "execution_count": 727,
   "id": "19cc7e5b",
   "metadata": {},
   "outputs": [
    {
     "data": {
      "text/plain": [
       "0.2058355004236715"
      ]
     },
     "execution_count": 727,
     "metadata": {},
     "output_type": "execute_result"
    }
   ],
   "source": [
    "(data.groupby('SIGLADES').Retraso_dummie.mean()).std()"
   ]
  },
  {
   "cell_type": "markdown",
   "id": "0fa10d69",
   "metadata": {},
   "source": [
    "-En el atraso segun destino podemos ver que los destinos que siempre se atrasan con una tasa de atraso mayor a 95% son Puerto Stanley \"Pisco, Peru\", Ushuia, Quito, Cochabamba, Bariloche.  \n",
    "-El único destino que no se a atrasado nunca es Washington.  \n",
    "-La tasa promedio de atraso por destino para el dataset es de 68,9%.   \n",
    "-Es decir si clasificamos por destino el 69% de los destinos sale atrasado"
   ]
  },
  {
   "cell_type": "markdown",
   "id": "60c83f52",
   "metadata": {},
   "source": [
    "Tasa de atraso segun aerolínea"
   ]
  },
  {
   "cell_type": "code",
   "execution_count": 728,
   "id": "2b090ee2",
   "metadata": {},
   "outputs": [
    {
     "data": {
      "text/plain": [
       "OPERA\n",
       "Qantas Airways              0.912821\n",
       "Plus Ultra Lineas Aereas    0.857143\n",
       "Air Canada                  0.775221\n",
       "Latin American Wings        0.749104\n",
       "Grupo LATAM                 0.736868\n",
       "Austral                     0.648649\n",
       "British Airways             0.604878\n",
       "Aerolineas Argentinas       0.591072\n",
       "JetSmart SPA                0.590868\n",
       "Sky Airline                 0.589593\n",
       "Name: Retraso_dummie, dtype: float64"
      ]
     },
     "execution_count": 728,
     "metadata": {},
     "output_type": "execute_result"
    }
   ],
   "source": [
    "data.groupby('OPERA').Retraso_dummie.mean().sort_values(ascending=False).head(10)"
   ]
  },
  {
   "cell_type": "code",
   "execution_count": 729,
   "id": "3bf1415f",
   "metadata": {},
   "outputs": [
    {
     "data": {
      "text/plain": [
       "OPERA\n",
       "Avianca                   0.572917\n",
       "Oceanair Linhas Aereas    0.480287\n",
       "Lacsa                     0.434783\n",
       "Air France                0.421788\n",
       "Copa Air                  0.370270\n",
       "K.L.M.                    0.346614\n",
       "Delta Air                 0.307263\n",
       "American Airlines         0.284016\n",
       "Aeromexico                0.222222\n",
       "United Airlines           0.202985\n",
       "Name: Retraso_dummie, dtype: float64"
      ]
     },
     "execution_count": 729,
     "metadata": {},
     "output_type": "execute_result"
    }
   ],
   "source": [
    "data.groupby('OPERA').Retraso_dummie.mean().sort_values(ascending=False).tail(10)"
   ]
  },
  {
   "cell_type": "code",
   "execution_count": 730,
   "id": "2e684bf6",
   "metadata": {},
   "outputs": [
    {
     "data": {
      "text/plain": [
       "0.5413597758108079"
      ]
     },
     "execution_count": 730,
     "metadata": {},
     "output_type": "execute_result"
    }
   ],
   "source": [
    "(data.groupby('OPERA').Retraso_dummie.mean()).mean()"
   ]
  },
  {
   "cell_type": "code",
   "execution_count": 731,
   "id": "41a20543",
   "metadata": {},
   "outputs": [
    {
     "data": {
      "text/plain": [
       "0.1950538562212911"
      ]
     },
     "execution_count": 731,
     "metadata": {},
     "output_type": "execute_result"
    }
   ],
   "source": [
    "(data.groupby('OPERA').Retraso_dummie.mean()).std()"
   ]
  },
  {
   "cell_type": "markdown",
   "id": "e462a304",
   "metadata": {},
   "source": [
    "-Qantas Airways, Plus Ultra Lineas Aereas, Air Canada, Latin American Wings, Grupo LATAM. Son los grupos que poseen un atraso de mas de un 70% de sus vuelos emitidos.  \n",
    "-Aeromexico y United airlines presentan aproximadamente menos de un 25% de sus vuelos retrasados.  \n",
    "-La tasa promedio de atraso por aerolinea del data set es de aproximadamente 54%.  "
   ]
  },
  {
   "cell_type": "markdown",
   "id": "5921ee69",
   "metadata": {},
   "source": [
    "Tasa de atraso según mes"
   ]
  },
  {
   "cell_type": "code",
   "execution_count": 732,
   "id": "accfeeae",
   "metadata": {},
   "outputs": [
    {
     "data": {
      "text/plain": [
       "MES\n",
       "7     0.770027\n",
       "12    0.741032\n",
       "10    0.712865\n",
       "11    0.692434\n",
       "1     0.661755\n",
       "2     0.652401\n",
       "6     0.648464\n",
       "8     0.647110\n",
       "9     0.645455\n",
       "5     0.641221\n",
       "4     0.592430\n",
       "3     0.565669\n",
       "Name: Retraso_dummie, dtype: float64"
      ]
     },
     "execution_count": 732,
     "metadata": {},
     "output_type": "execute_result"
    }
   ],
   "source": [
    "data.groupby('MES').Retraso_dummie.mean().sort_values(ascending=False)"
   ]
  },
  {
   "cell_type": "code",
   "execution_count": 733,
   "id": "08e5f9bd",
   "metadata": {},
   "outputs": [
    {
     "data": {
      "text/plain": [
       "0.05775443670244032"
      ]
     },
     "execution_count": 733,
     "metadata": {},
     "output_type": "execute_result"
    }
   ],
   "source": [
    "(data.groupby('MES').Retraso_dummie.mean().sort_values(ascending=False)).std()"
   ]
  },
  {
   "cell_type": "code",
   "execution_count": 734,
   "id": "f9972409",
   "metadata": {},
   "outputs": [
    {
     "data": {
      "text/plain": [
       "0.6642386088647986"
      ]
     },
     "execution_count": 734,
     "metadata": {},
     "output_type": "execute_result"
    }
   ],
   "source": [
    "(data.groupby('MES').Retraso_dummie.mean().sort_values(ascending=False)).mean()"
   ]
  },
  {
   "cell_type": "markdown",
   "id": "ce7d0cc3",
   "metadata": {},
   "source": [
    "Los retrasos por mes, estos se distribuyen de manera similar con una desviación estandar de 0,05 y una tasa promedio de atraso por mes de un 66%"
   ]
  },
  {
   "cell_type": "markdown",
   "id": "c23e91e7",
   "metadata": {},
   "source": [
    "Tasa de retraso por día de semana"
   ]
  },
  {
   "cell_type": "code",
   "execution_count": 735,
   "id": "acb828e4",
   "metadata": {},
   "outputs": [
    {
     "data": {
      "text/plain": [
       "DIANOM\n",
       "Viernes      0.717159\n",
       "Jueves       0.683543\n",
       "Lunes        0.675155\n",
       "Miercoles    0.659947\n",
       "Sabado       0.645953\n",
       "Martes       0.642310\n",
       "Domingo      0.639241\n",
       "Name: Retraso_dummie, dtype: float64"
      ]
     },
     "execution_count": 735,
     "metadata": {},
     "output_type": "execute_result"
    }
   ],
   "source": [
    "data.groupby('DIANOM').Retraso_dummie.mean().sort_values(ascending=False)"
   ]
  },
  {
   "cell_type": "code",
   "execution_count": 736,
   "id": "032a8ebd",
   "metadata": {},
   "outputs": [
    {
     "data": {
      "text/plain": [
       "0.028060599907687257"
      ]
     },
     "execution_count": 736,
     "metadata": {},
     "output_type": "execute_result"
    }
   ],
   "source": [
    "data.groupby('DIANOM').Retraso_dummie.mean().sort_values(ascending=False).std()"
   ]
  },
  {
   "cell_type": "code",
   "execution_count": 737,
   "id": "0b1d3ba8",
   "metadata": {},
   "outputs": [
    {
     "data": {
      "text/plain": [
       "0.6661868080096084"
      ]
     },
     "execution_count": 737,
     "metadata": {},
     "output_type": "execute_result"
    }
   ],
   "source": [
    "data.groupby('DIANOM').Retraso_dummie.mean().sort_values(ascending=False).mean()"
   ]
  },
  {
   "cell_type": "markdown",
   "id": "6b6ea51f",
   "metadata": {},
   "source": [
    "-Los retrasos por dia de semana se distribuyen de manera similar con una desviación estandar de 0,03 y una tasa promedio de atraso por mes de un 66%"
   ]
  },
  {
   "cell_type": "markdown",
   "id": "ac53fbe8",
   "metadata": {},
   "source": [
    "Tasa de atraso temporada_alta"
   ]
  },
  {
   "cell_type": "code",
   "execution_count": 738,
   "id": "0310bf34",
   "metadata": {},
   "outputs": [
    {
     "data": {
      "text/plain": [
       "temporada_alta\n",
       "1    0.682455\n",
       "0    0.659833\n",
       "Name: Retraso_dummie, dtype: float64"
      ]
     },
     "execution_count": 738,
     "metadata": {},
     "output_type": "execute_result"
    }
   ],
   "source": [
    "data.groupby('temporada_alta').Retraso_dummie.mean().sort_values(ascending=False)"
   ]
  },
  {
   "cell_type": "code",
   "execution_count": 739,
   "id": "4d599ee9",
   "metadata": {},
   "outputs": [
    {
     "data": {
      "text/plain": [
       "0.015996204318721632"
      ]
     },
     "execution_count": 739,
     "metadata": {},
     "output_type": "execute_result"
    }
   ],
   "source": [
    "data.groupby('temporada_alta').Retraso_dummie.mean().sort_values(ascending=False).std()"
   ]
  },
  {
   "cell_type": "code",
   "execution_count": 740,
   "id": "31b5dcdc",
   "metadata": {},
   "outputs": [
    {
     "data": {
      "text/plain": [
       "0.6711436150459809"
      ]
     },
     "execution_count": 740,
     "metadata": {},
     "output_type": "execute_result"
    }
   ],
   "source": [
    "data.groupby('temporada_alta').Retraso_dummie.mean().sort_values(ascending=False).mean()"
   ]
  },
  {
   "cell_type": "markdown",
   "id": "71d145db",
   "metadata": {},
   "source": [
    "-Los retrasos por temporada se distribuyen de manera similar con una desviación estandar de 0,015 y una tasa promedio de atraso por mes de un 67%"
   ]
  },
  {
   "cell_type": "markdown",
   "id": "709040b6",
   "metadata": {},
   "source": [
    "Tasa de atraso segun tipo de vuelo"
   ]
  },
  {
   "cell_type": "code",
   "execution_count": 741,
   "id": "364eef7a",
   "metadata": {},
   "outputs": [
    {
     "data": {
      "text/plain": [
       "TIPOVUELO\n",
       "I    0.678521\n",
       "N    0.657631\n",
       "Name: Retraso_dummie, dtype: float64"
      ]
     },
     "execution_count": 741,
     "metadata": {},
     "output_type": "execute_result"
    }
   ],
   "source": [
    "data.groupby('TIPOVUELO').Retraso_dummie.mean().sort_values(ascending=False)"
   ]
  },
  {
   "cell_type": "code",
   "execution_count": 742,
   "id": "0fbaf137",
   "metadata": {},
   "outputs": [
    {
     "data": {
      "text/plain": [
       "0.014771312065009127"
      ]
     },
     "execution_count": 742,
     "metadata": {},
     "output_type": "execute_result"
    }
   ],
   "source": [
    "data.groupby('TIPOVUELO').Retraso_dummie.mean().sort_values(ascending=False).std()"
   ]
  },
  {
   "cell_type": "code",
   "execution_count": 743,
   "id": "cfa42343",
   "metadata": {},
   "outputs": [
    {
     "data": {
      "text/plain": [
       "0.6680762318323727"
      ]
     },
     "execution_count": 743,
     "metadata": {},
     "output_type": "execute_result"
    }
   ],
   "source": [
    "data.groupby('TIPOVUELO').Retraso_dummie.mean().sort_values(ascending=False).mean()"
   ]
  },
  {
   "cell_type": "markdown",
   "id": "aac475da",
   "metadata": {},
   "source": [
    "-Los retrasos según Tipo de vuelo se distribuyen de manera similar con una desviación estandar de 0,014 y una tasa promedio de atraso por mes de un 66%"
   ]
  },
  {
   "cell_type": "markdown",
   "id": "d102d40a",
   "metadata": {},
   "source": [
    "¿Qué variables esperarías que más influyeran en predecir atrasos?  \n",
    "-Al dividir por los distintos grupos, todos muestran una tasa de atraso mayor al 50%.  \n",
    "-Según la información anterior podemos ver que en general las variables se distribuyen de forma similar en atrasos,EXCEPTO por el atraso segun destino std=0.2058 y el atraso segun OPERADOR std=0.195, por tanto espero que estas variables influyan más a la hora de predecir atrasos (difieren mucho el atraso segun tipo de operador y destino).\n"
   ]
  },
  {
   "cell_type": "code",
   "execution_count": 744,
   "id": "a3039d22",
   "metadata": {},
   "outputs": [
    {
     "data": {
      "text/plain": [
       "periodo_dia\n",
       "tarde     0.692465\n",
       "mañana    0.660106\n",
       "noche     0.640420\n",
       "Name: Retraso_dummie, dtype: float64"
      ]
     },
     "execution_count": 744,
     "metadata": {},
     "output_type": "execute_result"
    }
   ],
   "source": [
    "data.groupby('periodo_dia').Retraso_dummie.mean().sort_values(ascending=False)"
   ]
  },
  {
   "cell_type": "code",
   "execution_count": 745,
   "id": "e88cba58",
   "metadata": {},
   "outputs": [
    {
     "data": {
      "text/plain": [
       "0.6643299582164574"
      ]
     },
     "execution_count": 745,
     "metadata": {},
     "output_type": "execute_result"
    }
   ],
   "source": [
    "data.groupby('periodo_dia').Retraso_dummie.mean().sort_values(ascending=False).mean()"
   ]
  },
  {
   "cell_type": "code",
   "execution_count": 746,
   "id": "28ddaf83",
   "metadata": {},
   "outputs": [
    {
     "data": {
      "text/plain": [
       "0.026278325713135365"
      ]
     },
     "execution_count": 746,
     "metadata": {},
     "output_type": "execute_result"
    }
   ],
   "source": [
    "data.groupby('periodo_dia').Retraso_dummie.mean().sort_values(ascending=False).std()"
   ]
  },
  {
   "cell_type": "markdown",
   "id": "75a4d77a",
   "metadata": {},
   "source": [
    "Los retrasos segun periodo del día se distribuyen de manera similar, con una tasa promedio de retraso de 0,66 y una desviacion estandar de 0.026"
   ]
  },
  {
   "cell_type": "code",
   "execution_count": 747,
   "id": "b77843df",
   "metadata": {},
   "outputs": [
    {
     "data": {
      "text/plain": [
       "Index(['Ori-I', 'DIA', 'MES', 'AÑO', 'DIANOM', 'TIPOVUELO', 'OPERA',\n",
       "       'SIGLADES', 'Cambio_Nvuelo', 'Cambio_destino', 'Cambio_aerolinea',\n",
       "       'dif_min', 'Retraso_dummie', 'atraso_15', 'temporada_alta', 'Hora',\n",
       "       'periodo_dia'],\n",
       "      dtype='object')"
      ]
     },
     "execution_count": 747,
     "metadata": {},
     "output_type": "execute_result"
    }
   ],
   "source": [
    "data.columns"
   ]
  },
  {
   "cell_type": "markdown",
   "id": "d75c816c",
   "metadata": {},
   "source": [
    "## 2. Genera las columnas adicionales y luego expórtelas en un archivo synthetic_features.csv "
   ]
  },
  {
   "cell_type": "code",
   "execution_count": 748,
   "id": "64972473",
   "metadata": {},
   "outputs": [],
   "source": [
    "\n",
    "columns=['atraso_15', 'temporada_alta', 'periodo_dia']\n",
    "synthetic_features= data[columns]\n",
    "synthetic_features.to_csv(\"synthetic_features.csv\", sep=\"\\t\", header=True, index = False)"
   ]
  },
  {
   "cell_type": "code",
   "execution_count": null,
   "id": "6a89fb34",
   "metadata": {},
   "outputs": [],
   "source": []
  },
  {
   "cell_type": "code",
   "execution_count": 749,
   "id": "98d5c004",
   "metadata": {},
   "outputs": [],
   "source": [
    "#Ahora voy a pasar las variables a categoricas a dummies\n",
    "# DIANOM, para tener que dia de la semana fue, Tipo de vuelo,\n",
    "#para tener separado que vuelo era, lo mismo con el día del mes, el mes y el año. (podria tener relación con los atrasos)\n",
    "# "
   ]
  },
  {
   "cell_type": "code",
   "execution_count": 750,
   "id": "b99b0a3c",
   "metadata": {},
   "outputs": [],
   "source": [
    "data_ml= pd.get_dummies(data=data, columns= ['Ori-I', 'DIANOM', 'TIPOVUELO','DIA','MES','AÑO','OPERA','SIGLADES', 'Hora', 'periodo_dia'], drop_first= True)"
   ]
  },
  {
   "cell_type": "code",
   "execution_count": 752,
   "id": "dd293e15",
   "metadata": {},
   "outputs": [
    {
     "data": {
      "text/html": [
       "<div>\n",
       "<style scoped>\n",
       "    .dataframe tbody tr th:only-of-type {\n",
       "        vertical-align: middle;\n",
       "    }\n",
       "\n",
       "    .dataframe tbody tr th {\n",
       "        vertical-align: top;\n",
       "    }\n",
       "\n",
       "    .dataframe thead th {\n",
       "        text-align: right;\n",
       "    }\n",
       "</style>\n",
       "<table border=\"1\" class=\"dataframe\">\n",
       "  <thead>\n",
       "    <tr style=\"text-align: right;\">\n",
       "      <th></th>\n",
       "      <th>Cambio_Nvuelo</th>\n",
       "      <th>Cambio_destino</th>\n",
       "      <th>Cambio_aerolinea</th>\n",
       "      <th>dif_min</th>\n",
       "      <th>Retraso_dummie</th>\n",
       "      <th>atraso_15</th>\n",
       "      <th>temporada_alta</th>\n",
       "      <th>DIANOM_Jueves</th>\n",
       "      <th>DIANOM_Lunes</th>\n",
       "      <th>DIANOM_Martes</th>\n",
       "      <th>...</th>\n",
       "      <th>Hora_16</th>\n",
       "      <th>Hora_17</th>\n",
       "      <th>Hora_18</th>\n",
       "      <th>Hora_19</th>\n",
       "      <th>Hora_20</th>\n",
       "      <th>Hora_21</th>\n",
       "      <th>Hora_22</th>\n",
       "      <th>Hora_23</th>\n",
       "      <th>periodo_dia_noche</th>\n",
       "      <th>periodo_dia_tarde</th>\n",
       "    </tr>\n",
       "  </thead>\n",
       "  <tbody>\n",
       "    <tr>\n",
       "      <th>18510</th>\n",
       "      <td>0</td>\n",
       "      <td>0</td>\n",
       "      <td>0</td>\n",
       "      <td>-5.0</td>\n",
       "      <td>0</td>\n",
       "      <td>0</td>\n",
       "      <td>0</td>\n",
       "      <td>0</td>\n",
       "      <td>0</td>\n",
       "      <td>0</td>\n",
       "      <td>...</td>\n",
       "      <td>0</td>\n",
       "      <td>0</td>\n",
       "      <td>0</td>\n",
       "      <td>0</td>\n",
       "      <td>0</td>\n",
       "      <td>0</td>\n",
       "      <td>0</td>\n",
       "      <td>0</td>\n",
       "      <td>0</td>\n",
       "      <td>1</td>\n",
       "    </tr>\n",
       "    <tr>\n",
       "      <th>8383</th>\n",
       "      <td>0</td>\n",
       "      <td>0</td>\n",
       "      <td>0</td>\n",
       "      <td>1.0</td>\n",
       "      <td>1</td>\n",
       "      <td>0</td>\n",
       "      <td>1</td>\n",
       "      <td>0</td>\n",
       "      <td>0</td>\n",
       "      <td>1</td>\n",
       "      <td>...</td>\n",
       "      <td>0</td>\n",
       "      <td>0</td>\n",
       "      <td>0</td>\n",
       "      <td>0</td>\n",
       "      <td>0</td>\n",
       "      <td>0</td>\n",
       "      <td>0</td>\n",
       "      <td>0</td>\n",
       "      <td>0</td>\n",
       "      <td>0</td>\n",
       "    </tr>\n",
       "    <tr>\n",
       "      <th>15186</th>\n",
       "      <td>0</td>\n",
       "      <td>0</td>\n",
       "      <td>1</td>\n",
       "      <td>19.0</td>\n",
       "      <td>1</td>\n",
       "      <td>1</td>\n",
       "      <td>0</td>\n",
       "      <td>0</td>\n",
       "      <td>0</td>\n",
       "      <td>1</td>\n",
       "      <td>...</td>\n",
       "      <td>0</td>\n",
       "      <td>0</td>\n",
       "      <td>0</td>\n",
       "      <td>0</td>\n",
       "      <td>0</td>\n",
       "      <td>0</td>\n",
       "      <td>0</td>\n",
       "      <td>0</td>\n",
       "      <td>0</td>\n",
       "      <td>0</td>\n",
       "    </tr>\n",
       "    <tr>\n",
       "      <th>57226</th>\n",
       "      <td>0</td>\n",
       "      <td>0</td>\n",
       "      <td>0</td>\n",
       "      <td>0.0</td>\n",
       "      <td>0</td>\n",
       "      <td>0</td>\n",
       "      <td>0</td>\n",
       "      <td>0</td>\n",
       "      <td>0</td>\n",
       "      <td>1</td>\n",
       "      <td>...</td>\n",
       "      <td>0</td>\n",
       "      <td>0</td>\n",
       "      <td>0</td>\n",
       "      <td>0</td>\n",
       "      <td>0</td>\n",
       "      <td>0</td>\n",
       "      <td>0</td>\n",
       "      <td>0</td>\n",
       "      <td>0</td>\n",
       "      <td>0</td>\n",
       "    </tr>\n",
       "    <tr>\n",
       "      <th>30447</th>\n",
       "      <td>0</td>\n",
       "      <td>0</td>\n",
       "      <td>1</td>\n",
       "      <td>15.0</td>\n",
       "      <td>1</td>\n",
       "      <td>0</td>\n",
       "      <td>0</td>\n",
       "      <td>0</td>\n",
       "      <td>0</td>\n",
       "      <td>0</td>\n",
       "      <td>...</td>\n",
       "      <td>0</td>\n",
       "      <td>0</td>\n",
       "      <td>0</td>\n",
       "      <td>1</td>\n",
       "      <td>0</td>\n",
       "      <td>0</td>\n",
       "      <td>0</td>\n",
       "      <td>0</td>\n",
       "      <td>1</td>\n",
       "      <td>0</td>\n",
       "    </tr>\n",
       "  </tbody>\n",
       "</table>\n",
       "<p>5 rows × 164 columns</p>\n",
       "</div>"
      ],
      "text/plain": [
       "       Cambio_Nvuelo  Cambio_destino  Cambio_aerolinea  dif_min  \\\n",
       "18510              0               0                 0     -5.0   \n",
       "8383               0               0                 0      1.0   \n",
       "15186              0               0                 1     19.0   \n",
       "57226              0               0                 0      0.0   \n",
       "30447              0               0                 1     15.0   \n",
       "\n",
       "       Retraso_dummie  atraso_15  temporada_alta  DIANOM_Jueves  DIANOM_Lunes  \\\n",
       "18510               0          0               0              0             0   \n",
       "8383                1          0               1              0             0   \n",
       "15186               1          1               0              0             0   \n",
       "57226               0          0               0              0             0   \n",
       "30447               1          0               0              0             0   \n",
       "\n",
       "       DIANOM_Martes  ...  Hora_16  Hora_17  Hora_18  Hora_19  Hora_20  \\\n",
       "18510              0  ...        0        0        0        0        0   \n",
       "8383               1  ...        0        0        0        0        0   \n",
       "15186              1  ...        0        0        0        0        0   \n",
       "57226              1  ...        0        0        0        0        0   \n",
       "30447              0  ...        0        0        0        1        0   \n",
       "\n",
       "       Hora_21  Hora_22  Hora_23  periodo_dia_noche  periodo_dia_tarde  \n",
       "18510        0        0        0                  0                  1  \n",
       "8383         0        0        0                  0                  0  \n",
       "15186        0        0        0                  0                  0  \n",
       "57226        0        0        0                  0                  0  \n",
       "30447        0        0        0                  1                  0  \n",
       "\n",
       "[5 rows x 164 columns]"
      ]
     },
     "execution_count": 752,
     "metadata": {},
     "output_type": "execute_result"
    }
   ],
   "source": [
    "data_ml.sample(5)"
   ]
  },
  {
   "cell_type": "code",
   "execution_count": null,
   "id": "8ddf5e0e",
   "metadata": {},
   "outputs": [],
   "source": []
  },
  {
   "cell_type": "code",
   "execution_count": 753,
   "id": "744bbaac",
   "metadata": {},
   "outputs": [],
   "source": [
    "import matplotlib.pyplot as plt\n",
    "import seaborn as sns\n",
    "%matplotlib inline"
   ]
  },
  {
   "cell_type": "markdown",
   "id": "0b245393",
   "metadata": {},
   "source": [
    "Grafico las correlaciones de las variables con el target"
   ]
  },
  {
   "cell_type": "code",
   "execution_count": 754,
   "id": "57f27bb5",
   "metadata": {},
   "outputs": [
    {
     "data": {
      "text/plain": [
       "<AxesSubplot:>"
      ]
     },
     "execution_count": 754,
     "metadata": {},
     "output_type": "execute_result"
    },
    {
     "data": {
      "image/png": "[encoded data removed]",
      "text/plain": [
       "<Figure size 1080x2160 with 2 Axes>"
      ]
     },
     "metadata": {
      "needs_background": "light"
     },
     "output_type": "display_data"
    }
   ],
   "source": [
    "plt.figure(figsize=(15,30))\n",
    "sns.heatmap(data_ml.corr()[['Retraso_dummie']], annot=True)"
   ]
  },
  {
   "cell_type": "code",
   "execution_count": null,
   "id": "29ae3034",
   "metadata": {},
   "outputs": [],
   "source": []
  },
  {
   "cell_type": "markdown",
   "id": "5fbf18b5",
   "metadata": {},
   "source": [
    "## 4)Entrena uno o varios modelos (usando el/los algoritmo(s) que prefieras) para estimar la probabilidad de atraso de un vuelo.Siéntete libre de generar variables adicionales y/o complementar con variables externas."
   ]
  },
  {
   "cell_type": "code",
   "execution_count": 755,
   "id": "f6841f05",
   "metadata": {},
   "outputs": [
    {
     "data": {
      "text/plain": [
       "Index(['Cambio_Nvuelo', 'Cambio_destino', 'Cambio_aerolinea', 'dif_min',\n",
       "       'Retraso_dummie', 'atraso_15', 'temporada_alta', 'DIANOM_Jueves',\n",
       "       'DIANOM_Lunes', 'DIANOM_Martes',\n",
       "       ...\n",
       "       'Hora_16', 'Hora_17', 'Hora_18', 'Hora_19', 'Hora_20', 'Hora_21',\n",
       "       'Hora_22', 'Hora_23', 'periodo_dia_noche', 'periodo_dia_tarde'],\n",
       "      dtype='object', length=164)"
      ]
     },
     "execution_count": 755,
     "metadata": {},
     "output_type": "execute_result"
    }
   ],
   "source": [
    "data_ml.columns"
   ]
  },
  {
   "cell_type": "code",
   "execution_count": 756,
   "id": "af8de750",
   "metadata": {},
   "outputs": [
    {
     "data": {
      "text/html": [
       "<div>\n",
       "<style scoped>\n",
       "    .dataframe tbody tr th:only-of-type {\n",
       "        vertical-align: middle;\n",
       "    }\n",
       "\n",
       "    .dataframe tbody tr th {\n",
       "        vertical-align: top;\n",
       "    }\n",
       "\n",
       "    .dataframe thead th {\n",
       "        text-align: right;\n",
       "    }\n",
       "</style>\n",
       "<table border=\"1\" class=\"dataframe\">\n",
       "  <thead>\n",
       "    <tr style=\"text-align: right;\">\n",
       "      <th></th>\n",
       "      <th>Cambio_Nvuelo</th>\n",
       "      <th>Cambio_destino</th>\n",
       "      <th>Cambio_aerolinea</th>\n",
       "      <th>dif_min</th>\n",
       "      <th>Retraso_dummie</th>\n",
       "      <th>atraso_15</th>\n",
       "      <th>temporada_alta</th>\n",
       "      <th>DIANOM_Jueves</th>\n",
       "      <th>DIANOM_Lunes</th>\n",
       "      <th>DIANOM_Martes</th>\n",
       "      <th>...</th>\n",
       "      <th>Hora_16</th>\n",
       "      <th>Hora_17</th>\n",
       "      <th>Hora_18</th>\n",
       "      <th>Hora_19</th>\n",
       "      <th>Hora_20</th>\n",
       "      <th>Hora_21</th>\n",
       "      <th>Hora_22</th>\n",
       "      <th>Hora_23</th>\n",
       "      <th>periodo_dia_noche</th>\n",
       "      <th>periodo_dia_tarde</th>\n",
       "    </tr>\n",
       "  </thead>\n",
       "  <tbody>\n",
       "    <tr>\n",
       "      <th>count</th>\n",
       "      <td>68206.000000</td>\n",
       "      <td>68206.000000</td>\n",
       "      <td>68206.000000</td>\n",
       "      <td>68206.000000</td>\n",
       "      <td>68206.000000</td>\n",
       "      <td>68206.000000</td>\n",
       "      <td>68206.000000</td>\n",
       "      <td>68206.000000</td>\n",
       "      <td>68206.000000</td>\n",
       "      <td>68206.000000</td>\n",
       "      <td>...</td>\n",
       "      <td>68206.000000</td>\n",
       "      <td>68206.000000</td>\n",
       "      <td>68206.000000</td>\n",
       "      <td>68206.000000</td>\n",
       "      <td>68206.000000</td>\n",
       "      <td>68206.000000</td>\n",
       "      <td>68206.000000</td>\n",
       "      <td>68206.000000</td>\n",
       "      <td>68206.000000</td>\n",
       "      <td>68206.000000</td>\n",
       "    </tr>\n",
       "    <tr>\n",
       "      <th>mean</th>\n",
       "      <td>0.027124</td>\n",
       "      <td>0.000411</td>\n",
       "      <td>0.273715</td>\n",
       "      <td>9.110855</td>\n",
       "      <td>0.667199</td>\n",
       "      <td>0.184940</td>\n",
       "      <td>0.325646</td>\n",
       "      <td>0.150295</td>\n",
       "      <td>0.148535</td>\n",
       "      <td>0.141659</td>\n",
       "      <td>...</td>\n",
       "      <td>0.045040</td>\n",
       "      <td>0.050802</td>\n",
       "      <td>0.061021</td>\n",
       "      <td>0.052649</td>\n",
       "      <td>0.043031</td>\n",
       "      <td>0.033897</td>\n",
       "      <td>0.034015</td>\n",
       "      <td>0.019016</td>\n",
       "      <td>0.254347</td>\n",
       "      <td>0.373955</td>\n",
       "    </tr>\n",
       "    <tr>\n",
       "      <th>std</th>\n",
       "      <td>0.162445</td>\n",
       "      <td>0.020257</td>\n",
       "      <td>0.445868</td>\n",
       "      <td>19.313387</td>\n",
       "      <td>0.471219</td>\n",
       "      <td>0.388252</td>\n",
       "      <td>0.468619</td>\n",
       "      <td>0.357363</td>\n",
       "      <td>0.355632</td>\n",
       "      <td>0.348703</td>\n",
       "      <td>...</td>\n",
       "      <td>0.207393</td>\n",
       "      <td>0.219595</td>\n",
       "      <td>0.239371</td>\n",
       "      <td>0.223334</td>\n",
       "      <td>0.202929</td>\n",
       "      <td>0.180966</td>\n",
       "      <td>0.181268</td>\n",
       "      <td>0.136582</td>\n",
       "      <td>0.435497</td>\n",
       "      <td>0.483856</td>\n",
       "    </tr>\n",
       "    <tr>\n",
       "      <th>min</th>\n",
       "      <td>0.000000</td>\n",
       "      <td>0.000000</td>\n",
       "      <td>0.000000</td>\n",
       "      <td>-14.000000</td>\n",
       "      <td>0.000000</td>\n",
       "      <td>0.000000</td>\n",
       "      <td>0.000000</td>\n",
       "      <td>0.000000</td>\n",
       "      <td>0.000000</td>\n",
       "      <td>0.000000</td>\n",
       "      <td>...</td>\n",
       "      <td>0.000000</td>\n",
       "      <td>0.000000</td>\n",
       "      <td>0.000000</td>\n",
       "      <td>0.000000</td>\n",
       "      <td>0.000000</td>\n",
       "      <td>0.000000</td>\n",
       "      <td>0.000000</td>\n",
       "      <td>0.000000</td>\n",
       "      <td>0.000000</td>\n",
       "      <td>0.000000</td>\n",
       "    </tr>\n",
       "    <tr>\n",
       "      <th>25%</th>\n",
       "      <td>0.000000</td>\n",
       "      <td>0.000000</td>\n",
       "      <td>0.000000</td>\n",
       "      <td>-1.000000</td>\n",
       "      <td>0.000000</td>\n",
       "      <td>0.000000</td>\n",
       "      <td>0.000000</td>\n",
       "      <td>0.000000</td>\n",
       "      <td>0.000000</td>\n",
       "      <td>0.000000</td>\n",
       "      <td>...</td>\n",
       "      <td>0.000000</td>\n",
       "      <td>0.000000</td>\n",
       "      <td>0.000000</td>\n",
       "      <td>0.000000</td>\n",
       "      <td>0.000000</td>\n",
       "      <td>0.000000</td>\n",
       "      <td>0.000000</td>\n",
       "      <td>0.000000</td>\n",
       "      <td>0.000000</td>\n",
       "      <td>0.000000</td>\n",
       "    </tr>\n",
       "    <tr>\n",
       "      <th>50%</th>\n",
       "      <td>0.000000</td>\n",
       "      <td>0.000000</td>\n",
       "      <td>0.000000</td>\n",
       "      <td>4.000000</td>\n",
       "      <td>1.000000</td>\n",
       "      <td>0.000000</td>\n",
       "      <td>0.000000</td>\n",
       "      <td>0.000000</td>\n",
       "      <td>0.000000</td>\n",
       "      <td>0.000000</td>\n",
       "      <td>...</td>\n",
       "      <td>0.000000</td>\n",
       "      <td>0.000000</td>\n",
       "      <td>0.000000</td>\n",
       "      <td>0.000000</td>\n",
       "      <td>0.000000</td>\n",
       "      <td>0.000000</td>\n",
       "      <td>0.000000</td>\n",
       "      <td>0.000000</td>\n",
       "      <td>0.000000</td>\n",
       "      <td>0.000000</td>\n",
       "    </tr>\n",
       "    <tr>\n",
       "      <th>75%</th>\n",
       "      <td>0.000000</td>\n",
       "      <td>0.000000</td>\n",
       "      <td>1.000000</td>\n",
       "      <td>12.000000</td>\n",
       "      <td>1.000000</td>\n",
       "      <td>0.000000</td>\n",
       "      <td>1.000000</td>\n",
       "      <td>0.000000</td>\n",
       "      <td>0.000000</td>\n",
       "      <td>0.000000</td>\n",
       "      <td>...</td>\n",
       "      <td>0.000000</td>\n",
       "      <td>0.000000</td>\n",
       "      <td>0.000000</td>\n",
       "      <td>0.000000</td>\n",
       "      <td>0.000000</td>\n",
       "      <td>0.000000</td>\n",
       "      <td>0.000000</td>\n",
       "      <td>0.000000</td>\n",
       "      <td>1.000000</td>\n",
       "      <td>1.000000</td>\n",
       "    </tr>\n",
       "    <tr>\n",
       "      <th>max</th>\n",
       "      <td>1.000000</td>\n",
       "      <td>1.000000</td>\n",
       "      <td>1.000000</td>\n",
       "      <td>161.000000</td>\n",
       "      <td>1.000000</td>\n",
       "      <td>1.000000</td>\n",
       "      <td>1.000000</td>\n",
       "      <td>1.000000</td>\n",
       "      <td>1.000000</td>\n",
       "      <td>1.000000</td>\n",
       "      <td>...</td>\n",
       "      <td>1.000000</td>\n",
       "      <td>1.000000</td>\n",
       "      <td>1.000000</td>\n",
       "      <td>1.000000</td>\n",
       "      <td>1.000000</td>\n",
       "      <td>1.000000</td>\n",
       "      <td>1.000000</td>\n",
       "      <td>1.000000</td>\n",
       "      <td>1.000000</td>\n",
       "      <td>1.000000</td>\n",
       "    </tr>\n",
       "  </tbody>\n",
       "</table>\n",
       "<p>8 rows × 164 columns</p>\n",
       "</div>"
      ],
      "text/plain": [
       "       Cambio_Nvuelo  Cambio_destino  Cambio_aerolinea       dif_min  \\\n",
       "count   68206.000000    68206.000000      68206.000000  68206.000000   \n",
       "mean        0.027124        0.000411          0.273715      9.110855   \n",
       "std         0.162445        0.020257          0.445868     19.313387   \n",
       "min         0.000000        0.000000          0.000000    -14.000000   \n",
       "25%         0.000000        0.000000          0.000000     -1.000000   \n",
       "50%         0.000000        0.000000          0.000000      4.000000   \n",
       "75%         0.000000        0.000000          1.000000     12.000000   \n",
       "max         1.000000        1.000000          1.000000    161.000000   \n",
       "\n",
       "       Retraso_dummie     atraso_15  temporada_alta  DIANOM_Jueves  \\\n",
       "count    68206.000000  68206.000000    68206.000000   68206.000000   \n",
       "mean         0.667199      0.184940        0.325646       0.150295   \n",
       "std          0.471219      0.388252        0.468619       0.357363   \n",
       "min          0.000000      0.000000        0.000000       0.000000   \n",
       "25%          0.000000      0.000000        0.000000       0.000000   \n",
       "50%          1.000000      0.000000        0.000000       0.000000   \n",
       "75%          1.000000      0.000000        1.000000       0.000000   \n",
       "max          1.000000      1.000000        1.000000       1.000000   \n",
       "\n",
       "       DIANOM_Lunes  DIANOM_Martes  ...       Hora_16       Hora_17  \\\n",
       "count  68206.000000   68206.000000  ...  68206.000000  68206.000000   \n",
       "mean       0.148535       0.141659  ...      0.045040      0.050802   \n",
       "std        0.355632       0.348703  ...      0.207393      0.219595   \n",
       "min        0.000000       0.000000  ...      0.000000      0.000000   \n",
       "25%        0.000000       0.000000  ...      0.000000      0.000000   \n",
       "50%        0.000000       0.000000  ...      0.000000      0.000000   \n",
       "75%        0.000000       0.000000  ...      0.000000      0.000000   \n",
       "max        1.000000       1.000000  ...      1.000000      1.000000   \n",
       "\n",
       "            Hora_18       Hora_19       Hora_20       Hora_21       Hora_22  \\\n",
       "count  68206.000000  68206.000000  68206.000000  68206.000000  68206.000000   \n",
       "mean       0.061021      0.052649      0.043031      0.033897      0.034015   \n",
       "std        0.239371      0.223334      0.202929      0.180966      0.181268   \n",
       "min        0.000000      0.000000      0.000000      0.000000      0.000000   \n",
       "25%        0.000000      0.000000      0.000000      0.000000      0.000000   \n",
       "50%        0.000000      0.000000      0.000000      0.000000      0.000000   \n",
       "75%        0.000000      0.000000      0.000000      0.000000      0.000000   \n",
       "max        1.000000      1.000000      1.000000      1.000000      1.000000   \n",
       "\n",
       "            Hora_23  periodo_dia_noche  periodo_dia_tarde  \n",
       "count  68206.000000       68206.000000       68206.000000  \n",
       "mean       0.019016           0.254347           0.373955  \n",
       "std        0.136582           0.435497           0.483856  \n",
       "min        0.000000           0.000000           0.000000  \n",
       "25%        0.000000           0.000000           0.000000  \n",
       "50%        0.000000           0.000000           0.000000  \n",
       "75%        0.000000           1.000000           1.000000  \n",
       "max        1.000000           1.000000           1.000000  \n",
       "\n",
       "[8 rows x 164 columns]"
      ]
     },
     "execution_count": 756,
     "metadata": {},
     "output_type": "execute_result"
    }
   ],
   "source": [
    "data_ml.describe()"
   ]
  },
  {
   "cell_type": "code",
   "execution_count": 757,
   "id": "56f7ff03",
   "metadata": {},
   "outputs": [],
   "source": [
    "#  para poder predecir, tengo que sacar las variables que dicen que ya esta atrasado,\n",
    "#dropear: dif_min y atraso_15"
   ]
  },
  {
   "cell_type": "code",
   "execution_count": 758,
   "id": "6092a916",
   "metadata": {},
   "outputs": [],
   "source": [
    "data_ml= data_ml.drop(columns=['dif_min','atraso_15'])"
   ]
  },
  {
   "cell_type": "code",
   "execution_count": 759,
   "id": "e418506e",
   "metadata": {},
   "outputs": [
    {
     "data": {
      "text/plain": [
       "(68206, 162)"
      ]
     },
     "execution_count": 759,
     "metadata": {},
     "output_type": "execute_result"
    }
   ],
   "source": [
    "data_ml.columns\n",
    "data_ml.shape"
   ]
  },
  {
   "cell_type": "markdown",
   "id": "11c5b68c",
   "metadata": {},
   "source": [
    "Creo modelo"
   ]
  },
  {
   "cell_type": "code",
   "execution_count": 760,
   "id": "1cdd186f",
   "metadata": {},
   "outputs": [],
   "source": [
    "X = data_ml.drop(columns=['Retraso_dummie'])\n",
    "y = data_ml['Retraso_dummie']"
   ]
  },
  {
   "cell_type": "code",
   "execution_count": 761,
   "id": "f1aac019",
   "metadata": {},
   "outputs": [],
   "source": [
    "# Separamos un set de testeo para evaluar el modelo\n",
    "from sklearn.model_selection import train_test_split\n",
    "X_train, X_test, y_train, y_test = train_test_split(X, y,stratify=y, random_state = 123)"
   ]
  },
  {
   "cell_type": "code",
   "execution_count": 762,
   "id": "3e496294",
   "metadata": {},
   "outputs": [
    {
     "data": {
      "text/plain": [
       "(0.6672010008992454, 0.6671944639924936)"
      ]
     },
     "execution_count": 762,
     "metadata": {},
     "output_type": "execute_result"
    }
   ],
   "source": [
    "# Verificamos que coincidan las proporciones del target\n",
    "y_train.mean(), y_test.mean()"
   ]
  },
  {
   "cell_type": "code",
   "execution_count": 763,
   "id": "18f5223d",
   "metadata": {},
   "outputs": [],
   "source": [
    "# Estandarizamos los datos\n",
    "from sklearn.preprocessing import StandardScaler\n",
    "scaler = StandardScaler()\n",
    "X_train_std = scaler.fit_transform(X_train)\n",
    "X_test_std = scaler.transform(X_test)"
   ]
  },
  {
   "cell_type": "markdown",
   "id": "fdb40f40",
   "metadata": {},
   "source": [
    "Modelo 1: Regresión Logistica"
   ]
  },
  {
   "cell_type": "code",
   "execution_count": 764,
   "id": "17239d2e",
   "metadata": {},
   "outputs": [],
   "source": [
    "from sklearn.linear_model import LogisticRegression\n",
    "lr = LogisticRegression()\n",
    "fit1= lr.fit(X_train_std, y_train)"
   ]
  },
  {
   "cell_type": "code",
   "execution_count": 765,
   "id": "c0c7bd74",
   "metadata": {},
   "outputs": [
    {
     "name": "stdout",
     "output_type": "stream",
     "text": [
      "[[ 3.25630035e-02  2.03519461e-03  2.08755120e-03  4.81172414e-03\n",
      "   1.08782928e-01  8.81206987e-02  3.19780801e-02  5.19013842e-02\n",
      "   1.48768153e-02  1.58229337e-01 -2.33528399e-01 -2.23479040e-02\n",
      "   2.29133163e-03  1.88376473e-02 -3.71986827e-03 -2.16688994e-03\n",
      "   5.32725989e-03 -4.88099556e-03 -7.21416700e-03  4.14608965e-02\n",
      "   5.17991094e-02  2.23837750e-02 -4.72827259e-03  7.32524456e-03\n",
      "   3.79282256e-02  3.75795604e-02  6.27440267e-04  1.57561305e-02\n",
      "   1.04033202e-03 -2.35771865e-03  1.11144001e-02  2.25121382e-02\n",
      "  -5.63032049e-03 -3.22509545e-03 -1.02693573e-02  1.08603784e-02\n",
      "  -8.23511007e-03 -1.42348078e-02  2.32282393e-03 -1.69518569e-02\n",
      "  -2.03577755e-02 -6.89769238e-03 -1.13721317e-01 -6.34475840e-02\n",
      "  -5.77706022e-03 -6.26220482e-03  1.81371564e-01 -6.02327611e-03\n",
      "  -6.74393180e-03  9.62033034e-02  5.65073320e-02  1.28992918e-01\n",
      "   6.88052123e-02 -4.53636090e-02  1.57973194e-01 -1.52716773e-01\n",
      "   1.23289508e-02 -9.69786727e-02 -2.39771036e-03  7.67739939e-02\n",
      "   1.22414162e-02  8.11745615e-03 -3.41721439e-02  3.97683292e-02\n",
      "   6.22173644e-01  4.64091968e-02  9.77854163e-02 -6.89947499e-02\n",
      "  -6.74387080e-03  2.35198373e-01 -6.50200735e-03  4.62228421e-02\n",
      "   1.12446987e-01  2.62772214e-01 -5.62729961e-02  7.40977605e-02\n",
      "   2.81796773e-02 -3.41721439e-02  9.12916458e-02  6.47033098e-02\n",
      "   6.53466226e-02  3.16441800e-02  1.45526711e-01 -1.68499007e-02\n",
      "   1.30782230e-04 -1.66820168e-02  4.58254034e-02 -5.79830906e-02\n",
      "   8.11745615e-03  5.41201108e-02 -1.14901560e-03  3.02517120e-02\n",
      "   1.14486534e-01 -2.48434844e-03 -7.73705003e-03 -2.09808578e-03\n",
      "  -2.79534506e-02 -5.33094119e-02  1.29564150e-01  8.54301305e-02\n",
      "   4.05888947e-02 -2.27888912e-03  2.49921858e-02  1.22414162e-02\n",
      "   1.62878831e-02 -1.37803686e-02  3.81876385e-02  2.92167215e-02\n",
      "   2.72579966e-02  6.12092043e-02 -1.30833425e-02  9.09035803e-03\n",
      "   7.84235218e-03  3.62654039e-02  1.41923942e-01  4.68790389e-02\n",
      "   1.45122686e-01 -8.26865109e-03  4.61579741e-02  1.93503712e-01\n",
      "   2.56683685e-02 -8.92507114e-03  6.86703513e-02  4.41956034e-02\n",
      "   1.23289508e-02  7.68212191e-02 -7.64588047e-03  3.89598233e-02\n",
      "   5.79194376e-02  3.29538431e-02  8.39254522e-02 -6.23564292e-02\n",
      "  -2.11877082e-02  1.04623376e-01  1.56613669e-02 -4.79690818e-02\n",
      "  -7.19237332e-03 -2.40590653e-02 -2.44467413e-02 -2.17696029e-02\n",
      "  -6.99213851e-02 -4.34152315e-02  1.41857300e-02  1.55999861e-02\n",
      "   6.19529594e-02  1.82469152e-02  9.96697312e-02  1.45344215e-02\n",
      "  -1.82475055e-03  2.03118107e-02  2.96586378e-02  9.04006291e-03\n",
      "   5.06985128e-02  3.83564986e-02  1.55059361e-01  1.17308386e-01\n",
      "   1.38569903e-01  1.13203423e-01  9.83533727e-02 -1.36671771e-01\n",
      "   7.55725447e-02]]\n",
      "[0.77628649]\n"
     ]
    }
   ],
   "source": [
    "print(lr.coef_)\n",
    "print(lr.intercept_)"
   ]
  },
  {
   "cell_type": "code",
   "execution_count": 766,
   "id": "fa323782",
   "metadata": {},
   "outputs": [
    {
     "name": "stdout",
     "output_type": "stream",
     "text": [
      "Intercept: [0.77628649]\n",
      "Coeficiente: [('Cambio_Nvuelo', 0.03256300347368488), ('Cambio_destino', 0.0020351946111403663), ('Cambio_aerolinea', 0.0020875511960828643), ('temporada_alta', 0.004811724135329745), ('DIANOM_Jueves', 0.1087829283493443), ('DIANOM_Lunes', 0.08812069870983598), ('DIANOM_Martes', 0.031978080112875513), ('DIANOM_Miercoles', 0.05190138418744224), ('DIANOM_Sabado', 0.014876815319568698), ('DIANOM_Viernes', 0.15822933740669412), ('TIPOVUELO_N', -0.2335283990567965), ('DIA_2', -0.02234790398183794), ('DIA_3', 0.002291331633654806), ('DIA_4', 0.01883764726866353), ('DIA_5', -0.003719868272722103), ('DIA_6', -0.0021668899381584615), ('DIA_7', 0.005327259887367473), ('DIA_8', -0.004880995557961368), ('DIA_9', -0.0072141670014020404), ('DIA_10', 0.04146089651328727), ('DIA_11', 0.05179910942522959), ('DIA_12', 0.02238377501862266), ('DIA_13', -0.004728272587471027), ('DIA_14', 0.007325244555298982), ('DIA_15', 0.03792822557310302), ('DIA_16', 0.03757956035397299), ('DIA_17', 0.0006274402671061335), ('DIA_18', 0.015756130483606235), ('DIA_19', 0.001040332020238842), ('DIA_20', -0.0023577186467183165), ('DIA_21', 0.011114400145521024), ('DIA_22', 0.022512138237697443), ('DIA_23', -0.005630320489240893), ('DIA_24', -0.003225095448040373), ('DIA_25', -0.01026935732053326), ('DIA_26', 0.010860378376266843), ('DIA_27', -0.00823511006946065), ('DIA_28', -0.01423480779432861), ('DIA_29', 0.0023228239347314566), ('DIA_30', -0.01695185687566796), ('DIA_31', -0.02035777552252552), ('MES_2', -0.006897692380077684), ('MES_3', -0.1137213170275385), ('MES_4', -0.06344758401334166), ('MES_5', -0.005777060218320186), ('MES_6', -0.006262204823721537), ('MES_7', 0.18137156431778179), ('MES_8', -0.006023276113543677), ('MES_9', -0.006743931797322419), ('MES_10', 0.09620330339752142), ('MES_11', 0.05650733202160093), ('MES_12', 0.1289929184409887), ('AÑO_2018', 0.06880521229947435), ('OPERA_Aeromexico', -0.04536360898726837), ('OPERA_Air Canada', 0.157973193990988), ('OPERA_Air France', -0.15271677318280982), ('OPERA_Alitalia', 0.012328950833349204), ('OPERA_American Airlines', -0.09697867270257687), ('OPERA_Austral', -0.0023977103595793563), ('OPERA_Avianca', 0.07677399392594073), ('OPERA_British Airways', 0.012241416192466721), ('OPERA_Copa Air', 0.008117456148327366), ('OPERA_Delta Air', -0.03417214387349442), ('OPERA_Gol Trans', 0.039768329247023254), ('OPERA_Grupo LATAM', 0.6221736444791951), ('OPERA_Iberia', 0.046409196816254966), ('OPERA_JetSmart SPA', 0.0977854163229798), ('OPERA_K.L.M.', -0.06899474990117072), ('OPERA_Lacsa', -0.0067438708000197665), ('OPERA_Latin American Wings', 0.23519837307013458), ('OPERA_Oceanair Linhas Aereas', -0.006502007350029786), ('OPERA_Plus Ultra Lineas Aereas', 0.04622284211597798), ('OPERA_Qantas Airways', 0.11244698732681481), ('OPERA_Sky Airline', 0.2627722138931667), ('OPERA_United Airlines', -0.056272996082369145), ('SIGLADES_Arica', 0.07409776051615098), ('SIGLADES_Asuncion', 0.028179677334435604), ('SIGLADES_Atlanta', -0.03417214387349442), ('SIGLADES_Auckland N.Z.', 0.091291645752889), ('SIGLADES_Balmaceda', 0.06470330984844455), ('SIGLADES_Bariloche', 0.06534662260731722), ('SIGLADES_Bogota', 0.03164417998216785), ('SIGLADES_Buenos Aires', 0.14552671094837816), ('SIGLADES_Calama', -0.01684990072311493), ('SIGLADES_Cancun', 0.0001307822304406526), ('SIGLADES_Castro (Chiloe)', -0.016682016815706628), ('SIGLADES_Cataratas Iguacu', 0.04582540337020176), ('SIGLADES_Ciudad de Mexico', -0.05798309062720408), ('SIGLADES_Ciudad de Panama', 0.008117456148327366), ('SIGLADES_Cochabamba', 0.054120110805376716), ('SIGLADES_Concepcion', -0.0011490156017882418), ('SIGLADES_Copiapo', 0.030251711991572887), ('SIGLADES_Cordoba', 0.11448653446076788), ('SIGLADES_Curitiba, Bra.', -0.002484348439626432), ('SIGLADES_Dallas', -0.00773705003389972), ('SIGLADES_Florianapolis', -0.002098085781820834), ('SIGLADES_Guayaquil', -0.02795345055742217), ('SIGLADES_Houston', -0.05330941191397627), ('SIGLADES_Iquique', 0.12956415048740996), ('SIGLADES_Isla de Pascua', 0.08543013050681127), ('SIGLADES_La Paz', 0.04058889469708919), ('SIGLADES_La Serena', -0.00227888911770435), ('SIGLADES_Lima', 0.02499218576004988), ('SIGLADES_Londres', 0.012241416192466721), ('SIGLADES_Los Angeles', 0.01628788306761554), ('SIGLADES_Madrid', -0.013780368617987834), ('SIGLADES_Melbourne', 0.03818763850267965), ('SIGLADES_Mendoza', 0.029216721456046077), ('SIGLADES_Miami', 0.027257996561402854), ('SIGLADES_Montevideo', 0.06120920431530952), ('SIGLADES_Neuquen', -0.013083342491906529), ('SIGLADES_Nueva York', 0.009090358028835876), ('SIGLADES_Orlando', 0.007842352183275532), ('SIGLADES_Osorno', 0.03626540390557586), ('SIGLADES_Paris', 0.14192394219525375), ('SIGLADES_Pisco, Peru', 0.04687903890954147), ('SIGLADES_Puerto Montt', 0.14512268580427523), ('SIGLADES_Puerto Natales', -0.008268651088862124), ('SIGLADES_Puerto Stanley', 0.04615797413697108), ('SIGLADES_Punta Arenas', 0.1935037116120801), ('SIGLADES_Punta Cana', 0.025668368469918476), ('SIGLADES_Punta del Este', -0.008925071141899492), ('SIGLADES_Quito', 0.06867035126663198), ('SIGLADES_Rio de Janeiro', 0.04419560336768351), ('SIGLADES_Roma', 0.012328950833349204), ('SIGLADES_Rosario', 0.07682121909768183), ('SIGLADES_San Juan, Arg.', -0.0076458804716011), ('SIGLADES_Santa Cruz', 0.03895982333525772), ('SIGLADES_Sao Paulo', 0.05791943756345238), ('SIGLADES_Sydney', 0.032953843102079175), ('SIGLADES_Temuco', 0.08392545216836991), ('SIGLADES_Toronto', -0.062356429235349356), ('SIGLADES_Tucuman', -0.021187708192997392), ('SIGLADES_Ushuia', 0.10462337565321311), ('SIGLADES_Valdivia', 0.015661366853260684), ('SIGLADES_Washington', -0.047969081773165924), ('Hora_1', -0.00719237332065531), ('Hora_2', -0.024059065334976537), ('Hora_3', -0.024446741321115465), ('Hora_4', -0.021769602877759416), ('Hora_5', -0.06992138505938672), ('Hora_6', -0.043415231498207335), ('Hora_7', 0.01418572996529556), ('Hora_8', 0.015599986071169856), ('Hora_9', 0.061952959360088176), ('Hora_10', 0.018246915178352523), ('Hora_11', 0.09966973119573434), ('Hora_12', 0.014534421548040613), ('Hora_13', -0.0018247505469130801), ('Hora_14', 0.020311810740698683), ('Hora_15', 0.02965863783421798), ('Hora_16', 0.009040062911542959), ('Hora_17', 0.05069851282582633), ('Hora_18', 0.038356498567046086), ('Hora_19', 0.1550593606732134), ('Hora_20', 0.11730838604484159), ('Hora_21', 0.13856990256397284), ('Hora_22', 0.113203422809577), ('Hora_23', 0.09835337271425687), ('periodo_dia_noche', -0.13667177128468566), ('periodo_dia_tarde', 0.07557254468082722)]\n"
     ]
    }
   ],
   "source": [
    "print(\"Intercept:\", lr.intercept_)\n",
    "print(\"Coeficiente:\", list(zip(X.columns, lr.coef_.flatten(), )))"
   ]
  },
  {
   "cell_type": "code",
   "execution_count": 767,
   "id": "d96d9a70",
   "metadata": {},
   "outputs": [],
   "source": [
    "numpy=list(zip(X.columns, lr.coef_.flatten(), ))"
   ]
  },
  {
   "cell_type": "code",
   "execution_count": 768,
   "id": "ea2a254c",
   "metadata": {},
   "outputs": [
    {
     "data": {
      "text/html": [
       "<div>\n",
       "<style scoped>\n",
       "    .dataframe tbody tr th:only-of-type {\n",
       "        vertical-align: middle;\n",
       "    }\n",
       "\n",
       "    .dataframe tbody tr th {\n",
       "        vertical-align: top;\n",
       "    }\n",
       "\n",
       "    .dataframe thead th {\n",
       "        text-align: right;\n",
       "    }\n",
       "</style>\n",
       "<table border=\"1\" class=\"dataframe\">\n",
       "  <thead>\n",
       "    <tr style=\"text-align: right;\">\n",
       "      <th></th>\n",
       "      <th>0</th>\n",
       "      <th>1</th>\n",
       "    </tr>\n",
       "  </thead>\n",
       "  <tbody>\n",
       "    <tr>\n",
       "      <th>126</th>\n",
       "      <td>SIGLADES_San Juan, Arg.</td>\n",
       "      <td>-0.007646</td>\n",
       "    </tr>\n",
       "    <tr>\n",
       "      <th>120</th>\n",
       "      <td>SIGLADES_Punta Cana</td>\n",
       "      <td>0.025668</td>\n",
       "    </tr>\n",
       "    <tr>\n",
       "      <th>23</th>\n",
       "      <td>DIA_14</td>\n",
       "      <td>0.007325</td>\n",
       "    </tr>\n",
       "  </tbody>\n",
       "</table>\n",
       "</div>"
      ],
      "text/plain": [
       "                           0         1\n",
       "126  SIGLADES_San Juan, Arg. -0.007646\n",
       "120      SIGLADES_Punta Cana  0.025668\n",
       "23                    DIA_14  0.007325"
      ]
     },
     "execution_count": 768,
     "metadata": {},
     "output_type": "execute_result"
    }
   ],
   "source": [
    "df_lr=pd.DataFrame( data=numpy)\n",
    "df_lr.sample(3)"
   ]
  },
  {
   "cell_type": "code",
   "execution_count": 769,
   "id": "c05bcb0c",
   "metadata": {},
   "outputs": [
    {
     "data": {
      "text/html": [
       "<div>\n",
       "<style scoped>\n",
       "    .dataframe tbody tr th:only-of-type {\n",
       "        vertical-align: middle;\n",
       "    }\n",
       "\n",
       "    .dataframe tbody tr th {\n",
       "        vertical-align: top;\n",
       "    }\n",
       "\n",
       "    .dataframe thead th {\n",
       "        text-align: right;\n",
       "    }\n",
       "</style>\n",
       "<table border=\"1\" class=\"dataframe\">\n",
       "  <thead>\n",
       "    <tr style=\"text-align: right;\">\n",
       "      <th></th>\n",
       "      <th>0</th>\n",
       "      <th>1</th>\n",
       "    </tr>\n",
       "  </thead>\n",
       "  <tbody>\n",
       "    <tr>\n",
       "      <th>64</th>\n",
       "      <td>OPERA_Grupo LATAM</td>\n",
       "      <td>0.622174</td>\n",
       "    </tr>\n",
       "    <tr>\n",
       "      <th>73</th>\n",
       "      <td>OPERA_Sky Airline</td>\n",
       "      <td>0.262772</td>\n",
       "    </tr>\n",
       "    <tr>\n",
       "      <th>69</th>\n",
       "      <td>OPERA_Latin American Wings</td>\n",
       "      <td>0.235198</td>\n",
       "    </tr>\n",
       "    <tr>\n",
       "      <th>119</th>\n",
       "      <td>SIGLADES_Punta Arenas</td>\n",
       "      <td>0.193504</td>\n",
       "    </tr>\n",
       "    <tr>\n",
       "      <th>46</th>\n",
       "      <td>MES_7</td>\n",
       "      <td>0.181372</td>\n",
       "    </tr>\n",
       "    <tr>\n",
       "      <th>...</th>\n",
       "      <td>...</td>\n",
       "      <td>...</td>\n",
       "    </tr>\n",
       "    <tr>\n",
       "      <th>57</th>\n",
       "      <td>OPERA_American Airlines</td>\n",
       "      <td>-0.096979</td>\n",
       "    </tr>\n",
       "    <tr>\n",
       "      <th>42</th>\n",
       "      <td>MES_3</td>\n",
       "      <td>-0.113721</td>\n",
       "    </tr>\n",
       "    <tr>\n",
       "      <th>159</th>\n",
       "      <td>periodo_dia_noche</td>\n",
       "      <td>-0.136672</td>\n",
       "    </tr>\n",
       "    <tr>\n",
       "      <th>55</th>\n",
       "      <td>OPERA_Air France</td>\n",
       "      <td>-0.152717</td>\n",
       "    </tr>\n",
       "    <tr>\n",
       "      <th>10</th>\n",
       "      <td>TIPOVUELO_N</td>\n",
       "      <td>-0.233528</td>\n",
       "    </tr>\n",
       "  </tbody>\n",
       "</table>\n",
       "<p>161 rows × 2 columns</p>\n",
       "</div>"
      ],
      "text/plain": [
       "                              0         1\n",
       "64            OPERA_Grupo LATAM  0.622174\n",
       "73            OPERA_Sky Airline  0.262772\n",
       "69   OPERA_Latin American Wings  0.235198\n",
       "119       SIGLADES_Punta Arenas  0.193504\n",
       "46                        MES_7  0.181372\n",
       "..                          ...       ...\n",
       "57      OPERA_American Airlines -0.096979\n",
       "42                        MES_3 -0.113721\n",
       "159           periodo_dia_noche -0.136672\n",
       "55             OPERA_Air France -0.152717\n",
       "10                  TIPOVUELO_N -0.233528\n",
       "\n",
       "[161 rows x 2 columns]"
      ]
     },
     "execution_count": 769,
     "metadata": {},
     "output_type": "execute_result"
    }
   ],
   "source": [
    "df_lr.sort_values(by= 1, ascending=False)"
   ]
  },
  {
   "cell_type": "code",
   "execution_count": null,
   "id": "581c4645",
   "metadata": {},
   "outputs": [],
   "source": []
  },
  {
   "cell_type": "code",
   "execution_count": null,
   "id": "d8ad6e8b",
   "metadata": {},
   "outputs": [],
   "source": []
  },
  {
   "cell_type": "code",
   "execution_count": 770,
   "id": "92e9d9d4",
   "metadata": {},
   "outputs": [],
   "source": [
    "y_train_pred = lr.predict(X_train_std)\n",
    "y_test_pred = lr.predict(X_test_std)"
   ]
  },
  {
   "cell_type": "markdown",
   "id": "13b41749",
   "metadata": {},
   "source": [
    "Probabilidad de que se atrase el vuelo"
   ]
  },
  {
   "cell_type": "code",
   "execution_count": 771,
   "id": "42a6d494",
   "metadata": {},
   "outputs": [
    {
     "data": {
      "text/plain": [
       "array([[0.4395558 , 0.5604442 ],\n",
       "       [0.33909431, 0.66090569],\n",
       "       [0.13001286, 0.86998714],\n",
       "       ...,\n",
       "       [0.59091784, 0.40908216],\n",
       "       [0.27392574, 0.72607426],\n",
       "       [0.16517323, 0.83482677]])"
      ]
     },
     "execution_count": 771,
     "metadata": {},
     "output_type": "execute_result"
    }
   ],
   "source": [
    "y_test_proba= lr.predict_proba(X_test_std)\n",
    "y_test_proba"
   ]
  },
  {
   "cell_type": "markdown",
   "id": "1bb5f0e2",
   "metadata": {},
   "source": [
    "## Evalúa tu modelo. ¿Qué performance tiene? ¿Qué métricas usaste para evaluar esa performance y por qué? ¿Por qué elegiste ese algoritmo en particular? ¿Qué variables son las que más influyen en la predicción? ¿Cómo podrías mejorar la performance?"
   ]
  },
  {
   "cell_type": "code",
   "execution_count": 772,
   "id": "34bbbe3c",
   "metadata": {},
   "outputs": [],
   "source": [
    "# Elaboramos la matriz de confusión"
   ]
  },
  {
   "cell_type": "code",
   "execution_count": 773,
   "id": "aef173af",
   "metadata": {},
   "outputs": [
    {
     "data": {
      "image/png": "[encoded data removed]",
      "text/plain": [
       "<Figure size 432x288 with 2 Axes>"
      ]
     },
     "metadata": {
      "needs_background": "light"
     },
     "output_type": "display_data"
    }
   ],
   "source": [
    "from sklearn.metrics import confusion_matrix\n",
    "confusion_matrix(y_test, y_test_pred)\n",
    "sns.heatmap(confusion_matrix(y_test, y_test_pred), annot=True)\n",
    "plt.ylabel('Verdaderos')\n",
    "plt.xlabel('Predichos');"
   ]
  },
  {
   "cell_type": "code",
   "execution_count": 774,
   "id": "51f1f4a1",
   "metadata": {},
   "outputs": [
    {
     "data": {
      "text/plain": [
       "0.6985104386582219"
      ]
     },
     "execution_count": 774,
     "metadata": {},
     "output_type": "execute_result"
    }
   ],
   "source": [
    "from sklearn.metrics import accuracy_score\n",
    "accuracy_score(y_test, y_test_pred)"
   ]
  },
  {
   "cell_type": "markdown",
   "id": "31a649f9",
   "metadata": {},
   "source": [
    " performance= 0,6985 \n",
    "- Qué métricas usaste para evaluar esa performance y por qué, ¿Por qué?  \n",
    "Para evaluar la perfomance use el accuracy score, ya que esta muestra la proporción de casos correctamente clasificados de los datos de test sobre el total de casos de test. \n",
    "-  ¿Por qué elegiste ese algoritmo en particular?  \n",
    "El modelo de Regresión Logística es muy útil para abordar problemas de clasificación. Es un modelo muy versátil ya que puede ayudarnos a estimar las probabilidades de pertenecer a distintas categorías (lo solicitado en este caso), y también poder interpretar la influencia de muchas variables de entrada sobre la probabilidad de pertenecer a cada categoría.\n",
    "-  ¿Qué variables son las que más influyen en la predicción?  \n",
    "Son aquellas con mayor coeficiente de intersección. En este caso sería OPERA_ Grupo Latam, 0.584, OPERA_Sky Airline 0.2353,\n",
    "aportando positivamente en atraso y TIPOVUELO_N -0.22 (nacional) , OPERA Air_france -0.15 aportando negativamente en atraso\n",
    "-  ¿Cómo podrías mejorar la performance?  \n",
    "Podría mejorar la perfomance realizando una regularización o con GridSearch para mejorar los hiperparametros\n"
   ]
  },
  {
   "cell_type": "markdown",
   "id": "0b3c4713",
   "metadata": {},
   "source": [
    "Modelo 2: Naive Bayes"
   ]
  },
  {
   "cell_type": "code",
   "execution_count": 775,
   "id": "2247a8a1",
   "metadata": {},
   "outputs": [],
   "source": [
    "from sklearn.naive_bayes import GaussianNB\n",
    "\n",
    "gnb = GaussianNB()\n",
    "\n",
    "fit2=gnb.fit(X_train, y_train)"
   ]
  },
  {
   "cell_type": "code",
   "execution_count": 776,
   "id": "e9a898bd",
   "metadata": {},
   "outputs": [],
   "source": [
    "Y_pred_GNB = gnb.predict(X_test)"
   ]
  },
  {
   "cell_type": "code",
   "execution_count": 777,
   "id": "cf32a81a",
   "metadata": {},
   "outputs": [
    {
     "data": {
      "text/plain": [
       "array([[1.00000000e+00, 7.55166517e-19],\n",
       "       [1.00000000e+00, 1.18442804e-18],\n",
       "       [1.25749829e-06, 9.99998743e-01],\n",
       "       ...,\n",
       "       [1.00000000e+00, 1.75163653e-20],\n",
       "       [1.00000000e+00, 3.86093414e-17],\n",
       "       [1.00000000e+00, 4.16548286e-15]])"
      ]
     },
     "execution_count": 777,
     "metadata": {},
     "output_type": "execute_result"
    }
   ],
   "source": [
    "gnb.predict_proba(X_test)"
   ]
  },
  {
   "cell_type": "code",
   "execution_count": 778,
   "id": "64a78e8c",
   "metadata": {},
   "outputs": [
    {
     "data": {
      "text/plain": [
       "0.37197982641332394"
      ]
     },
     "execution_count": 778,
     "metadata": {},
     "output_type": "execute_result"
    }
   ],
   "source": [
    "(accuracy_score(y_test, Y_pred_GNB))"
   ]
  },
  {
   "cell_type": "code",
   "execution_count": null,
   "id": "ad854569",
   "metadata": {},
   "outputs": [],
   "source": []
  },
  {
   "cell_type": "code",
   "execution_count": 779,
   "id": "d9e97399",
   "metadata": {},
   "outputs": [
    {
     "data": {
      "image/png": "[encoded data removed]",
      "text/plain": [
       "<Figure size 432x288 with 2 Axes>"
      ]
     },
     "metadata": {
      "needs_background": "light"
     },
     "output_type": "display_data"
    }
   ],
   "source": [
    "confusion_matrix(y_test, y_test_pred)\n",
    "sns.heatmap(confusion_matrix(y_test, y_test_pred), annot=True)\n",
    "plt.ylabel('Verdaderos')\n",
    "plt.xlabel('Predichos');"
   ]
  },
  {
   "cell_type": "markdown",
   "id": "9b239ce1",
   "metadata": {},
   "source": [
    "Evalúa tu modelo.\n",
    "-  ¿Qué performance tiene? 0.37\n",
    "-  ¿Qué métricas usaste para evaluar esa performance y por qué? \n",
    "Para evaluar la perfomance use el accuracy score, ya que esta muestra la proporción de casos correctamente clasificados de los datos de test sobre el total de casos de test.\n",
    "-  ¿Por qué elegiste ese algoritmo en particular? \n",
    " Naive Bayes nos permite, dado un conjunto de características, predecir una clase usando la probabilidad. Es relativamente simple de entender y construir . No es sensible a características irrelevantes. Su principal desventaja es que asume que cada característica es independiente, lo cual no siempre sucede.\n",
    " Dado que Naive Bayes es tan fácil de optimizar y tan rápido desde el punto de vista computacional, es un buen \"baseline\" para un problema de clasificación. Si performa bien, podemos quedarnos con este modelo y si necesitamos mejorar la precisión, tenemos una línea de base sobre la cual mejorar. En este caso no performo bien ya que dio un accuracy de 0.37\n",
    "-  ¿Cómo podrías mejorar la performance?¶\n",
    "Podría mejorar la perfomance haciendo un ensamble con el modelo de regresion logistica."
   ]
  },
  {
   "cell_type": "markdown",
   "id": "93db1b43",
   "metadata": {},
   "source": [
    "Modelo KNN  \n",
    "Intente realizar el modelo KNN, pero fue muy pesado para mi computador y nunca termino de ejecutar."
   ]
  },
  {
   "cell_type": "code",
   "execution_count": 780,
   "id": "17d3fba6",
   "metadata": {},
   "outputs": [],
   "source": [
    "#from sklearn.neighbors import KNeighborsClassifier"
   ]
  },
  {
   "cell_type": "code",
   "execution_count": 781,
   "id": "a0222818",
   "metadata": {},
   "outputs": [],
   "source": [
    "#from sklearn.model_selection import cross_val_score, KFold\n",
    "#from sklearn.neighbors import KNeighborsClassifier"
   ]
  },
  {
   "cell_type": "code",
   "execution_count": 782,
   "id": "d04eb180",
   "metadata": {},
   "outputs": [],
   "source": [
    "#def scores_knn(X, y, start,stop,step):\n",
    "    \n",
    "    # Vamos a querer graficar los distintos valores del score de cross validation en función del hiperparámetro n_neighbors\n",
    "    # Para esto vamos a generar una lista de diccionarios que después se puede convertir fácilmente en DataFrame\n",
    "    \n",
    "    # Lista de diccionarios - la inicializamos vacío y por fuera del for loop para ir alimentándola en cada iteración\n",
    "#    scores_para_df = []\n",
    "    \n",
    "    \n",
    "#    for i in range(start,stop,step):\n",
    "        \n",
    "        # En cada iteración, instanciamos el modelo con un hiperparámetro distinto\n",
    "#        model = KNeighborsClassifier(n_neighbors=i)\n",
    "\n",
    "        # cross_val_scores nos devuelve un array de 5 resultados, uno por cada partición que hizo automáticamente CV\n",
    "#        kf = KFold(n_splits=5, shuffle=True, random_state=10)\n",
    "#        cv_scores = cross_val_score(model, X, y, cv=kf)\n",
    "\n",
    "        # Para cada valor de n_neighbours, creamos un diccionario con el valor de n_neighbours y la media y el desvío de los scores\n",
    "#        dict_row_score = {'score_medio':np.mean(cv_scores),'score_std':np.std(cv_scores),'n_neighbours':i}\n",
    "\n",
    "        # Guardamos cada uno en la lista de diccionarios\n",
    "#        scores_para_df.append(dict_row_score)\n",
    "    \n",
    "    # Creamos el DF a partir de la lista de resultados\n",
    "#    df_scores = pd.DataFrame(scores_para_df)\n",
    "    \n",
    "    # Incorporamos los límites inferior y superior, restando y sumando el valor del desvío estándar, respectivamente\n",
    "#    df_scores['limite_inferior'] = df_scores['score_medio'] - df_scores['score_std']\n",
    "#    df_scores['limite_superior'] = df_scores['score_medio'] + df_scores['score_std']\n",
    "    \n",
    "    # Retornamos el DF\n",
    "#    return df_scores"
   ]
  },
  {
   "cell_type": "code",
   "execution_count": 783,
   "id": "e302b661",
   "metadata": {},
   "outputs": [],
   "source": [
    "# Probamos de 1 a 20 vecinos\n",
    "#df_scores= scores_knn(X_train_std, y_train, 1, 10, 1)"
   ]
  },
  {
   "cell_type": "code",
   "execution_count": 784,
   "id": "f8946de9",
   "metadata": {},
   "outputs": [],
   "source": [
    "#best_k = df_scores.loc[df_scores.score_medio == df_scores.score_medio.max(),'n_neighbours'].values[0]\n",
    "#best_k"
   ]
  },
  {
   "cell_type": "code",
   "execution_count": 785,
   "id": "6fe511aa",
   "metadata": {},
   "outputs": [],
   "source": [
    "\n",
    "#model_knn = KNeighborsClassifier()\n",
    "\n",
    "#Lo ajustamos sobre datos de entrenamiento\n",
    "#fit4= model_knn.fit(X_train_std, y_train)"
   ]
  },
  {
   "cell_type": "code",
   "execution_count": null,
   "id": "194287ac",
   "metadata": {},
   "outputs": [],
   "source": []
  },
  {
   "cell_type": "code",
   "execution_count": 786,
   "id": "e201e75e",
   "metadata": {},
   "outputs": [],
   "source": [
    "# Lo utilizamos para predecir en test\n",
    "#y_pred_knn = model_knn.predict(X_test_std)"
   ]
  },
  {
   "cell_type": "code",
   "execution_count": 787,
   "id": "77924744",
   "metadata": {},
   "outputs": [],
   "source": [
    "# Computamos el accuracy score en test\n",
    "#accuracy_score(y_test, y_pred_knn)"
   ]
  },
  {
   "cell_type": "code",
   "execution_count": 788,
   "id": "84fc8b40",
   "metadata": {},
   "outputs": [],
   "source": [
    "#sns.heatmap(confusion_matrix(y_test, y_pred_knn), annot=True, fmt='.0f')\n",
    "#plt.ylabel('Etiquetas reales')\n",
    "#plt.xlabel('Etiquetas predichas');"
   ]
  },
  {
   "cell_type": "markdown",
   "id": "c6159087",
   "metadata": {},
   "source": [
    "Lo mismo con GRIDSEARCH. Quise utilizar gridsearch para mejorar la performance de los modelos pero no pude ejecutarla por la cantidad de data."
   ]
  },
  {
   "cell_type": "code",
   "execution_count": 789,
   "id": "8867138f",
   "metadata": {},
   "outputs": [],
   "source": [
    "#Aplicación de GRIDSEARCH"
   ]
  },
  {
   "cell_type": "code",
   "execution_count": 790,
   "id": "6bf102d7",
   "metadata": {},
   "outputs": [],
   "source": [
    "#from sklearn.model_selection import GridSearchCV, train_test_split"
   ]
  },
  {
   "cell_type": "code",
   "execution_count": 791,
   "id": "c6dd818a",
   "metadata": {},
   "outputs": [],
   "source": [
    "#models = [LogisticRegression(),\n",
    "#          KNeighborsClassifier()]"
   ]
  },
  {
   "cell_type": "code",
   "execution_count": 792,
   "id": "9835829d",
   "metadata": {},
   "outputs": [],
   "source": [
    "#params = [\n",
    "#    {'C': [1, 10, 100, 1000],\n",
    "#     'penalty': ['l1', 'l2',],\n",
    "#     'solver': ['saga']},\n",
    "#    {'n_neighbors': range(1,15),\n",
    "#     'weights' : ['uniform', 'distance'],\n",
    "#     'p' : [1, 2, 3]}\n",
    "#]"
   ]
  },
  {
   "cell_type": "code",
   "execution_count": 793,
   "id": "55821b8c",
   "metadata": {},
   "outputs": [],
   "source": [
    "#from sklearn.model_selection import StratifiedKFold\n",
    "#folds=StratifiedKFold(n_splits=10, random_state=19, shuffle=True)"
   ]
  },
  {
   "cell_type": "code",
   "execution_count": 794,
   "id": "8974b84c",
   "metadata": {},
   "outputs": [],
   "source": [
    "#grids = []\n",
    "#for i in range(len(models)):\n",
    "#    gs = GridSearchCV(estimator=models[i], param_grid=params[i], scoring='accuracy', cv=folds, n_jobs=4)\n",
    "#    print (gs)\n",
    "#    fit = gs.fit(X_train_std, y_train)\n",
    "#    grids.append(fit)"
   ]
  },
  {
   "cell_type": "code",
   "execution_count": 795,
   "id": "840ca7be",
   "metadata": {},
   "outputs": [],
   "source": [
    "#for i in grids:\n",
    "#    print (i.best_score_)\n",
    "#    print (i.best_estimator_)\n",
    "#    print (i.best_params_)"
   ]
  },
  {
   "cell_type": "code",
   "execution_count": 796,
   "id": "1feacfc3",
   "metadata": {},
   "outputs": [],
   "source": [
    "#pd.DataFrame(grids[0].cv_results_)"
   ]
  },
  {
   "cell_type": "code",
   "execution_count": 797,
   "id": "ba6396b7",
   "metadata": {},
   "outputs": [],
   "source": [
    "#pd.DataFrame(grids[1].cv_results_)"
   ]
  },
  {
   "cell_type": "code",
   "execution_count": null,
   "id": "2ffbe3fc",
   "metadata": {},
   "outputs": [],
   "source": []
  },
  {
   "cell_type": "code",
   "execution_count": 798,
   "id": "e4f8694e",
   "metadata": {},
   "outputs": [],
   "source": [
    "#X_test = scaler.transform(X_test)\n",
    "#X_test = scaler.transform(X_test)\n",
    "#y_preds_log = grids[0].predict(X_test)\n",
    "#y_preds_knn = grids[1].predict(X_test)"
   ]
  },
  {
   "cell_type": "code",
   "execution_count": 799,
   "id": "452c462c",
   "metadata": {},
   "outputs": [],
   "source": [
    "#print (classification_report(y_test, y_preds_log))"
   ]
  },
  {
   "cell_type": "code",
   "execution_count": 800,
   "id": "fe0f039b",
   "metadata": {},
   "outputs": [],
   "source": [
    "#confusion_matrix(y_test, y_preds_log)"
   ]
  },
  {
   "cell_type": "code",
   "execution_count": 801,
   "id": "e2e013b7",
   "metadata": {},
   "outputs": [],
   "source": [
    "#print (classification_report(y_test, y_preds_knn)"
   ]
  },
  {
   "cell_type": "code",
   "execution_count": 802,
   "id": "6db9817b",
   "metadata": {},
   "outputs": [],
   "source": [
    "#confusion_matrix(y_test, y_preds_knn)"
   ]
  },
  {
   "cell_type": "markdown",
   "id": "3d03ee11",
   "metadata": {},
   "source": [
    "Modelo 3: CART"
   ]
  },
  {
   "cell_type": "code",
   "execution_count": 803,
   "id": "0c00c254",
   "metadata": {},
   "outputs": [],
   "source": [
    "from sklearn import tree"
   ]
  },
  {
   "cell_type": "code",
   "execution_count": 804,
   "id": "9a165c24",
   "metadata": {},
   "outputs": [],
   "source": [
    "tr = tree.DecisionTreeClassifier(random_state=17)\n",
    "fit3= tr.fit(X_train_std, y_train)"
   ]
  },
  {
   "cell_type": "code",
   "execution_count": 805,
   "id": "016be0ee",
   "metadata": {},
   "outputs": [
    {
     "data": {
      "text/plain": [
       "array([2.49672745e-03, 7.92991519e-05, 1.72052529e-02, 2.09130267e-02,\n",
       "       1.38108889e-02, 1.28972326e-02, 1.37376503e-02, 1.59694478e-02,\n",
       "       1.39593600e-02, 1.19825017e-02, 1.23031487e-02, 1.28496796e-02,\n",
       "       1.26435137e-02, 1.22779534e-02, 1.28283650e-02, 1.24830388e-02,\n",
       "       1.19830439e-02, 1.51853561e-02, 1.38800112e-02, 1.13859336e-02,\n",
       "       1.13756075e-02, 1.19450932e-02, 1.33908752e-02, 1.25131607e-02,\n",
       "       1.35374507e-02, 1.37080390e-02, 1.25021241e-02, 1.21725458e-02,\n",
       "       1.39793296e-02, 1.29349127e-02, 1.23514699e-02, 1.56709016e-02,\n",
       "       1.29376051e-02, 1.31219494e-02, 1.10709270e-02, 1.26041637e-02,\n",
       "       1.24688362e-02, 1.17100320e-02, 1.29004332e-02, 1.32175249e-02,\n",
       "       8.75462092e-03, 1.27887418e-02, 1.06353101e-02, 1.13328291e-02,\n",
       "       1.00277362e-02, 8.42575029e-03, 8.12824663e-03, 1.11855776e-02,\n",
       "       1.26503769e-02, 9.58567667e-03, 1.12771443e-02, 1.18485245e-02,\n",
       "       3.39612591e-05, 3.74213436e-04, 4.14064666e-03, 8.35536763e-04,\n",
       "       3.31450157e-04, 6.36305071e-04, 3.27365372e-04, 2.23016286e-03,\n",
       "       3.15152586e-04, 1.93166827e-03, 1.18864407e-05, 1.81832494e-03,\n",
       "       3.30811425e-02, 8.01757879e-04, 1.72648282e-03, 1.70013617e-03,\n",
       "       5.04498363e-05, 4.73017369e-03, 4.17271802e-04, 1.05879183e-03,\n",
       "       0.00000000e+00, 8.03151374e-03, 5.30905172e-04, 6.39593637e-03,\n",
       "       6.63813034e-04, 1.88219046e-04, 4.87224382e-04, 1.88787196e-03,\n",
       "       0.00000000e+00, 1.91565448e-03, 6.25245670e-03, 1.05645356e-02,\n",
       "       5.98280539e-04, 1.00395872e-03, 0.00000000e+00, 6.75022798e-04,\n",
       "       6.89106343e-04, 0.00000000e+00, 7.67444803e-03, 6.46987152e-03,\n",
       "       1.27016607e-03, 0.00000000e+00, 3.27045264e-04, 4.77519171e-04,\n",
       "       9.15748754e-04, 5.07650071e-04, 6.31781392e-03, 1.56577477e-03,\n",
       "       6.06324335e-04, 9.88845150e-03, 5.84630915e-03, 6.59976225e-04,\n",
       "       6.20903050e-04, 1.93584474e-03, 9.96700886e-05, 3.49548061e-03,\n",
       "       1.12041355e-03, 2.45685779e-03, 1.51876766e-04, 1.18879833e-03,\n",
       "       2.09123118e-04, 1.25062568e-03, 8.01354672e-04, 0.00000000e+00,\n",
       "       8.63471712e-03, 4.71067874e-04, 0.00000000e+00, 3.61016588e-03,\n",
       "       1.88581318e-04, 6.27156855e-05, 0.00000000e+00, 2.93431547e-03,\n",
       "       4.61449059e-04, 5.53291601e-04, 1.62087828e-05, 2.38674348e-04,\n",
       "       6.87134333e-03, 7.13186441e-05, 7.43758958e-03, 1.45042877e-04,\n",
       "       1.83016472e-04, 0.00000000e+00, 3.71254027e-03, 0.00000000e+00,\n",
       "       2.64484997e-03, 1.62497639e-03, 9.76589661e-04, 3.02875756e-03,\n",
       "       7.01275646e-03, 9.11392665e-03, 9.16041125e-03, 9.37809342e-03,\n",
       "       8.79329903e-03, 7.99834786e-03, 9.37078231e-03, 7.44143673e-03,\n",
       "       9.47660163e-03, 9.22868427e-03, 7.59325632e-03, 8.26394430e-03,\n",
       "       8.27892563e-03, 9.36648319e-03, 7.53167653e-03, 7.70155829e-03,\n",
       "       4.74995461e-03, 4.09199729e-03, 1.73244225e-03, 9.54461134e-03,\n",
       "       1.43832243e-02])"
      ]
     },
     "execution_count": 805,
     "metadata": {},
     "output_type": "execute_result"
    }
   ],
   "source": [
    "tr.feature_importances_"
   ]
  },
  {
   "cell_type": "code",
   "execution_count": 806,
   "id": "801af6c9",
   "metadata": {},
   "outputs": [],
   "source": [
    "y_pred_test_tree = tr.predict(X_test_std)"
   ]
  },
  {
   "cell_type": "code",
   "execution_count": 807,
   "id": "717cf5d6",
   "metadata": {},
   "outputs": [
    {
     "data": {
      "text/plain": [
       "array([[2613, 3062],\n",
       "       [3063, 8314]], dtype=int64)"
      ]
     },
     "execution_count": 807,
     "metadata": {},
     "output_type": "execute_result"
    }
   ],
   "source": [
    "confusion_matrix(y_test, y_pred_test_tree)"
   ]
  },
  {
   "cell_type": "code",
   "execution_count": 808,
   "id": "64101519",
   "metadata": {},
   "outputs": [
    {
     "data": {
      "text/plain": [
       "0.6408045977011494"
      ]
     },
     "execution_count": 808,
     "metadata": {},
     "output_type": "execute_result"
    }
   ],
   "source": [
    "accuracy_score(y_test, y_pred_test_tree)"
   ]
  },
  {
   "cell_type": "markdown",
   "id": "827b1512",
   "metadata": {},
   "source": [
    "Evalúa tu modelo.\n",
    "-  ¿Qué performance tiene? 0.64\n",
    "Lo que no es bueno, ya que solo considerando la distribución de la variable atraso, podría decir que un 66% se atrasa. Este accuracy es peor que esa base.\n",
    "-  ¿Qué métricas usaste para evaluar esa performance y por qué? \n",
    "Para evaluar la perfomance use el accuracy score, ya que esta muestra la proporción de casos correctamente clasificados de los datos de test sobre el total de casos de test.\n",
    "-  ¿Por qué elegiste ese algoritmo en particular? \n",
    "Lo utilice para despues poder hacer modelos de ensamble y ver si se podría mejorar la performance.  En general los modelos CART no tienen el mismo nivel de precisión en la predicción comparados con otros enfoques para regresión y clasificación vistos previamente.\n",
    "-  ¿Cómo podrías mejorar la performance?¶\n",
    " Podría mejorar la perfomance haciendo un ensamble con los dos modelos anteriores"
   ]
  },
  {
   "cell_type": "code",
   "execution_count": 809,
   "id": "5143c9a3",
   "metadata": {},
   "outputs": [],
   "source": [
    "from scipy.stats import mode"
   ]
  },
  {
   "cell_type": "code",
   "execution_count": 810,
   "id": "ac79e153",
   "metadata": {},
   "outputs": [],
   "source": [
    "def predict_ensamble(X, model_1, model_2, model_3):\n",
    "    y_pred_1 = lr.predict(X)\n",
    "    y_pred_2 = gnb.predict(X)\n",
    "    y_pred_3 = tr.predict(X)\n",
    "    result_mode = mode([y_test_pred, Y_pred_GNB, y_pred_test_tree]).mode\n",
    "    result = np.transpose(result_mode)    \n",
    "    return result"
   ]
  },
  {
   "cell_type": "code",
   "execution_count": 811,
   "id": "c8d2ac23",
   "metadata": {},
   "outputs": [
    {
     "name": "stdout",
     "output_type": "stream",
     "text": [
      "0.6480178278207834\n",
      "[[3065 2610]\n",
      " [3392 7985]]\n"
     ]
    }
   ],
   "source": [
    "predict_cat_ensemble = predict_ensamble(X_test_std, fit1, fit2, fit3)\n",
    "accuracy_ensemble = accuracy_score(y_test, predict_cat_ensemble)\n",
    "print(accuracy_ensemble)\n",
    "predict_cat_ensemble.shape\n",
    "conf_mat_ensemble = confusion_matrix(y_test, predict_cat_ensemble)\n",
    "print(conf_mat_ensemble)"
   ]
  },
  {
   "cell_type": "code",
   "execution_count": null,
   "id": "616cb3f6",
   "metadata": {},
   "outputs": [],
   "source": []
  },
  {
   "cell_type": "code",
   "execution_count": 812,
   "id": "7c2b3e2b",
   "metadata": {},
   "outputs": [],
   "source": [
    "def predict_ensamble(X, model_1, model_3):\n",
    "    y_pred_1 = lr.predict(X)\n",
    "    y_pred_3 = tr.predict(X)\n",
    "    result_mode = mode([y_test_pred, y_pred_test_tree]).mode\n",
    "    result = np.transpose(result_mode)    \n",
    "    return result"
   ]
  },
  {
   "cell_type": "code",
   "execution_count": 813,
   "id": "b51a3421",
   "metadata": {},
   "outputs": [
    {
     "name": "stdout",
     "output_type": "stream",
     "text": [
      "0.6437954492141684\n",
      "[[3120 2555]\n",
      " [3519 7858]]\n"
     ]
    }
   ],
   "source": [
    "predict_cat_ensemble = predict_ensamble(X_test_std, fit1, fit3)\n",
    "accuracy_ensemble = accuracy_score(y_test, predict_cat_ensemble)\n",
    "print(accuracy_ensemble)\n",
    "predict_cat_ensemble.shape\n",
    "conf_mat_ensemble = confusion_matrix(y_test, predict_cat_ensemble)\n",
    "print(conf_mat_ensemble)"
   ]
  },
  {
   "cell_type": "code",
   "execution_count": null,
   "id": "1eaf6e7d",
   "metadata": {},
   "outputs": [],
   "source": []
  },
  {
   "cell_type": "code",
   "execution_count": 814,
   "id": "a1f448b0",
   "metadata": {},
   "outputs": [],
   "source": [
    "def predict_ensamble(X, model_1, model_2):\n",
    "    y_pred_1 = lr.predict(X)\n",
    "    y_pred_2 = gnb.predict(X)\n",
    "    result_mode = mode([y_test_pred, Y_pred_GNB]).mode\n",
    "    result = np.transpose(result_mode)    \n",
    "    return result"
   ]
  },
  {
   "cell_type": "code",
   "execution_count": 815,
   "id": "851561fc",
   "metadata": {},
   "outputs": [
    {
     "name": "stdout",
     "output_type": "stream",
     "text": [
      "0.37197982641332394\n",
      "[[ 5466   209]\n",
      " [10500   877]]\n"
     ]
    }
   ],
   "source": [
    "predict_cat_ensemble = predict_ensamble(X_test_std, fit1, fit2)\n",
    "accuracy_ensemble = accuracy_score(y_test, predict_cat_ensemble)\n",
    "print(accuracy_ensemble)\n",
    "predict_cat_ensemble.shape\n",
    "conf_mat_ensemble = confusion_matrix(y_test, predict_cat_ensemble)\n",
    "print(conf_mat_ensemble)"
   ]
  },
  {
   "cell_type": "code",
   "execution_count": 816,
   "id": "6f5f67be",
   "metadata": {},
   "outputs": [],
   "source": [
    "def predict_ensamble(X, model_2, model_3):\n",
    "    y_pred_2 = gnb.predict(X)\n",
    "    y_pred_3 = tr.predict(X)\n",
    "    result_mode = mode([Y_pred_GNB, y_pred_test_tree]).mode\n",
    "    result = np.transpose(result_mode)    \n",
    "    return result"
   ]
  },
  {
   "cell_type": "code",
   "execution_count": 817,
   "id": "55be426e",
   "metadata": {},
   "outputs": [
    {
     "name": "stdout",
     "output_type": "stream",
     "text": [
      "0.3677574478067089\n",
      "[[ 5521   154]\n",
      " [10627   750]]\n"
     ]
    }
   ],
   "source": [
    "predict_cat_ensemble = predict_ensamble(X_test_std, fit2, fit3)\n",
    "accuracy_ensemble = accuracy_score(y_test, predict_cat_ensemble)\n",
    "print(accuracy_ensemble)\n",
    "predict_cat_ensemble.shape\n",
    "conf_mat_ensemble = confusion_matrix(y_test, predict_cat_ensemble)\n",
    "print(conf_mat_ensemble)"
   ]
  },
  {
   "cell_type": "markdown",
   "id": "dc45a192",
   "metadata": {},
   "source": [
    "Realizar ensamble no mejora la perfomance del modelo. El mejor modelo para este caso sería la regresión logistica con un 0,69 de accuracy. Gridsearch podría ayudar a mejorar estos valores. También probar ensamble con KNN "
   ]
  },
  {
   "cell_type": "code",
   "execution_count": null,
   "id": "26e904f9",
   "metadata": {},
   "outputs": [],
   "source": []
  }
 ],
 "metadata": {
  "kernelspec": {
   "display_name": "Python 3",
   "language": "python",
   "name": "python3"
  },
  "language_info": {
   "codemirror_mode": {
    "name": "ipython",
    "version": 3
   },
   "file_extension": ".py",
   "mimetype": "text/x-python",
   "name": "python",
   "nbconvert_exporter": "python",
   "pygments_lexer": "ipython3",
   "version": "3.8.10"
  }
 },
 "nbformat": 4,
 "nbformat_minor": 5
}
