{
 "cells": [
  {
   "cell_type": "code",
   "execution_count": 521,
   "id": "162527f2",
   "metadata": {},
   "outputs": [],
   "source": [
    "import pandas as pd\n",
    "import numpy as np\n",
    "from datetime import datetime, date, time\n",
    "import seaborn as sns"
   ]
  },
  {
   "cell_type": "code",
   "execution_count": 522,
   "id": "ca9fbba7",
   "metadata": {},
   "outputs": [
    {
     "name": "stderr",
     "output_type": "stream",
     "text": [
      "C:\\Users\\Javiera\\anaconda3\\envs\\dhdsblend2021\\lib\\site-packages\\IPython\\core\\interactiveshell.py:3165: DtypeWarning: Columns (1,6) have mixed types.Specify dtype option on import or set low_memory=False.\n",
      "  has_raised = await self.run_ast_nodes(code_ast.body, cell_name,\n"
     ]
    }
   ],
   "source": [
    "data_location= \"dataset_SCL.csv\"\n",
    "data= pd.read_csv(data_location,  sep=\",\")"
   ]
  },
  {
   "cell_type": "code",
   "execution_count": 523,
   "id": "fe8dc37e",
   "metadata": {},
   "outputs": [
    {
     "data": {
      "text/html": [
       "<div>\n",
       "<style scoped>\n",
       "    .dataframe tbody tr th:only-of-type {\n",
       "        vertical-align: middle;\n",
       "    }\n",
       "\n",
       "    .dataframe tbody tr th {\n",
       "        vertical-align: top;\n",
       "    }\n",
       "\n",
       "    .dataframe thead th {\n",
       "        text-align: right;\n",
       "    }\n",
       "</style>\n",
       "<table border=\"1\" class=\"dataframe\">\n",
       "  <thead>\n",
       "    <tr style=\"text-align: right;\">\n",
       "      <th></th>\n",
       "      <th>Fecha-I</th>\n",
       "      <th>Vlo-I</th>\n",
       "      <th>Ori-I</th>\n",
       "      <th>Des-I</th>\n",
       "      <th>Emp-I</th>\n",
       "      <th>Fecha-O</th>\n",
       "      <th>Vlo-O</th>\n",
       "      <th>Ori-O</th>\n",
       "      <th>Des-O</th>\n",
       "      <th>Emp-O</th>\n",
       "      <th>DIA</th>\n",
       "      <th>MES</th>\n",
       "      <th>AÑO</th>\n",
       "      <th>DIANOM</th>\n",
       "      <th>TIPOVUELO</th>\n",
       "      <th>OPERA</th>\n",
       "      <th>SIGLAORI</th>\n",
       "      <th>SIGLADES</th>\n",
       "    </tr>\n",
       "  </thead>\n",
       "  <tbody>\n",
       "    <tr>\n",
       "      <th>59959</th>\n",
       "      <td>2017-11-16 19:55:00</td>\n",
       "      <td>350</td>\n",
       "      <td>SCEL</td>\n",
       "      <td>SCCF</td>\n",
       "      <td>LAN</td>\n",
       "      <td>2017-11-16 19:52:00</td>\n",
       "      <td>350</td>\n",
       "      <td>SCEL</td>\n",
       "      <td>SCCF</td>\n",
       "      <td>LXP</td>\n",
       "      <td>16</td>\n",
       "      <td>11</td>\n",
       "      <td>2017</td>\n",
       "      <td>Jueves</td>\n",
       "      <td>N</td>\n",
       "      <td>Grupo LATAM</td>\n",
       "      <td>Santiago</td>\n",
       "      <td>Calama</td>\n",
       "    </tr>\n",
       "    <tr>\n",
       "      <th>68201</th>\n",
       "      <td>2017-12-22 14:55:00</td>\n",
       "      <td>400</td>\n",
       "      <td>SCEL</td>\n",
       "      <td>SPJC</td>\n",
       "      <td>JAT</td>\n",
       "      <td>2017-12-22 15:41:00</td>\n",
       "      <td>400</td>\n",
       "      <td>SCEL</td>\n",
       "      <td>SPJC</td>\n",
       "      <td>JAT</td>\n",
       "      <td>22</td>\n",
       "      <td>12</td>\n",
       "      <td>2017</td>\n",
       "      <td>Viernes</td>\n",
       "      <td>I</td>\n",
       "      <td>JetSmart SPA</td>\n",
       "      <td>Santiago</td>\n",
       "      <td>Lima</td>\n",
       "    </tr>\n",
       "    <tr>\n",
       "      <th>33870</th>\n",
       "      <td>2017-07-12 15:05:00</td>\n",
       "      <td>45</td>\n",
       "      <td>SCEL</td>\n",
       "      <td>SCJO</td>\n",
       "      <td>SKU</td>\n",
       "      <td>2017-07-12 15:14:00</td>\n",
       "      <td>45</td>\n",
       "      <td>SCEL</td>\n",
       "      <td>SCJO</td>\n",
       "      <td>SKU</td>\n",
       "      <td>12</td>\n",
       "      <td>7</td>\n",
       "      <td>2017</td>\n",
       "      <td>Miercoles</td>\n",
       "      <td>N</td>\n",
       "      <td>Sky Airline</td>\n",
       "      <td>Santiago</td>\n",
       "      <td>Osorno</td>\n",
       "    </tr>\n",
       "    <tr>\n",
       "      <th>39165</th>\n",
       "      <td>2017-08-03 10:50:00</td>\n",
       "      <td>702</td>\n",
       "      <td>SCEL</td>\n",
       "      <td>SAEZ</td>\n",
       "      <td>KLM</td>\n",
       "      <td>2017-08-03 10:48:00</td>\n",
       "      <td>702</td>\n",
       "      <td>SCEL</td>\n",
       "      <td>SAEZ</td>\n",
       "      <td>KLM</td>\n",
       "      <td>3</td>\n",
       "      <td>8</td>\n",
       "      <td>2017</td>\n",
       "      <td>Jueves</td>\n",
       "      <td>I</td>\n",
       "      <td>K.L.M.</td>\n",
       "      <td>Santiago</td>\n",
       "      <td>Buenos Aires</td>\n",
       "    </tr>\n",
       "    <tr>\n",
       "      <th>54748</th>\n",
       "      <td>2017-10-21 14:55:00</td>\n",
       "      <td>642</td>\n",
       "      <td>SCEL</td>\n",
       "      <td>SPJC</td>\n",
       "      <td>LAN</td>\n",
       "      <td>2017-10-21 15:00:00</td>\n",
       "      <td>642</td>\n",
       "      <td>SCEL</td>\n",
       "      <td>SPJC</td>\n",
       "      <td>LAN</td>\n",
       "      <td>21</td>\n",
       "      <td>10</td>\n",
       "      <td>2017</td>\n",
       "      <td>Sabado</td>\n",
       "      <td>I</td>\n",
       "      <td>Grupo LATAM</td>\n",
       "      <td>Santiago</td>\n",
       "      <td>Lima</td>\n",
       "    </tr>\n",
       "  </tbody>\n",
       "</table>\n",
       "</div>"
      ],
      "text/plain": [
       "                   Fecha-I Vlo-I Ori-I Des-I Emp-I              Fecha-O Vlo-O  \\\n",
       "59959  2017-11-16 19:55:00   350  SCEL  SCCF   LAN  2017-11-16 19:52:00   350   \n",
       "68201  2017-12-22 14:55:00   400  SCEL  SPJC   JAT  2017-12-22 15:41:00   400   \n",
       "33870  2017-07-12 15:05:00    45  SCEL  SCJO   SKU  2017-07-12 15:14:00    45   \n",
       "39165  2017-08-03 10:50:00   702  SCEL  SAEZ   KLM  2017-08-03 10:48:00   702   \n",
       "54748  2017-10-21 14:55:00   642  SCEL  SPJC   LAN  2017-10-21 15:00:00   642   \n",
       "\n",
       "      Ori-O Des-O Emp-O  DIA  MES   AÑO     DIANOM TIPOVUELO         OPERA  \\\n",
       "59959  SCEL  SCCF   LXP   16   11  2017     Jueves         N   Grupo LATAM   \n",
       "68201  SCEL  SPJC   JAT   22   12  2017    Viernes         I  JetSmart SPA   \n",
       "33870  SCEL  SCJO   SKU   12    7  2017  Miercoles         N   Sky Airline   \n",
       "39165  SCEL  SAEZ   KLM    3    8  2017     Jueves         I        K.L.M.   \n",
       "54748  SCEL  SPJC   LAN   21   10  2017     Sabado         I   Grupo LATAM   \n",
       "\n",
       "       SIGLAORI      SIGLADES  \n",
       "59959  Santiago        Calama  \n",
       "68201  Santiago          Lima  \n",
       "33870  Santiago        Osorno  \n",
       "39165  Santiago  Buenos Aires  \n",
       "54748  Santiago          Lima  "
      ]
     },
     "execution_count": 523,
     "metadata": {},
     "output_type": "execute_result"
    }
   ],
   "source": [
    "data.sample(5)"
   ]
  },
  {
   "cell_type": "markdown",
   "id": "4c75c203",
   "metadata": {},
   "source": [
    "## Siglas\n",
    "Fecha-I : Fecha y hora programada del vuelo.  \n",
    "Vlo-I : Número de vuelo programado.  \n",
    "Ori-I : Código de ciudad de origen programado.  \n",
    "Des-I : Código de ciudad de destino programado.  \n",
    "Emp-I : Código aerolínea de vuelo programado.  \n",
    "Fecha-O : Fecha y hora de operación del vuelo.  \n",
    "Vlo-O : Número de vuelo de operación del vuelo.  \n",
    "Ori-O : Código de ciudad de origen de operación  \n",
    "Des-O : Código de ciudad de destino de operación.  \n",
    "Emp-O : Código aerolínea de vuelo operado.  \n",
    "DIA : Día del mes de operación del vuelo.  \n",
    "MES : Número de mes de operación del vuelo.  \n",
    "AÑO : Año de operación del vuelo.  \n",
    "DIANOM : Día de la semana de operación del vuelo.  \n",
    "TIPOVUELO : Tipo de vuelo, I =Internacional, N =Nacional.  \n",
    "OPERA : Nombre de aerolínea que opera.  \n",
    "SIGLAORI : Nombre ciudad origen.  \n",
    "SIGLADES : Nombre ciudad destino  "
   ]
  },
  {
   "cell_type": "code",
   "execution_count": 524,
   "id": "ada47cf0",
   "metadata": {},
   "outputs": [
    {
     "data": {
      "text/plain": [
       "(68206, 18)"
      ]
     },
     "execution_count": 524,
     "metadata": {},
     "output_type": "execute_result"
    }
   ],
   "source": [
    "data.shape"
   ]
  },
  {
   "cell_type": "code",
   "execution_count": 525,
   "id": "2eececd7",
   "metadata": {},
   "outputs": [
    {
     "data": {
      "text/plain": [
       "Fecha-I      0\n",
       "Vlo-I        0\n",
       "Ori-I        0\n",
       "Des-I        0\n",
       "Emp-I        0\n",
       "Fecha-O      0\n",
       "Vlo-O        1\n",
       "Ori-O        0\n",
       "Des-O        0\n",
       "Emp-O        0\n",
       "DIA          0\n",
       "MES          0\n",
       "AÑO          0\n",
       "DIANOM       0\n",
       "TIPOVUELO    0\n",
       "OPERA        0\n",
       "SIGLAORI     0\n",
       "SIGLADES     0\n",
       "dtype: int64"
      ]
     },
     "execution_count": 525,
     "metadata": {},
     "output_type": "execute_result"
    }
   ],
   "source": [
    "data.isnull().sum()"
   ]
  },
  {
   "cell_type": "code",
   "execution_count": 526,
   "id": "16181fa3",
   "metadata": {},
   "outputs": [
    {
     "data": {
      "text/plain": [
       "Fecha-I      object\n",
       "Vlo-I        object\n",
       "Ori-I        object\n",
       "Des-I        object\n",
       "Emp-I        object\n",
       "Fecha-O      object\n",
       "Vlo-O        object\n",
       "Ori-O        object\n",
       "Des-O        object\n",
       "Emp-O        object\n",
       "DIA           int64\n",
       "MES           int64\n",
       "AÑO           int64\n",
       "DIANOM       object\n",
       "TIPOVUELO    object\n",
       "OPERA        object\n",
       "SIGLAORI     object\n",
       "SIGLADES     object\n",
       "dtype: object"
      ]
     },
     "execution_count": 526,
     "metadata": {},
     "output_type": "execute_result"
    }
   ],
   "source": [
    "data.dtypes"
   ]
  },
  {
   "cell_type": "code",
   "execution_count": 527,
   "id": "4cb62077",
   "metadata": {},
   "outputs": [
    {
     "data": {
      "text/html": [
       "<div>\n",
       "<style scoped>\n",
       "    .dataframe tbody tr th:only-of-type {\n",
       "        vertical-align: middle;\n",
       "    }\n",
       "\n",
       "    .dataframe tbody tr th {\n",
       "        vertical-align: top;\n",
       "    }\n",
       "\n",
       "    .dataframe thead th {\n",
       "        text-align: right;\n",
       "    }\n",
       "</style>\n",
       "<table border=\"1\" class=\"dataframe\">\n",
       "  <thead>\n",
       "    <tr style=\"text-align: right;\">\n",
       "      <th></th>\n",
       "      <th>DIA</th>\n",
       "      <th>MES</th>\n",
       "      <th>AÑO</th>\n",
       "    </tr>\n",
       "  </thead>\n",
       "  <tbody>\n",
       "    <tr>\n",
       "      <th>count</th>\n",
       "      <td>68206.000000</td>\n",
       "      <td>68206.000000</td>\n",
       "      <td>68206.000000</td>\n",
       "    </tr>\n",
       "    <tr>\n",
       "      <th>mean</th>\n",
       "      <td>15.714790</td>\n",
       "      <td>6.622585</td>\n",
       "      <td>2017.000029</td>\n",
       "    </tr>\n",
       "    <tr>\n",
       "      <th>std</th>\n",
       "      <td>8.782886</td>\n",
       "      <td>3.523321</td>\n",
       "      <td>0.005415</td>\n",
       "    </tr>\n",
       "    <tr>\n",
       "      <th>min</th>\n",
       "      <td>1.000000</td>\n",
       "      <td>1.000000</td>\n",
       "      <td>2017.000000</td>\n",
       "    </tr>\n",
       "    <tr>\n",
       "      <th>25%</th>\n",
       "      <td>8.000000</td>\n",
       "      <td>3.000000</td>\n",
       "      <td>2017.000000</td>\n",
       "    </tr>\n",
       "    <tr>\n",
       "      <th>50%</th>\n",
       "      <td>16.000000</td>\n",
       "      <td>7.000000</td>\n",
       "      <td>2017.000000</td>\n",
       "    </tr>\n",
       "    <tr>\n",
       "      <th>75%</th>\n",
       "      <td>23.000000</td>\n",
       "      <td>10.000000</td>\n",
       "      <td>2017.000000</td>\n",
       "    </tr>\n",
       "    <tr>\n",
       "      <th>max</th>\n",
       "      <td>31.000000</td>\n",
       "      <td>12.000000</td>\n",
       "      <td>2018.000000</td>\n",
       "    </tr>\n",
       "  </tbody>\n",
       "</table>\n",
       "</div>"
      ],
      "text/plain": [
       "                DIA           MES           AÑO\n",
       "count  68206.000000  68206.000000  68206.000000\n",
       "mean      15.714790      6.622585   2017.000029\n",
       "std        8.782886      3.523321      0.005415\n",
       "min        1.000000      1.000000   2017.000000\n",
       "25%        8.000000      3.000000   2017.000000\n",
       "50%       16.000000      7.000000   2017.000000\n",
       "75%       23.000000     10.000000   2017.000000\n",
       "max       31.000000     12.000000   2018.000000"
      ]
     },
     "execution_count": 527,
     "metadata": {},
     "output_type": "execute_result"
    }
   ],
   "source": [
    "data.describe()"
   ]
  },
  {
   "cell_type": "code",
   "execution_count": null,
   "id": "0c42ecbf",
   "metadata": {},
   "outputs": [],
   "source": []
  },
  {
   "cell_type": "code",
   "execution_count": null,
   "id": "19228d96",
   "metadata": {},
   "outputs": [],
   "source": []
  },
  {
   "cell_type": "code",
   "execution_count": null,
   "id": "ad2d550a",
   "metadata": {},
   "outputs": [],
   "source": []
  },
  {
   "cell_type": "code",
   "execution_count": 528,
   "id": "9eb1b221",
   "metadata": {},
   "outputs": [
    {
     "data": {
      "text/plain": [
       "True    68206\n",
       "dtype: int64"
      ]
     },
     "execution_count": 528,
     "metadata": {},
     "output_type": "execute_result"
    }
   ],
   "source": [
    "(data[\"Ori-I\"] == data[\"Ori-O\"]).value_counts()"
   ]
  },
  {
   "cell_type": "code",
   "execution_count": 529,
   "id": "dcdbd39b",
   "metadata": {},
   "outputs": [],
   "source": [
    "# Siempre salen de la ciudad de origen programada, por tanto eliminaremos ori-o, ya que no aporta valor en la información\n"
   ]
  },
  {
   "cell_type": "code",
   "execution_count": 530,
   "id": "7b1146bf",
   "metadata": {},
   "outputs": [
    {
     "data": {
      "text/plain": [
       "True     0.972876\n",
       "False    0.027124\n",
       "dtype: float64"
      ]
     },
     "execution_count": 530,
     "metadata": {},
     "output_type": "execute_result"
    }
   ],
   "source": [
    "(data['Vlo-I'] == data['Vlo-O']).value_counts()/data.shape[0]"
   ]
  },
  {
   "cell_type": "code",
   "execution_count": 531,
   "id": "49403492",
   "metadata": {},
   "outputs": [],
   "source": [
    "# Se observa que el numero de vuelo es distinto un 2% de las veces.\n",
    "#El numero de vuelo en si no aporta información, pero si las veces que este es distinto puede afectar en que un vuelo\n",
    "#salga tarde, por eso voy a crear una nueva columna que indique 1 si el N° de vuelo es distinto del inicial y 0 si es el mismo\n",
    "# luego de lo anterior dropeare las columnas Vlo-I y Vlo-o"
   ]
  },
  {
   "cell_type": "code",
   "execution_count": 532,
   "id": "148b77dc",
   "metadata": {},
   "outputs": [],
   "source": [
    "data[\"Cambio_Nvuelo\"]= np.where(data['Vlo-I']==data['Vlo-O'],0,1)"
   ]
  },
  {
   "cell_type": "code",
   "execution_count": 533,
   "id": "5e1c7abc",
   "metadata": {},
   "outputs": [
    {
     "data": {
      "text/plain": [
       "0    0.972876\n",
       "1    0.027124\n",
       "Name: Cambio_Nvuelo, dtype: float64"
      ]
     },
     "execution_count": 533,
     "metadata": {},
     "output_type": "execute_result"
    }
   ],
   "source": [
    "data['Cambio_Nvuelo'].value_counts()/data.shape[0]"
   ]
  },
  {
   "cell_type": "code",
   "execution_count": 534,
   "id": "4e222e1e",
   "metadata": {},
   "outputs": [
    {
     "data": {
      "text/plain": [
       "True     0.999589\n",
       "False    0.000411\n",
       "dtype: float64"
      ]
     },
     "execution_count": 534,
     "metadata": {},
     "output_type": "execute_result"
    }
   ],
   "source": [
    "(data['Des-I'] == data['Des-O']).value_counts()/data.shape[0]"
   ]
  },
  {
   "cell_type": "code",
   "execution_count": 535,
   "id": "d46f9716",
   "metadata": {},
   "outputs": [],
   "source": [
    "#Es muy poco probable que un vuelo cambie el destino inicial. Aun así al igual que en al anterior nos interesa saber si el cambio de\n",
    "#destino afecta en el retraso del vuelo, por lo que creare una variable que indique:\n",
    "#1: si cambia el destino 0: si no cambia\n",
    "#Segun lo anterior las columnas Des-I y Des-O ya no aportan inf. asique las eliminaré"
   ]
  },
  {
   "cell_type": "code",
   "execution_count": 536,
   "id": "be11b0af",
   "metadata": {},
   "outputs": [],
   "source": [
    "data['Cambio_destino']=np.where(data['Des-I']== data['Des-O'],0,1)"
   ]
  },
  {
   "cell_type": "code",
   "execution_count": 537,
   "id": "d230e9cb",
   "metadata": {},
   "outputs": [
    {
     "data": {
      "text/plain": [
       "0    0.999589\n",
       "1    0.000411\n",
       "Name: Cambio_destino, dtype: float64"
      ]
     },
     "execution_count": 537,
     "metadata": {},
     "output_type": "execute_result"
    }
   ],
   "source": [
    "data['Cambio_destino'].value_counts()/data.shape[0]"
   ]
  },
  {
   "cell_type": "code",
   "execution_count": 538,
   "id": "de6ac3b6",
   "metadata": {},
   "outputs": [
    {
     "data": {
      "text/plain": [
       "True     0.726285\n",
       "False    0.273715\n",
       "dtype: float64"
      ]
     },
     "execution_count": 538,
     "metadata": {},
     "output_type": "execute_result"
    }
   ],
   "source": [
    "(data['Emp-I']== data['Emp-O']).value_counts()/data.shape[0]"
   ]
  },
  {
   "cell_type": "code",
   "execution_count": 539,
   "id": "fe88c5a6",
   "metadata": {},
   "outputs": [],
   "source": [
    "# Se observa que el codigo de la aerolinea del vuelo programada con el operado cambian. Esto puede verse relacionado con\n",
    "#los atrasos. por tanto creo una nueva columna que indica 1: si el codigo de la aerolinea cambio  0: si no\n",
    "#Luego dropeo Emp-I Y Emp-O"
   ]
  },
  {
   "cell_type": "code",
   "execution_count": 540,
   "id": "1b341c7a",
   "metadata": {},
   "outputs": [],
   "source": [
    "data['Cambio_aerolinea']=np.where(data['Emp-I']== data['Emp-O'],0,1)"
   ]
  },
  {
   "cell_type": "code",
   "execution_count": 541,
   "id": "cfe930ed",
   "metadata": {},
   "outputs": [
    {
     "data": {
      "text/plain": [
       "0    0.726285\n",
       "1    0.273715\n",
       "Name: Cambio_aerolinea, dtype: float64"
      ]
     },
     "execution_count": 541,
     "metadata": {},
     "output_type": "execute_result"
    }
   ],
   "source": [
    "data['Cambio_aerolinea'].value_counts()/data.shape[0]"
   ]
  },
  {
   "cell_type": "code",
   "execution_count": 542,
   "id": "46f870a3",
   "metadata": {},
   "outputs": [],
   "source": [
    "#Tambien dropeo la SIGLAORI ya que esa información la tengo \"2 veces\" de distinta forma\n",
    "# solo sirve como GLOSARIO"
   ]
  },
  {
   "cell_type": "code",
   "execution_count": 543,
   "id": "1fa052cd",
   "metadata": {},
   "outputs": [],
   "source": [
    "data=data.drop(columns= [ \"Ori-O\", 'Vlo-I','Vlo-O','Des-I','Des-O','Emp-I', 'Emp-O', 'SIGLAORI'])"
   ]
  },
  {
   "cell_type": "code",
   "execution_count": 544,
   "id": "b57aaa31",
   "metadata": {},
   "outputs": [],
   "source": [
    "#Ahora calculamos la variables target que es si el vuelo se atrasa o no"
   ]
  },
  {
   "cell_type": "code",
   "execution_count": 545,
   "id": "77e2282d",
   "metadata": {},
   "outputs": [],
   "source": [
    "data[\"Fecha-I\"]=pd.to_datetime(data[\"Fecha-I\"])\n",
    "data[\"Fecha-O\"]= pd.to_datetime(data[\"Fecha-O\"])"
   ]
  },
  {
   "cell_type": "code",
   "execution_count": 546,
   "id": "3b60ee38",
   "metadata": {},
   "outputs": [],
   "source": [
    "data[\"Retraso\"]= data[\"Fecha-O\"]- data[\"Fecha-I\"]"
   ]
  },
  {
   "cell_type": "code",
   "execution_count": 547,
   "id": "c79f407d",
   "metadata": {},
   "outputs": [
    {
     "data": {
      "text/plain": [
       "7002      0 days 00:07:00\n",
       "54331     0 days 00:08:00\n",
       "53385     0 days 00:09:00\n",
       "27479   -1 days +23:59:00\n",
       "63405     0 days 00:29:00\n",
       "14180   -1 days +23:57:00\n",
       "30597     0 days 00:00:00\n",
       "25321     0 days 00:07:00\n",
       "61000     0 days 00:05:00\n",
       "38290     0 days 00:52:00\n",
       "Name: Retraso, dtype: timedelta64[ns]"
      ]
     },
     "execution_count": 547,
     "metadata": {},
     "output_type": "execute_result"
    }
   ],
   "source": [
    "data.Retraso.sample(10)"
   ]
  },
  {
   "cell_type": "markdown",
   "id": "342e115c",
   "metadata": {},
   "source": [
    "## 2. Genera las columnas adicionales y luego expórtelas en un archivo synthetic_features.csv "
   ]
  },
  {
   "cell_type": "markdown",
   "id": "4d3087d1",
   "metadata": {},
   "source": [
    "1) dif_min"
   ]
  },
  {
   "cell_type": "code",
   "execution_count": 548,
   "id": "9c3247f3",
   "metadata": {},
   "outputs": [
    {
     "data": {
      "text/plain": [
       " 0.0      4789\n",
       "-1.0      4026\n",
       " 1.0      3921\n",
       " 2.0      3622\n",
       "-2.0      3582\n",
       "          ... \n",
       " 124.0       5\n",
       " 149.0       4\n",
       " 136.0       4\n",
       " 146.0       4\n",
       " 139.0       3\n",
       "Name: dif_min, Length: 176, dtype: int64"
      ]
     },
     "execution_count": 548,
     "metadata": {},
     "output_type": "execute_result"
    }
   ],
   "source": [
    "data[\"dif_min\"]= (data[\"Fecha-O\"]- data[\"Fecha-I\"]).dt.total_seconds()/60\n",
    "data[\"dif_min\"].value_counts()"
   ]
  },
  {
   "cell_type": "code",
   "execution_count": 549,
   "id": "38c97475",
   "metadata": {},
   "outputs": [
    {
     "data": {
      "text/plain": [
       "<seaborn.axisgrid.FacetGrid at 0x274803c4d60>"
      ]
     },
     "execution_count": 549,
     "metadata": {},
     "output_type": "execute_result"
    },
    {
     "data": {
      "image/png": "[encoded data removed]",
      "text/plain": [
       "<Figure size 360x360 with 1 Axes>"
      ]
     },
     "metadata": {
      "needs_background": "light"
     },
     "output_type": "display_data"
    }
   ],
   "source": [
    "sns.displot(data= data, x= data[\"dif_min\"])\n"
   ]
  },
  {
   "cell_type": "code",
   "execution_count": 550,
   "id": "e2eb004f",
   "metadata": {},
   "outputs": [],
   "source": [
    "#Creamos la variable dummie para luego poder calcular la probabilidad de que se atrase o no"
   ]
  },
  {
   "cell_type": "code",
   "execution_count": 551,
   "id": "393f54bb",
   "metadata": {},
   "outputs": [],
   "source": [
    "data[\"Retraso_dummie\"]= np.where(data[\"dif_min\"]>0,1,0)"
   ]
  },
  {
   "cell_type": "code",
   "execution_count": 552,
   "id": "cdc7b3cc",
   "metadata": {},
   "outputs": [
    {
     "data": {
      "text/html": [
       "<div>\n",
       "<style scoped>\n",
       "    .dataframe tbody tr th:only-of-type {\n",
       "        vertical-align: middle;\n",
       "    }\n",
       "\n",
       "    .dataframe tbody tr th {\n",
       "        vertical-align: top;\n",
       "    }\n",
       "\n",
       "    .dataframe thead th {\n",
       "        text-align: right;\n",
       "    }\n",
       "</style>\n",
       "<table border=\"1\" class=\"dataframe\">\n",
       "  <thead>\n",
       "    <tr style=\"text-align: right;\">\n",
       "      <th></th>\n",
       "      <th>Fecha-I</th>\n",
       "      <th>Ori-I</th>\n",
       "      <th>Fecha-O</th>\n",
       "      <th>DIA</th>\n",
       "      <th>MES</th>\n",
       "      <th>AÑO</th>\n",
       "      <th>DIANOM</th>\n",
       "      <th>TIPOVUELO</th>\n",
       "      <th>OPERA</th>\n",
       "      <th>SIGLADES</th>\n",
       "      <th>Cambio_Nvuelo</th>\n",
       "      <th>Cambio_destino</th>\n",
       "      <th>Cambio_aerolinea</th>\n",
       "      <th>Retraso</th>\n",
       "      <th>dif_min</th>\n",
       "      <th>Retraso_dummie</th>\n",
       "    </tr>\n",
       "  </thead>\n",
       "  <tbody>\n",
       "    <tr>\n",
       "      <th>18542</th>\n",
       "      <td>2017-04-02 17:00:00</td>\n",
       "      <td>SCEL</td>\n",
       "      <td>2017-04-02 17:15:00</td>\n",
       "      <td>2</td>\n",
       "      <td>4</td>\n",
       "      <td>2017</td>\n",
       "      <td>Domingo</td>\n",
       "      <td>N</td>\n",
       "      <td>Sky Airline</td>\n",
       "      <td>La Serena</td>\n",
       "      <td>0</td>\n",
       "      <td>0</td>\n",
       "      <td>0</td>\n",
       "      <td>0 days 00:15:00</td>\n",
       "      <td>15.0</td>\n",
       "      <td>1</td>\n",
       "    </tr>\n",
       "    <tr>\n",
       "      <th>13497</th>\n",
       "      <td>2017-03-22 05:10:00</td>\n",
       "      <td>SCEL</td>\n",
       "      <td>2017-03-22 05:07:00</td>\n",
       "      <td>22</td>\n",
       "      <td>3</td>\n",
       "      <td>2017</td>\n",
       "      <td>Miercoles</td>\n",
       "      <td>N</td>\n",
       "      <td>Sky Airline</td>\n",
       "      <td>Iquique</td>\n",
       "      <td>0</td>\n",
       "      <td>0</td>\n",
       "      <td>0</td>\n",
       "      <td>-1 days +23:57:00</td>\n",
       "      <td>-3.0</td>\n",
       "      <td>0</td>\n",
       "    </tr>\n",
       "    <tr>\n",
       "      <th>53759</th>\n",
       "      <td>2017-10-31 12:38:00</td>\n",
       "      <td>SCEL</td>\n",
       "      <td>2017-10-31 12:37:00</td>\n",
       "      <td>31</td>\n",
       "      <td>10</td>\n",
       "      <td>2017</td>\n",
       "      <td>Martes</td>\n",
       "      <td>N</td>\n",
       "      <td>Grupo LATAM</td>\n",
       "      <td>Calama</td>\n",
       "      <td>0</td>\n",
       "      <td>0</td>\n",
       "      <td>1</td>\n",
       "      <td>-1 days +23:59:00</td>\n",
       "      <td>-1.0</td>\n",
       "      <td>0</td>\n",
       "    </tr>\n",
       "    <tr>\n",
       "      <th>59052</th>\n",
       "      <td>2017-11-03 20:35:00</td>\n",
       "      <td>SCEL</td>\n",
       "      <td>2017-11-03 20:42:00</td>\n",
       "      <td>3</td>\n",
       "      <td>11</td>\n",
       "      <td>2017</td>\n",
       "      <td>Viernes</td>\n",
       "      <td>N</td>\n",
       "      <td>Grupo LATAM</td>\n",
       "      <td>Concepcion</td>\n",
       "      <td>0</td>\n",
       "      <td>0</td>\n",
       "      <td>1</td>\n",
       "      <td>0 days 00:07:00</td>\n",
       "      <td>7.0</td>\n",
       "      <td>1</td>\n",
       "    </tr>\n",
       "    <tr>\n",
       "      <th>11716</th>\n",
       "      <td>2017-03-07 22:30:00</td>\n",
       "      <td>SCEL</td>\n",
       "      <td>2017-03-07 22:17:00</td>\n",
       "      <td>7</td>\n",
       "      <td>3</td>\n",
       "      <td>2017</td>\n",
       "      <td>Martes</td>\n",
       "      <td>I</td>\n",
       "      <td>American Airlines</td>\n",
       "      <td>Dallas</td>\n",
       "      <td>0</td>\n",
       "      <td>0</td>\n",
       "      <td>0</td>\n",
       "      <td>-1 days +23:47:00</td>\n",
       "      <td>-13.0</td>\n",
       "      <td>0</td>\n",
       "    </tr>\n",
       "  </tbody>\n",
       "</table>\n",
       "</div>"
      ],
      "text/plain": [
       "                  Fecha-I Ori-I             Fecha-O  DIA  MES   AÑO  \\\n",
       "18542 2017-04-02 17:00:00  SCEL 2017-04-02 17:15:00    2    4  2017   \n",
       "13497 2017-03-22 05:10:00  SCEL 2017-03-22 05:07:00   22    3  2017   \n",
       "53759 2017-10-31 12:38:00  SCEL 2017-10-31 12:37:00   31   10  2017   \n",
       "59052 2017-11-03 20:35:00  SCEL 2017-11-03 20:42:00    3   11  2017   \n",
       "11716 2017-03-07 22:30:00  SCEL 2017-03-07 22:17:00    7    3  2017   \n",
       "\n",
       "          DIANOM TIPOVUELO              OPERA    SIGLADES  Cambio_Nvuelo  \\\n",
       "18542    Domingo         N        Sky Airline   La Serena              0   \n",
       "13497  Miercoles         N        Sky Airline     Iquique              0   \n",
       "53759     Martes         N        Grupo LATAM      Calama              0   \n",
       "59052    Viernes         N        Grupo LATAM  Concepcion              0   \n",
       "11716     Martes         I  American Airlines      Dallas              0   \n",
       "\n",
       "       Cambio_destino  Cambio_aerolinea           Retraso  dif_min  \\\n",
       "18542               0                 0   0 days 00:15:00     15.0   \n",
       "13497               0                 0 -1 days +23:57:00     -3.0   \n",
       "53759               0                 1 -1 days +23:59:00     -1.0   \n",
       "59052               0                 1   0 days 00:07:00      7.0   \n",
       "11716               0                 0 -1 days +23:47:00    -13.0   \n",
       "\n",
       "       Retraso_dummie  \n",
       "18542               1  \n",
       "13497               0  \n",
       "53759               0  \n",
       "59052               1  \n",
       "11716               0  "
      ]
     },
     "execution_count": 552,
     "metadata": {},
     "output_type": "execute_result"
    }
   ],
   "source": [
    "data.sample(5)"
   ]
  },
  {
   "cell_type": "code",
   "execution_count": 553,
   "id": "fa30746d",
   "metadata": {},
   "outputs": [
    {
     "data": {
      "text/plain": [
       "1    45507\n",
       "0    22699\n",
       "Name: Retraso_dummie, dtype: int64"
      ]
     },
     "execution_count": 553,
     "metadata": {},
     "output_type": "execute_result"
    }
   ],
   "source": [
    "data[\"Retraso_dummie\"].value_counts()"
   ]
  },
  {
   "cell_type": "code",
   "execution_count": 554,
   "id": "7cef838c",
   "metadata": {},
   "outputs": [],
   "source": [
    "data[\"Adelanto_dummie\"]= np.where(data[\"dif_min\"]<0,1,0)"
   ]
  },
  {
   "cell_type": "code",
   "execution_count": null,
   "id": "487f314d",
   "metadata": {},
   "outputs": [],
   "source": []
  },
  {
   "cell_type": "markdown",
   "id": "19da3e67",
   "metadata": {},
   "source": [
    "2) atraso_15"
   ]
  },
  {
   "cell_type": "code",
   "execution_count": 555,
   "id": "18b799e7",
   "metadata": {},
   "outputs": [],
   "source": [
    "data[\"atraso_15\"]= np.where(data[\"dif_min\"]>15,1,0)"
   ]
  },
  {
   "cell_type": "code",
   "execution_count": 556,
   "id": "f1f11c30",
   "metadata": {},
   "outputs": [
    {
     "data": {
      "text/plain": [
       "0    55592\n",
       "1    12614\n",
       "Name: atraso_15, dtype: int64"
      ]
     },
     "execution_count": 556,
     "metadata": {},
     "output_type": "execute_result"
    }
   ],
   "source": [
    "data[\"atraso_15\"].value_counts()"
   ]
  },
  {
   "cell_type": "code",
   "execution_count": 557,
   "id": "ffc5d306",
   "metadata": {},
   "outputs": [
    {
     "data": {
      "text/plain": [
       "2017    68204\n",
       "2018        2\n",
       "Name: AÑO, dtype: int64"
      ]
     },
     "execution_count": 557,
     "metadata": {},
     "output_type": "execute_result"
    }
   ],
   "source": [
    "data[\"AÑO\"].value_counts()"
   ]
  },
  {
   "cell_type": "markdown",
   "id": "9964d725",
   "metadata": {},
   "source": [
    "3) temporada_alta"
   ]
  },
  {
   "cell_type": "code",
   "execution_count": 558,
   "id": "61655514",
   "metadata": {},
   "outputs": [
    {
     "data": {
      "text/plain": [
       "0    45995\n",
       "1    22211\n",
       "Name: temporada_alta, dtype: int64"
      ]
     },
     "execution_count": 558,
     "metadata": {},
     "output_type": "execute_result"
    }
   ],
   "source": [
    "#Agrego temporada alta segun lo solicitado\n",
    "#temporada_alta : 1 si Fecha-I está entre 15-Dic y 3-Mar, o 15-Jul y 31-Jul, o 11-Sep y 30-Sep, 0 si no\n",
    "fecha1= pd.to_datetime('20161215', format='%Y%m%d')\n",
    "fecha2= pd.to_datetime('20170303',format='%Y%m%d')\n",
    "fecha3= pd.to_datetime('20170715',format='%Y%m%d')\n",
    "fecha4= pd.to_datetime('20170731',format='%Y%m%d')\n",
    "fecha5= pd.to_datetime('20170911',format='%Y%m%d')\n",
    "fecha6= pd.to_datetime('20170930',format='%Y%m%d')\n",
    "fecha7= pd.to_datetime('20171215', format='%Y%m%d')\n",
    "fecha8= pd.to_datetime('20180303',format='%Y%m%d')\n",
    "\n",
    "\n",
    "data[\"temporada_alta\"] = np.where((data['Fecha-I']>= fecha1) & (data['Fecha-I']<= fecha2) |\n",
    "                                  (data['Fecha-I']>= fecha3) & (data['Fecha-I']<= fecha4) |\n",
    "                                  (data['Fecha-I']>= fecha5) & (data['Fecha-I']<= fecha6) |\n",
    "                                  (data['Fecha-I']>= fecha7) & (data['Fecha-I']<= fecha8)\n",
    "                                  ,1,0)\n",
    "\n",
    "data[\"temporada_alta\"].value_counts()"
   ]
  },
  {
   "cell_type": "code",
   "execution_count": 559,
   "id": "7d581b93",
   "metadata": {},
   "outputs": [
    {
     "data": {
      "text/plain": [
       "Fecha-I             2017-12-15 06:10:00\n",
       "Ori-I                              SCEL\n",
       "Fecha-O             2017-12-15 06:22:00\n",
       "DIA                                  15\n",
       "MES                                  12\n",
       "AÑO                                2017\n",
       "DIANOM                          Viernes\n",
       "TIPOVUELO                             N\n",
       "OPERA                       Sky Airline\n",
       "SIGLADES                   Punta Arenas\n",
       "Cambio_Nvuelo                         0\n",
       "Cambio_destino                        0\n",
       "Cambio_aerolinea                      0\n",
       "Retraso                 0 days 00:12:00\n",
       "dif_min                              12\n",
       "Retraso_dummie                        1\n",
       "Adelanto_dummie                       0\n",
       "atraso_15                             0\n",
       "temporada_alta                        1\n",
       "Name: 63119, dtype: object"
      ]
     },
     "execution_count": 559,
     "metadata": {},
     "output_type": "execute_result"
    }
   ],
   "source": [
    "data.iloc[63119]"
   ]
  },
  {
   "cell_type": "code",
   "execution_count": 560,
   "id": "29ddadd7",
   "metadata": {},
   "outputs": [
    {
     "data": {
      "text/plain": [
       "Timestamp('2017-01-04 13:50:00')"
      ]
     },
     "execution_count": 560,
     "metadata": {},
     "output_type": "execute_result"
    }
   ],
   "source": [
    "data['Fecha-I'].iloc[896]"
   ]
  },
  {
   "cell_type": "code",
   "execution_count": 561,
   "id": "d735012d",
   "metadata": {},
   "outputs": [],
   "source": [
    "data['Hora'] = data['Fecha-I'].dt.hour"
   ]
  },
  {
   "cell_type": "code",
   "execution_count": 562,
   "id": "1ead1f51",
   "metadata": {},
   "outputs": [
    {
     "data": {
      "text/plain": [
       "13"
      ]
     },
     "execution_count": 562,
     "metadata": {},
     "output_type": "execute_result"
    }
   ],
   "source": [
    "data['Hora'].iloc[896]"
   ]
  },
  {
   "cell_type": "code",
   "execution_count": 563,
   "id": "edfa8604",
   "metadata": {},
   "outputs": [
    {
     "data": {
      "text/plain": [
       "Index(['Fecha-I', 'Ori-I', 'Fecha-O', 'DIA', 'MES', 'AÑO', 'DIANOM',\n",
       "       'TIPOVUELO', 'OPERA', 'SIGLADES', 'Cambio_Nvuelo', 'Cambio_destino',\n",
       "       'Cambio_aerolinea', 'Retraso', 'dif_min', 'Retraso_dummie',\n",
       "       'Adelanto_dummie', 'atraso_15', 'temporada_alta', 'Hora'],\n",
       "      dtype='object')"
      ]
     },
     "execution_count": 563,
     "metadata": {},
     "output_type": "execute_result"
    }
   ],
   "source": [
    "data.columns"
   ]
  },
  {
   "cell_type": "code",
   "execution_count": 564,
   "id": "d2466507",
   "metadata": {},
   "outputs": [],
   "source": [
    "#for hora in data['Hora']:\n",
    "#    if (hora >=5 & hora<12):\n",
    "#        data['periodo_dia']= 'mañana'\n",
    "#    elif (hora>=12 & hora<19):\n",
    "#        data['periodo_dia']= 'tarde'\n",
    "#    else:\n",
    "#        data['periodo_dia']= 'noche'"
   ]
  },
  {
   "cell_type": "code",
   "execution_count": 565,
   "id": "0ca6d221",
   "metadata": {},
   "outputs": [],
   "source": [
    "#for hora in data['Hora']:\n",
    "#    if 5<=hora<12:\n",
    "#        data['periodo_dia']= 'mañana'\n",
    "#    elif 12<=hora<19:\n",
    "#        data['periodo_dia']= 'tarde'\n",
    "#    else:\n",
    "#        data['periodo_dia']= 'noche'"
   ]
  },
  {
   "cell_type": "code",
   "execution_count": 566,
   "id": "9ed91fef",
   "metadata": {},
   "outputs": [],
   "source": [
    "#data['periodo_dia'].value_counts()"
   ]
  },
  {
   "cell_type": "code",
   "execution_count": null,
   "id": "925637d6",
   "metadata": {},
   "outputs": [],
   "source": []
  },
  {
   "cell_type": "code",
   "execution_count": null,
   "id": "60f1977b",
   "metadata": {},
   "outputs": [],
   "source": []
  },
  {
   "cell_type": "code",
   "execution_count": null,
   "id": "7c786434",
   "metadata": {},
   "outputs": [],
   "source": []
  },
  {
   "cell_type": "code",
   "execution_count": null,
   "id": "aeadaa3d",
   "metadata": {},
   "outputs": [],
   "source": []
  },
  {
   "cell_type": "code",
   "execution_count": null,
   "id": "59e217ce",
   "metadata": {},
   "outputs": [],
   "source": []
  },
  {
   "cell_type": "code",
   "execution_count": null,
   "id": "125643e4",
   "metadata": {},
   "outputs": [],
   "source": []
  },
  {
   "cell_type": "code",
   "execution_count": 567,
   "id": "09a820b8",
   "metadata": {},
   "outputs": [],
   "source": [
    "#data['periodo_dia'].value_counts()"
   ]
  },
  {
   "cell_type": "code",
   "execution_count": 568,
   "id": "f55a2b3b",
   "metadata": {},
   "outputs": [],
   "source": [
    "#mañana (entre 5:00 y 11:59), tarde (entre 12:00 y 18:59) y noche (entre 19:00 y 4:59), en base a\n",
    "#Fecha-I \n",
    "#mañana1= pd.to_datetime('05:00:00',format='%H:%M:%S')\n",
    "#mañana2=pd.to_datetime('11:59:00', format='%H:%M:%S')\n",
    "#tarde1= pd.to_datetime('12:00:00',format='%H:%M:%S')\n",
    "#tarde2=pd.to_datetime('18:59:00', format='%H:%M:%S')\n",
    "#noche1= pd.to_datetime('19:00:00',format='%H:%M:%S')\n",
    "#noche2=pd.to_datetime('04:59:00', format='%H:%M:%S')\n",
    "#data['periodo_dia']= np.where((data['Fecha-I']>= mañana1) & (data['Fecha-I']<= mañana2),'mañana','tarde')\n",
    "#data['periodo_dia'].value_counts()"
   ]
  },
  {
   "cell_type": "code",
   "execution_count": 569,
   "id": "8837e6b5",
   "metadata": {},
   "outputs": [],
   "source": [
    "#data['periodo_dia']=np.where((data['Fecha-I']>= tarde1) & (data['Fecha-I']<= tarde2),'tarde','noche')\n",
    "#data['periodo_dia'].value_counts()"
   ]
  },
  {
   "cell_type": "code",
   "execution_count": 570,
   "id": "80ed4bac",
   "metadata": {},
   "outputs": [
    {
     "data": {
      "text/html": [
       "<div>\n",
       "<style scoped>\n",
       "    .dataframe tbody tr th:only-of-type {\n",
       "        vertical-align: middle;\n",
       "    }\n",
       "\n",
       "    .dataframe tbody tr th {\n",
       "        vertical-align: top;\n",
       "    }\n",
       "\n",
       "    .dataframe thead th {\n",
       "        text-align: right;\n",
       "    }\n",
       "</style>\n",
       "<table border=\"1\" class=\"dataframe\">\n",
       "  <thead>\n",
       "    <tr style=\"text-align: right;\">\n",
       "      <th></th>\n",
       "      <th>Ori-I</th>\n",
       "      <th>DIA</th>\n",
       "      <th>MES</th>\n",
       "      <th>AÑO</th>\n",
       "      <th>DIANOM</th>\n",
       "      <th>TIPOVUELO</th>\n",
       "      <th>OPERA</th>\n",
       "      <th>SIGLADES</th>\n",
       "      <th>Cambio_Nvuelo</th>\n",
       "      <th>Cambio_destino</th>\n",
       "      <th>Cambio_aerolinea</th>\n",
       "      <th>dif_min</th>\n",
       "      <th>Retraso_dummie</th>\n",
       "      <th>Adelanto_dummie</th>\n",
       "      <th>atraso_15</th>\n",
       "      <th>temporada_alta</th>\n",
       "      <th>Hora</th>\n",
       "    </tr>\n",
       "  </thead>\n",
       "  <tbody>\n",
       "    <tr>\n",
       "      <th>14172</th>\n",
       "      <td>SCEL</td>\n",
       "      <td>27</td>\n",
       "      <td>3</td>\n",
       "      <td>2017</td>\n",
       "      <td>Lunes</td>\n",
       "      <td>N</td>\n",
       "      <td>Grupo LATAM</td>\n",
       "      <td>Antofagasta</td>\n",
       "      <td>0</td>\n",
       "      <td>0</td>\n",
       "      <td>0</td>\n",
       "      <td>-5.0</td>\n",
       "      <td>0</td>\n",
       "      <td>1</td>\n",
       "      <td>0</td>\n",
       "      <td>0</td>\n",
       "      <td>14</td>\n",
       "    </tr>\n",
       "    <tr>\n",
       "      <th>28649</th>\n",
       "      <td>SCEL</td>\n",
       "      <td>24</td>\n",
       "      <td>6</td>\n",
       "      <td>2017</td>\n",
       "      <td>Sabado</td>\n",
       "      <td>N</td>\n",
       "      <td>Sky Airline</td>\n",
       "      <td>Temuco</td>\n",
       "      <td>0</td>\n",
       "      <td>0</td>\n",
       "      <td>0</td>\n",
       "      <td>18.0</td>\n",
       "      <td>1</td>\n",
       "      <td>0</td>\n",
       "      <td>1</td>\n",
       "      <td>0</td>\n",
       "      <td>14</td>\n",
       "    </tr>\n",
       "    <tr>\n",
       "      <th>25471</th>\n",
       "      <td>SCEL</td>\n",
       "      <td>30</td>\n",
       "      <td>5</td>\n",
       "      <td>2017</td>\n",
       "      <td>Martes</td>\n",
       "      <td>N</td>\n",
       "      <td>Grupo LATAM</td>\n",
       "      <td>Puerto Montt</td>\n",
       "      <td>0</td>\n",
       "      <td>0</td>\n",
       "      <td>1</td>\n",
       "      <td>6.0</td>\n",
       "      <td>1</td>\n",
       "      <td>0</td>\n",
       "      <td>0</td>\n",
       "      <td>0</td>\n",
       "      <td>13</td>\n",
       "    </tr>\n",
       "    <tr>\n",
       "      <th>52615</th>\n",
       "      <td>SCEL</td>\n",
       "      <td>15</td>\n",
       "      <td>10</td>\n",
       "      <td>2017</td>\n",
       "      <td>Domingo</td>\n",
       "      <td>N</td>\n",
       "      <td>Grupo LATAM</td>\n",
       "      <td>Iquique</td>\n",
       "      <td>0</td>\n",
       "      <td>0</td>\n",
       "      <td>0</td>\n",
       "      <td>7.0</td>\n",
       "      <td>1</td>\n",
       "      <td>0</td>\n",
       "      <td>0</td>\n",
       "      <td>0</td>\n",
       "      <td>8</td>\n",
       "    </tr>\n",
       "    <tr>\n",
       "      <th>28196</th>\n",
       "      <td>SCEL</td>\n",
       "      <td>20</td>\n",
       "      <td>6</td>\n",
       "      <td>2017</td>\n",
       "      <td>Martes</td>\n",
       "      <td>I</td>\n",
       "      <td>United Airlines</td>\n",
       "      <td>Houston</td>\n",
       "      <td>0</td>\n",
       "      <td>0</td>\n",
       "      <td>0</td>\n",
       "      <td>-5.0</td>\n",
       "      <td>0</td>\n",
       "      <td>1</td>\n",
       "      <td>0</td>\n",
       "      <td>0</td>\n",
       "      <td>20</td>\n",
       "    </tr>\n",
       "  </tbody>\n",
       "</table>\n",
       "</div>"
      ],
      "text/plain": [
       "      Ori-I  DIA  MES   AÑO   DIANOM TIPOVUELO            OPERA      SIGLADES  \\\n",
       "14172  SCEL   27    3  2017    Lunes         N      Grupo LATAM   Antofagasta   \n",
       "28649  SCEL   24    6  2017   Sabado         N      Sky Airline        Temuco   \n",
       "25471  SCEL   30    5  2017   Martes         N      Grupo LATAM  Puerto Montt   \n",
       "52615  SCEL   15   10  2017  Domingo         N      Grupo LATAM       Iquique   \n",
       "28196  SCEL   20    6  2017   Martes         I  United Airlines       Houston   \n",
       "\n",
       "       Cambio_Nvuelo  Cambio_destino  Cambio_aerolinea  dif_min  \\\n",
       "14172              0               0                 0     -5.0   \n",
       "28649              0               0                 0     18.0   \n",
       "25471              0               0                 1      6.0   \n",
       "52615              0               0                 0      7.0   \n",
       "28196              0               0                 0     -5.0   \n",
       "\n",
       "       Retraso_dummie  Adelanto_dummie  atraso_15  temporada_alta  Hora  \n",
       "14172               0                1          0               0    14  \n",
       "28649               1                0          1               0    14  \n",
       "25471               1                0          0               0    13  \n",
       "52615               1                0          0               0     8  \n",
       "28196               0                1          0               0    20  "
      ]
     },
     "execution_count": 570,
     "metadata": {},
     "output_type": "execute_result"
    }
   ],
   "source": [
    "#Ahora que ya termine de utilizar la variable Fecha-I Dropeare Fecha-I Y Fecha-O y Retraso\n",
    "data= data.drop(columns=['Fecha-I', 'Fecha-O', 'Retraso'])\n",
    "data.sample(5)"
   ]
  },
  {
   "cell_type": "code",
   "execution_count": 571,
   "id": "fb47e0c5",
   "metadata": {},
   "outputs": [],
   "source": [
    "#Distribución de los datos"
   ]
  },
  {
   "cell_type": "code",
   "execution_count": 572,
   "id": "5a2c1388",
   "metadata": {},
   "outputs": [
    {
     "data": {
      "text/plain": [
       "SCEL    68206\n",
       "Name: Ori-I, dtype: int64"
      ]
     },
     "execution_count": 572,
     "metadata": {},
     "output_type": "execute_result"
    }
   ],
   "source": [
    "data['Ori-I'].value_counts()"
   ]
  },
  {
   "cell_type": "markdown",
   "id": "05ed73cb",
   "metadata": {},
   "source": [
    "## 1)¿Cómo se distribuyen los datos? ¿Qué te llama la atención o cuál es tu conclusión sobre esto?\n"
   ]
  },
  {
   "cell_type": "code",
   "execution_count": 573,
   "id": "7781f3e7",
   "metadata": {},
   "outputs": [],
   "source": [
    "import matplotlib.pyplot as plt\n",
    "import seaborn as sns\n",
    "%matplotlib inline"
   ]
  },
  {
   "cell_type": "code",
   "execution_count": 574,
   "id": "e195bc00",
   "metadata": {},
   "outputs": [
    {
     "data": {
      "image/png": "[encoded data removed]",
      "text/plain": [
       "<Figure size 1080x1080 with 16 Axes>"
      ]
     },
     "metadata": {
      "needs_background": "light"
     },
     "output_type": "display_data"
    }
   ],
   "source": [
    "fig, axes = plt.subplots(nrows=8, ncols=2, figsize=(15, 15))\n",
    "axes = axes.flat\n",
    "data_plot = data.drop(columns=['Ori-I'])\n",
    "columnas= data_plot.columns\n",
    "\n",
    "for i, colum in enumerate(columnas):\n",
    "    sns.histplot(\n",
    "        data    = data_plot,\n",
    "        x       = colum,\n",
    "        stat    = \"count\",\n",
    "        kde     = True,\n",
    "        color   = (list(plt.rcParams['axes.prop_cycle'])*2)[i][\"color\"],\n",
    "        line_kws= {'linewidth': 2},\n",
    "        alpha   = 0.3,\n",
    "        ax      = axes[i]\n",
    "    )\n",
    "    axes[i].set_title(colum, fontsize = 6, fontweight = \"bold\")\n",
    "    axes[i].tick_params(labelsize = 6)\n",
    "    axes[i].set_xlabel(\"\")\n",
    "    \n",
    "    \n",
    "fig.tight_layout()\n",
    "plt.subplots_adjust(top = 0.9)\n",
    "fig.suptitle('Fig 1: Distribución de las variables del dataset', fontsize = 10, fontweight = \"bold\");"
   ]
  },
  {
   "cell_type": "code",
   "execution_count": 575,
   "id": "d05a693e",
   "metadata": {},
   "outputs": [
    {
     "data": {
      "text/plain": [
       "0    0.737413\n",
       "1    0.262587\n",
       "Name: Adelanto_dummie, dtype: float64"
      ]
     },
     "execution_count": 575,
     "metadata": {},
     "output_type": "execute_result"
    }
   ],
   "source": [
    "data.Adelanto_dummie.value_counts()/data.shape[0]"
   ]
  },
  {
   "cell_type": "code",
   "execution_count": 576,
   "id": "bec63d27",
   "metadata": {},
   "outputs": [
    {
     "data": {
      "text/plain": [
       "7     0.071577\n",
       "8     0.063968\n",
       "6     0.061563\n",
       "18    0.061021\n",
       "15    0.056945\n",
       "14    0.056241\n",
       "13    0.053881\n",
       "11    0.053778\n",
       "19    0.052649\n",
       "17    0.050802\n",
       "12    0.050025\n",
       "9     0.047855\n",
       "16    0.045040\n",
       "20    0.043031\n",
       "5     0.036859\n",
       "10    0.036097\n",
       "22    0.034015\n",
       "21    0.033897\n",
       "1     0.023062\n",
       "23    0.019016\n",
       "4     0.016010\n",
       "0     0.015864\n",
       "2     0.009398\n",
       "3     0.007404\n",
       "Name: Hora, dtype: float64"
      ]
     },
     "execution_count": 576,
     "metadata": {},
     "output_type": "execute_result"
    }
   ],
   "source": [
    "data.Hora.value_counts()/data.shape[0]"
   ]
  },
  {
   "cell_type": "code",
   "execution_count": 577,
   "id": "09738117",
   "metadata": {},
   "outputs": [
    {
     "data": {
      "text/plain": [
       "0    0.737413\n",
       "1    0.262587\n",
       "Name: Adelanto_dummie, dtype: float64"
      ]
     },
     "execution_count": 577,
     "metadata": {},
     "output_type": "execute_result"
    }
   ],
   "source": [
    "(data.Adelanto_dummie.value_counts()/data.shape[0]).sort_values(ascending=False)"
   ]
  },
  {
   "cell_type": "code",
   "execution_count": 578,
   "id": "0d550fc1",
   "metadata": {},
   "outputs": [
    {
     "data": {
      "text/plain": [
       "0    0.81506\n",
       "1    0.18494\n",
       "Name: atraso_15, dtype: float64"
      ]
     },
     "execution_count": 578,
     "metadata": {},
     "output_type": "execute_result"
    }
   ],
   "source": [
    "(data.atraso_15.value_counts()/data.shape[0]).sort_values(ascending=False)"
   ]
  },
  {
   "cell_type": "code",
   "execution_count": 579,
   "id": "b0ba3eac",
   "metadata": {},
   "outputs": [
    {
     "data": {
      "text/plain": [
       "0    0.674354\n",
       "1    0.325646\n",
       "Name: temporada_alta, dtype: float64"
      ]
     },
     "execution_count": 579,
     "metadata": {},
     "output_type": "execute_result"
    }
   ],
   "source": [
    "(data.temporada_alta.value_counts()/data.shape[0]).sort_values(ascending=False)"
   ]
  },
  {
   "cell_type": "code",
   "execution_count": 580,
   "id": "1072d993",
   "metadata": {},
   "outputs": [
    {
     "data": {
      "text/plain": [
       "1    0.667199\n",
       "0    0.332801\n",
       "Name: Retraso_dummie, dtype: float64"
      ]
     },
     "execution_count": 580,
     "metadata": {},
     "output_type": "execute_result"
    }
   ],
   "source": [
    "(data.Retraso_dummie.value_counts()/data.shape[0]).sort_values(ascending=False)"
   ]
  },
  {
   "cell_type": "code",
   "execution_count": 581,
   "id": "9009f08d",
   "metadata": {},
   "outputs": [
    {
     "data": {
      "text/plain": [
       "N    0.541976\n",
       "I    0.458024\n",
       "Name: TIPOVUELO, dtype: float64"
      ]
     },
     "execution_count": 581,
     "metadata": {},
     "output_type": "execute_result"
    }
   ],
   "source": [
    "(data.TIPOVUELO.value_counts()/data.shape[0]).sort_values(ascending=False)"
   ]
  },
  {
   "cell_type": "code",
   "execution_count": 582,
   "id": "abe26bb4",
   "metadata": {},
   "outputs": [
    {
     "data": {
      "text/plain": [
       "Viernes      0.150896\n",
       "Jueves       0.150295\n",
       "Lunes        0.148535\n",
       "Domingo      0.143624\n",
       "Miercoles    0.142539\n",
       "Martes       0.141659\n",
       "Sabado       0.122453\n",
       "Name: DIANOM, dtype: float64"
      ]
     },
     "execution_count": 582,
     "metadata": {},
     "output_type": "execute_result"
    }
   ],
   "source": [
    "(data.DIANOM.value_counts()/data.shape[0]).sort_values(ascending=False)"
   ]
  },
  {
   "cell_type": "code",
   "execution_count": 583,
   "id": "86df371f",
   "metadata": {},
   "outputs": [
    {
     "data": {
      "text/plain": [
       "20    0.033575\n",
       "27    0.033516\n",
       "12    0.033487\n",
       "10    0.033472\n",
       "6     0.033355\n",
       "13    0.033311\n",
       "22    0.033311\n",
       "3     0.033296\n",
       "16    0.033252\n",
       "26    0.033238\n",
       "21    0.033238\n",
       "7     0.033194\n",
       "23    0.033135\n",
       "5     0.032856\n",
       "15    0.032827\n",
       "19    0.032812\n",
       "11    0.032798\n",
       "24    0.032724\n",
       "28    0.032724\n",
       "17    0.032666\n",
       "9     0.032651\n",
       "2     0.032592\n",
       "14    0.032563\n",
       "4     0.032475\n",
       "8     0.032446\n",
       "1     0.032373\n",
       "25    0.031947\n",
       "18    0.031669\n",
       "29    0.029968\n",
       "30    0.029616\n",
       "31    0.018913\n",
       "Name: DIA, dtype: float64"
      ]
     },
     "execution_count": 583,
     "metadata": {},
     "output_type": "execute_result"
    }
   ],
   "source": [
    "(data.DIA.value_counts()/data.shape[0]).sort_values(ascending=False)"
   ]
  },
  {
   "cell_type": "code",
   "execution_count": 584,
   "id": "155869a2",
   "metadata": {},
   "outputs": [
    {
     "data": {
      "text/plain": [
       "Grupo LATAM                 0.599537\n",
       "Sky Airline                 0.209630\n",
       "Aerolineas Argentinas       0.028575\n",
       "Copa Air                    0.027124\n",
       "Latin American Wings        0.024543\n",
       "Avianca                     0.016890\n",
       "JetSmart SPA                0.016054\n",
       "Gol Trans                   0.011817\n",
       "American Airlines           0.011099\n",
       "Air Canada                  0.008284\n",
       "Iberia                      0.005307\n",
       "Air France                  0.005249\n",
       "Delta Air                   0.005249\n",
       "Aeromexico                  0.005146\n",
       "United Airlines             0.004912\n",
       "Oceanair Linhas Aereas      0.004091\n",
       "Alitalia                    0.003797\n",
       "K.L.M.                      0.003680\n",
       "British Airways             0.003006\n",
       "Qantas Airways              0.002859\n",
       "Lacsa                       0.001349\n",
       "Austral                     0.001085\n",
       "Plus Ultra Lineas Aereas    0.000718\n",
       "Name: OPERA, dtype: float64"
      ]
     },
     "execution_count": 584,
     "metadata": {},
     "output_type": "execute_result"
    }
   ],
   "source": [
    "(data.OPERA.value_counts()/data.shape[0]).sort_values(ascending=False)"
   ]
  },
  {
   "cell_type": "code",
   "execution_count": 585,
   "id": "bdb1b77c",
   "metadata": {},
   "outputs": [
    {
     "data": {
      "text/plain": [
       "Buenos Aires        0.092880\n",
       "Antofagasta         0.084831\n",
       "Lima                0.077266\n",
       "Calama              0.075448\n",
       "Puerto Montt        0.063880\n",
       "                      ...   \n",
       "Cataratas Iguacu    0.000029\n",
       "Washington          0.000015\n",
       "Puerto Stanley      0.000015\n",
       "Pisco, Peru         0.000015\n",
       "Cochabamba          0.000015\n",
       "Name: SIGLADES, Length: 62, dtype: float64"
      ]
     },
     "execution_count": 585,
     "metadata": {},
     "output_type": "execute_result"
    }
   ],
   "source": [
    "(data.SIGLADES.value_counts()/data.shape[0]).sort_values(ascending=False)"
   ]
  },
  {
   "cell_type": "code",
   "execution_count": 586,
   "id": "222819fb",
   "metadata": {},
   "outputs": [
    {
     "data": {
      "text/plain": [
       "Index(['Ori-I', 'DIA', 'MES', 'AÑO', 'DIANOM', 'TIPOVUELO', 'OPERA',\n",
       "       'SIGLADES', 'Cambio_Nvuelo', 'Cambio_destino', 'Cambio_aerolinea',\n",
       "       'dif_min', 'Retraso_dummie', 'Adelanto_dummie', 'atraso_15',\n",
       "       'temporada_alta', 'Hora'],\n",
       "      dtype='object')"
      ]
     },
     "execution_count": 586,
     "metadata": {},
     "output_type": "execute_result"
    }
   ],
   "source": [
    "data.columns"
   ]
  },
  {
   "cell_type": "markdown",
   "id": "2bb46d09",
   "metadata": {},
   "source": [
    " ¿Qué te llama la atención o cuál es tu conclusión sobre esto?  \n",
    "    \n",
    "-La distribucion de datos por mes, dia de semana, y dia del mes es similar, es decir la cantidad de vuelos no depende del mes dia o dia de semana.  \n",
    "-Latam es la aerolinea con mayor participacion con aproximadamente 60% seguido por Skyairline con aproximadamente 21%-  \n",
    "-Aproximadamente un 66%  del total de los vuelos sale atrasado de estos solo aproximadamente un 18% se retrasa mas de 15 minutos.  \n",
    "-Aproximadamente un 26% de los vuelos sale adelantado y aproximadamente 66% sale atrasado, por tanto existe aproximadamente \n",
    "solo un 8% de vuelos que salen a tiempo.\n",
    "\n"
   ]
  },
  {
   "cell_type": "code",
   "execution_count": 587,
   "id": "e0d43620",
   "metadata": {},
   "outputs": [],
   "source": [
    "data=data.drop(columns=['Adelanto_dummie'])"
   ]
  },
  {
   "cell_type": "code",
   "execution_count": null,
   "id": "1c825b41",
   "metadata": {},
   "outputs": [],
   "source": []
  },
  {
   "cell_type": "code",
   "execution_count": null,
   "id": "4e235b76",
   "metadata": {},
   "outputs": [],
   "source": []
  },
  {
   "cell_type": "code",
   "execution_count": null,
   "id": "04bd787c",
   "metadata": {},
   "outputs": [],
   "source": []
  },
  {
   "cell_type": "code",
   "execution_count": null,
   "id": "bc9cb821",
   "metadata": {},
   "outputs": [],
   "source": []
  },
  {
   "cell_type": "code",
   "execution_count": null,
   "id": "c55ae3ce",
   "metadata": {},
   "outputs": [],
   "source": []
  },
  {
   "cell_type": "markdown",
   "id": "ba441626",
   "metadata": {},
   "source": [
    "## 3. ¿Cómo se compone la tasa de atraso por destino, aerolínea, mes del año, día de la semana, temporada, tipo de vuelo?¿Qué variables esperarías que más influyeran en predecir atrasos?\n"
   ]
  },
  {
   "cell_type": "markdown",
   "id": "ee90083c",
   "metadata": {},
   "source": [
    "Tasa de atraso por destino"
   ]
  },
  {
   "cell_type": "code",
   "execution_count": 588,
   "id": "29e54de3",
   "metadata": {},
   "outputs": [
    {
     "data": {
      "text/plain": [
       "SIGLADES\n",
       "Puerto Stanley    1.000000\n",
       "Pisco, Peru       1.000000\n",
       "Ushuia            1.000000\n",
       "Quito             1.000000\n",
       "Cochabamba        1.000000\n",
       "Bariloche         1.000000\n",
       "Melbourne         0.923077\n",
       "Rosario           0.919118\n",
       "Sydney            0.912371\n",
       "Santa Cruz        0.900000\n",
       "Name: Retraso_dummie, dtype: float64"
      ]
     },
     "execution_count": 588,
     "metadata": {},
     "output_type": "execute_result"
    }
   ],
   "source": [
    "data.groupby('SIGLADES').Retraso_dummie.mean().sort_values(ascending=False).head(10)"
   ]
  },
  {
   "cell_type": "code",
   "execution_count": 589,
   "id": "34627d8a",
   "metadata": {},
   "outputs": [
    {
     "data": {
      "text/plain": [
       "SIGLADES\n",
       "Cataratas Iguacu    0.500000\n",
       "Punta del Este      0.500000\n",
       "Ciudad de Mexico    0.451429\n",
       "Paris               0.423398\n",
       "Ciudad de Panama    0.370270\n",
       "Curitiba, Bra.      0.333333\n",
       "Atlanta             0.307263\n",
       "Dallas              0.235294\n",
       "Houston             0.203593\n",
       "Washington          0.000000\n",
       "Name: Retraso_dummie, dtype: float64"
      ]
     },
     "execution_count": 589,
     "metadata": {},
     "output_type": "execute_result"
    }
   ],
   "source": [
    "data.groupby('SIGLADES').Retraso_dummie.mean().sort_values(ascending=False).tail(10)"
   ]
  },
  {
   "cell_type": "code",
   "execution_count": 590,
   "id": "d3a13034",
   "metadata": {},
   "outputs": [
    {
     "data": {
      "text/plain": [
       "0.6895093386176337"
      ]
     },
     "execution_count": 590,
     "metadata": {},
     "output_type": "execute_result"
    }
   ],
   "source": [
    "(data.groupby('SIGLADES').Retraso_dummie.mean()).mean()"
   ]
  },
  {
   "cell_type": "code",
   "execution_count": 591,
   "id": "f4634814",
   "metadata": {},
   "outputs": [
    {
     "data": {
      "text/plain": [
       "0.2058355004236715"
      ]
     },
     "execution_count": 591,
     "metadata": {},
     "output_type": "execute_result"
    }
   ],
   "source": [
    "(data.groupby('SIGLADES').Retraso_dummie.mean()).std()"
   ]
  },
  {
   "cell_type": "markdown",
   "id": "4b6478b5",
   "metadata": {},
   "source": [
    "-En el atraso segun destino podemos ver que los destinos que siempre se atrasan con una tasa de atraso mayor a 95% son Puerto Stanley \"Pisco, Peru\", Ushuia, Quito, Cochabamba, Bariloche.  \n",
    "-El único destino que no se a atrasado nunca es Washington.  \n",
    "-La tasa promedio de atraso por destino para el dataset es de 68,9%.   \n",
    "-Es decir si clasificamos por destino el 69% de los destinos sale atrasado"
   ]
  },
  {
   "cell_type": "markdown",
   "id": "32820769",
   "metadata": {},
   "source": [
    "Tasa de atraso segun aerolínea"
   ]
  },
  {
   "cell_type": "code",
   "execution_count": 592,
   "id": "0f54c082",
   "metadata": {},
   "outputs": [
    {
     "data": {
      "text/plain": [
       "OPERA\n",
       "Qantas Airways              0.912821\n",
       "Plus Ultra Lineas Aereas    0.857143\n",
       "Air Canada                  0.775221\n",
       "Latin American Wings        0.749104\n",
       "Grupo LATAM                 0.736868\n",
       "Austral                     0.648649\n",
       "British Airways             0.604878\n",
       "Aerolineas Argentinas       0.591072\n",
       "JetSmart SPA                0.590868\n",
       "Sky Airline                 0.589593\n",
       "Name: Retraso_dummie, dtype: float64"
      ]
     },
     "execution_count": 592,
     "metadata": {},
     "output_type": "execute_result"
    }
   ],
   "source": [
    "data.groupby('OPERA').Retraso_dummie.mean().sort_values(ascending=False).head(10)"
   ]
  },
  {
   "cell_type": "code",
   "execution_count": 593,
   "id": "2dbe09a2",
   "metadata": {},
   "outputs": [
    {
     "data": {
      "text/plain": [
       "OPERA\n",
       "Avianca                   0.572917\n",
       "Oceanair Linhas Aereas    0.480287\n",
       "Lacsa                     0.434783\n",
       "Air France                0.421788\n",
       "Copa Air                  0.370270\n",
       "K.L.M.                    0.346614\n",
       "Delta Air                 0.307263\n",
       "American Airlines         0.284016\n",
       "Aeromexico                0.222222\n",
       "United Airlines           0.202985\n",
       "Name: Retraso_dummie, dtype: float64"
      ]
     },
     "execution_count": 593,
     "metadata": {},
     "output_type": "execute_result"
    }
   ],
   "source": [
    "data.groupby('OPERA').Retraso_dummie.mean().sort_values(ascending=False).tail(10)"
   ]
  },
  {
   "cell_type": "code",
   "execution_count": 594,
   "id": "4a153e89",
   "metadata": {},
   "outputs": [
    {
     "data": {
      "text/plain": [
       "0.5413597758108079"
      ]
     },
     "execution_count": 594,
     "metadata": {},
     "output_type": "execute_result"
    }
   ],
   "source": [
    "(data.groupby('OPERA').Retraso_dummie.mean()).mean()"
   ]
  },
  {
   "cell_type": "code",
   "execution_count": 595,
   "id": "d2ed7004",
   "metadata": {},
   "outputs": [
    {
     "data": {
      "text/plain": [
       "0.1950538562212911"
      ]
     },
     "execution_count": 595,
     "metadata": {},
     "output_type": "execute_result"
    }
   ],
   "source": [
    "(data.groupby('OPERA').Retraso_dummie.mean()).std()"
   ]
  },
  {
   "cell_type": "markdown",
   "id": "c38c91c6",
   "metadata": {},
   "source": [
    "-Qantas Airways, Plus Ultra Lineas Aereas, Air Canada, Latin American Wings, Grupo LATAM. Son los grupos que poseen un atraso de mas de un 70% de sus vuelos emitidos.  \n",
    "-Aeromexico y United airlines presentan aproximadamente menos de un 25% de sus vuelos retrasados.  \n",
    "-La tasa promedio de atraso por aerolinea del data set es de aproximadamente 54%.  "
   ]
  },
  {
   "cell_type": "markdown",
   "id": "4c62cf94",
   "metadata": {},
   "source": [
    "Tasa de atraso según mes"
   ]
  },
  {
   "cell_type": "code",
   "execution_count": 596,
   "id": "933fd376",
   "metadata": {},
   "outputs": [
    {
     "data": {
      "text/plain": [
       "MES\n",
       "7     0.770027\n",
       "12    0.741032\n",
       "10    0.712865\n",
       "11    0.692434\n",
       "1     0.661755\n",
       "2     0.652401\n",
       "6     0.648464\n",
       "8     0.647110\n",
       "9     0.645455\n",
       "5     0.641221\n",
       "4     0.592430\n",
       "3     0.565669\n",
       "Name: Retraso_dummie, dtype: float64"
      ]
     },
     "execution_count": 596,
     "metadata": {},
     "output_type": "execute_result"
    }
   ],
   "source": [
    "data.groupby('MES').Retraso_dummie.mean().sort_values(ascending=False)"
   ]
  },
  {
   "cell_type": "code",
   "execution_count": 597,
   "id": "4d517b0b",
   "metadata": {},
   "outputs": [
    {
     "data": {
      "text/plain": [
       "0.05775443670244032"
      ]
     },
     "execution_count": 597,
     "metadata": {},
     "output_type": "execute_result"
    }
   ],
   "source": [
    "(data.groupby('MES').Retraso_dummie.mean().sort_values(ascending=False)).std()"
   ]
  },
  {
   "cell_type": "code",
   "execution_count": 598,
   "id": "1a50a2c7",
   "metadata": {},
   "outputs": [
    {
     "data": {
      "text/plain": [
       "0.6642386088647986"
      ]
     },
     "execution_count": 598,
     "metadata": {},
     "output_type": "execute_result"
    }
   ],
   "source": [
    "(data.groupby('MES').Retraso_dummie.mean().sort_values(ascending=False)).mean()"
   ]
  },
  {
   "cell_type": "markdown",
   "id": "90be4577",
   "metadata": {},
   "source": [
    "Los retrasos por mes, estos se distribuyen de manera similar con una desviación estandar de 0,05 y una tasa promedio de atraso por mes de un 66%"
   ]
  },
  {
   "cell_type": "markdown",
   "id": "8ad6db16",
   "metadata": {},
   "source": [
    "Tasa de retraso por día de semana"
   ]
  },
  {
   "cell_type": "code",
   "execution_count": 599,
   "id": "d374b414",
   "metadata": {},
   "outputs": [
    {
     "data": {
      "text/plain": [
       "DIANOM\n",
       "Viernes      0.717159\n",
       "Jueves       0.683543\n",
       "Lunes        0.675155\n",
       "Miercoles    0.659947\n",
       "Sabado       0.645953\n",
       "Martes       0.642310\n",
       "Domingo      0.639241\n",
       "Name: Retraso_dummie, dtype: float64"
      ]
     },
     "execution_count": 599,
     "metadata": {},
     "output_type": "execute_result"
    }
   ],
   "source": [
    "data.groupby('DIANOM').Retraso_dummie.mean().sort_values(ascending=False)"
   ]
  },
  {
   "cell_type": "code",
   "execution_count": 600,
   "id": "881c5fba",
   "metadata": {},
   "outputs": [
    {
     "data": {
      "text/plain": [
       "0.028060599907687257"
      ]
     },
     "execution_count": 600,
     "metadata": {},
     "output_type": "execute_result"
    }
   ],
   "source": [
    "data.groupby('DIANOM').Retraso_dummie.mean().sort_values(ascending=False).std()"
   ]
  },
  {
   "cell_type": "code",
   "execution_count": 601,
   "id": "1aba3a2d",
   "metadata": {},
   "outputs": [
    {
     "data": {
      "text/plain": [
       "0.6661868080096084"
      ]
     },
     "execution_count": 601,
     "metadata": {},
     "output_type": "execute_result"
    }
   ],
   "source": [
    "data.groupby('DIANOM').Retraso_dummie.mean().sort_values(ascending=False).mean()"
   ]
  },
  {
   "cell_type": "markdown",
   "id": "20bfc2e1",
   "metadata": {},
   "source": [
    "-Los retrasos por dia de semana se distribuyen de manera similar con una desviación estandar de 0,03 y una tasa promedio de atraso por mes de un 66%"
   ]
  },
  {
   "cell_type": "markdown",
   "id": "e35f88f5",
   "metadata": {},
   "source": [
    "Tasa de atraso temporada_alta"
   ]
  },
  {
   "cell_type": "code",
   "execution_count": 602,
   "id": "b8ea57f3",
   "metadata": {},
   "outputs": [
    {
     "data": {
      "text/plain": [
       "temporada_alta\n",
       "1    0.682455\n",
       "0    0.659833\n",
       "Name: Retraso_dummie, dtype: float64"
      ]
     },
     "execution_count": 602,
     "metadata": {},
     "output_type": "execute_result"
    }
   ],
   "source": [
    "data.groupby('temporada_alta').Retraso_dummie.mean().sort_values(ascending=False)"
   ]
  },
  {
   "cell_type": "code",
   "execution_count": 603,
   "id": "7266958a",
   "metadata": {},
   "outputs": [
    {
     "data": {
      "text/plain": [
       "0.015996204318721632"
      ]
     },
     "execution_count": 603,
     "metadata": {},
     "output_type": "execute_result"
    }
   ],
   "source": [
    "data.groupby('temporada_alta').Retraso_dummie.mean().sort_values(ascending=False).std()"
   ]
  },
  {
   "cell_type": "code",
   "execution_count": 604,
   "id": "069b36a3",
   "metadata": {},
   "outputs": [
    {
     "data": {
      "text/plain": [
       "0.6711436150459809"
      ]
     },
     "execution_count": 604,
     "metadata": {},
     "output_type": "execute_result"
    }
   ],
   "source": [
    "data.groupby('temporada_alta').Retraso_dummie.mean().sort_values(ascending=False).mean()"
   ]
  },
  {
   "cell_type": "markdown",
   "id": "546c565d",
   "metadata": {},
   "source": [
    "-Los retrasos por temporada se distribuyen de manera similar con una desviación estandar de 0,015 y una tasa promedio de atraso por mes de un 67%"
   ]
  },
  {
   "cell_type": "markdown",
   "id": "ca05977d",
   "metadata": {},
   "source": [
    "Tasa de atraso segun tipo de vuelo"
   ]
  },
  {
   "cell_type": "code",
   "execution_count": 605,
   "id": "320511db",
   "metadata": {},
   "outputs": [
    {
     "data": {
      "text/plain": [
       "TIPOVUELO\n",
       "I    0.678521\n",
       "N    0.657631\n",
       "Name: Retraso_dummie, dtype: float64"
      ]
     },
     "execution_count": 605,
     "metadata": {},
     "output_type": "execute_result"
    }
   ],
   "source": [
    "data.groupby('TIPOVUELO').Retraso_dummie.mean().sort_values(ascending=False)"
   ]
  },
  {
   "cell_type": "code",
   "execution_count": 606,
   "id": "36fb5949",
   "metadata": {},
   "outputs": [
    {
     "data": {
      "text/plain": [
       "0.014771312065009127"
      ]
     },
     "execution_count": 606,
     "metadata": {},
     "output_type": "execute_result"
    }
   ],
   "source": [
    "data.groupby('TIPOVUELO').Retraso_dummie.mean().sort_values(ascending=False).std()"
   ]
  },
  {
   "cell_type": "code",
   "execution_count": 607,
   "id": "88a5d7bf",
   "metadata": {},
   "outputs": [
    {
     "data": {
      "text/plain": [
       "0.6680762318323727"
      ]
     },
     "execution_count": 607,
     "metadata": {},
     "output_type": "execute_result"
    }
   ],
   "source": [
    "data.groupby('TIPOVUELO').Retraso_dummie.mean().sort_values(ascending=False).mean()"
   ]
  },
  {
   "cell_type": "markdown",
   "id": "283b246b",
   "metadata": {},
   "source": [
    "-Los retrasos según Tipo de vuelo se distribuyen de manera similar con una desviación estandar de 0,014 y una tasa promedio de atraso por mes de un 66%"
   ]
  },
  {
   "cell_type": "markdown",
   "id": "ee997ee7",
   "metadata": {},
   "source": [
    "¿Qué variables esperarías que más influyeran en predecir atrasos?  \n",
    "-Al dividir por los distintos grupos, todos muestran una tasa de atraso mayor al 50%.  \n",
    "-Según la información anterior podemos ver que en general las variables se distribuyen de forma similar en atrasos,EXCEPTO por el atraso segun destino std=0.2058 y el atraso segun OPERADOR std=0.195, por tanto espero que estas variables influyan más a la hora de predecir atrasos (difieren mucho el atraso segun tipo de operador y destino).\n"
   ]
  },
  {
   "cell_type": "code",
   "execution_count": 608,
   "id": "f786f9eb",
   "metadata": {},
   "outputs": [
    {
     "data": {
      "text/plain": [
       "Index(['Ori-I', 'DIA', 'MES', 'AÑO', 'DIANOM', 'TIPOVUELO', 'OPERA',\n",
       "       'SIGLADES', 'Cambio_Nvuelo', 'Cambio_destino', 'Cambio_aerolinea',\n",
       "       'dif_min', 'Retraso_dummie', 'atraso_15', 'temporada_alta', 'Hora'],\n",
       "      dtype='object')"
      ]
     },
     "execution_count": 608,
     "metadata": {},
     "output_type": "execute_result"
    }
   ],
   "source": [
    "data.columns"
   ]
  },
  {
   "cell_type": "markdown",
   "id": "6132da16",
   "metadata": {},
   "source": [
    "## 2. Genera las columnas adicionales y luego expórtelas en un archivo synthetic_features.csv "
   ]
  },
  {
   "cell_type": "code",
   "execution_count": 609,
   "id": "6128778c",
   "metadata": {},
   "outputs": [],
   "source": [
    "#synthetic_features= data['atraso_15', 'temporada_alta', 'periodo_dia']\n",
    "columns=['atraso_15', 'temporada_alta']\n",
    "synthetic_features= data[columns]\n",
    "synthetic_features.to_csv(\"synthetic_features.csv\", sep=\"\\t\", header=True, index = False)"
   ]
  },
  {
   "cell_type": "code",
   "execution_count": null,
   "id": "8222ce64",
   "metadata": {},
   "outputs": [],
   "source": []
  },
  {
   "cell_type": "code",
   "execution_count": 612,
   "id": "c19b89e3",
   "metadata": {},
   "outputs": [],
   "source": [
    "#Ahora voy a pasar las variables a categoricas a dummies\n",
    "# Ori-I para tener el origen del vuelo en dummie, DIANOM, para tener que dia de la semana fue, Tipo de vuelo,\n",
    "#para tener separado que vuelo era, lo mismo con el día del mes, el mes y el año. (podria tener relación con los atrasos)\n",
    "# "
   ]
  },
  {
   "cell_type": "code",
   "execution_count": 613,
   "id": "98e1f8a0",
   "metadata": {},
   "outputs": [],
   "source": [
    "data_ml= pd.get_dummies(data=data, columns= ['Ori-I', 'DIANOM', 'TIPOVUELO','DIA','MES','AÑO','OPERA','SIGLADES', 'Hora'], drop_first= True)"
   ]
  },
  {
   "cell_type": "code",
   "execution_count": 614,
   "id": "be666de7",
   "metadata": {},
   "outputs": [
    {
     "data": {
      "text/html": [
       "<div>\n",
       "<style scoped>\n",
       "    .dataframe tbody tr th:only-of-type {\n",
       "        vertical-align: middle;\n",
       "    }\n",
       "\n",
       "    .dataframe tbody tr th {\n",
       "        vertical-align: top;\n",
       "    }\n",
       "\n",
       "    .dataframe thead th {\n",
       "        text-align: right;\n",
       "    }\n",
       "</style>\n",
       "<table border=\"1\" class=\"dataframe\">\n",
       "  <thead>\n",
       "    <tr style=\"text-align: right;\">\n",
       "      <th></th>\n",
       "      <th>Cambio_Nvuelo</th>\n",
       "      <th>Cambio_destino</th>\n",
       "      <th>Cambio_aerolinea</th>\n",
       "      <th>dif_min</th>\n",
       "      <th>Retraso_dummie</th>\n",
       "      <th>atraso_15</th>\n",
       "      <th>temporada_alta</th>\n",
       "      <th>DIANOM_Jueves</th>\n",
       "      <th>DIANOM_Lunes</th>\n",
       "      <th>DIANOM_Martes</th>\n",
       "      <th>...</th>\n",
       "      <th>Hora_14</th>\n",
       "      <th>Hora_15</th>\n",
       "      <th>Hora_16</th>\n",
       "      <th>Hora_17</th>\n",
       "      <th>Hora_18</th>\n",
       "      <th>Hora_19</th>\n",
       "      <th>Hora_20</th>\n",
       "      <th>Hora_21</th>\n",
       "      <th>Hora_22</th>\n",
       "      <th>Hora_23</th>\n",
       "    </tr>\n",
       "  </thead>\n",
       "  <tbody>\n",
       "    <tr>\n",
       "      <th>59575</th>\n",
       "      <td>0</td>\n",
       "      <td>0</td>\n",
       "      <td>1</td>\n",
       "      <td>4.0</td>\n",
       "      <td>1</td>\n",
       "      <td>0</td>\n",
       "      <td>0</td>\n",
       "      <td>0</td>\n",
       "      <td>0</td>\n",
       "      <td>0</td>\n",
       "      <td>...</td>\n",
       "      <td>0</td>\n",
       "      <td>0</td>\n",
       "      <td>0</td>\n",
       "      <td>0</td>\n",
       "      <td>0</td>\n",
       "      <td>0</td>\n",
       "      <td>0</td>\n",
       "      <td>0</td>\n",
       "      <td>0</td>\n",
       "      <td>0</td>\n",
       "    </tr>\n",
       "    <tr>\n",
       "      <th>8852</th>\n",
       "      <td>0</td>\n",
       "      <td>0</td>\n",
       "      <td>0</td>\n",
       "      <td>-4.0</td>\n",
       "      <td>0</td>\n",
       "      <td>0</td>\n",
       "      <td>1</td>\n",
       "      <td>0</td>\n",
       "      <td>1</td>\n",
       "      <td>0</td>\n",
       "      <td>...</td>\n",
       "      <td>0</td>\n",
       "      <td>0</td>\n",
       "      <td>0</td>\n",
       "      <td>0</td>\n",
       "      <td>0</td>\n",
       "      <td>0</td>\n",
       "      <td>0</td>\n",
       "      <td>0</td>\n",
       "      <td>0</td>\n",
       "      <td>0</td>\n",
       "    </tr>\n",
       "    <tr>\n",
       "      <th>48630</th>\n",
       "      <td>0</td>\n",
       "      <td>0</td>\n",
       "      <td>0</td>\n",
       "      <td>-3.0</td>\n",
       "      <td>0</td>\n",
       "      <td>0</td>\n",
       "      <td>1</td>\n",
       "      <td>1</td>\n",
       "      <td>0</td>\n",
       "      <td>0</td>\n",
       "      <td>...</td>\n",
       "      <td>0</td>\n",
       "      <td>0</td>\n",
       "      <td>0</td>\n",
       "      <td>1</td>\n",
       "      <td>0</td>\n",
       "      <td>0</td>\n",
       "      <td>0</td>\n",
       "      <td>0</td>\n",
       "      <td>0</td>\n",
       "      <td>0</td>\n",
       "    </tr>\n",
       "    <tr>\n",
       "      <th>33281</th>\n",
       "      <td>0</td>\n",
       "      <td>0</td>\n",
       "      <td>1</td>\n",
       "      <td>81.0</td>\n",
       "      <td>1</td>\n",
       "      <td>1</td>\n",
       "      <td>1</td>\n",
       "      <td>0</td>\n",
       "      <td>0</td>\n",
       "      <td>0</td>\n",
       "      <td>...</td>\n",
       "      <td>0</td>\n",
       "      <td>0</td>\n",
       "      <td>0</td>\n",
       "      <td>0</td>\n",
       "      <td>0</td>\n",
       "      <td>0</td>\n",
       "      <td>0</td>\n",
       "      <td>0</td>\n",
       "      <td>0</td>\n",
       "      <td>0</td>\n",
       "    </tr>\n",
       "    <tr>\n",
       "      <th>29160</th>\n",
       "      <td>0</td>\n",
       "      <td>0</td>\n",
       "      <td>0</td>\n",
       "      <td>3.0</td>\n",
       "      <td>1</td>\n",
       "      <td>0</td>\n",
       "      <td>0</td>\n",
       "      <td>1</td>\n",
       "      <td>0</td>\n",
       "      <td>0</td>\n",
       "      <td>...</td>\n",
       "      <td>0</td>\n",
       "      <td>0</td>\n",
       "      <td>0</td>\n",
       "      <td>0</td>\n",
       "      <td>0</td>\n",
       "      <td>1</td>\n",
       "      <td>0</td>\n",
       "      <td>0</td>\n",
       "      <td>0</td>\n",
       "      <td>0</td>\n",
       "    </tr>\n",
       "  </tbody>\n",
       "</table>\n",
       "<p>5 rows × 162 columns</p>\n",
       "</div>"
      ],
      "text/plain": [
       "       Cambio_Nvuelo  Cambio_destino  Cambio_aerolinea  dif_min  \\\n",
       "59575              0               0                 1      4.0   \n",
       "8852               0               0                 0     -4.0   \n",
       "48630              0               0                 0     -3.0   \n",
       "33281              0               0                 1     81.0   \n",
       "29160              0               0                 0      3.0   \n",
       "\n",
       "       Retraso_dummie  atraso_15  temporada_alta  DIANOM_Jueves  DIANOM_Lunes  \\\n",
       "59575               1          0               0              0             0   \n",
       "8852                0          0               1              0             1   \n",
       "48630               0          0               1              1             0   \n",
       "33281               1          1               1              0             0   \n",
       "29160               1          0               0              1             0   \n",
       "\n",
       "       DIANOM_Martes  ...  Hora_14  Hora_15  Hora_16  Hora_17  Hora_18  \\\n",
       "59575              0  ...        0        0        0        0        0   \n",
       "8852               0  ...        0        0        0        0        0   \n",
       "48630              0  ...        0        0        0        1        0   \n",
       "33281              0  ...        0        0        0        0        0   \n",
       "29160              0  ...        0        0        0        0        0   \n",
       "\n",
       "       Hora_19  Hora_20  Hora_21  Hora_22  Hora_23  \n",
       "59575        0        0        0        0        0  \n",
       "8852         0        0        0        0        0  \n",
       "48630        0        0        0        0        0  \n",
       "33281        0        0        0        0        0  \n",
       "29160        1        0        0        0        0  \n",
       "\n",
       "[5 rows x 162 columns]"
      ]
     },
     "execution_count": 614,
     "metadata": {},
     "output_type": "execute_result"
    }
   ],
   "source": [
    "data_ml.sample(5)"
   ]
  },
  {
   "cell_type": "code",
   "execution_count": null,
   "id": "12519f47",
   "metadata": {},
   "outputs": [],
   "source": []
  },
  {
   "cell_type": "code",
   "execution_count": 615,
   "id": "f22a5d0b",
   "metadata": {},
   "outputs": [],
   "source": [
    "import matplotlib.pyplot as plt\n",
    "import seaborn as sns\n",
    "%matplotlib inline"
   ]
  },
  {
   "cell_type": "markdown",
   "id": "785c69ba",
   "metadata": {},
   "source": [
    "Grafico las correlaciones de las variables con el target"
   ]
  },
  {
   "cell_type": "code",
   "execution_count": 616,
   "id": "b2c21be4",
   "metadata": {},
   "outputs": [
    {
     "data": {
      "text/plain": [
       "<AxesSubplot:>"
      ]
     },
     "execution_count": 616,
     "metadata": {},
     "output_type": "execute_result"
    },
    {
     "data": {
      "image/png": "[encoded data removed]",
      "text/plain": [
       "<Figure size 1080x2160 with 2 Axes>"
      ]
     },
     "metadata": {
      "needs_background": "light"
     },
     "output_type": "display_data"
    }
   ],
   "source": [
    "plt.figure(figsize=(15,30))\n",
    "sns.heatmap(data_ml.corr()[['Retraso_dummie']], annot=True)"
   ]
  },
  {
   "cell_type": "code",
   "execution_count": null,
   "id": "3902e3f2",
   "metadata": {},
   "outputs": [],
   "source": []
  },
  {
   "cell_type": "markdown",
   "id": "9e1e6310",
   "metadata": {},
   "source": [
    "## 4)Entrena uno o varios modelos (usando el/los algoritmo(s) que prefieras) para estimar la probabilidad de atraso de un vuelo.Siéntete libre de generar variables adicionales y/o complementar con variables externas."
   ]
  },
  {
   "cell_type": "code",
   "execution_count": 617,
   "id": "456158fc",
   "metadata": {},
   "outputs": [
    {
     "data": {
      "text/plain": [
       "Index(['Cambio_Nvuelo', 'Cambio_destino', 'Cambio_aerolinea', 'dif_min',\n",
       "       'Retraso_dummie', 'atraso_15', 'temporada_alta', 'DIANOM_Jueves',\n",
       "       'DIANOM_Lunes', 'DIANOM_Martes',\n",
       "       ...\n",
       "       'Hora_14', 'Hora_15', 'Hora_16', 'Hora_17', 'Hora_18', 'Hora_19',\n",
       "       'Hora_20', 'Hora_21', 'Hora_22', 'Hora_23'],\n",
       "      dtype='object', length=162)"
      ]
     },
     "execution_count": 617,
     "metadata": {},
     "output_type": "execute_result"
    }
   ],
   "source": [
    "data_ml.columns"
   ]
  },
  {
   "cell_type": "code",
   "execution_count": 618,
   "id": "ed1e9419",
   "metadata": {},
   "outputs": [
    {
     "data": {
      "text/html": [
       "<div>\n",
       "<style scoped>\n",
       "    .dataframe tbody tr th:only-of-type {\n",
       "        vertical-align: middle;\n",
       "    }\n",
       "\n",
       "    .dataframe tbody tr th {\n",
       "        vertical-align: top;\n",
       "    }\n",
       "\n",
       "    .dataframe thead th {\n",
       "        text-align: right;\n",
       "    }\n",
       "</style>\n",
       "<table border=\"1\" class=\"dataframe\">\n",
       "  <thead>\n",
       "    <tr style=\"text-align: right;\">\n",
       "      <th></th>\n",
       "      <th>Cambio_Nvuelo</th>\n",
       "      <th>Cambio_destino</th>\n",
       "      <th>Cambio_aerolinea</th>\n",
       "      <th>dif_min</th>\n",
       "      <th>Retraso_dummie</th>\n",
       "      <th>atraso_15</th>\n",
       "      <th>temporada_alta</th>\n",
       "      <th>DIANOM_Jueves</th>\n",
       "      <th>DIANOM_Lunes</th>\n",
       "      <th>DIANOM_Martes</th>\n",
       "      <th>...</th>\n",
       "      <th>Hora_14</th>\n",
       "      <th>Hora_15</th>\n",
       "      <th>Hora_16</th>\n",
       "      <th>Hora_17</th>\n",
       "      <th>Hora_18</th>\n",
       "      <th>Hora_19</th>\n",
       "      <th>Hora_20</th>\n",
       "      <th>Hora_21</th>\n",
       "      <th>Hora_22</th>\n",
       "      <th>Hora_23</th>\n",
       "    </tr>\n",
       "  </thead>\n",
       "  <tbody>\n",
       "    <tr>\n",
       "      <th>count</th>\n",
       "      <td>68206.000000</td>\n",
       "      <td>68206.000000</td>\n",
       "      <td>68206.000000</td>\n",
       "      <td>68206.000000</td>\n",
       "      <td>68206.000000</td>\n",
       "      <td>68206.000000</td>\n",
       "      <td>68206.000000</td>\n",
       "      <td>68206.000000</td>\n",
       "      <td>68206.000000</td>\n",
       "      <td>68206.000000</td>\n",
       "      <td>...</td>\n",
       "      <td>68206.000000</td>\n",
       "      <td>68206.000000</td>\n",
       "      <td>68206.000000</td>\n",
       "      <td>68206.000000</td>\n",
       "      <td>68206.000000</td>\n",
       "      <td>68206.000000</td>\n",
       "      <td>68206.000000</td>\n",
       "      <td>68206.000000</td>\n",
       "      <td>68206.000000</td>\n",
       "      <td>68206.000000</td>\n",
       "    </tr>\n",
       "    <tr>\n",
       "      <th>mean</th>\n",
       "      <td>0.027124</td>\n",
       "      <td>0.000411</td>\n",
       "      <td>0.273715</td>\n",
       "      <td>9.110855</td>\n",
       "      <td>0.667199</td>\n",
       "      <td>0.184940</td>\n",
       "      <td>0.325646</td>\n",
       "      <td>0.150295</td>\n",
       "      <td>0.148535</td>\n",
       "      <td>0.141659</td>\n",
       "      <td>...</td>\n",
       "      <td>0.056241</td>\n",
       "      <td>0.056945</td>\n",
       "      <td>0.045040</td>\n",
       "      <td>0.050802</td>\n",
       "      <td>0.061021</td>\n",
       "      <td>0.052649</td>\n",
       "      <td>0.043031</td>\n",
       "      <td>0.033897</td>\n",
       "      <td>0.034015</td>\n",
       "      <td>0.019016</td>\n",
       "    </tr>\n",
       "    <tr>\n",
       "      <th>std</th>\n",
       "      <td>0.162445</td>\n",
       "      <td>0.020257</td>\n",
       "      <td>0.445868</td>\n",
       "      <td>19.313387</td>\n",
       "      <td>0.471219</td>\n",
       "      <td>0.388252</td>\n",
       "      <td>0.468619</td>\n",
       "      <td>0.357363</td>\n",
       "      <td>0.355632</td>\n",
       "      <td>0.348703</td>\n",
       "      <td>...</td>\n",
       "      <td>0.230389</td>\n",
       "      <td>0.231739</td>\n",
       "      <td>0.207393</td>\n",
       "      <td>0.219595</td>\n",
       "      <td>0.239371</td>\n",
       "      <td>0.223334</td>\n",
       "      <td>0.202929</td>\n",
       "      <td>0.180966</td>\n",
       "      <td>0.181268</td>\n",
       "      <td>0.136582</td>\n",
       "    </tr>\n",
       "    <tr>\n",
       "      <th>min</th>\n",
       "      <td>0.000000</td>\n",
       "      <td>0.000000</td>\n",
       "      <td>0.000000</td>\n",
       "      <td>-14.000000</td>\n",
       "      <td>0.000000</td>\n",
       "      <td>0.000000</td>\n",
       "      <td>0.000000</td>\n",
       "      <td>0.000000</td>\n",
       "      <td>0.000000</td>\n",
       "      <td>0.000000</td>\n",
       "      <td>...</td>\n",
       "      <td>0.000000</td>\n",
       "      <td>0.000000</td>\n",
       "      <td>0.000000</td>\n",
       "      <td>0.000000</td>\n",
       "      <td>0.000000</td>\n",
       "      <td>0.000000</td>\n",
       "      <td>0.000000</td>\n",
       "      <td>0.000000</td>\n",
       "      <td>0.000000</td>\n",
       "      <td>0.000000</td>\n",
       "    </tr>\n",
       "    <tr>\n",
       "      <th>25%</th>\n",
       "      <td>0.000000</td>\n",
       "      <td>0.000000</td>\n",
       "      <td>0.000000</td>\n",
       "      <td>-1.000000</td>\n",
       "      <td>0.000000</td>\n",
       "      <td>0.000000</td>\n",
       "      <td>0.000000</td>\n",
       "      <td>0.000000</td>\n",
       "      <td>0.000000</td>\n",
       "      <td>0.000000</td>\n",
       "      <td>...</td>\n",
       "      <td>0.000000</td>\n",
       "      <td>0.000000</td>\n",
       "      <td>0.000000</td>\n",
       "      <td>0.000000</td>\n",
       "      <td>0.000000</td>\n",
       "      <td>0.000000</td>\n",
       "      <td>0.000000</td>\n",
       "      <td>0.000000</td>\n",
       "      <td>0.000000</td>\n",
       "      <td>0.000000</td>\n",
       "    </tr>\n",
       "    <tr>\n",
       "      <th>50%</th>\n",
       "      <td>0.000000</td>\n",
       "      <td>0.000000</td>\n",
       "      <td>0.000000</td>\n",
       "      <td>4.000000</td>\n",
       "      <td>1.000000</td>\n",
       "      <td>0.000000</td>\n",
       "      <td>0.000000</td>\n",
       "      <td>0.000000</td>\n",
       "      <td>0.000000</td>\n",
       "      <td>0.000000</td>\n",
       "      <td>...</td>\n",
       "      <td>0.000000</td>\n",
       "      <td>0.000000</td>\n",
       "      <td>0.000000</td>\n",
       "      <td>0.000000</td>\n",
       "      <td>0.000000</td>\n",
       "      <td>0.000000</td>\n",
       "      <td>0.000000</td>\n",
       "      <td>0.000000</td>\n",
       "      <td>0.000000</td>\n",
       "      <td>0.000000</td>\n",
       "    </tr>\n",
       "    <tr>\n",
       "      <th>75%</th>\n",
       "      <td>0.000000</td>\n",
       "      <td>0.000000</td>\n",
       "      <td>1.000000</td>\n",
       "      <td>12.000000</td>\n",
       "      <td>1.000000</td>\n",
       "      <td>0.000000</td>\n",
       "      <td>1.000000</td>\n",
       "      <td>0.000000</td>\n",
       "      <td>0.000000</td>\n",
       "      <td>0.000000</td>\n",
       "      <td>...</td>\n",
       "      <td>0.000000</td>\n",
       "      <td>0.000000</td>\n",
       "      <td>0.000000</td>\n",
       "      <td>0.000000</td>\n",
       "      <td>0.000000</td>\n",
       "      <td>0.000000</td>\n",
       "      <td>0.000000</td>\n",
       "      <td>0.000000</td>\n",
       "      <td>0.000000</td>\n",
       "      <td>0.000000</td>\n",
       "    </tr>\n",
       "    <tr>\n",
       "      <th>max</th>\n",
       "      <td>1.000000</td>\n",
       "      <td>1.000000</td>\n",
       "      <td>1.000000</td>\n",
       "      <td>161.000000</td>\n",
       "      <td>1.000000</td>\n",
       "      <td>1.000000</td>\n",
       "      <td>1.000000</td>\n",
       "      <td>1.000000</td>\n",
       "      <td>1.000000</td>\n",
       "      <td>1.000000</td>\n",
       "      <td>...</td>\n",
       "      <td>1.000000</td>\n",
       "      <td>1.000000</td>\n",
       "      <td>1.000000</td>\n",
       "      <td>1.000000</td>\n",
       "      <td>1.000000</td>\n",
       "      <td>1.000000</td>\n",
       "      <td>1.000000</td>\n",
       "      <td>1.000000</td>\n",
       "      <td>1.000000</td>\n",
       "      <td>1.000000</td>\n",
       "    </tr>\n",
       "  </tbody>\n",
       "</table>\n",
       "<p>8 rows × 162 columns</p>\n",
       "</div>"
      ],
      "text/plain": [
       "       Cambio_Nvuelo  Cambio_destino  Cambio_aerolinea       dif_min  \\\n",
       "count   68206.000000    68206.000000      68206.000000  68206.000000   \n",
       "mean        0.027124        0.000411          0.273715      9.110855   \n",
       "std         0.162445        0.020257          0.445868     19.313387   \n",
       "min         0.000000        0.000000          0.000000    -14.000000   \n",
       "25%         0.000000        0.000000          0.000000     -1.000000   \n",
       "50%         0.000000        0.000000          0.000000      4.000000   \n",
       "75%         0.000000        0.000000          1.000000     12.000000   \n",
       "max         1.000000        1.000000          1.000000    161.000000   \n",
       "\n",
       "       Retraso_dummie     atraso_15  temporada_alta  DIANOM_Jueves  \\\n",
       "count    68206.000000  68206.000000    68206.000000   68206.000000   \n",
       "mean         0.667199      0.184940        0.325646       0.150295   \n",
       "std          0.471219      0.388252        0.468619       0.357363   \n",
       "min          0.000000      0.000000        0.000000       0.000000   \n",
       "25%          0.000000      0.000000        0.000000       0.000000   \n",
       "50%          1.000000      0.000000        0.000000       0.000000   \n",
       "75%          1.000000      0.000000        1.000000       0.000000   \n",
       "max          1.000000      1.000000        1.000000       1.000000   \n",
       "\n",
       "       DIANOM_Lunes  DIANOM_Martes  ...       Hora_14       Hora_15  \\\n",
       "count  68206.000000   68206.000000  ...  68206.000000  68206.000000   \n",
       "mean       0.148535       0.141659  ...      0.056241      0.056945   \n",
       "std        0.355632       0.348703  ...      0.230389      0.231739   \n",
       "min        0.000000       0.000000  ...      0.000000      0.000000   \n",
       "25%        0.000000       0.000000  ...      0.000000      0.000000   \n",
       "50%        0.000000       0.000000  ...      0.000000      0.000000   \n",
       "75%        0.000000       0.000000  ...      0.000000      0.000000   \n",
       "max        1.000000       1.000000  ...      1.000000      1.000000   \n",
       "\n",
       "            Hora_16       Hora_17       Hora_18       Hora_19       Hora_20  \\\n",
       "count  68206.000000  68206.000000  68206.000000  68206.000000  68206.000000   \n",
       "mean       0.045040      0.050802      0.061021      0.052649      0.043031   \n",
       "std        0.207393      0.219595      0.239371      0.223334      0.202929   \n",
       "min        0.000000      0.000000      0.000000      0.000000      0.000000   \n",
       "25%        0.000000      0.000000      0.000000      0.000000      0.000000   \n",
       "50%        0.000000      0.000000      0.000000      0.000000      0.000000   \n",
       "75%        0.000000      0.000000      0.000000      0.000000      0.000000   \n",
       "max        1.000000      1.000000      1.000000      1.000000      1.000000   \n",
       "\n",
       "            Hora_21       Hora_22       Hora_23  \n",
       "count  68206.000000  68206.000000  68206.000000  \n",
       "mean       0.033897      0.034015      0.019016  \n",
       "std        0.180966      0.181268      0.136582  \n",
       "min        0.000000      0.000000      0.000000  \n",
       "25%        0.000000      0.000000      0.000000  \n",
       "50%        0.000000      0.000000      0.000000  \n",
       "75%        0.000000      0.000000      0.000000  \n",
       "max        1.000000      1.000000      1.000000  \n",
       "\n",
       "[8 rows x 162 columns]"
      ]
     },
     "execution_count": 618,
     "metadata": {},
     "output_type": "execute_result"
    }
   ],
   "source": [
    "data_ml.describe()"
   ]
  },
  {
   "cell_type": "code",
   "execution_count": 619,
   "id": "1e6eebc6",
   "metadata": {},
   "outputs": [],
   "source": [
    "#  para poder predecir, tengo que sacar las variables que dicen que ya esta atrasado,\n",
    "#dropear: dif_min y atraso_15"
   ]
  },
  {
   "cell_type": "code",
   "execution_count": 620,
   "id": "384ad6b4",
   "metadata": {},
   "outputs": [],
   "source": [
    "data_ml= data_ml.drop(columns=['dif_min','atraso_15'])"
   ]
  },
  {
   "cell_type": "code",
   "execution_count": 621,
   "id": "89820470",
   "metadata": {},
   "outputs": [
    {
     "data": {
      "text/plain": [
       "(68206, 160)"
      ]
     },
     "execution_count": 621,
     "metadata": {},
     "output_type": "execute_result"
    }
   ],
   "source": [
    "data_ml.columns\n",
    "data_ml.shape"
   ]
  },
  {
   "cell_type": "markdown",
   "id": "7a3fb17f",
   "metadata": {},
   "source": [
    "Creo modelo"
   ]
  },
  {
   "cell_type": "code",
   "execution_count": 622,
   "id": "cf948112",
   "metadata": {},
   "outputs": [],
   "source": [
    "X = data_ml.drop(columns=['Retraso_dummie'])\n",
    "y = data_ml['Retraso_dummie']"
   ]
  },
  {
   "cell_type": "code",
   "execution_count": 623,
   "id": "55d75c57",
   "metadata": {},
   "outputs": [],
   "source": [
    "# Separamos un set de testeo para evaluar el modelo\n",
    "from sklearn.model_selection import train_test_split\n",
    "X_train, X_test, y_train, y_test = train_test_split(X, y,stratify=y, random_state = 123)"
   ]
  },
  {
   "cell_type": "code",
   "execution_count": 624,
   "id": "6910af08",
   "metadata": {},
   "outputs": [
    {
     "data": {
      "text/plain": [
       "(0.6672010008992454, 0.6671944639924936)"
      ]
     },
     "execution_count": 624,
     "metadata": {},
     "output_type": "execute_result"
    }
   ],
   "source": [
    "# Verificamos que coincidan las proporciones del target\n",
    "y_train.mean(), y_test.mean()"
   ]
  },
  {
   "cell_type": "code",
   "execution_count": 625,
   "id": "bcb3109e",
   "metadata": {},
   "outputs": [],
   "source": [
    "# Estandarizamos los datos\n",
    "from sklearn.preprocessing import StandardScaler\n",
    "scaler = StandardScaler()\n",
    "X_train_std = scaler.fit_transform(X_train)\n",
    "X_test_std = scaler.transform(X_test)"
   ]
  },
  {
   "cell_type": "markdown",
   "id": "66e355d4",
   "metadata": {},
   "source": [
    "Modelo 1: Regresión Logistica"
   ]
  },
  {
   "cell_type": "code",
   "execution_count": 626,
   "id": "d400291d",
   "metadata": {},
   "outputs": [],
   "source": [
    "from sklearn.linear_model import LogisticRegression\n",
    "lr = LogisticRegression()\n",
    "fit1= lr.fit(X_train_std, y_train)"
   ]
  },
  {
   "cell_type": "code",
   "execution_count": 627,
   "id": "c3acff45",
   "metadata": {},
   "outputs": [
    {
     "name": "stdout",
     "output_type": "stream",
     "text": [
      "[[ 3.25380455e-02  2.02246207e-03  2.17365302e-03  4.61041638e-03\n",
      "   1.08817909e-01  8.81537292e-02  3.20121185e-02  5.19458666e-02\n",
      "   1.49029296e-02  1.58262765e-01 -2.33637280e-01 -2.22497152e-02\n",
      "   2.38062013e-03  1.89238696e-02 -3.62949602e-03 -2.07923833e-03\n",
      "   5.41201182e-03 -4.79122909e-03 -7.12376258e-03  4.15493946e-02\n",
      "   5.18939321e-02  2.24802479e-02 -4.63482110e-03  7.41848650e-03\n",
      "   3.80374013e-02  3.76879058e-02  7.36870517e-04  1.58628385e-02\n",
      "   1.15004033e-03 -2.24857040e-03  1.12224818e-02  2.26210476e-02\n",
      "  -5.52125348e-03 -3.11557665e-03 -1.01633778e-02  1.09710540e-02\n",
      "  -8.12901852e-03 -1.41269572e-02  2.42950779e-03 -1.68521411e-02\n",
      "  -2.02807837e-02 -6.89531875e-03 -1.13832096e-01 -6.35593692e-02\n",
      "  -5.89062423e-03 -6.37256323e-03  1.81317000e-01 -6.14569115e-03\n",
      "  -6.78526524e-03  9.60769530e-02  5.63819529e-02  1.28954520e-01\n",
      "   5.89014572e-02 -4.53915081e-02  1.58014535e-01 -1.64910919e-01\n",
      "   1.23383532e-02 -9.68539342e-02 -2.38745711e-03  7.68422308e-02\n",
      "   1.22502524e-02  8.14272194e-03 -3.41733808e-02  3.98251678e-02\n",
      "   6.22344715e-01  4.64483626e-02  9.78483733e-02 -6.89720206e-02\n",
      "  -6.72535441e-03  2.35234334e-01 -6.46133931e-03  4.62107049e-02\n",
      "   1.19580018e-01  2.62973762e-01 -5.61008377e-02  7.40816509e-02\n",
      "   2.81630460e-02 -3.41733808e-02  9.13278337e-02  6.46894036e-02\n",
      "   5.70573920e-02  3.16093259e-02  1.45510084e-01 -1.68576001e-02\n",
      "   1.23081606e-04 -1.66699329e-02  4.12492544e-02 -5.79640915e-02\n",
      "   8.14272194e-03  4.57407403e-02 -1.17117827e-03  3.02456246e-02\n",
      "   1.14460542e-01 -2.48498805e-03 -7.82351005e-03 -2.10730867e-03\n",
      "  -2.79858271e-02 -5.34738072e-02  1.29573476e-01  8.54196436e-02\n",
      "   4.05869880e-02 -2.29385859e-03  2.49123243e-02  1.22502524e-02\n",
      "   1.62770493e-02 -1.38064327e-02  3.81837898e-02  2.92017138e-02\n",
      "   2.71727236e-02  6.11729765e-02 -1.30950730e-02  9.07572756e-03\n",
      "   7.84512114e-03  3.62657461e-02  1.54127625e-01  3.96472411e-02\n",
      "   1.45097230e-01 -8.26099007e-03  4.09520434e-02  1.93488289e-01\n",
      "   2.56693481e-02 -8.92646059e-03  6.12936374e-02  4.41675204e-02\n",
      "   1.23383532e-02  7.68378436e-02 -7.65880768e-03  3.89617704e-02\n",
      "   5.78487063e-02  2.58241993e-02  8.39099179e-02 -6.23815740e-02\n",
      "  -2.11921408e-02  8.96939768e-02  1.56565283e-02 -4.27189819e-02\n",
      "  -7.13385249e-03 -2.40221697e-02 -2.44171365e-02 -2.17218193e-02\n",
      "  -1.03275230e-02  3.19524756e-02  9.53499129e-02  9.22767747e-02\n",
      "   1.28903645e-01  7.68852933e-02  1.70642482e-01  1.17302469e-01\n",
      "   1.04162734e-01  1.28512636e-01  1.38960984e-01  1.05796400e-01\n",
      "   1.54158726e-01  1.51556706e-01  1.55140320e-01  1.17380912e-01\n",
      "   1.38630304e-01  1.13290551e-01  9.84042740e-02]]\n",
      "[0.7758919]\n"
     ]
    }
   ],
   "source": [
    "print(lr.coef_)\n",
    "print(lr.intercept_)"
   ]
  },
  {
   "cell_type": "code",
   "execution_count": 628,
   "id": "dcb86e7c",
   "metadata": {},
   "outputs": [
    {
     "name": "stdout",
     "output_type": "stream",
     "text": [
      "Intercept: [0.7758919]\n",
      "Coeficiente: [('Cambio_Nvuelo', 0.032538045535602654), ('Cambio_destino', 0.0020224620730033616), ('Cambio_aerolinea', 0.0021736530211561274), ('temporada_alta', 0.004610416380407121), ('DIANOM_Jueves', 0.10881790876894626), ('DIANOM_Lunes', 0.08815372919940341), ('DIANOM_Martes', 0.03201211853496755), ('DIANOM_Miercoles', 0.05194586658960149), ('DIANOM_Sabado', 0.014902929603250471), ('DIANOM_Viernes', 0.15826276496290445), ('TIPOVUELO_N', -0.2336372795918731), ('DIA_2', -0.02224971517643825), ('DIA_3', 0.0023806201270835095), ('DIA_4', 0.01892386960214442), ('DIA_5', -0.0036294960232348393), ('DIA_6', -0.0020792383292699158), ('DIA_7', 0.0054120118201943426), ('DIA_8', -0.0047912290919972025), ('DIA_9', -0.0071237625822513535), ('DIA_10', 0.04154939459701264), ('DIA_11', 0.05189393208707827), ('DIA_12', 0.022480247910147657), ('DIA_13', -0.004634821097819285), ('DIA_14', 0.007418486495468282), ('DIA_15', 0.03803740125519889), ('DIA_16', 0.037687905841550885), ('DIA_17', 0.0007368705166058917), ('DIA_18', 0.01586283850796389), ('DIA_19', 0.0011500403318007429), ('DIA_20', -0.002248570403631353), ('DIA_21', 0.011222481784487072), ('DIA_22', 0.022621047563645257), ('DIA_23', -0.005521253480440583), ('DIA_24', -0.0031155766524976047), ('DIA_25', -0.010163377767878274), ('DIA_26', 0.010971054011343455), ('DIA_27', -0.008129018521316336), ('DIA_28', -0.014126957202631445), ('DIA_29', 0.0024295077854934754), ('DIA_30', -0.0168521411212625), ('DIA_31', -0.020280783740163403), ('MES_2', -0.006895318751644901), ('MES_3', -0.113832096397962), ('MES_4', -0.06355936920899817), ('MES_5', -0.005890624228199363), ('MES_6', -0.006372563226694364), ('MES_7', 0.18131700034072695), ('MES_8', -0.006145691153476537), ('MES_9', -0.006785265239710355), ('MES_10', 0.09607695296115554), ('MES_11', 0.05638195290888346), ('MES_12', 0.12895452022130544), ('AÑO_2018', 0.05890145721807461), ('OPERA_Aeromexico', -0.045391508094516045), ('OPERA_Air Canada', 0.15801453509434982), ('OPERA_Air France', -0.16491091864753932), ('OPERA_Alitalia', 0.01233835320048422), ('OPERA_American Airlines', -0.09685393420395474), ('OPERA_Austral', -0.0023874571079072634), ('OPERA_Avianca', 0.07684223082212614), ('OPERA_British Airways', 0.012250252372131348), ('OPERA_Copa Air', 0.008142721937221934), ('OPERA_Delta Air', -0.03417338082413731), ('OPERA_Gol Trans', 0.03982516783197656), ('OPERA_Grupo LATAM', 0.622344715468958), ('OPERA_Iberia', 0.04644836256034554), ('OPERA_JetSmart SPA', 0.09784837331620533), ('OPERA_K.L.M.', -0.06897202064250099), ('OPERA_Lacsa', -0.006725354409886366), ('OPERA_Latin American Wings', 0.2352343339289787), ('OPERA_Oceanair Linhas Aereas', -0.0064613393050077525), ('OPERA_Plus Ultra Lineas Aereas', 0.04621070487991876), ('OPERA_Qantas Airways', 0.11958001816815154), ('OPERA_Sky Airline', 0.2629737615371251), ('OPERA_United Airlines', -0.05610083768209), ('SIGLADES_Arica', 0.07408165088190714), ('SIGLADES_Asuncion', 0.028163046007071632), ('SIGLADES_Atlanta', -0.03417338082413731), ('SIGLADES_Auckland N.Z.', 0.09132783370659706), ('SIGLADES_Balmaceda', 0.0646894035827276), ('SIGLADES_Bariloche', 0.0570573919771768), ('SIGLADES_Bogota', 0.03160932589268494), ('SIGLADES_Buenos Aires', 0.14551008363156817), ('SIGLADES_Calama', -0.016857600149854064), ('SIGLADES_Cancun', 0.00012308160641423183), ('SIGLADES_Castro (Chiloe)', -0.016669932869390006), ('SIGLADES_Cataratas Iguacu', 0.041249254374820854), ('SIGLADES_Ciudad de Mexico', -0.057964091475280956), ('SIGLADES_Ciudad de Panama', 0.008142721937221934), ('SIGLADES_Cochabamba', 0.045740740276275074), ('SIGLADES_Concepcion', -0.0011711782696766952), ('SIGLADES_Copiapo', 0.03024562463047418), ('SIGLADES_Cordoba', 0.11446054214131325), ('SIGLADES_Curitiba, Bra.', -0.002484988054898634), ('SIGLADES_Dallas', -0.007823510051608605), ('SIGLADES_Florianapolis', -0.002107308674072292), ('SIGLADES_Guayaquil', -0.027985827090390637), ('SIGLADES_Houston', -0.05347380716883674), ('SIGLADES_Iquique', 0.1295734755174903), ('SIGLADES_Isla de Pascua', 0.08541964361324529), ('SIGLADES_La Paz', 0.04058698798687545), ('SIGLADES_La Serena', -0.0022938585882093326), ('SIGLADES_Lima', 0.024912324270991007), ('SIGLADES_Londres', 0.012250252372131348), ('SIGLADES_Los Angeles', 0.01627704934512256), ('SIGLADES_Madrid', -0.013806432653665796), ('SIGLADES_Melbourne', 0.038183789813704745), ('SIGLADES_Mendoza', 0.029201713779488932), ('SIGLADES_Miami', 0.0271727236001019), ('SIGLADES_Montevideo', 0.06117297653576576), ('SIGLADES_Neuquen', -0.013095073005224962), ('SIGLADES_Nueva York', 0.009075727561240232), ('SIGLADES_Orlando', 0.007845121139391703), ('SIGLADES_Osorno', 0.03626574614198862), ('SIGLADES_Paris', 0.15412762501471886), ('SIGLADES_Pisco, Peru', 0.039647241149400686), ('SIGLADES_Puerto Montt', 0.14509722964827015), ('SIGLADES_Puerto Natales', -0.008260990071972634), ('SIGLADES_Puerto Stanley', 0.04095204336980304), ('SIGLADES_Punta Arenas', 0.19348828927390618), ('SIGLADES_Punta Cana', 0.025669348144097135), ('SIGLADES_Punta del Este', -0.008926460591448956), ('SIGLADES_Quito', 0.061293637373559716), ('SIGLADES_Rio de Janeiro', 0.044167520401051694), ('SIGLADES_Roma', 0.01233835320048422), ('SIGLADES_Rosario', 0.07683784357836493), ('SIGLADES_San Juan, Arg.', -0.007658807675550418), ('SIGLADES_Santa Cruz', 0.038961770384600455), ('SIGLADES_Sao Paulo', 0.057848706316616476), ('SIGLADES_Sydney', 0.025824199346867225), ('SIGLADES_Temuco', 0.08390991792943511), ('SIGLADES_Toronto', -0.06238157403244555), ('SIGLADES_Tucuman', -0.02119214077302495), ('SIGLADES_Ushuia', 0.08969397678466316), ('SIGLADES_Valdivia', 0.015656528321519425), ('SIGLADES_Washington', -0.04271898185185965), ('Hora_1', -0.007133852492376139), ('Hora_2', -0.02402216966090076), ('Hora_3', -0.024417136461877875), ('Hora_4', -0.021721819288888018), ('Hora_5', -0.0103275229602253), ('Hora_6', 0.03195247557505557), ('Hora_7', 0.09534991291983232), ('Hora_8', 0.0922767746781988), ('Hora_9', 0.128903645389345), ('Hora_10', 0.07688529330003731), ('Hora_11', 0.17064248249709824), ('Hora_12', 0.11730246883175253), ('Hora_13', 0.10416273402948904), ('Hora_14', 0.12851263590563183), ('Hora_15', 0.13896098362221337), ('Hora_16', 0.10579639955186203), ('Hora_17', 0.15415872642978287), ('Hora_18', 0.1515567062550899), ('Hora_19', 0.15514031978559492), ('Hora_20', 0.11738091190586708), ('Hora_21', 0.1386303044775087), ('Hora_22', 0.1132905510112323), ('Hora_23', 0.09840427402919218)]\n"
     ]
    }
   ],
   "source": [
    "print(\"Intercept:\", lr.intercept_)\n",
    "print(\"Coeficiente:\", list(zip(X.columns, lr.coef_.flatten(), )))"
   ]
  },
  {
   "cell_type": "code",
   "execution_count": 629,
   "id": "d8f60f9f",
   "metadata": {},
   "outputs": [],
   "source": [
    "numpy=list(zip(X.columns, lr.coef_.flatten(), ))"
   ]
  },
  {
   "cell_type": "code",
   "execution_count": 630,
   "id": "047eec7c",
   "metadata": {},
   "outputs": [
    {
     "data": {
      "text/html": [
       "<div>\n",
       "<style scoped>\n",
       "    .dataframe tbody tr th:only-of-type {\n",
       "        vertical-align: middle;\n",
       "    }\n",
       "\n",
       "    .dataframe tbody tr th {\n",
       "        vertical-align: top;\n",
       "    }\n",
       "\n",
       "    .dataframe thead th {\n",
       "        text-align: right;\n",
       "    }\n",
       "</style>\n",
       "<table border=\"1\" class=\"dataframe\">\n",
       "  <thead>\n",
       "    <tr style=\"text-align: right;\">\n",
       "      <th></th>\n",
       "      <th>0</th>\n",
       "      <th>1</th>\n",
       "    </tr>\n",
       "  </thead>\n",
       "  <tbody>\n",
       "    <tr>\n",
       "      <th>85</th>\n",
       "      <td>SIGLADES_Castro (Chiloe)</td>\n",
       "      <td>-0.016670</td>\n",
       "    </tr>\n",
       "    <tr>\n",
       "      <th>104</th>\n",
       "      <td>SIGLADES_Los Angeles</td>\n",
       "      <td>0.016277</td>\n",
       "    </tr>\n",
       "    <tr>\n",
       "      <th>47</th>\n",
       "      <td>MES_8</td>\n",
       "      <td>-0.006146</td>\n",
       "    </tr>\n",
       "  </tbody>\n",
       "</table>\n",
       "</div>"
      ],
      "text/plain": [
       "                            0         1\n",
       "85   SIGLADES_Castro (Chiloe) -0.016670\n",
       "104      SIGLADES_Los Angeles  0.016277\n",
       "47                      MES_8 -0.006146"
      ]
     },
     "execution_count": 630,
     "metadata": {},
     "output_type": "execute_result"
    }
   ],
   "source": [
    "df_lr=pd.DataFrame( data=numpy)\n",
    "df_lr.sample(3)"
   ]
  },
  {
   "cell_type": "code",
   "execution_count": 631,
   "id": "4b03b20f",
   "metadata": {},
   "outputs": [
    {
     "data": {
      "text/html": [
       "<div>\n",
       "<style scoped>\n",
       "    .dataframe tbody tr th:only-of-type {\n",
       "        vertical-align: middle;\n",
       "    }\n",
       "\n",
       "    .dataframe tbody tr th {\n",
       "        vertical-align: top;\n",
       "    }\n",
       "\n",
       "    .dataframe thead th {\n",
       "        text-align: right;\n",
       "    }\n",
       "</style>\n",
       "<table border=\"1\" class=\"dataframe\">\n",
       "  <thead>\n",
       "    <tr style=\"text-align: right;\">\n",
       "      <th></th>\n",
       "      <th>0</th>\n",
       "      <th>1</th>\n",
       "    </tr>\n",
       "  </thead>\n",
       "  <tbody>\n",
       "    <tr>\n",
       "      <th>64</th>\n",
       "      <td>OPERA_Grupo LATAM</td>\n",
       "      <td>0.622345</td>\n",
       "    </tr>\n",
       "    <tr>\n",
       "      <th>73</th>\n",
       "      <td>OPERA_Sky Airline</td>\n",
       "      <td>0.262974</td>\n",
       "    </tr>\n",
       "    <tr>\n",
       "      <th>69</th>\n",
       "      <td>OPERA_Latin American Wings</td>\n",
       "      <td>0.235234</td>\n",
       "    </tr>\n",
       "    <tr>\n",
       "      <th>119</th>\n",
       "      <td>SIGLADES_Punta Arenas</td>\n",
       "      <td>0.193488</td>\n",
       "    </tr>\n",
       "    <tr>\n",
       "      <th>46</th>\n",
       "      <td>MES_7</td>\n",
       "      <td>0.181317</td>\n",
       "    </tr>\n",
       "    <tr>\n",
       "      <th>...</th>\n",
       "      <td>...</td>\n",
       "      <td>...</td>\n",
       "    </tr>\n",
       "    <tr>\n",
       "      <th>67</th>\n",
       "      <td>OPERA_K.L.M.</td>\n",
       "      <td>-0.068972</td>\n",
       "    </tr>\n",
       "    <tr>\n",
       "      <th>57</th>\n",
       "      <td>OPERA_American Airlines</td>\n",
       "      <td>-0.096854</td>\n",
       "    </tr>\n",
       "    <tr>\n",
       "      <th>42</th>\n",
       "      <td>MES_3</td>\n",
       "      <td>-0.113832</td>\n",
       "    </tr>\n",
       "    <tr>\n",
       "      <th>55</th>\n",
       "      <td>OPERA_Air France</td>\n",
       "      <td>-0.164911</td>\n",
       "    </tr>\n",
       "    <tr>\n",
       "      <th>10</th>\n",
       "      <td>TIPOVUELO_N</td>\n",
       "      <td>-0.233637</td>\n",
       "    </tr>\n",
       "  </tbody>\n",
       "</table>\n",
       "<p>159 rows × 2 columns</p>\n",
       "</div>"
      ],
      "text/plain": [
       "                              0         1\n",
       "64            OPERA_Grupo LATAM  0.622345\n",
       "73            OPERA_Sky Airline  0.262974\n",
       "69   OPERA_Latin American Wings  0.235234\n",
       "119       SIGLADES_Punta Arenas  0.193488\n",
       "46                        MES_7  0.181317\n",
       "..                          ...       ...\n",
       "67                 OPERA_K.L.M. -0.068972\n",
       "57      OPERA_American Airlines -0.096854\n",
       "42                        MES_3 -0.113832\n",
       "55             OPERA_Air France -0.164911\n",
       "10                  TIPOVUELO_N -0.233637\n",
       "\n",
       "[159 rows x 2 columns]"
      ]
     },
     "execution_count": 631,
     "metadata": {},
     "output_type": "execute_result"
    }
   ],
   "source": [
    "df_lr.sort_values(by= 1, ascending=False)"
   ]
  },
  {
   "cell_type": "code",
   "execution_count": null,
   "id": "f44b8db1",
   "metadata": {},
   "outputs": [],
   "source": []
  },
  {
   "cell_type": "code",
   "execution_count": null,
   "id": "0c7e3ca1",
   "metadata": {},
   "outputs": [],
   "source": []
  },
  {
   "cell_type": "code",
   "execution_count": 632,
   "id": "4391bbd5",
   "metadata": {},
   "outputs": [],
   "source": [
    "y_train_pred = lr.predict(X_train_std)\n",
    "y_test_pred = lr.predict(X_test_std)"
   ]
  },
  {
   "cell_type": "markdown",
   "id": "fe1e5acd",
   "metadata": {},
   "source": [
    "Probabilidad de que se atrase el vuelo"
   ]
  },
  {
   "cell_type": "code",
   "execution_count": 633,
   "id": "f71c2366",
   "metadata": {},
   "outputs": [
    {
     "data": {
      "text/plain": [
       "array([[0.43955744, 0.56044256],\n",
       "       [0.33912131, 0.66087869],\n",
       "       [0.13000257, 0.86999743],\n",
       "       ...,\n",
       "       [0.5908785 , 0.4091215 ],\n",
       "       [0.27396941, 0.72603059],\n",
       "       [0.1651485 , 0.8348515 ]])"
      ]
     },
     "execution_count": 633,
     "metadata": {},
     "output_type": "execute_result"
    }
   ],
   "source": [
    "y_test_proba= lr.predict_proba(X_test_std)\n",
    "y_test_proba"
   ]
  },
  {
   "cell_type": "markdown",
   "id": "c70b4059",
   "metadata": {},
   "source": [
    "## Evalúa tu modelo. ¿Qué performance tiene? ¿Qué métricas usaste para evaluar esa performance y por qué? ¿Por qué elegiste ese algoritmo en particular? ¿Qué variables son las que más influyen en la predicción? ¿Cómo podrías mejorar la performance?"
   ]
  },
  {
   "cell_type": "code",
   "execution_count": 634,
   "id": "85926566",
   "metadata": {},
   "outputs": [],
   "source": [
    "# Elaboramos la matriz de confusión"
   ]
  },
  {
   "cell_type": "code",
   "execution_count": 635,
   "id": "529c7536",
   "metadata": {},
   "outputs": [
    {
     "data": {
      "image/png": "[encoded data removed]",
      "text/plain": [
       "<Figure size 432x288 with 2 Axes>"
      ]
     },
     "metadata": {
      "needs_background": "light"
     },
     "output_type": "display_data"
    }
   ],
   "source": [
    "from sklearn.metrics import confusion_matrix\n",
    "confusion_matrix(y_test, y_test_pred)\n",
    "sns.heatmap(confusion_matrix(y_test, y_test_pred), annot=True)\n",
    "plt.ylabel('Verdaderos')\n",
    "plt.xlabel('Predichos');"
   ]
  },
  {
   "cell_type": "code",
   "execution_count": 636,
   "id": "d8d47bd0",
   "metadata": {},
   "outputs": [
    {
     "data": {
      "text/plain": [
       "0.6986277269528501"
      ]
     },
     "execution_count": 636,
     "metadata": {},
     "output_type": "execute_result"
    }
   ],
   "source": [
    "from sklearn.metrics import accuracy_score\n",
    "accuracy_score(y_test, y_test_pred)"
   ]
  },
  {
   "cell_type": "markdown",
   "id": "683c6af4",
   "metadata": {},
   "source": [
    " performance= 0,6940 \n",
    "- Qué métricas usaste para evaluar esa performance y por qué, ¿Por qué?  \n",
    "Para evaluar la perfomance use el accuracy score, ya que esta muestra la proporción de casos correctamente clasificados de los datos de test sobre el total de casos de test. \n",
    "-  ¿Por qué elegiste ese algoritmo en particular?  \n",
    "El modelo de Regresión Logística es muy útil para abordar problemas de clasificación. Es un modelo muy versátil ya que puede ayudarnos a estimar las probabilidades de pertenecer a distintas categorías (lo solicitado en este caso), y también poder interpretar la influencia de muchas variables de entrada sobre la probabilidad de pertenecer a cada categoría.\n",
    "-  ¿Qué variables son las que más influyen en la predicción?  \n",
    "Son aquellas con mayor coeficiente de intersección. En este caso sería OPERA_ Grupo Latam, 0.584, OPERA_Sky Airline 0.2353,\n",
    "aportando positivamente en atraso y TIPOVUELO_N -0.22 (nacional) , OPERA Air_france -0.15 aportando negativamente en atraso\n",
    "-  ¿Cómo podrías mejorar la performance?  \n",
    "Podría mejorar la perfomance realizando una regularización o con GridSearch para mejorar los hiperparametros\n"
   ]
  },
  {
   "cell_type": "markdown",
   "id": "39f500a1",
   "metadata": {},
   "source": [
    "Modelo 2: Naive Bayes"
   ]
  },
  {
   "cell_type": "code",
   "execution_count": 637,
   "id": "40b958ba",
   "metadata": {},
   "outputs": [],
   "source": [
    "from sklearn.naive_bayes import GaussianNB\n",
    "\n",
    "gnb = GaussianNB()\n",
    "\n",
    "fit2=gnb.fit(X_train, y_train)"
   ]
  },
  {
   "cell_type": "code",
   "execution_count": 638,
   "id": "e5dc5163",
   "metadata": {},
   "outputs": [],
   "source": [
    "Y_pred_GNB = gnb.predict(X_test)"
   ]
  },
  {
   "cell_type": "code",
   "execution_count": 639,
   "id": "bda2fc38",
   "metadata": {},
   "outputs": [
    {
     "data": {
      "text/plain": [
       "array([[1.00000000e+00, 7.64662149e-19],\n",
       "       [1.00000000e+00, 1.52481496e-18],\n",
       "       [1.24188261e-06, 9.99998758e-01],\n",
       "       ...,\n",
       "       [1.00000000e+00, 1.77366200e-20],\n",
       "       [1.00000000e+00, 3.90948239e-17],\n",
       "       [1.00000000e+00, 4.21786057e-15]])"
      ]
     },
     "execution_count": 639,
     "metadata": {},
     "output_type": "execute_result"
    }
   ],
   "source": [
    "gnb.predict_proba(X_test)"
   ]
  },
  {
   "cell_type": "code",
   "execution_count": 641,
   "id": "7b8b1fad",
   "metadata": {},
   "outputs": [
    {
     "data": {
      "text/plain": [
       "0.37197982641332394"
      ]
     },
     "execution_count": 641,
     "metadata": {},
     "output_type": "execute_result"
    }
   ],
   "source": [
    "(accuracy_score(y_test, Y_pred_GNB))"
   ]
  },
  {
   "cell_type": "code",
   "execution_count": null,
   "id": "eb1d1e05",
   "metadata": {},
   "outputs": [],
   "source": []
  },
  {
   "cell_type": "code",
   "execution_count": 277,
   "id": "2e97580d",
   "metadata": {},
   "outputs": [
    {
     "data": {
      "image/png": "[encoded data removed]",
      "text/plain": [
       "<Figure size 432x288 with 2 Axes>"
      ]
     },
     "metadata": {
      "needs_background": "light"
     },
     "output_type": "display_data"
    }
   ],
   "source": [
    "confusion_matrix(y_test, y_test_pred)\n",
    "sns.heatmap(confusion_matrix(y_test, y_test_pred), annot=True)\n",
    "plt.ylabel('Verdaderos')\n",
    "plt.xlabel('Predichos');"
   ]
  },
  {
   "cell_type": "markdown",
   "id": "ca7c4f49",
   "metadata": {},
   "source": [
    "Evalúa tu modelo.\n",
    "-  ¿Qué performance tiene? 0.37\n",
    "-  ¿Qué métricas usaste para evaluar esa performance y por qué? \n",
    "Para evaluar la perfomance use el accuracy score, ya que esta muestra la proporción de casos correctamente clasificados de los datos de test sobre el total de casos de test.\n",
    "-  ¿Por qué elegiste ese algoritmo en particular? \n",
    " Naive Bayes nos permite, dado un conjunto de características, predecir una clase usando la probabilidad. Es relativamente simple de entender y construir . No es sensible a características irrelevantes. Su principal desventaja es que asume que cada característica es independiente, lo cual no siempre sucede.\n",
    " Dado que Naive Bayes es tan fácil de optimizar y tan rápido desde el punto de vista computacional, es un buen \"baseline\" para un problema de clasificación. Si performa bien, podemos quedarnos con este modelo y si necesitamos mejorar la precisión, tenemos una línea de base sobre la cual mejorar. En este caso no performo bien ya que dio un accuracy de 0.37\n",
    "-  ¿Cómo podrías mejorar la performance?¶\n",
    "Podría mejorar la perfomance haciendo un ensamble con el modelo de regresion logistica."
   ]
  },
  {
   "cell_type": "markdown",
   "id": "1b9dd77d",
   "metadata": {},
   "source": [
    "Modelo KNN  \n",
    "Intente realizar el modelo KNN, pero fue muy pesado para mi computador y nunca termino de ejecutar."
   ]
  },
  {
   "cell_type": "code",
   "execution_count": 283,
   "id": "6a011557",
   "metadata": {},
   "outputs": [],
   "source": [
    "#from sklearn.neighbors import KNeighborsClassifier"
   ]
  },
  {
   "cell_type": "code",
   "execution_count": 284,
   "id": "558cf97b",
   "metadata": {},
   "outputs": [],
   "source": [
    "#from sklearn.model_selection import cross_val_score, KFold\n",
    "#from sklearn.neighbors import KNeighborsClassifier"
   ]
  },
  {
   "cell_type": "code",
   "execution_count": 289,
   "id": "fe634fcd",
   "metadata": {},
   "outputs": [],
   "source": [
    "#def scores_knn(X, y, start,stop,step):\n",
    "    \n",
    "    # Vamos a querer graficar los distintos valores del score de cross validation en función del hiperparámetro n_neighbors\n",
    "    # Para esto vamos a generar una lista de diccionarios que después se puede convertir fácilmente en DataFrame\n",
    "    \n",
    "    # Lista de diccionarios - la inicializamos vacío y por fuera del for loop para ir alimentándola en cada iteración\n",
    "#    scores_para_df = []\n",
    "    \n",
    "    \n",
    "#    for i in range(start,stop,step):\n",
    "        \n",
    "        # En cada iteración, instanciamos el modelo con un hiperparámetro distinto\n",
    "#        model = KNeighborsClassifier(n_neighbors=i)\n",
    "\n",
    "        # cross_val_scores nos devuelve un array de 5 resultados, uno por cada partición que hizo automáticamente CV\n",
    "#        kf = KFold(n_splits=5, shuffle=True, random_state=10)\n",
    "#        cv_scores = cross_val_score(model, X, y, cv=kf)\n",
    "\n",
    "        # Para cada valor de n_neighbours, creamos un diccionario con el valor de n_neighbours y la media y el desvío de los scores\n",
    "#        dict_row_score = {'score_medio':np.mean(cv_scores),'score_std':np.std(cv_scores),'n_neighbours':i}\n",
    "\n",
    "        # Guardamos cada uno en la lista de diccionarios\n",
    "#        scores_para_df.append(dict_row_score)\n",
    "    \n",
    "    # Creamos el DF a partir de la lista de resultados\n",
    "#    df_scores = pd.DataFrame(scores_para_df)\n",
    "    \n",
    "    # Incorporamos los límites inferior y superior, restando y sumando el valor del desvío estándar, respectivamente\n",
    "#    df_scores['limite_inferior'] = df_scores['score_medio'] - df_scores['score_std']\n",
    "#    df_scores['limite_superior'] = df_scores['score_medio'] + df_scores['score_std']\n",
    "    \n",
    "    # Retornamos el DF\n",
    "#    return df_scores"
   ]
  },
  {
   "cell_type": "code",
   "execution_count": 290,
   "id": "6394bb75",
   "metadata": {},
   "outputs": [],
   "source": [
    "# Probamos de 1 a 20 vecinos\n",
    "#df_scores= scores_knn(X_train_std, y_train, 1, 10, 1)"
   ]
  },
  {
   "cell_type": "code",
   "execution_count": 291,
   "id": "eb4761a9",
   "metadata": {},
   "outputs": [],
   "source": [
    "#best_k = df_scores.loc[df_scores.score_medio == df_scores.score_medio.max(),'n_neighbours'].values[0]\n",
    "#best_k"
   ]
  },
  {
   "cell_type": "code",
   "execution_count": 292,
   "id": "0f173817",
   "metadata": {},
   "outputs": [],
   "source": [
    "\n",
    "#model_knn = KNeighborsClassifier()\n",
    "\n",
    "#Lo ajustamos sobre datos de entrenamiento\n",
    "#fit4= model_knn.fit(X_train_std, y_train)"
   ]
  },
  {
   "cell_type": "code",
   "execution_count": null,
   "id": "33827732",
   "metadata": {},
   "outputs": [],
   "source": []
  },
  {
   "cell_type": "code",
   "execution_count": 293,
   "id": "a2a7f48e",
   "metadata": {},
   "outputs": [],
   "source": [
    "# Lo utilizamos para predecir en test\n",
    "#y_pred_knn = model_knn.predict(X_test_std)"
   ]
  },
  {
   "cell_type": "code",
   "execution_count": 294,
   "id": "f6997ddf",
   "metadata": {},
   "outputs": [],
   "source": [
    "# Computamos el accuracy score en test\n",
    "#accuracy_score(y_test, y_pred_knn)"
   ]
  },
  {
   "cell_type": "code",
   "execution_count": 295,
   "id": "c64d7ef4",
   "metadata": {},
   "outputs": [],
   "source": [
    "#sns.heatmap(confusion_matrix(y_test, y_pred_knn), annot=True, fmt='.0f')\n",
    "#plt.ylabel('Etiquetas reales')\n",
    "#plt.xlabel('Etiquetas predichas');"
   ]
  },
  {
   "cell_type": "markdown",
   "id": "09d1d650",
   "metadata": {},
   "source": [
    "Lo mismo con GRIDSEARCH. Quise utilizar gridsearch para mejorar la performance de los modelos pero no pude ejecutarla por la cantidad de data."
   ]
  },
  {
   "cell_type": "code",
   "execution_count": null,
   "id": "484e88d7",
   "metadata": {},
   "outputs": [],
   "source": [
    "#Aplicación de GRIDSEARCH"
   ]
  },
  {
   "cell_type": "code",
   "execution_count": 143,
   "id": "0bfeea74",
   "metadata": {},
   "outputs": [],
   "source": [
    "#from sklearn.model_selection import GridSearchCV, train_test_split"
   ]
  },
  {
   "cell_type": "code",
   "execution_count": 144,
   "id": "1701f73d",
   "metadata": {},
   "outputs": [],
   "source": [
    "#models = [LogisticRegression(),\n",
    "#          KNeighborsClassifier()]"
   ]
  },
  {
   "cell_type": "code",
   "execution_count": 145,
   "id": "24e2b601",
   "metadata": {},
   "outputs": [],
   "source": [
    "#params = [\n",
    "#    {'C': [1, 10, 100, 1000],\n",
    "#     'penalty': ['l1', 'l2',],\n",
    "#     'solver': ['saga']},\n",
    "#    {'n_neighbors': range(1,15),\n",
    "#     'weights' : ['uniform', 'distance'],\n",
    "#     'p' : [1, 2, 3]}\n",
    "#]"
   ]
  },
  {
   "cell_type": "code",
   "execution_count": 146,
   "id": "d90a0667",
   "metadata": {},
   "outputs": [],
   "source": [
    "#from sklearn.model_selection import StratifiedKFold\n",
    "#folds=StratifiedKFold(n_splits=10, random_state=19, shuffle=True)"
   ]
  },
  {
   "cell_type": "code",
   "execution_count": null,
   "id": "04f8f7c2",
   "metadata": {},
   "outputs": [
    {
     "name": "stdout",
     "output_type": "stream",
     "text": [
      "GridSearchCV(cv=StratifiedKFold(n_splits=10, random_state=19, shuffle=True),\n",
      "             estimator=LogisticRegression(), n_jobs=4,\n",
      "             param_grid={'C': [1, 10, 100, 1000], 'penalty': ['l1', 'l2'],\n",
      "                         'solver': ['saga']},\n",
      "             scoring='accuracy')\n"
     ]
    },
    {
     "name": "stderr",
     "output_type": "stream",
     "text": [
      "C:\\Users\\Javiera\\anaconda3\\envs\\dhdsblend2021\\lib\\site-packages\\sklearn\\linear_model\\_sag.py:329: ConvergenceWarning: The max_iter was reached which means the coef_ did not converge\n",
      "  warnings.warn(\"The max_iter was reached which means \"\n"
     ]
    },
    {
     "name": "stdout",
     "output_type": "stream",
     "text": [
      "GridSearchCV(cv=StratifiedKFold(n_splits=10, random_state=19, shuffle=True),\n",
      "             estimator=KNeighborsClassifier(), n_jobs=4,\n",
      "             param_grid={'n_neighbors': range(1, 15), 'p': [1, 2, 3],\n",
      "                         'weights': ['uniform', 'distance']},\n",
      "             scoring='accuracy')\n"
     ]
    }
   ],
   "source": [
    "#grids = []\n",
    "#for i in range(len(models)):\n",
    "#    gs = GridSearchCV(estimator=models[i], param_grid=params[i], scoring='accuracy', cv=folds, n_jobs=4)\n",
    "#    print (gs)\n",
    "#    fit = gs.fit(X_train_std, y_train)\n",
    "#    grids.append(fit)"
   ]
  },
  {
   "cell_type": "code",
   "execution_count": null,
   "id": "0e46425c",
   "metadata": {},
   "outputs": [],
   "source": [
    "#for i in grids:\n",
    "#    print (i.best_score_)\n",
    "#    print (i.best_estimator_)\n",
    "#    print (i.best_params_)"
   ]
  },
  {
   "cell_type": "code",
   "execution_count": 167,
   "id": "54e808a9",
   "metadata": {},
   "outputs": [],
   "source": [
    "#pd.DataFrame(grids[0].cv_results_)"
   ]
  },
  {
   "cell_type": "code",
   "execution_count": null,
   "id": "2e0ad0a8",
   "metadata": {},
   "outputs": [],
   "source": [
    "#pd.DataFrame(grids[1].cv_results_)"
   ]
  },
  {
   "cell_type": "code",
   "execution_count": null,
   "id": "8c8294b7",
   "metadata": {},
   "outputs": [],
   "source": []
  },
  {
   "cell_type": "code",
   "execution_count": null,
   "id": "66e5986e",
   "metadata": {},
   "outputs": [],
   "source": [
    "#X_test = scaler.transform(X_test)\n",
    "#X_test = scaler.transform(X_test)\n",
    "#y_preds_log = grids[0].predict(X_test)\n",
    "#y_preds_knn = grids[1].predict(X_test)"
   ]
  },
  {
   "cell_type": "code",
   "execution_count": null,
   "id": "3b039143",
   "metadata": {},
   "outputs": [],
   "source": [
    "#print (classification_report(y_test, y_preds_log))"
   ]
  },
  {
   "cell_type": "code",
   "execution_count": null,
   "id": "8d3cb972",
   "metadata": {},
   "outputs": [],
   "source": [
    "#confusion_matrix(y_test, y_preds_log)"
   ]
  },
  {
   "cell_type": "code",
   "execution_count": null,
   "id": "e9880142",
   "metadata": {},
   "outputs": [],
   "source": [
    "#print (classification_report(y_test, y_preds_knn)"
   ]
  },
  {
   "cell_type": "code",
   "execution_count": null,
   "id": "0fab8311",
   "metadata": {},
   "outputs": [],
   "source": [
    "#confusion_matrix(y_test, y_preds_knn)"
   ]
  },
  {
   "cell_type": "markdown",
   "id": "23875785",
   "metadata": {},
   "source": [
    "Modelo 3: CART"
   ]
  },
  {
   "cell_type": "code",
   "execution_count": 329,
   "id": "f2575de9",
   "metadata": {},
   "outputs": [],
   "source": [
    "from sklearn import tree"
   ]
  },
  {
   "cell_type": "code",
   "execution_count": 330,
   "id": "0a3efb65",
   "metadata": {},
   "outputs": [],
   "source": [
    "tr = tree.DecisionTreeClassifier(random_state=17)\n",
    "fit3= tr.fit(X_train_std, y_train)"
   ]
  },
  {
   "cell_type": "code",
   "execution_count": 331,
   "id": "0578777d",
   "metadata": {},
   "outputs": [
    {
     "data": {
      "text/plain": [
       "array([0.00359934, 0.00037546, 0.02622649, 0.01715134, 0.01329634,\n",
       "       0.01202053, 0.01362084, 0.01377426, 0.01560759, 0.01345528,\n",
       "       0.01633081, 0.01362559, 0.01033692, 0.01100793, 0.01192393,\n",
       "       0.01312394, 0.01209175, 0.01466274, 0.01327613, 0.01169559,\n",
       "       0.01145854, 0.01277384, 0.01155263, 0.01191017, 0.01386536,\n",
       "       0.01400294, 0.01222719, 0.01115556, 0.01146204, 0.01204339,\n",
       "       0.0133302 , 0.01450452, 0.01243513, 0.01357154, 0.01295291,\n",
       "       0.01287104, 0.01082771, 0.01249439, 0.01331729, 0.01254373,\n",
       "       0.00931783, 0.00962118, 0.01313952, 0.010182  , 0.0096421 ,\n",
       "       0.009331  , 0.00970422, 0.0085824 , 0.01161296, 0.01213427,\n",
       "       0.01160696, 0.01203684, 0.        , 0.00493611, 0.00314835,\n",
       "       0.0023474 , 0.00145013, 0.00721288, 0.0010576 , 0.00313236,\n",
       "       0.00145592, 0.        , 0.00076744, 0.00264095, 0.05932611,\n",
       "       0.00175286, 0.00332604, 0.00223896, 0.00145875, 0.00569798,\n",
       "       0.00157137, 0.00016212, 0.00013657, 0.01084156, 0.00667517,\n",
       "       0.01153511, 0.00160758, 0.00319112, 0.00178932, 0.00433741,\n",
       "       0.        , 0.00463398, 0.01027418, 0.01391481, 0.00078403,\n",
       "       0.00332673, 0.        , 0.00418449, 0.00867398, 0.        ,\n",
       "       0.01626241, 0.01387755, 0.00329973, 0.00015733, 0.00026387,\n",
       "       0.00086581, 0.00247882, 0.        , 0.0105936 , 0.00201705,\n",
       "       0.00158817, 0.01518401, 0.01327151, 0.00158118, 0.0012604 ,\n",
       "       0.00643638, 0.00010792, 0.00783853, 0.0041981 , 0.00451487,\n",
       "       0.0005419 , 0.00234964, 0.00047391, 0.00342537, 0.00172364,\n",
       "       0.        , 0.01337422, 0.00132697, 0.        , 0.00603434,\n",
       "       0.00026782, 0.00021782, 0.        , 0.0049901 , 0.00172194,\n",
       "       0.00054907, 0.00042749, 0.00100635, 0.00577704, 0.00251337,\n",
       "       0.0118179 , 0.00081609, 0.00020484, 0.        , 0.00963941,\n",
       "       0.        ])"
      ]
     },
     "execution_count": 331,
     "metadata": {},
     "output_type": "execute_result"
    }
   ],
   "source": [
    "tr.feature_importances_"
   ]
  },
  {
   "cell_type": "code",
   "execution_count": 332,
   "id": "aa71d5f2",
   "metadata": {},
   "outputs": [],
   "source": [
    "y_pred_test_tree = tr.predict(X_test_std)"
   ]
  },
  {
   "cell_type": "code",
   "execution_count": 333,
   "id": "0e6aa42e",
   "metadata": {},
   "outputs": [
    {
     "data": {
      "text/plain": [
       "array([[2682, 2993],\n",
       "       [3439, 7938]], dtype=int64)"
      ]
     },
     "execution_count": 333,
     "metadata": {},
     "output_type": "execute_result"
    }
   ],
   "source": [
    "confusion_matrix(y_test, y_pred_test_tree)"
   ]
  },
  {
   "cell_type": "code",
   "execution_count": 334,
   "id": "fff86a2b",
   "metadata": {},
   "outputs": [
    {
     "data": {
      "text/plain": [
       "0.6228008444757214"
      ]
     },
     "execution_count": 334,
     "metadata": {},
     "output_type": "execute_result"
    }
   ],
   "source": [
    "accuracy_score(y_test, y_pred_test_tree)"
   ]
  },
  {
   "cell_type": "markdown",
   "id": "7a406622",
   "metadata": {},
   "source": [
    "Evalúa tu modelo.\n",
    "-  ¿Qué performance tiene? 0.62\n",
    "Lo qe es malo, ya que solo considerando la distribución de la variable atraso, podría decir que un 66% se atrasa. Este accuracy es peor que esa base.\n",
    "-  ¿Qué métricas usaste para evaluar esa performance y por qué? \n",
    "Para evaluar la perfomance use el accuracy score, ya que esta muestra la proporción de casos correctamente clasificados de los datos de test sobre el total de casos de test.\n",
    "-  ¿Por qué elegiste ese algoritmo en particular? \n",
    "Lo utilice para despues poder hacer modelos de ensamble y ver si se podría mejorar la performance.  En general los modelos CART no tienen el mismo nivel de precisión en la predicción comparados con otros enfoques para regresión y clasificación vistos previamente.\n",
    "-  ¿Cómo podrías mejorar la performance?¶\n",
    " Podría mejorar la perfomance haciendo un ensamble con los dos modelos anteriores"
   ]
  },
  {
   "cell_type": "code",
   "execution_count": 335,
   "id": "a7e0d9e4",
   "metadata": {},
   "outputs": [],
   "source": [
    "from scipy.stats import mode"
   ]
  },
  {
   "cell_type": "code",
   "execution_count": 336,
   "id": "a21c9cc3",
   "metadata": {},
   "outputs": [],
   "source": [
    "def predict_ensamble(X, model_1, model_2, model_3):\n",
    "    y_pred_1 = lr.predict(X)\n",
    "    y_pred_2 = gnb.predict(X)\n",
    "    y_pred_3 = tr.predict(X)\n",
    "    result_mode = mode([y_test_pred, Y_pred_GNB, y_pred_test_tree]).mode\n",
    "    result = np.transpose(result_mode)    \n",
    "    return result"
   ]
  },
  {
   "cell_type": "code",
   "execution_count": 337,
   "id": "9087a534",
   "metadata": {},
   "outputs": [
    {
     "name": "stdout",
     "output_type": "stream",
     "text": [
      "0.6347642505277973\n",
      "[[3040 2635]\n",
      " [3593 7784]]\n"
     ]
    }
   ],
   "source": [
    "predict_cat_ensemble = predict_ensamble(X_test_std, fit1, fit2, fit3)\n",
    "accuracy_ensemble = accuracy_score(y_test, predict_cat_ensemble)\n",
    "print(accuracy_ensemble)\n",
    "predict_cat_ensemble.shape\n",
    "conf_mat_ensemble = confusion_matrix(y_test, predict_cat_ensemble)\n",
    "print(conf_mat_ensemble)"
   ]
  },
  {
   "cell_type": "code",
   "execution_count": null,
   "id": "100404c8",
   "metadata": {},
   "outputs": [],
   "source": []
  },
  {
   "cell_type": "code",
   "execution_count": 338,
   "id": "9c4e5839",
   "metadata": {},
   "outputs": [],
   "source": [
    "def predict_ensamble(X, model_1, model_3):\n",
    "    y_pred_1 = lr.predict(X)\n",
    "    y_pred_3 = tr.predict(X)\n",
    "    result_mode = mode([y_test_pred, y_pred_test_tree]).mode\n",
    "    result = np.transpose(result_mode)    \n",
    "    return result"
   ]
  },
  {
   "cell_type": "code",
   "execution_count": 339,
   "id": "856b0a63",
   "metadata": {},
   "outputs": [
    {
     "name": "stdout",
     "output_type": "stream",
     "text": [
      "0.6297208538587848\n",
      "[[3098 2577]\n",
      " [3737 7640]]\n"
     ]
    }
   ],
   "source": [
    "predict_cat_ensemble = predict_ensamble(X_test_std, fit1, fit3)\n",
    "accuracy_ensemble = accuracy_score(y_test, predict_cat_ensemble)\n",
    "print(accuracy_ensemble)\n",
    "predict_cat_ensemble.shape\n",
    "conf_mat_ensemble = confusion_matrix(y_test, predict_cat_ensemble)\n",
    "print(conf_mat_ensemble)"
   ]
  },
  {
   "cell_type": "markdown",
   "id": "dfe380e6",
   "metadata": {},
   "source": [
    "Realizar ensamble no mejora la perfomance del modelo. El mejor modelo para este caso sería la regresión logistica con un 0,69 de accuracy. Gridsearch podría ayudar a mejorar estos valores. También probar ensamble con KNN "
   ]
  },
  {
   "cell_type": "code",
   "execution_count": null,
   "id": "656bc9c8",
   "metadata": {},
   "outputs": [],
   "source": []
  },
  {
   "cell_type": "code",
   "execution_count": null,
   "id": "a87994d0",
   "metadata": {},
   "outputs": [],
   "source": []
  }
 ],
 "metadata": {
  "kernelspec": {
   "display_name": "Python 3",
   "language": "python",
   "name": "python3"
  },
  "language_info": {
   "codemirror_mode": {
    "name": "ipython",
    "version": 3
   },
   "file_extension": ".py",
   "mimetype": "text/x-python",
   "name": "python",
   "nbconvert_exporter": "python",
   "pygments_lexer": "ipython3",
   "version": "3.8.10"
  }
 },
 "nbformat": 4,
 "nbformat_minor": 5
}
