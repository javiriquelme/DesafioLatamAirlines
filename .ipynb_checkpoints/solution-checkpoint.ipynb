{
 "cells": [
  {
   "cell_type": "code",
   "execution_count": 1071,
   "id": "ed765969",
   "metadata": {},
   "outputs": [],
   "source": [
    "import pandas as pd\n",
    "import numpy as np\n",
    "from datetime import datetime, date, time\n",
    "import seaborn as sns"
   ]
  },
  {
   "cell_type": "code",
   "execution_count": 1072,
   "id": "b8d862ff",
   "metadata": {},
   "outputs": [
    {
     "name": "stderr",
     "output_type": "stream",
     "text": [
      "C:\\Users\\Javiera\\anaconda3\\envs\\dhdsblend2021\\lib\\site-packages\\IPython\\core\\interactiveshell.py:3165: DtypeWarning: Columns (1,6) have mixed types.Specify dtype option on import or set low_memory=False.\n",
      "  has_raised = await self.run_ast_nodes(code_ast.body, cell_name,\n"
     ]
    }
   ],
   "source": [
    "data_location= \"dataset_SCL.csv\"\n",
    "data= pd.read_csv(data_location,  sep=\",\")"
   ]
  },
  {
   "cell_type": "code",
   "execution_count": 1073,
   "id": "090fbf1e",
   "metadata": {},
   "outputs": [
    {
     "data": {
      "text/html": [
       "<div>\n",
       "<style scoped>\n",
       "    .dataframe tbody tr th:only-of-type {\n",
       "        vertical-align: middle;\n",
       "    }\n",
       "\n",
       "    .dataframe tbody tr th {\n",
       "        vertical-align: top;\n",
       "    }\n",
       "\n",
       "    .dataframe thead th {\n",
       "        text-align: right;\n",
       "    }\n",
       "</style>\n",
       "<table border=\"1\" class=\"dataframe\">\n",
       "  <thead>\n",
       "    <tr style=\"text-align: right;\">\n",
       "      <th></th>\n",
       "      <th>Fecha-I</th>\n",
       "      <th>Vlo-I</th>\n",
       "      <th>Ori-I</th>\n",
       "      <th>Des-I</th>\n",
       "      <th>Emp-I</th>\n",
       "      <th>Fecha-O</th>\n",
       "      <th>Vlo-O</th>\n",
       "      <th>Ori-O</th>\n",
       "      <th>Des-O</th>\n",
       "      <th>Emp-O</th>\n",
       "      <th>DIA</th>\n",
       "      <th>MES</th>\n",
       "      <th>AÑO</th>\n",
       "      <th>DIANOM</th>\n",
       "      <th>TIPOVUELO</th>\n",
       "      <th>OPERA</th>\n",
       "      <th>SIGLAORI</th>\n",
       "      <th>SIGLADES</th>\n",
       "    </tr>\n",
       "  </thead>\n",
       "  <tbody>\n",
       "    <tr>\n",
       "      <th>38195</th>\n",
       "      <td>2017-07-19 16:00:00</td>\n",
       "      <td>33</td>\n",
       "      <td>SCEL</td>\n",
       "      <td>SCTE</td>\n",
       "      <td>LAW</td>\n",
       "      <td>2017-07-19 16:03:00</td>\n",
       "      <td>33</td>\n",
       "      <td>SCEL</td>\n",
       "      <td>SCTE</td>\n",
       "      <td>JMR</td>\n",
       "      <td>19</td>\n",
       "      <td>7</td>\n",
       "      <td>2017</td>\n",
       "      <td>Miercoles</td>\n",
       "      <td>N</td>\n",
       "      <td>Latin American Wings</td>\n",
       "      <td>Santiago</td>\n",
       "      <td>Puerto Montt</td>\n",
       "    </tr>\n",
       "    <tr>\n",
       "      <th>16021</th>\n",
       "      <td>2017-03-17 17:00:00</td>\n",
       "      <td>461</td>\n",
       "      <td>SCEL</td>\n",
       "      <td>SABE</td>\n",
       "      <td>LAN</td>\n",
       "      <td>2017-03-17 17:10:00</td>\n",
       "      <td>461</td>\n",
       "      <td>SCEL</td>\n",
       "      <td>SABE</td>\n",
       "      <td>LAN</td>\n",
       "      <td>17</td>\n",
       "      <td>3</td>\n",
       "      <td>2017</td>\n",
       "      <td>Viernes</td>\n",
       "      <td>I</td>\n",
       "      <td>Grupo LATAM</td>\n",
       "      <td>Santiago</td>\n",
       "      <td>Buenos Aires</td>\n",
       "    </tr>\n",
       "    <tr>\n",
       "      <th>64279</th>\n",
       "      <td>2017-12-24 12:15:00</td>\n",
       "      <td>543</td>\n",
       "      <td>SCEL</td>\n",
       "      <td>SAAR</td>\n",
       "      <td>SKU</td>\n",
       "      <td>2017-12-24 12:10:00</td>\n",
       "      <td>543.0</td>\n",
       "      <td>SCEL</td>\n",
       "      <td>SAAR</td>\n",
       "      <td>SKU</td>\n",
       "      <td>24</td>\n",
       "      <td>12</td>\n",
       "      <td>2017</td>\n",
       "      <td>Domingo</td>\n",
       "      <td>I</td>\n",
       "      <td>Sky Airline</td>\n",
       "      <td>Santiago</td>\n",
       "      <td>Rosario</td>\n",
       "    </tr>\n",
       "    <tr>\n",
       "      <th>61232</th>\n",
       "      <td>2017-11-14 22:25:00</td>\n",
       "      <td>1446</td>\n",
       "      <td>SCEL</td>\n",
       "      <td>SEGU</td>\n",
       "      <td>LAN</td>\n",
       "      <td>2017-11-14 22:40:00</td>\n",
       "      <td>1446</td>\n",
       "      <td>SCEL</td>\n",
       "      <td>SEGU</td>\n",
       "      <td>LNE</td>\n",
       "      <td>14</td>\n",
       "      <td>11</td>\n",
       "      <td>2017</td>\n",
       "      <td>Martes</td>\n",
       "      <td>I</td>\n",
       "      <td>Grupo LATAM</td>\n",
       "      <td>Santiago</td>\n",
       "      <td>Guayaquil</td>\n",
       "    </tr>\n",
       "    <tr>\n",
       "      <th>15827</th>\n",
       "      <td>2017-03-02 20:15:00</td>\n",
       "      <td>438</td>\n",
       "      <td>SCEL</td>\n",
       "      <td>SAEZ</td>\n",
       "      <td>LAN</td>\n",
       "      <td>2017-03-02 20:21:00</td>\n",
       "      <td>438</td>\n",
       "      <td>SCEL</td>\n",
       "      <td>SAEZ</td>\n",
       "      <td>LAN</td>\n",
       "      <td>2</td>\n",
       "      <td>3</td>\n",
       "      <td>2017</td>\n",
       "      <td>Jueves</td>\n",
       "      <td>I</td>\n",
       "      <td>Grupo LATAM</td>\n",
       "      <td>Santiago</td>\n",
       "      <td>Buenos Aires</td>\n",
       "    </tr>\n",
       "  </tbody>\n",
       "</table>\n",
       "</div>"
      ],
      "text/plain": [
       "                   Fecha-I Vlo-I Ori-I Des-I Emp-I              Fecha-O  \\\n",
       "38195  2017-07-19 16:00:00    33  SCEL  SCTE   LAW  2017-07-19 16:03:00   \n",
       "16021  2017-03-17 17:00:00   461  SCEL  SABE   LAN  2017-03-17 17:10:00   \n",
       "64279  2017-12-24 12:15:00   543  SCEL  SAAR   SKU  2017-12-24 12:10:00   \n",
       "61232  2017-11-14 22:25:00  1446  SCEL  SEGU   LAN  2017-11-14 22:40:00   \n",
       "15827  2017-03-02 20:15:00   438  SCEL  SAEZ   LAN  2017-03-02 20:21:00   \n",
       "\n",
       "       Vlo-O Ori-O Des-O Emp-O  DIA  MES   AÑO     DIANOM TIPOVUELO  \\\n",
       "38195     33  SCEL  SCTE   JMR   19    7  2017  Miercoles         N   \n",
       "16021    461  SCEL  SABE   LAN   17    3  2017    Viernes         I   \n",
       "64279  543.0  SCEL  SAAR   SKU   24   12  2017    Domingo         I   \n",
       "61232   1446  SCEL  SEGU   LNE   14   11  2017     Martes         I   \n",
       "15827    438  SCEL  SAEZ   LAN    2    3  2017     Jueves         I   \n",
       "\n",
       "                      OPERA  SIGLAORI      SIGLADES  \n",
       "38195  Latin American Wings  Santiago  Puerto Montt  \n",
       "16021           Grupo LATAM  Santiago  Buenos Aires  \n",
       "64279           Sky Airline  Santiago       Rosario  \n",
       "61232           Grupo LATAM  Santiago     Guayaquil  \n",
       "15827           Grupo LATAM  Santiago  Buenos Aires  "
      ]
     },
     "execution_count": 1073,
     "metadata": {},
     "output_type": "execute_result"
    }
   ],
   "source": [
    "data.sample(5)"
   ]
  },
  {
   "cell_type": "markdown",
   "id": "c9af0134",
   "metadata": {},
   "source": [
    "## Siglas\n",
    "Fecha-I : Fecha y hora programada del vuelo.  \n",
    "Vlo-I : Número de vuelo programado.  \n",
    "Ori-I : Código de ciudad de origen programado.  \n",
    "Des-I : Código de ciudad de destino programado.  \n",
    "Emp-I : Código aerolínea de vuelo programado.  \n",
    "Fecha-O : Fecha y hora de operación del vuelo.  \n",
    "Vlo-O : Número de vuelo de operación del vuelo.  \n",
    "Ori-O : Código de ciudad de origen de operación  \n",
    "Des-O : Código de ciudad de destino de operación.  \n",
    "Emp-O : Código aerolínea de vuelo operado.  \n",
    "DIA : Día del mes de operación del vuelo.  \n",
    "MES : Número de mes de operación del vuelo.  \n",
    "AÑO : Año de operación del vuelo.  \n",
    "DIANOM : Día de la semana de operación del vuelo.  \n",
    "TIPOVUELO : Tipo de vuelo, I =Internacional, N =Nacional.  \n",
    "OPERA : Nombre de aerolínea que opera.  \n",
    "SIGLAORI : Nombre ciudad origen.  \n",
    "SIGLADES : Nombre ciudad destino  "
   ]
  },
  {
   "cell_type": "code",
   "execution_count": 1074,
   "id": "b4cf63c8",
   "metadata": {},
   "outputs": [
    {
     "data": {
      "text/plain": [
       "(68206, 18)"
      ]
     },
     "execution_count": 1074,
     "metadata": {},
     "output_type": "execute_result"
    }
   ],
   "source": [
    "data.shape"
   ]
  },
  {
   "cell_type": "code",
   "execution_count": 1075,
   "id": "5003e1f3",
   "metadata": {},
   "outputs": [
    {
     "data": {
      "text/plain": [
       "Fecha-I      0\n",
       "Vlo-I        0\n",
       "Ori-I        0\n",
       "Des-I        0\n",
       "Emp-I        0\n",
       "Fecha-O      0\n",
       "Vlo-O        1\n",
       "Ori-O        0\n",
       "Des-O        0\n",
       "Emp-O        0\n",
       "DIA          0\n",
       "MES          0\n",
       "AÑO          0\n",
       "DIANOM       0\n",
       "TIPOVUELO    0\n",
       "OPERA        0\n",
       "SIGLAORI     0\n",
       "SIGLADES     0\n",
       "dtype: int64"
      ]
     },
     "execution_count": 1075,
     "metadata": {},
     "output_type": "execute_result"
    }
   ],
   "source": [
    "data.isnull().sum()"
   ]
  },
  {
   "cell_type": "code",
   "execution_count": 1076,
   "id": "7100ecc3",
   "metadata": {},
   "outputs": [
    {
     "data": {
      "text/plain": [
       "Fecha-I      object\n",
       "Vlo-I        object\n",
       "Ori-I        object\n",
       "Des-I        object\n",
       "Emp-I        object\n",
       "Fecha-O      object\n",
       "Vlo-O        object\n",
       "Ori-O        object\n",
       "Des-O        object\n",
       "Emp-O        object\n",
       "DIA           int64\n",
       "MES           int64\n",
       "AÑO           int64\n",
       "DIANOM       object\n",
       "TIPOVUELO    object\n",
       "OPERA        object\n",
       "SIGLAORI     object\n",
       "SIGLADES     object\n",
       "dtype: object"
      ]
     },
     "execution_count": 1076,
     "metadata": {},
     "output_type": "execute_result"
    }
   ],
   "source": [
    "data.dtypes"
   ]
  },
  {
   "cell_type": "code",
   "execution_count": 1077,
   "id": "90c32e8f",
   "metadata": {},
   "outputs": [
    {
     "data": {
      "text/html": [
       "<div>\n",
       "<style scoped>\n",
       "    .dataframe tbody tr th:only-of-type {\n",
       "        vertical-align: middle;\n",
       "    }\n",
       "\n",
       "    .dataframe tbody tr th {\n",
       "        vertical-align: top;\n",
       "    }\n",
       "\n",
       "    .dataframe thead th {\n",
       "        text-align: right;\n",
       "    }\n",
       "</style>\n",
       "<table border=\"1\" class=\"dataframe\">\n",
       "  <thead>\n",
       "    <tr style=\"text-align: right;\">\n",
       "      <th></th>\n",
       "      <th>DIA</th>\n",
       "      <th>MES</th>\n",
       "      <th>AÑO</th>\n",
       "    </tr>\n",
       "  </thead>\n",
       "  <tbody>\n",
       "    <tr>\n",
       "      <th>count</th>\n",
       "      <td>68206.000000</td>\n",
       "      <td>68206.000000</td>\n",
       "      <td>68206.000000</td>\n",
       "    </tr>\n",
       "    <tr>\n",
       "      <th>mean</th>\n",
       "      <td>15.714790</td>\n",
       "      <td>6.622585</td>\n",
       "      <td>2017.000029</td>\n",
       "    </tr>\n",
       "    <tr>\n",
       "      <th>std</th>\n",
       "      <td>8.782886</td>\n",
       "      <td>3.523321</td>\n",
       "      <td>0.005415</td>\n",
       "    </tr>\n",
       "    <tr>\n",
       "      <th>min</th>\n",
       "      <td>1.000000</td>\n",
       "      <td>1.000000</td>\n",
       "      <td>2017.000000</td>\n",
       "    </tr>\n",
       "    <tr>\n",
       "      <th>25%</th>\n",
       "      <td>8.000000</td>\n",
       "      <td>3.000000</td>\n",
       "      <td>2017.000000</td>\n",
       "    </tr>\n",
       "    <tr>\n",
       "      <th>50%</th>\n",
       "      <td>16.000000</td>\n",
       "      <td>7.000000</td>\n",
       "      <td>2017.000000</td>\n",
       "    </tr>\n",
       "    <tr>\n",
       "      <th>75%</th>\n",
       "      <td>23.000000</td>\n",
       "      <td>10.000000</td>\n",
       "      <td>2017.000000</td>\n",
       "    </tr>\n",
       "    <tr>\n",
       "      <th>max</th>\n",
       "      <td>31.000000</td>\n",
       "      <td>12.000000</td>\n",
       "      <td>2018.000000</td>\n",
       "    </tr>\n",
       "  </tbody>\n",
       "</table>\n",
       "</div>"
      ],
      "text/plain": [
       "                DIA           MES           AÑO\n",
       "count  68206.000000  68206.000000  68206.000000\n",
       "mean      15.714790      6.622585   2017.000029\n",
       "std        8.782886      3.523321      0.005415\n",
       "min        1.000000      1.000000   2017.000000\n",
       "25%        8.000000      3.000000   2017.000000\n",
       "50%       16.000000      7.000000   2017.000000\n",
       "75%       23.000000     10.000000   2017.000000\n",
       "max       31.000000     12.000000   2018.000000"
      ]
     },
     "execution_count": 1077,
     "metadata": {},
     "output_type": "execute_result"
    }
   ],
   "source": [
    "data.describe()"
   ]
  },
  {
   "cell_type": "code",
   "execution_count": null,
   "id": "f260f9d1",
   "metadata": {},
   "outputs": [],
   "source": []
  },
  {
   "cell_type": "code",
   "execution_count": null,
   "id": "4269f039",
   "metadata": {},
   "outputs": [],
   "source": []
  },
  {
   "cell_type": "code",
   "execution_count": null,
   "id": "1f1c85b4",
   "metadata": {},
   "outputs": [],
   "source": []
  },
  {
   "cell_type": "code",
   "execution_count": 1078,
   "id": "fb592e09",
   "metadata": {},
   "outputs": [
    {
     "data": {
      "text/plain": [
       "True    68206\n",
       "dtype: int64"
      ]
     },
     "execution_count": 1078,
     "metadata": {},
     "output_type": "execute_result"
    }
   ],
   "source": [
    "(data[\"Ori-I\"] == data[\"Ori-O\"]).value_counts()"
   ]
  },
  {
   "cell_type": "code",
   "execution_count": 1079,
   "id": "b6c971b2",
   "metadata": {},
   "outputs": [],
   "source": [
    "# Siempre salen de la ciudad de origen programada, por tanto eliminaremos ori-o, ya que no aporta valor en la información\n"
   ]
  },
  {
   "cell_type": "code",
   "execution_count": 1080,
   "id": "e2c07a4f",
   "metadata": {},
   "outputs": [
    {
     "data": {
      "text/plain": [
       "True     0.972876\n",
       "False    0.027124\n",
       "dtype: float64"
      ]
     },
     "execution_count": 1080,
     "metadata": {},
     "output_type": "execute_result"
    }
   ],
   "source": [
    "(data['Vlo-I'] == data['Vlo-O']).value_counts()/data.shape[0]"
   ]
  },
  {
   "cell_type": "code",
   "execution_count": 1081,
   "id": "4bfbdd38",
   "metadata": {},
   "outputs": [],
   "source": [
    "# Se observa que el numero de vuelo es distinto un 2% de las veces.\n",
    "#El numero de vuelo en si no aporta información, pero si las veces que este es distinto puede afectar en que un vuelo\n",
    "#salga tarde, por eso voy a crear una nueva columna que indique 1 si el N° de vuelo es distinto del inicial y 0 si es el mismo\n",
    "# luego de lo anterior dropeare las columnas Vlo-I y Vlo-o"
   ]
  },
  {
   "cell_type": "code",
   "execution_count": 1082,
   "id": "9b28012f",
   "metadata": {},
   "outputs": [],
   "source": [
    "data[\"Cambio_Nvuelo\"]= np.where(data['Vlo-I']==data['Vlo-O'],0,1)"
   ]
  },
  {
   "cell_type": "code",
   "execution_count": 1083,
   "id": "b2a99705",
   "metadata": {},
   "outputs": [
    {
     "data": {
      "text/plain": [
       "0    0.972876\n",
       "1    0.027124\n",
       "Name: Cambio_Nvuelo, dtype: float64"
      ]
     },
     "execution_count": 1083,
     "metadata": {},
     "output_type": "execute_result"
    }
   ],
   "source": [
    "data['Cambio_Nvuelo'].value_counts()/data.shape[0]"
   ]
  },
  {
   "cell_type": "code",
   "execution_count": 1084,
   "id": "6f775e6d",
   "metadata": {},
   "outputs": [
    {
     "data": {
      "text/plain": [
       "True     0.999589\n",
       "False    0.000411\n",
       "dtype: float64"
      ]
     },
     "execution_count": 1084,
     "metadata": {},
     "output_type": "execute_result"
    }
   ],
   "source": [
    "(data['Des-I'] == data['Des-O']).value_counts()/data.shape[0]"
   ]
  },
  {
   "cell_type": "code",
   "execution_count": 1085,
   "id": "25d5b959",
   "metadata": {},
   "outputs": [],
   "source": [
    "#Es muy poco probable que un vuelo cambie el destino inicial. Aun así al igual que en al anterior nos interesa saber si el cambio de\n",
    "#destino afecta en el retraso del vuelo, por lo que creare una variable que indique:\n",
    "#1: si cambia el destino 0: si no cambia\n",
    "#Segun lo anterior las columnas Des-I y Des-O ya no aportan inf. asique las eliminaré"
   ]
  },
  {
   "cell_type": "code",
   "execution_count": 1086,
   "id": "0302b2ca",
   "metadata": {},
   "outputs": [],
   "source": [
    "data['Cambio_destino']=np.where(data['Des-I']== data['Des-O'],0,1)"
   ]
  },
  {
   "cell_type": "code",
   "execution_count": 1087,
   "id": "5dfb1bbc",
   "metadata": {},
   "outputs": [
    {
     "data": {
      "text/plain": [
       "0    0.999589\n",
       "1    0.000411\n",
       "Name: Cambio_destino, dtype: float64"
      ]
     },
     "execution_count": 1087,
     "metadata": {},
     "output_type": "execute_result"
    }
   ],
   "source": [
    "data['Cambio_destino'].value_counts()/data.shape[0]"
   ]
  },
  {
   "cell_type": "code",
   "execution_count": 1088,
   "id": "5ea73c10",
   "metadata": {},
   "outputs": [
    {
     "data": {
      "text/plain": [
       "True     0.726285\n",
       "False    0.273715\n",
       "dtype: float64"
      ]
     },
     "execution_count": 1088,
     "metadata": {},
     "output_type": "execute_result"
    }
   ],
   "source": [
    "(data['Emp-I']== data['Emp-O']).value_counts()/data.shape[0]"
   ]
  },
  {
   "cell_type": "code",
   "execution_count": 1089,
   "id": "2e50644b",
   "metadata": {},
   "outputs": [],
   "source": [
    "# Se observa que el codigo de la aerolinea del vuelo programada con el operado cambian. Esto puede verse relacionado con\n",
    "#los atrasos. por tanto creo una nueva columna que indica 1: si el codigo de la aerolinea cambio  0: si no\n",
    "#Luego dropeo Emp-I Y Emp-O"
   ]
  },
  {
   "cell_type": "code",
   "execution_count": 1090,
   "id": "bdbe932a",
   "metadata": {},
   "outputs": [],
   "source": [
    "data['Cambio_aerolinea']=np.where(data['Emp-I']== data['Emp-O'],0,1)"
   ]
  },
  {
   "cell_type": "code",
   "execution_count": 1091,
   "id": "e0c7f8f1",
   "metadata": {},
   "outputs": [
    {
     "data": {
      "text/plain": [
       "0    0.726285\n",
       "1    0.273715\n",
       "Name: Cambio_aerolinea, dtype: float64"
      ]
     },
     "execution_count": 1091,
     "metadata": {},
     "output_type": "execute_result"
    }
   ],
   "source": [
    "data['Cambio_aerolinea'].value_counts()/data.shape[0]"
   ]
  },
  {
   "cell_type": "code",
   "execution_count": 1093,
   "id": "4e83bf6b",
   "metadata": {},
   "outputs": [],
   "source": [
    "#Tambien dropeo la SIGLAORI ya que esa información la tengo \"2 veces\" de distinta forma\n",
    "# solo sirve como GLOSARIO"
   ]
  },
  {
   "cell_type": "code",
   "execution_count": 1094,
   "id": "7113e717",
   "metadata": {},
   "outputs": [],
   "source": [
    "data=data.drop(columns= [ \"Ori-O\", 'Vlo-I','Vlo-O','Des-I','Des-O','Emp-I', 'Emp-O', 'SIGLAORI'])"
   ]
  },
  {
   "cell_type": "code",
   "execution_count": 1095,
   "id": "adbbd54b",
   "metadata": {},
   "outputs": [],
   "source": [
    "#Ahora calculamos la variables target que es si el vuelo se atrasa o no"
   ]
  },
  {
   "cell_type": "code",
   "execution_count": 1096,
   "id": "4738cd40",
   "metadata": {},
   "outputs": [],
   "source": [
    "data[\"Fecha-I\"]=pd.to_datetime(data[\"Fecha-I\"])\n",
    "data[\"Fecha-O\"]= pd.to_datetime(data[\"Fecha-O\"])"
   ]
  },
  {
   "cell_type": "code",
   "execution_count": 1097,
   "id": "1a0e8e27",
   "metadata": {},
   "outputs": [],
   "source": [
    "data[\"Retraso\"]= data[\"Fecha-O\"]- data[\"Fecha-I\"]"
   ]
  },
  {
   "cell_type": "code",
   "execution_count": 1098,
   "id": "bc0d667a",
   "metadata": {},
   "outputs": [
    {
     "data": {
      "text/plain": [
       "4083      0 days 01:04:00\n",
       "18169     0 days 00:01:00\n",
       "13848     0 days 00:36:00\n",
       "51759     0 days 00:05:00\n",
       "52952     0 days 00:08:00\n",
       "43389   -1 days +23:57:00\n",
       "47639     0 days 00:07:00\n",
       "64884     0 days 00:05:00\n",
       "53573   -1 days +23:59:00\n",
       "1752      0 days 00:03:00\n",
       "Name: Retraso, dtype: timedelta64[ns]"
      ]
     },
     "execution_count": 1098,
     "metadata": {},
     "output_type": "execute_result"
    }
   ],
   "source": [
    "data.Retraso.sample(10)"
   ]
  },
  {
   "cell_type": "code",
   "execution_count": 1099,
   "id": "eb05c57b",
   "metadata": {},
   "outputs": [],
   "source": [
    "#Calculamos la diferencia en minutos"
   ]
  },
  {
   "cell_type": "code",
   "execution_count": 1100,
   "id": "d626d963",
   "metadata": {},
   "outputs": [
    {
     "data": {
      "text/plain": [
       " 0.0      4789\n",
       "-1.0      4026\n",
       " 1.0      3921\n",
       " 2.0      3622\n",
       "-2.0      3582\n",
       "          ... \n",
       " 124.0       5\n",
       " 149.0       4\n",
       " 136.0       4\n",
       " 146.0       4\n",
       " 139.0       3\n",
       "Name: dif_min, Length: 176, dtype: int64"
      ]
     },
     "execution_count": 1100,
     "metadata": {},
     "output_type": "execute_result"
    }
   ],
   "source": [
    "data[\"dif_min\"]= (data[\"Fecha-O\"]- data[\"Fecha-I\"]).dt.total_seconds()/60\n",
    "data[\"dif_min\"].value_counts()"
   ]
  },
  {
   "cell_type": "code",
   "execution_count": 1101,
   "id": "c859fb5d",
   "metadata": {},
   "outputs": [
    {
     "data": {
      "text/plain": [
       "<seaborn.axisgrid.FacetGrid at 0x18f8edd2940>"
      ]
     },
     "execution_count": 1101,
     "metadata": {},
     "output_type": "execute_result"
    },
    {
     "data": {
      "image/png": "[encoded data removed]",
      "text/plain": [
       "<Figure size 360x360 with 1 Axes>"
      ]
     },
     "metadata": {
      "needs_background": "light"
     },
     "output_type": "display_data"
    }
   ],
   "source": [
    "sns.displot(data= data, x= data[\"dif_min\"])\n"
   ]
  },
  {
   "cell_type": "code",
   "execution_count": 1102,
   "id": "4ec9eb1b",
   "metadata": {},
   "outputs": [],
   "source": [
    "#Creamos la variable dummie para luego poder calcular la probabilidad de que se atrase o no"
   ]
  },
  {
   "cell_type": "code",
   "execution_count": 1103,
   "id": "1b618cb0",
   "metadata": {},
   "outputs": [],
   "source": [
    "data[\"Retraso_dummie\"]= np.where(data[\"dif_min\"]>0,1,0)"
   ]
  },
  {
   "cell_type": "code",
   "execution_count": 1105,
   "id": "7ff9de11",
   "metadata": {},
   "outputs": [
    {
     "data": {
      "text/html": [
       "<div>\n",
       "<style scoped>\n",
       "    .dataframe tbody tr th:only-of-type {\n",
       "        vertical-align: middle;\n",
       "    }\n",
       "\n",
       "    .dataframe tbody tr th {\n",
       "        vertical-align: top;\n",
       "    }\n",
       "\n",
       "    .dataframe thead th {\n",
       "        text-align: right;\n",
       "    }\n",
       "</style>\n",
       "<table border=\"1\" class=\"dataframe\">\n",
       "  <thead>\n",
       "    <tr style=\"text-align: right;\">\n",
       "      <th></th>\n",
       "      <th>Fecha-I</th>\n",
       "      <th>Ori-I</th>\n",
       "      <th>Fecha-O</th>\n",
       "      <th>DIA</th>\n",
       "      <th>MES</th>\n",
       "      <th>AÑO</th>\n",
       "      <th>DIANOM</th>\n",
       "      <th>TIPOVUELO</th>\n",
       "      <th>OPERA</th>\n",
       "      <th>SIGLADES</th>\n",
       "      <th>Cambio_Nvuelo</th>\n",
       "      <th>Cambio_destino</th>\n",
       "      <th>Cambio_aerolinea</th>\n",
       "      <th>Retraso</th>\n",
       "      <th>dif_min</th>\n",
       "      <th>Retraso_dummie</th>\n",
       "    </tr>\n",
       "  </thead>\n",
       "  <tbody>\n",
       "    <tr>\n",
       "      <th>65285</th>\n",
       "      <td>2017-12-27 18:02:00</td>\n",
       "      <td>SCEL</td>\n",
       "      <td>2017-12-27 18:18:00</td>\n",
       "      <td>27</td>\n",
       "      <td>12</td>\n",
       "      <td>2017</td>\n",
       "      <td>Miercoles</td>\n",
       "      <td>N</td>\n",
       "      <td>Grupo LATAM</td>\n",
       "      <td>Concepcion</td>\n",
       "      <td>1</td>\n",
       "      <td>0</td>\n",
       "      <td>1</td>\n",
       "      <td>0 days 00:16:00</td>\n",
       "      <td>16.0</td>\n",
       "      <td>1</td>\n",
       "    </tr>\n",
       "    <tr>\n",
       "      <th>37396</th>\n",
       "      <td>2017-07-29 21:45:00</td>\n",
       "      <td>SCEL</td>\n",
       "      <td>2017-07-29 21:54:00</td>\n",
       "      <td>29</td>\n",
       "      <td>7</td>\n",
       "      <td>2017</td>\n",
       "      <td>Sabado</td>\n",
       "      <td>I</td>\n",
       "      <td>Grupo LATAM</td>\n",
       "      <td>Nueva York</td>\n",
       "      <td>0</td>\n",
       "      <td>0</td>\n",
       "      <td>0</td>\n",
       "      <td>0 days 00:09:00</td>\n",
       "      <td>9.0</td>\n",
       "      <td>1</td>\n",
       "    </tr>\n",
       "    <tr>\n",
       "      <th>26729</th>\n",
       "      <td>2017-05-01 23:50:00</td>\n",
       "      <td>SCEL</td>\n",
       "      <td>2017-05-01 23:49:00</td>\n",
       "      <td>1</td>\n",
       "      <td>5</td>\n",
       "      <td>2017</td>\n",
       "      <td>Lunes</td>\n",
       "      <td>I</td>\n",
       "      <td>Grupo LATAM</td>\n",
       "      <td>Ciudad de Mexico</td>\n",
       "      <td>0</td>\n",
       "      <td>0</td>\n",
       "      <td>0</td>\n",
       "      <td>-1 days +23:59:00</td>\n",
       "      <td>-1.0</td>\n",
       "      <td>0</td>\n",
       "    </tr>\n",
       "    <tr>\n",
       "      <th>53060</th>\n",
       "      <td>2017-10-27 18:26:00</td>\n",
       "      <td>SCEL</td>\n",
       "      <td>2017-10-27 18:34:00</td>\n",
       "      <td>27</td>\n",
       "      <td>10</td>\n",
       "      <td>2017</td>\n",
       "      <td>Viernes</td>\n",
       "      <td>N</td>\n",
       "      <td>Grupo LATAM</td>\n",
       "      <td>Temuco</td>\n",
       "      <td>0</td>\n",
       "      <td>0</td>\n",
       "      <td>1</td>\n",
       "      <td>0 days 00:08:00</td>\n",
       "      <td>8.0</td>\n",
       "      <td>1</td>\n",
       "    </tr>\n",
       "    <tr>\n",
       "      <th>35464</th>\n",
       "      <td>2017-07-01 14:00:00</td>\n",
       "      <td>SCEL</td>\n",
       "      <td>2017-07-01 14:04:00</td>\n",
       "      <td>1</td>\n",
       "      <td>7</td>\n",
       "      <td>2017</td>\n",
       "      <td>Sabado</td>\n",
       "      <td>N</td>\n",
       "      <td>Grupo LATAM</td>\n",
       "      <td>Iquique</td>\n",
       "      <td>0</td>\n",
       "      <td>0</td>\n",
       "      <td>0</td>\n",
       "      <td>0 days 00:04:00</td>\n",
       "      <td>4.0</td>\n",
       "      <td>1</td>\n",
       "    </tr>\n",
       "  </tbody>\n",
       "</table>\n",
       "</div>"
      ],
      "text/plain": [
       "                  Fecha-I Ori-I             Fecha-O  DIA  MES   AÑO  \\\n",
       "65285 2017-12-27 18:02:00  SCEL 2017-12-27 18:18:00   27   12  2017   \n",
       "37396 2017-07-29 21:45:00  SCEL 2017-07-29 21:54:00   29    7  2017   \n",
       "26729 2017-05-01 23:50:00  SCEL 2017-05-01 23:49:00    1    5  2017   \n",
       "53060 2017-10-27 18:26:00  SCEL 2017-10-27 18:34:00   27   10  2017   \n",
       "35464 2017-07-01 14:00:00  SCEL 2017-07-01 14:04:00    1    7  2017   \n",
       "\n",
       "          DIANOM TIPOVUELO        OPERA          SIGLADES  Cambio_Nvuelo  \\\n",
       "65285  Miercoles         N  Grupo LATAM        Concepcion              1   \n",
       "37396     Sabado         I  Grupo LATAM        Nueva York              0   \n",
       "26729      Lunes         I  Grupo LATAM  Ciudad de Mexico              0   \n",
       "53060    Viernes         N  Grupo LATAM            Temuco              0   \n",
       "35464     Sabado         N  Grupo LATAM           Iquique              0   \n",
       "\n",
       "       Cambio_destino  Cambio_aerolinea           Retraso  dif_min  \\\n",
       "65285               0                 1   0 days 00:16:00     16.0   \n",
       "37396               0                 0   0 days 00:09:00      9.0   \n",
       "26729               0                 0 -1 days +23:59:00     -1.0   \n",
       "53060               0                 1   0 days 00:08:00      8.0   \n",
       "35464               0                 0   0 days 00:04:00      4.0   \n",
       "\n",
       "       Retraso_dummie  \n",
       "65285               1  \n",
       "37396               1  \n",
       "26729               0  \n",
       "53060               1  \n",
       "35464               1  "
      ]
     },
     "execution_count": 1105,
     "metadata": {},
     "output_type": "execute_result"
    }
   ],
   "source": [
    "data.sample(5)"
   ]
  },
  {
   "cell_type": "code",
   "execution_count": 1106,
   "id": "277c5986",
   "metadata": {},
   "outputs": [
    {
     "data": {
      "text/plain": [
       "1    45507\n",
       "0    22699\n",
       "Name: Retraso_dummie, dtype: int64"
      ]
     },
     "execution_count": 1106,
     "metadata": {},
     "output_type": "execute_result"
    }
   ],
   "source": [
    "data[\"Retraso_dummie\"].value_counts()"
   ]
  },
  {
   "cell_type": "code",
   "execution_count": null,
   "id": "8e4c7468",
   "metadata": {},
   "outputs": [],
   "source": []
  },
  {
   "cell_type": "code",
   "execution_count": null,
   "id": "8b006a08",
   "metadata": {},
   "outputs": [],
   "source": []
  },
  {
   "cell_type": "code",
   "execution_count": 1107,
   "id": "de21b2e8",
   "metadata": {},
   "outputs": [],
   "source": [
    "# Agrego cuando el retraso es mayor a 15 min segun lo solicitado"
   ]
  },
  {
   "cell_type": "code",
   "execution_count": 1108,
   "id": "0b14448e",
   "metadata": {},
   "outputs": [],
   "source": [
    "data[\"atraso_15\"]= np.where(data[\"dif_min\"]>15,1,0)"
   ]
  },
  {
   "cell_type": "code",
   "execution_count": 1109,
   "id": "7845f8a7",
   "metadata": {},
   "outputs": [
    {
     "data": {
      "text/plain": [
       "0    55592\n",
       "1    12614\n",
       "Name: atraso_15, dtype: int64"
      ]
     },
     "execution_count": 1109,
     "metadata": {},
     "output_type": "execute_result"
    }
   ],
   "source": [
    "data[\"atraso_15\"].value_counts()"
   ]
  },
  {
   "cell_type": "code",
   "execution_count": 1110,
   "id": "26b174ed",
   "metadata": {},
   "outputs": [
    {
     "data": {
      "text/plain": [
       "2017    68204\n",
       "2018        2\n",
       "Name: AÑO, dtype: int64"
      ]
     },
     "execution_count": 1110,
     "metadata": {},
     "output_type": "execute_result"
    }
   ],
   "source": [
    "data[\"AÑO\"].value_counts()"
   ]
  },
  {
   "cell_type": "code",
   "execution_count": 1111,
   "id": "0c4246c3",
   "metadata": {},
   "outputs": [
    {
     "data": {
      "text/plain": [
       "0    45995\n",
       "1    22211\n",
       "Name: temporada_alta, dtype: int64"
      ]
     },
     "execution_count": 1111,
     "metadata": {},
     "output_type": "execute_result"
    }
   ],
   "source": [
    "#Agrego temporada alta segun lo solicitado\n",
    "#temporada_alta : 1 si Fecha-I está entre 15-Dic y 3-Mar, o 15-Jul y 31-Jul, o 11-Sep y 30-Sep, 0 si no\n",
    "fecha1= pd.to_datetime('20161215', format='%Y%m%d')\n",
    "fecha2= pd.to_datetime('20170303',format='%Y%m%d')\n",
    "fecha3= pd.to_datetime('20170715',format='%Y%m%d')\n",
    "fecha4= pd.to_datetime('20170731',format='%Y%m%d')\n",
    "fecha5= pd.to_datetime('20170911',format='%Y%m%d')\n",
    "fecha6= pd.to_datetime('20170930',format='%Y%m%d')\n",
    "fecha7= pd.to_datetime('20171215', format='%Y%m%d')\n",
    "fecha8= pd.to_datetime('20180303',format='%Y%m%d')\n",
    "\n",
    "\n",
    "data[\"temporada_alta\"] = np.where((data['Fecha-I']>= fecha1) & (data['Fecha-I']<= fecha2) |\n",
    "                                  (data['Fecha-I']>= fecha3) & (data['Fecha-I']<= fecha4) |\n",
    "                                  (data['Fecha-I']>= fecha5) & (data['Fecha-I']<= fecha6) |\n",
    "                                  (data['Fecha-I']>= fecha7) & (data['Fecha-I']<= fecha8)\n",
    "                                  ,1,0)\n",
    "\n",
    "data[\"temporada_alta\"].value_counts()"
   ]
  },
  {
   "cell_type": "code",
   "execution_count": 1112,
   "id": "4e3d71af",
   "metadata": {},
   "outputs": [
    {
     "data": {
      "text/plain": [
       "Fecha-I             2017-12-15 06:10:00\n",
       "Ori-I                              SCEL\n",
       "Fecha-O             2017-12-15 06:22:00\n",
       "DIA                                  15\n",
       "MES                                  12\n",
       "AÑO                                2017\n",
       "DIANOM                          Viernes\n",
       "TIPOVUELO                             N\n",
       "OPERA                       Sky Airline\n",
       "SIGLADES                   Punta Arenas\n",
       "Cambio_Nvuelo                         0\n",
       "Cambio_destino                        0\n",
       "Cambio_aerolinea                      0\n",
       "Retraso                 0 days 00:12:00\n",
       "dif_min                              12\n",
       "Retraso_dummie                        1\n",
       "atraso_15                             0\n",
       "temporada_alta                        1\n",
       "Name: 63119, dtype: object"
      ]
     },
     "execution_count": 1112,
     "metadata": {},
     "output_type": "execute_result"
    }
   ],
   "source": [
    "data.iloc[63119]"
   ]
  },
  {
   "cell_type": "code",
   "execution_count": null,
   "id": "c05da70d",
   "metadata": {},
   "outputs": [],
   "source": []
  },
  {
   "cell_type": "code",
   "execution_count": 1113,
   "id": "08994cb6",
   "metadata": {},
   "outputs": [],
   "source": [
    "#mañana (entre 5:00 y 11:59), tarde (entre 12:00 y 18:59) y noche (entre 19:00 y 4:59), en base a\n",
    "#Fecha-I \n",
    "#mañana1= pd.to_datetime('05:00:00',format='%H:%M:%S')\n",
    "#mañana2=pd.to_datetime('11:59:00', format='%H:%M:%S')\n",
    "#tarde1= pd.to_datetime('12:00:00',format='%H:%M:%S')\n",
    "#tarde2=pd.to_datetime('18:59:00', format='%H:%M:%S')\n",
    "#noche1= pd.to_datetime('19:00:00',format='%H:%M:%S')\n",
    "#noche2=pd.to_datetime('04:59:00', format='%H:%M:%S')\n",
    "#data['periodo_dia']= np.where((data['Fecha-I']>= mañana1) & (data['Fecha-I']<= mañana2),'mañana','tarde')\n",
    "#data['periodo_dia'].value_counts()"
   ]
  },
  {
   "cell_type": "code",
   "execution_count": 1114,
   "id": "7155f695",
   "metadata": {},
   "outputs": [],
   "source": [
    "#data['periodo_dia']=np.where((data['Fecha-I']>= tarde1) & (data['Fecha-I']<= tarde2),'tarde','noche')\n",
    "#data['periodo_dia'].value_counts()"
   ]
  },
  {
   "cell_type": "code",
   "execution_count": 1115,
   "id": "0b3a4186",
   "metadata": {},
   "outputs": [
    {
     "data": {
      "text/html": [
       "<div>\n",
       "<style scoped>\n",
       "    .dataframe tbody tr th:only-of-type {\n",
       "        vertical-align: middle;\n",
       "    }\n",
       "\n",
       "    .dataframe tbody tr th {\n",
       "        vertical-align: top;\n",
       "    }\n",
       "\n",
       "    .dataframe thead th {\n",
       "        text-align: right;\n",
       "    }\n",
       "</style>\n",
       "<table border=\"1\" class=\"dataframe\">\n",
       "  <thead>\n",
       "    <tr style=\"text-align: right;\">\n",
       "      <th></th>\n",
       "      <th>Ori-I</th>\n",
       "      <th>DIA</th>\n",
       "      <th>MES</th>\n",
       "      <th>AÑO</th>\n",
       "      <th>DIANOM</th>\n",
       "      <th>TIPOVUELO</th>\n",
       "      <th>OPERA</th>\n",
       "      <th>SIGLADES</th>\n",
       "      <th>Cambio_Nvuelo</th>\n",
       "      <th>Cambio_destino</th>\n",
       "      <th>Cambio_aerolinea</th>\n",
       "      <th>dif_min</th>\n",
       "      <th>Retraso_dummie</th>\n",
       "      <th>atraso_15</th>\n",
       "      <th>temporada_alta</th>\n",
       "    </tr>\n",
       "  </thead>\n",
       "  <tbody>\n",
       "    <tr>\n",
       "      <th>49886</th>\n",
       "      <td>SCEL</td>\n",
       "      <td>19</td>\n",
       "      <td>10</td>\n",
       "      <td>2017</td>\n",
       "      <td>Jueves</td>\n",
       "      <td>I</td>\n",
       "      <td>Aeromexico</td>\n",
       "      <td>Ciudad de Mexico</td>\n",
       "      <td>0</td>\n",
       "      <td>0</td>\n",
       "      <td>0</td>\n",
       "      <td>-14.0</td>\n",
       "      <td>0</td>\n",
       "      <td>0</td>\n",
       "      <td>0</td>\n",
       "    </tr>\n",
       "    <tr>\n",
       "      <th>18596</th>\n",
       "      <td>SCEL</td>\n",
       "      <td>11</td>\n",
       "      <td>4</td>\n",
       "      <td>2017</td>\n",
       "      <td>Martes</td>\n",
       "      <td>N</td>\n",
       "      <td>Sky Airline</td>\n",
       "      <td>Copiapo</td>\n",
       "      <td>0</td>\n",
       "      <td>0</td>\n",
       "      <td>0</td>\n",
       "      <td>14.0</td>\n",
       "      <td>1</td>\n",
       "      <td>0</td>\n",
       "      <td>0</td>\n",
       "    </tr>\n",
       "    <tr>\n",
       "      <th>19575</th>\n",
       "      <td>SCEL</td>\n",
       "      <td>24</td>\n",
       "      <td>4</td>\n",
       "      <td>2017</td>\n",
       "      <td>Lunes</td>\n",
       "      <td>N</td>\n",
       "      <td>Grupo LATAM</td>\n",
       "      <td>Calama</td>\n",
       "      <td>0</td>\n",
       "      <td>0</td>\n",
       "      <td>0</td>\n",
       "      <td>4.0</td>\n",
       "      <td>1</td>\n",
       "      <td>0</td>\n",
       "      <td>0</td>\n",
       "    </tr>\n",
       "    <tr>\n",
       "      <th>37444</th>\n",
       "      <td>SCEL</td>\n",
       "      <td>27</td>\n",
       "      <td>7</td>\n",
       "      <td>2017</td>\n",
       "      <td>Jueves</td>\n",
       "      <td>I</td>\n",
       "      <td>Grupo LATAM</td>\n",
       "      <td>Bogota</td>\n",
       "      <td>0</td>\n",
       "      <td>0</td>\n",
       "      <td>0</td>\n",
       "      <td>16.0</td>\n",
       "      <td>1</td>\n",
       "      <td>1</td>\n",
       "      <td>1</td>\n",
       "    </tr>\n",
       "    <tr>\n",
       "      <th>9818</th>\n",
       "      <td>SCEL</td>\n",
       "      <td>18</td>\n",
       "      <td>2</td>\n",
       "      <td>2017</td>\n",
       "      <td>Sabado</td>\n",
       "      <td>N</td>\n",
       "      <td>Grupo LATAM</td>\n",
       "      <td>Puerto Montt</td>\n",
       "      <td>0</td>\n",
       "      <td>0</td>\n",
       "      <td>1</td>\n",
       "      <td>1.0</td>\n",
       "      <td>1</td>\n",
       "      <td>0</td>\n",
       "      <td>1</td>\n",
       "    </tr>\n",
       "  </tbody>\n",
       "</table>\n",
       "</div>"
      ],
      "text/plain": [
       "      Ori-I  DIA  MES   AÑO  DIANOM TIPOVUELO        OPERA          SIGLADES  \\\n",
       "49886  SCEL   19   10  2017  Jueves         I   Aeromexico  Ciudad de Mexico   \n",
       "18596  SCEL   11    4  2017  Martes         N  Sky Airline           Copiapo   \n",
       "19575  SCEL   24    4  2017   Lunes         N  Grupo LATAM            Calama   \n",
       "37444  SCEL   27    7  2017  Jueves         I  Grupo LATAM            Bogota   \n",
       "9818   SCEL   18    2  2017  Sabado         N  Grupo LATAM      Puerto Montt   \n",
       "\n",
       "       Cambio_Nvuelo  Cambio_destino  Cambio_aerolinea  dif_min  \\\n",
       "49886              0               0                 0    -14.0   \n",
       "18596              0               0                 0     14.0   \n",
       "19575              0               0                 0      4.0   \n",
       "37444              0               0                 0     16.0   \n",
       "9818               0               0                 1      1.0   \n",
       "\n",
       "       Retraso_dummie  atraso_15  temporada_alta  \n",
       "49886               0          0               0  \n",
       "18596               1          0               0  \n",
       "19575               1          0               0  \n",
       "37444               1          1               1  \n",
       "9818                1          0               1  "
      ]
     },
     "execution_count": 1115,
     "metadata": {},
     "output_type": "execute_result"
    }
   ],
   "source": [
    "#Ahora que ya termine de utilizar la variable Fecha-I Dropeare Fecha-I Y Fecha-O y Retraso\n",
    "data= data.drop(columns=['Fecha-I', 'Fecha-O', 'Retraso'])\n",
    "data.sample(5)"
   ]
  },
  {
   "cell_type": "code",
   "execution_count": 1167,
   "id": "18c49105",
   "metadata": {},
   "outputs": [],
   "source": [
    "#Distribución de los datos"
   ]
  },
  {
   "cell_type": "code",
   "execution_count": 1226,
   "id": "c4474f5d",
   "metadata": {},
   "outputs": [],
   "source": [
    "data['Ori-I'].value_counts()"
   ]
  },
  {
   "cell_type": "code",
   "execution_count": 1226,
   "id": "8443cde9",
   "metadata": {},
   "outputs": [
    {
     "data": {
      "text/plain": [
       "SCEL    68206\n",
       "Name: Ori-I, dtype: int64"
      ]
     },
     "execution_count": 1226,
     "metadata": {},
     "output_type": "execute_result"
    }
   ],
   "source": []
  },
  {
   "cell_type": "code",
   "execution_count": 1230,
   "id": "16a24912",
   "metadata": {},
   "outputs": [
    {
     "name": "stderr",
     "output_type": "stream",
     "text": [
      "<ipython-input-1230-bc5aee933041>:22: UserWarning: Tight layout not applied. tight_layout cannot make axes height small enough to accommodate all axes decorations\n",
      "  fig.tight_layout()\n"
     ]
    },
    {
     "data": {
      "image/png": "[encoded data removed]",
      "text/plain": [
       "<Figure size 1080x1080 with 14 Axes>"
      ]
     },
     "metadata": {
      "needs_background": "light"
     },
     "output_type": "display_data"
    }
   ],
   "source": [
    "ig, axes = plt.subplots(nrows=7, ncols=2, figsize=(15, 15))\n",
    "axes = axes.flat\n",
    "data_plot = data.drop(columns=['Ori-I'])\n",
    "columnas= data_plot.columns\n",
    "\n",
    "for i, colum in enumerate(columnas):\n",
    "    sns.histplot(\n",
    "        data    = data_plot,\n",
    "        x       = colum,\n",
    "        stat    = \"count\",\n",
    "        kde     = True,\n",
    "        color   = (list(plt.rcParams['axes.prop_cycle'])*2)[i][\"color\"],\n",
    "        line_kws= {'linewidth': 2},\n",
    "        alpha   = 0.3,\n",
    "        ax      = axes[i]\n",
    "    )\n",
    "    axes[i].set_title(colum, fontsize = 6, fontweight = \"bold\")\n",
    "    axes[i].tick_params(labelsize = 6)\n",
    "    axes[i].set_xlabel(\"\")\n",
    "    \n",
    "    \n",
    "fig.tight_layout()\n",
    "plt.subplots_adjust(top = 0.9)\n",
    "fig.suptitle('Fig 1: Distribución de las variables del data-set', fontsize = 10, fontweight = \"bold\");"
   ]
  },
  {
   "cell_type": "code",
   "execution_count": null,
   "id": "2da391a9",
   "metadata": {},
   "outputs": [],
   "source": []
  },
  {
   "cell_type": "code",
   "execution_count": 1195,
   "id": "6e877a5c",
   "metadata": {},
   "outputs": [
    {
     "data": {
      "text/plain": [
       "0    0.81506\n",
       "1    0.18494\n",
       "Name: atraso_15, dtype: float64"
      ]
     },
     "execution_count": 1195,
     "metadata": {},
     "output_type": "execute_result"
    }
   ],
   "source": [
    "(data.atraso_15.value_counts()/data.shape[0]).sort_values(ascending=False)"
   ]
  },
  {
   "cell_type": "code",
   "execution_count": 1196,
   "id": "9c7a9772",
   "metadata": {},
   "outputs": [
    {
     "data": {
      "text/plain": [
       "0    0.674354\n",
       "1    0.325646\n",
       "Name: temporada_alta, dtype: float64"
      ]
     },
     "execution_count": 1196,
     "metadata": {},
     "output_type": "execute_result"
    }
   ],
   "source": [
    "(data.temporada_alta.value_counts()/data.shape[0]).sort_values(ascending=False)"
   ]
  },
  {
   "cell_type": "code",
   "execution_count": 1194,
   "id": "cd286df1",
   "metadata": {},
   "outputs": [
    {
     "data": {
      "text/plain": [
       "1    0.667199\n",
       "0    0.332801\n",
       "Name: Retraso_dummie, dtype: float64"
      ]
     },
     "execution_count": 1194,
     "metadata": {},
     "output_type": "execute_result"
    }
   ],
   "source": [
    "(data.Retraso_dummie.value_counts()/data.shape[0]).sort_values(ascending=False)"
   ]
  },
  {
   "cell_type": "code",
   "execution_count": 1193,
   "id": "6c17f90c",
   "metadata": {},
   "outputs": [
    {
     "data": {
      "text/plain": [
       "N    0.541976\n",
       "I    0.458024\n",
       "Name: TIPOVUELO, dtype: float64"
      ]
     },
     "execution_count": 1193,
     "metadata": {},
     "output_type": "execute_result"
    }
   ],
   "source": [
    "(data.TIPOVUELO.value_counts()/data.shape[0]).sort_values(ascending=False)"
   ]
  },
  {
   "cell_type": "code",
   "execution_count": 1192,
   "id": "d4ee1da9",
   "metadata": {},
   "outputs": [
    {
     "data": {
      "text/plain": [
       "Viernes      0.150896\n",
       "Jueves       0.150295\n",
       "Lunes        0.148535\n",
       "Domingo      0.143624\n",
       "Miercoles    0.142539\n",
       "Martes       0.141659\n",
       "Sabado       0.122453\n",
       "Name: DIANOM, dtype: float64"
      ]
     },
     "execution_count": 1192,
     "metadata": {},
     "output_type": "execute_result"
    }
   ],
   "source": [
    "(data.DIANOM.value_counts()/data.shape[0]).sort_values(ascending=False)"
   ]
  },
  {
   "cell_type": "code",
   "execution_count": 1191,
   "id": "86f1d2bd",
   "metadata": {},
   "outputs": [
    {
     "data": {
      "text/plain": [
       "20    0.033575\n",
       "27    0.033516\n",
       "12    0.033487\n",
       "10    0.033472\n",
       "6     0.033355\n",
       "13    0.033311\n",
       "22    0.033311\n",
       "3     0.033296\n",
       "16    0.033252\n",
       "26    0.033238\n",
       "21    0.033238\n",
       "7     0.033194\n",
       "23    0.033135\n",
       "5     0.032856\n",
       "15    0.032827\n",
       "19    0.032812\n",
       "11    0.032798\n",
       "24    0.032724\n",
       "28    0.032724\n",
       "17    0.032666\n",
       "9     0.032651\n",
       "2     0.032592\n",
       "14    0.032563\n",
       "4     0.032475\n",
       "8     0.032446\n",
       "1     0.032373\n",
       "25    0.031947\n",
       "18    0.031669\n",
       "29    0.029968\n",
       "30    0.029616\n",
       "31    0.018913\n",
       "Name: DIA, dtype: float64"
      ]
     },
     "execution_count": 1191,
     "metadata": {},
     "output_type": "execute_result"
    }
   ],
   "source": [
    "(data.DIA.value_counts()/data.shape[0]).sort_values(ascending=False)"
   ]
  },
  {
   "cell_type": "code",
   "execution_count": 1167,
   "id": "5ee38f4e",
   "metadata": {},
   "outputs": [
    {
     "data": {
      "text/plain": [
       "Grupo LATAM                 0.599537\n",
       "Sky Airline                 0.209630\n",
       "Aerolineas Argentinas       0.028575\n",
       "Copa Air                    0.027124\n",
       "Latin American Wings        0.024543\n",
       "Avianca                     0.016890\n",
       "JetSmart SPA                0.016054\n",
       "Gol Trans                   0.011817\n",
       "American Airlines           0.011099\n",
       "Air Canada                  0.008284\n",
       "Iberia                      0.005307\n",
       "Air France                  0.005249\n",
       "Delta Air                   0.005249\n",
       "Aeromexico                  0.005146\n",
       "United Airlines             0.004912\n",
       "Oceanair Linhas Aereas      0.004091\n",
       "Alitalia                    0.003797\n",
       "K.L.M.                      0.003680\n",
       "British Airways             0.003006\n",
       "Qantas Airways              0.002859\n",
       "Lacsa                       0.001349\n",
       "Austral                     0.001085\n",
       "Plus Ultra Lineas Aereas    0.000718\n",
       "Name: OPERA, dtype: float64"
      ]
     },
     "execution_count": 1167,
     "metadata": {},
     "output_type": "execute_result"
    }
   ],
   "source": [
    "data.OPERA.value_counts()/data.shape[0]"
   ]
  },
  {
   "cell_type": "code",
   "execution_count": 1232,
   "id": "79fd486b",
   "metadata": {},
   "outputs": [
    {
     "data": {
      "text/plain": [
       "Buenos Aires        0.092880\n",
       "Antofagasta         0.084831\n",
       "Lima                0.077266\n",
       "Calama              0.075448\n",
       "Puerto Montt        0.063880\n",
       "                      ...   \n",
       "Cataratas Iguacu    0.000029\n",
       "Pisco, Peru         0.000015\n",
       "Cochabamba          0.000015\n",
       "Puerto Stanley      0.000015\n",
       "Washington          0.000015\n",
       "Name: SIGLADES, Length: 62, dtype: float64"
      ]
     },
     "execution_count": 1232,
     "metadata": {},
     "output_type": "execute_result"
    }
   ],
   "source": [
    "(data.SIGLADES.value_counts()/data.shape[0]).sort_values(ascending=False)"
   ]
  },
  {
   "cell_type": "code",
   "execution_count": 1185,
   "id": "7e78fe66",
   "metadata": {},
   "outputs": [
    {
     "data": {
      "text/plain": [
       "Buenos Aires        0.092880\n",
       "Antofagasta         0.084831\n",
       "Lima                0.077266\n",
       "Calama              0.075448\n",
       "Puerto Montt        0.063880\n",
       "                      ...   \n",
       "Cataratas Iguacu    0.000029\n",
       "Pisco, Peru         0.000015\n",
       "Cochabamba          0.000015\n",
       "Puerto Stanley      0.000015\n",
       "Washington          0.000015\n",
       "Name: SIGLADES, Length: 62, dtype: float64"
      ]
     },
     "execution_count": 1185,
     "metadata": {},
     "output_type": "execute_result"
    }
   ],
   "source": [
    "distribucion1.sort_values(ascending= False)"
   ]
  },
  {
   "cell_type": "code",
   "execution_count": null,
   "id": "0d202b87",
   "metadata": {},
   "outputs": [],
   "source": []
  },
  {
   "cell_type": "code",
   "execution_count": 1063,
   "id": "3214947a",
   "metadata": {},
   "outputs": [],
   "source": [
    "#DATA ANALYSIS\n",
    "#¿Cómo se compone la tasa de atraso por destino, aerolínea, mes del año, día de la semana, temporada, tipo de vuelo?\n",
    "#¿Qué variables esperarías que más influyeran en predecir atrasos?"
   ]
  },
  {
   "cell_type": "code",
   "execution_count": 1063,
   "id": "5b090ebb",
   "metadata": {},
   "outputs": [],
   "source": [
    "#Tasa de atraso por destino"
   ]
  },
  {
   "cell_type": "code",
   "execution_count": null,
   "id": "e5751d45",
   "metadata": {},
   "outputs": [],
   "source": []
  },
  {
   "cell_type": "code",
   "execution_count": 1154,
   "id": "0b186884",
   "metadata": {},
   "outputs": [
    {
     "data": {
      "text/plain": [
       "SIGLADES\n",
       "Puerto Stanley    1.000000\n",
       "Pisco, Peru       1.000000\n",
       "Ushuia            1.000000\n",
       "Quito             1.000000\n",
       "Cochabamba        1.000000\n",
       "Bariloche         1.000000\n",
       "Melbourne         0.923077\n",
       "Rosario           0.919118\n",
       "Sydney            0.912371\n",
       "Santa Cruz        0.900000\n",
       "Name: Retraso_dummie, dtype: float64"
      ]
     },
     "execution_count": 1154,
     "metadata": {},
     "output_type": "execute_result"
    }
   ],
   "source": [
    "data.groupby('SIGLADES').Retraso_dummie.mean().sort_values(ascending=False).head(10)"
   ]
  },
  {
   "cell_type": "code",
   "execution_count": 1155,
   "id": "7a44e7ee",
   "metadata": {},
   "outputs": [
    {
     "data": {
      "text/plain": [
       "SIGLADES\n",
       "Cataratas Iguacu    0.500000\n",
       "Punta del Este      0.500000\n",
       "Ciudad de Mexico    0.451429\n",
       "Paris               0.423398\n",
       "Ciudad de Panama    0.370270\n",
       "Curitiba, Bra.      0.333333\n",
       "Atlanta             0.307263\n",
       "Dallas              0.235294\n",
       "Houston             0.203593\n",
       "Washington          0.000000\n",
       "Name: Retraso_dummie, dtype: float64"
      ]
     },
     "execution_count": 1155,
     "metadata": {},
     "output_type": "execute_result"
    }
   ],
   "source": [
    "data.groupby('SIGLADES').Retraso_dummie.mean().sort_values(ascending=False).tail(10)"
   ]
  },
  {
   "cell_type": "code",
   "execution_count": 1238,
   "id": "3751a966",
   "metadata": {},
   "outputs": [
    {
     "data": {
      "text/plain": [
       "0.6895093386176337"
      ]
     },
     "execution_count": 1238,
     "metadata": {},
     "output_type": "execute_result"
    }
   ],
   "source": [
    "(data.groupby('SIGLADES').Retraso_dummie.mean()).mean()"
   ]
  },
  {
   "cell_type": "code",
   "execution_count": 1239,
   "id": "9724700d",
   "metadata": {},
   "outputs": [
    {
     "data": {
      "text/plain": [
       "0.2058355004236715"
      ]
     },
     "execution_count": 1239,
     "metadata": {},
     "output_type": "execute_result"
    }
   ],
   "source": [
    "(data.groupby('SIGLADES').Retraso_dummie.mean()).std()"
   ]
  },
  {
   "cell_type": "code",
   "execution_count": null,
   "id": "1efb1f17",
   "metadata": {},
   "outputs": [],
   "source": [
    "#En el atraso segun destino podemos ver que los destinos que siempre se atrasan con una tasa de atraso mayor a 95% son Puerto Stanley\n",
    "# \"Pisco, Peru\", Ushuia,Quito, Cochabamba,Bariloche.\n",
    "#El único destino que no se a atrasado nunca es Washington.\n",
    "# La tasa promedio de atraso por destino para el dataset es de 68,9%. \n",
    "#Es decir si clasificamos por destino el 69% de los destinos sale atrasado"
   ]
  },
  {
   "cell_type": "code",
   "execution_count": null,
   "id": "98642f6e",
   "metadata": {},
   "outputs": [],
   "source": [
    "#tasa de atraso segun operador"
   ]
  },
  {
   "cell_type": "code",
   "execution_count": 1158,
   "id": "6cdd3037",
   "metadata": {},
   "outputs": [
    {
     "data": {
      "text/plain": [
       "OPERA\n",
       "Qantas Airways              0.912821\n",
       "Plus Ultra Lineas Aereas    0.857143\n",
       "Air Canada                  0.775221\n",
       "Latin American Wings        0.749104\n",
       "Grupo LATAM                 0.736868\n",
       "Austral                     0.648649\n",
       "British Airways             0.604878\n",
       "Aerolineas Argentinas       0.591072\n",
       "JetSmart SPA                0.590868\n",
       "Sky Airline                 0.589593\n",
       "Name: Retraso_dummie, dtype: float64"
      ]
     },
     "execution_count": 1158,
     "metadata": {},
     "output_type": "execute_result"
    }
   ],
   "source": [
    "data.groupby('OPERA').Retraso_dummie.mean().sort_values(ascending=False).head(10)"
   ]
  },
  {
   "cell_type": "code",
   "execution_count": 1159,
   "id": "340ff22a",
   "metadata": {},
   "outputs": [
    {
     "data": {
      "text/plain": [
       "OPERA\n",
       "Avianca                   0.572917\n",
       "Oceanair Linhas Aereas    0.480287\n",
       "Lacsa                     0.434783\n",
       "Air France                0.421788\n",
       "Copa Air                  0.370270\n",
       "K.L.M.                    0.346614\n",
       "Delta Air                 0.307263\n",
       "American Airlines         0.284016\n",
       "Aeromexico                0.222222\n",
       "United Airlines           0.202985\n",
       "Name: Retraso_dummie, dtype: float64"
      ]
     },
     "execution_count": 1159,
     "metadata": {},
     "output_type": "execute_result"
    }
   ],
   "source": [
    "data.groupby('OPERA').Retraso_dummie.mean().sort_values(ascending=False).tail(10)"
   ]
  },
  {
   "cell_type": "code",
   "execution_count": 1240,
   "id": "5718954d",
   "metadata": {},
   "outputs": [
    {
     "data": {
      "text/plain": [
       "0.5413597758108079"
      ]
     },
     "execution_count": 1240,
     "metadata": {},
     "output_type": "execute_result"
    }
   ],
   "source": [
    "(data.groupby('OPERA').Retraso_dummie.mean()).mean()"
   ]
  },
  {
   "cell_type": "code",
   "execution_count": 1237,
   "id": "4b1e756b",
   "metadata": {},
   "outputs": [
    {
     "data": {
      "text/plain": [
       "0.1950538562212911"
      ]
     },
     "execution_count": 1237,
     "metadata": {},
     "output_type": "execute_result"
    }
   ],
   "source": [
    "(data.groupby('OPERA').Retraso_dummie.mean()).std()"
   ]
  },
  {
   "cell_type": "code",
   "execution_count": 1198,
   "id": "c135ef18",
   "metadata": {},
   "outputs": [],
   "source": [
    "#Qantas Airways, Plus Ultra Lineas Aereas, Air Canada, Latin American Wings, Grupo LATAM. Son los grupos que poseen\n",
    "#un atraso de mas de un 70% de sus vuelos emitidos.\n",
    "#Aeromexico y United airlines presentan menos de un 25% de sus vuelos retrasados.\n",
    "#La tasa promedio de atraso por aerolinea del data set es de 54%"
   ]
  },
  {
   "cell_type": "code",
   "execution_count": 1133,
   "id": "2b1e6b2e",
   "metadata": {},
   "outputs": [
    {
     "data": {
      "text/plain": [
       "MES\n",
       "7     0.770027\n",
       "12    0.741032\n",
       "10    0.712865\n",
       "11    0.692434\n",
       "1     0.661755\n",
       "2     0.652401\n",
       "6     0.648464\n",
       "8     0.647110\n",
       "9     0.645455\n",
       "5     0.641221\n",
       "4     0.592430\n",
       "3     0.565669\n",
       "Name: Retraso_dummie, dtype: float64"
      ]
     },
     "execution_count": 1133,
     "metadata": {},
     "output_type": "execute_result"
    }
   ],
   "source": [
    "data.groupby('MES').Retraso_dummie.mean().sort_values(ascending=False)"
   ]
  },
  {
   "cell_type": "code",
   "execution_count": 1200,
   "id": "bc6f8c5b",
   "metadata": {},
   "outputs": [
    {
     "data": {
      "text/plain": [
       "0.05775443670244032"
      ]
     },
     "execution_count": 1200,
     "metadata": {},
     "output_type": "execute_result"
    }
   ],
   "source": [
    "(data.groupby('MES').Retraso_dummie.mean().sort_values(ascending=False)).std()"
   ]
  },
  {
   "cell_type": "code",
   "execution_count": 1201,
   "id": "663eab8d",
   "metadata": {},
   "outputs": [
    {
     "data": {
      "text/plain": [
       "0.6642386088647986"
      ]
     },
     "execution_count": 1201,
     "metadata": {},
     "output_type": "execute_result"
    }
   ],
   "source": [
    "(data.groupby('MES').Retraso_dummie.mean().sort_values(ascending=False)).mean()"
   ]
  },
  {
   "cell_type": "code",
   "execution_count": 1209,
   "id": "aa9f7ff9",
   "metadata": {},
   "outputs": [],
   "source": [
    "#Se puede ver que en cuanto a los retrasos por mes, estos se distribuyen de manera similar con una desviación \n",
    "#estandar de 0,05 y una tasa promedio de atraso por mes de un 66%"
   ]
  },
  {
   "cell_type": "code",
   "execution_count": 1210,
   "id": "5c05a8eb",
   "metadata": {},
   "outputs": [
    {
     "data": {
      "text/plain": [
       "DIANOM\n",
       "Viernes      0.717159\n",
       "Jueves       0.683543\n",
       "Lunes        0.675155\n",
       "Miercoles    0.659947\n",
       "Sabado       0.645953\n",
       "Martes       0.642310\n",
       "Domingo      0.639241\n",
       "Name: Retraso_dummie, dtype: float64"
      ]
     },
     "execution_count": 1210,
     "metadata": {},
     "output_type": "execute_result"
    }
   ],
   "source": [
    "data.groupby('DIANOM').Retraso_dummie.mean().sort_values(ascending=False)"
   ]
  },
  {
   "cell_type": "code",
   "execution_count": 1211,
   "id": "bab5ee8d",
   "metadata": {},
   "outputs": [
    {
     "data": {
      "text/plain": [
       "0.028060599907687257"
      ]
     },
     "execution_count": 1211,
     "metadata": {},
     "output_type": "execute_result"
    }
   ],
   "source": [
    "data.groupby('DIANOM').Retraso_dummie.mean().sort_values(ascending=False).std()"
   ]
  },
  {
   "cell_type": "code",
   "execution_count": 1212,
   "id": "f0afc255",
   "metadata": {},
   "outputs": [
    {
     "data": {
      "text/plain": [
       "0.6661868080096084"
      ]
     },
     "execution_count": 1212,
     "metadata": {},
     "output_type": "execute_result"
    }
   ],
   "source": [
    "data.groupby('DIANOM').Retraso_dummie.mean().sort_values(ascending=False).mean()"
   ]
  },
  {
   "cell_type": "code",
   "execution_count": 1213,
   "id": "1630e2a6",
   "metadata": {},
   "outputs": [],
   "source": [
    "#Se puede ver que en cuanto a los retrasos por dia de semana, estos se distribuyen de manera similar con una desviación \n",
    "#estandar de 0,03 y una tasa promedio de atraso por mes de un 66%"
   ]
  },
  {
   "cell_type": "code",
   "execution_count": 1214,
   "id": "1002ec53",
   "metadata": {},
   "outputs": [
    {
     "data": {
      "text/plain": [
       "temporada_alta\n",
       "1    0.682455\n",
       "0    0.659833\n",
       "Name: Retraso_dummie, dtype: float64"
      ]
     },
     "execution_count": 1214,
     "metadata": {},
     "output_type": "execute_result"
    }
   ],
   "source": [
    "data.groupby('temporada_alta').Retraso_dummie.mean().sort_values(ascending=False)"
   ]
  },
  {
   "cell_type": "code",
   "execution_count": 1215,
   "id": "a66c93af",
   "metadata": {},
   "outputs": [
    {
     "data": {
      "text/plain": [
       "0.015996204318721632"
      ]
     },
     "execution_count": 1215,
     "metadata": {},
     "output_type": "execute_result"
    }
   ],
   "source": [
    "data.groupby('temporada_alta').Retraso_dummie.mean().sort_values(ascending=False).std()"
   ]
  },
  {
   "cell_type": "code",
   "execution_count": 1216,
   "id": "c6c67cd8",
   "metadata": {},
   "outputs": [
    {
     "data": {
      "text/plain": [
       "0.6711436150459809"
      ]
     },
     "execution_count": 1216,
     "metadata": {},
     "output_type": "execute_result"
    }
   ],
   "source": [
    "data.groupby('temporada_alta').Retraso_dummie.mean().sort_values(ascending=False).mean()"
   ]
  },
  {
   "cell_type": "code",
   "execution_count": 1217,
   "id": "81e101ad",
   "metadata": {},
   "outputs": [
    {
     "data": {
      "text/plain": [
       "TIPOVUELO\n",
       "I    0.678521\n",
       "N    0.657631\n",
       "Name: Retraso_dummie, dtype: float64"
      ]
     },
     "execution_count": 1217,
     "metadata": {},
     "output_type": "execute_result"
    }
   ],
   "source": [
    "data.groupby('TIPOVUELO').Retraso_dummie.mean().sort_values(ascending=False)"
   ]
  },
  {
   "cell_type": "code",
   "execution_count": 1218,
   "id": "93478103",
   "metadata": {},
   "outputs": [
    {
     "data": {
      "text/plain": [
       "0.014771312065009127"
      ]
     },
     "execution_count": 1218,
     "metadata": {},
     "output_type": "execute_result"
    }
   ],
   "source": [
    "data.groupby('TIPOVUELO').Retraso_dummie.mean().sort_values(ascending=False).std()"
   ]
  },
  {
   "cell_type": "code",
   "execution_count": 1219,
   "id": "f34aff4d",
   "metadata": {},
   "outputs": [
    {
     "data": {
      "text/plain": [
       "0.6680762318323727"
      ]
     },
     "execution_count": 1219,
     "metadata": {},
     "output_type": "execute_result"
    }
   ],
   "source": [
    "data.groupby('TIPOVUELO').Retraso_dummie.mean().sort_values(ascending=False).mean()"
   ]
  },
  {
   "cell_type": "code",
   "execution_count": 1063,
   "id": "9422fc6f",
   "metadata": {},
   "outputs": [],
   "source": [
    "#¿Qué variables esperarías que más influyeran en predecir atrasos?\n",
    "#dividiendo por los distintos grupos, todos muestran una tasa de atraso mayor al 50%.\n",
    "#Según la información anterior podemos ver que en general als variables se distribuyen de forma similar en atrasos,\n",
    "# EXCEPTO por el atraso segun destino std=0.2058 y el atraso segun OPERADOR std=0.195, por tanto espero que estas variables influyan\n",
    "#mas a la hora de predecir atrasos ( difieren mucho el atraso segun tipo de operador y destino.)\n",
    "#\n",
    "#c"
   ]
  },
  {
   "cell_type": "code",
   "execution_count": 1253,
   "id": "586c61bb",
   "metadata": {},
   "outputs": [],
   "source": [
    "data.columns"
   ]
  },
  {
   "cell_type": "code",
   "execution_count": 1253,
   "id": "66b3d67e",
   "metadata": {},
   "outputs": [],
   "source": [
    "\n",
    "#synthetic_features= data['atraso_15', 'temporada_alta', 'periodo_dia']\n",
    "#synthetic_features.pd_to_csv()"
   ]
  },
  {
   "cell_type": "code",
   "execution_count": 1253,
   "id": "4ebbcf59",
   "metadata": {},
   "outputs": [
    {
     "data": {
      "text/plain": [
       "Index(['Ori-I', 'DIA', 'MES', 'AÑO', 'DIANOM', 'TIPOVUELO', 'OPERA',\n",
       "       'SIGLADES', 'Cambio_Nvuelo', 'Cambio_destino', 'Cambio_aerolinea',\n",
       "       'dif_min', 'Retraso_dummie', 'atraso_15', 'temporada_alta'],\n",
       "      dtype='object')"
      ]
     },
     "execution_count": 1253,
     "metadata": {},
     "output_type": "execute_result"
    }
   ],
   "source": [
    " synthetic_features.csv"
   ]
  },
  {
   "cell_type": "code",
   "execution_count": 1243,
   "id": "d83a6450",
   "metadata": {},
   "outputs": [],
   "source": [
    "#Ahora voy a pasar las variables a categoricas a dummies\n",
    "# Ori-I para tener el origen del vuelo en dummie, DIANOM, para tener que dia de la semana fue, Tipo de vuelo,\n",
    "#para tener separado que vuelo era, lo mismo con el día del mes, el mes y el año. (podria tener relación con los atrasos)\n",
    "# "
   ]
  },
  {
   "cell_type": "code",
   "execution_count": 1259,
   "id": "d5a794b6",
   "metadata": {},
   "outputs": [],
   "source": [
    "data_ml= pd.get_dummies(data=data, columns= ['Ori-I', 'DIANOM', 'TIPOVUELO','DIA','MES','AÑO','OPERA','SIGLADES'], drop_first= True)"
   ]
  },
  {
   "cell_type": "code",
   "execution_count": 1260,
   "id": "e608c547",
   "metadata": {},
   "outputs": [
    {
     "data": {
      "text/html": [
       "<div>\n",
       "<style scoped>\n",
       "    .dataframe tbody tr th:only-of-type {\n",
       "        vertical-align: middle;\n",
       "    }\n",
       "\n",
       "    .dataframe tbody tr th {\n",
       "        vertical-align: top;\n",
       "    }\n",
       "\n",
       "    .dataframe thead th {\n",
       "        text-align: right;\n",
       "    }\n",
       "</style>\n",
       "<table border=\"1\" class=\"dataframe\">\n",
       "  <thead>\n",
       "    <tr style=\"text-align: right;\">\n",
       "      <th></th>\n",
       "      <th>Cambio_Nvuelo</th>\n",
       "      <th>Cambio_destino</th>\n",
       "      <th>Cambio_aerolinea</th>\n",
       "      <th>dif_min</th>\n",
       "      <th>Retraso_dummie</th>\n",
       "      <th>atraso_15</th>\n",
       "      <th>temporada_alta</th>\n",
       "      <th>DIANOM_Jueves</th>\n",
       "      <th>DIANOM_Lunes</th>\n",
       "      <th>DIANOM_Martes</th>\n",
       "      <th>...</th>\n",
       "      <th>SIGLADES_San Juan, Arg.</th>\n",
       "      <th>SIGLADES_Santa Cruz</th>\n",
       "      <th>SIGLADES_Sao Paulo</th>\n",
       "      <th>SIGLADES_Sydney</th>\n",
       "      <th>SIGLADES_Temuco</th>\n",
       "      <th>SIGLADES_Toronto</th>\n",
       "      <th>SIGLADES_Tucuman</th>\n",
       "      <th>SIGLADES_Ushuia</th>\n",
       "      <th>SIGLADES_Valdivia</th>\n",
       "      <th>SIGLADES_Washington</th>\n",
       "    </tr>\n",
       "  </thead>\n",
       "  <tbody>\n",
       "    <tr>\n",
       "      <th>59712</th>\n",
       "      <td>0</td>\n",
       "      <td>0</td>\n",
       "      <td>1</td>\n",
       "      <td>-2.0</td>\n",
       "      <td>0</td>\n",
       "      <td>0</td>\n",
       "      <td>0</td>\n",
       "      <td>0</td>\n",
       "      <td>0</td>\n",
       "      <td>0</td>\n",
       "      <td>...</td>\n",
       "      <td>0</td>\n",
       "      <td>0</td>\n",
       "      <td>0</td>\n",
       "      <td>0</td>\n",
       "      <td>0</td>\n",
       "      <td>0</td>\n",
       "      <td>0</td>\n",
       "      <td>0</td>\n",
       "      <td>0</td>\n",
       "      <td>0</td>\n",
       "    </tr>\n",
       "    <tr>\n",
       "      <th>62383</th>\n",
       "      <td>0</td>\n",
       "      <td>0</td>\n",
       "      <td>0</td>\n",
       "      <td>-5.0</td>\n",
       "      <td>0</td>\n",
       "      <td>0</td>\n",
       "      <td>1</td>\n",
       "      <td>1</td>\n",
       "      <td>0</td>\n",
       "      <td>0</td>\n",
       "      <td>...</td>\n",
       "      <td>0</td>\n",
       "      <td>0</td>\n",
       "      <td>0</td>\n",
       "      <td>0</td>\n",
       "      <td>0</td>\n",
       "      <td>0</td>\n",
       "      <td>0</td>\n",
       "      <td>0</td>\n",
       "      <td>0</td>\n",
       "      <td>0</td>\n",
       "    </tr>\n",
       "    <tr>\n",
       "      <th>58707</th>\n",
       "      <td>0</td>\n",
       "      <td>0</td>\n",
       "      <td>0</td>\n",
       "      <td>3.0</td>\n",
       "      <td>1</td>\n",
       "      <td>0</td>\n",
       "      <td>0</td>\n",
       "      <td>1</td>\n",
       "      <td>0</td>\n",
       "      <td>0</td>\n",
       "      <td>...</td>\n",
       "      <td>0</td>\n",
       "      <td>0</td>\n",
       "      <td>0</td>\n",
       "      <td>0</td>\n",
       "      <td>0</td>\n",
       "      <td>0</td>\n",
       "      <td>0</td>\n",
       "      <td>0</td>\n",
       "      <td>0</td>\n",
       "      <td>0</td>\n",
       "    </tr>\n",
       "    <tr>\n",
       "      <th>15125</th>\n",
       "      <td>0</td>\n",
       "      <td>0</td>\n",
       "      <td>1</td>\n",
       "      <td>-6.0</td>\n",
       "      <td>0</td>\n",
       "      <td>0</td>\n",
       "      <td>0</td>\n",
       "      <td>0</td>\n",
       "      <td>0</td>\n",
       "      <td>1</td>\n",
       "      <td>...</td>\n",
       "      <td>0</td>\n",
       "      <td>0</td>\n",
       "      <td>0</td>\n",
       "      <td>0</td>\n",
       "      <td>0</td>\n",
       "      <td>0</td>\n",
       "      <td>0</td>\n",
       "      <td>0</td>\n",
       "      <td>0</td>\n",
       "      <td>0</td>\n",
       "    </tr>\n",
       "    <tr>\n",
       "      <th>1553</th>\n",
       "      <td>0</td>\n",
       "      <td>0</td>\n",
       "      <td>0</td>\n",
       "      <td>2.0</td>\n",
       "      <td>1</td>\n",
       "      <td>0</td>\n",
       "      <td>1</td>\n",
       "      <td>0</td>\n",
       "      <td>0</td>\n",
       "      <td>1</td>\n",
       "      <td>...</td>\n",
       "      <td>0</td>\n",
       "      <td>0</td>\n",
       "      <td>0</td>\n",
       "      <td>0</td>\n",
       "      <td>1</td>\n",
       "      <td>0</td>\n",
       "      <td>0</td>\n",
       "      <td>0</td>\n",
       "      <td>0</td>\n",
       "      <td>0</td>\n",
       "    </tr>\n",
       "  </tbody>\n",
       "</table>\n",
       "<p>5 rows × 139 columns</p>\n",
       "</div>"
      ],
      "text/plain": [
       "       Cambio_Nvuelo  Cambio_destino  Cambio_aerolinea  dif_min  \\\n",
       "59712              0               0                 1     -2.0   \n",
       "62383              0               0                 0     -5.0   \n",
       "58707              0               0                 0      3.0   \n",
       "15125              0               0                 1     -6.0   \n",
       "1553               0               0                 0      2.0   \n",
       "\n",
       "       Retraso_dummie  atraso_15  temporada_alta  DIANOM_Jueves  DIANOM_Lunes  \\\n",
       "59712               0          0               0              0             0   \n",
       "62383               0          0               1              1             0   \n",
       "58707               1          0               0              1             0   \n",
       "15125               0          0               0              0             0   \n",
       "1553                1          0               1              0             0   \n",
       "\n",
       "       DIANOM_Martes  ...  SIGLADES_San Juan, Arg.  SIGLADES_Santa Cruz  \\\n",
       "59712              0  ...                        0                    0   \n",
       "62383              0  ...                        0                    0   \n",
       "58707              0  ...                        0                    0   \n",
       "15125              1  ...                        0                    0   \n",
       "1553               1  ...                        0                    0   \n",
       "\n",
       "       SIGLADES_Sao Paulo  SIGLADES_Sydney  SIGLADES_Temuco  SIGLADES_Toronto  \\\n",
       "59712                   0                0                0                 0   \n",
       "62383                   0                0                0                 0   \n",
       "58707                   0                0                0                 0   \n",
       "15125                   0                0                0                 0   \n",
       "1553                    0                0                1                 0   \n",
       "\n",
       "       SIGLADES_Tucuman  SIGLADES_Ushuia  SIGLADES_Valdivia  \\\n",
       "59712                 0                0                  0   \n",
       "62383                 0                0                  0   \n",
       "58707                 0                0                  0   \n",
       "15125                 0                0                  0   \n",
       "1553                  0                0                  0   \n",
       "\n",
       "       SIGLADES_Washington  \n",
       "59712                    0  \n",
       "62383                    0  \n",
       "58707                    0  \n",
       "15125                    0  \n",
       "1553                     0  \n",
       "\n",
       "[5 rows x 139 columns]"
      ]
     },
     "execution_count": 1260,
     "metadata": {},
     "output_type": "execute_result"
    }
   ],
   "source": [
    "data_ml.sample(5)"
   ]
  },
  {
   "cell_type": "code",
   "execution_count": null,
   "id": "e5b5859b",
   "metadata": {},
   "outputs": [],
   "source": []
  },
  {
   "cell_type": "code",
   "execution_count": 1262,
   "id": "27c3525a",
   "metadata": {},
   "outputs": [],
   "source": [
    "import matplotlib.pyplot as plt\n",
    "import seaborn as sns\n",
    "%matplotlib inline"
   ]
  },
  {
   "cell_type": "code",
   "execution_count": 1263,
   "id": "6c2420cb",
   "metadata": {},
   "outputs": [],
   "source": [
    "#Grafico las correlaciones de las variables con el target"
   ]
  },
  {
   "cell_type": "code",
   "execution_count": 1264,
   "id": "29888b17",
   "metadata": {},
   "outputs": [
    {
     "data": {
      "text/plain": [
       "<AxesSubplot:>"
      ]
     },
     "execution_count": 1264,
     "metadata": {},
     "output_type": "execute_result"
    },
    {
     "data": {
      "image/png": "[encoded data removed]",
      "text/plain": [
       "<Figure size 1080x2160 with 2 Axes>"
      ]
     },
     "metadata": {
      "needs_background": "light"
     },
     "output_type": "display_data"
    }
   ],
   "source": [
    "plt.figure(figsize=(15,30))\n",
    "sns.heatmap(data_ml.corr()[['Retraso_dummie']], annot=True)"
   ]
  },
  {
   "cell_type": "code",
   "execution_count": null,
   "id": "f61f550d",
   "metadata": {},
   "outputs": [],
   "source": []
  },
  {
   "cell_type": "code",
   "execution_count": null,
   "id": "ba605dea",
   "metadata": {},
   "outputs": [],
   "source": []
  },
  {
   "cell_type": "code",
   "execution_count": 1265,
   "id": "925ce95f",
   "metadata": {},
   "outputs": [
    {
     "data": {
      "text/plain": [
       "Index(['Cambio_Nvuelo', 'Cambio_destino', 'Cambio_aerolinea', 'dif_min',\n",
       "       'Retraso_dummie', 'atraso_15', 'temporada_alta', 'DIANOM_Jueves',\n",
       "       'DIANOM_Lunes', 'DIANOM_Martes',\n",
       "       ...\n",
       "       'SIGLADES_San Juan, Arg.', 'SIGLADES_Santa Cruz', 'SIGLADES_Sao Paulo',\n",
       "       'SIGLADES_Sydney', 'SIGLADES_Temuco', 'SIGLADES_Toronto',\n",
       "       'SIGLADES_Tucuman', 'SIGLADES_Ushuia', 'SIGLADES_Valdivia',\n",
       "       'SIGLADES_Washington'],\n",
       "      dtype='object', length=139)"
      ]
     },
     "execution_count": 1265,
     "metadata": {},
     "output_type": "execute_result"
    }
   ],
   "source": [
    "data_ml.columns"
   ]
  },
  {
   "cell_type": "code",
   "execution_count": 1266,
   "id": "76f0079a",
   "metadata": {},
   "outputs": [
    {
     "data": {
      "text/html": [
       "<div>\n",
       "<style scoped>\n",
       "    .dataframe tbody tr th:only-of-type {\n",
       "        vertical-align: middle;\n",
       "    }\n",
       "\n",
       "    .dataframe tbody tr th {\n",
       "        vertical-align: top;\n",
       "    }\n",
       "\n",
       "    .dataframe thead th {\n",
       "        text-align: right;\n",
       "    }\n",
       "</style>\n",
       "<table border=\"1\" class=\"dataframe\">\n",
       "  <thead>\n",
       "    <tr style=\"text-align: right;\">\n",
       "      <th></th>\n",
       "      <th>Cambio_Nvuelo</th>\n",
       "      <th>Cambio_destino</th>\n",
       "      <th>Cambio_aerolinea</th>\n",
       "      <th>dif_min</th>\n",
       "      <th>Retraso_dummie</th>\n",
       "      <th>atraso_15</th>\n",
       "      <th>temporada_alta</th>\n",
       "      <th>DIANOM_Jueves</th>\n",
       "      <th>DIANOM_Lunes</th>\n",
       "      <th>DIANOM_Martes</th>\n",
       "      <th>...</th>\n",
       "      <th>SIGLADES_San Juan, Arg.</th>\n",
       "      <th>SIGLADES_Santa Cruz</th>\n",
       "      <th>SIGLADES_Sao Paulo</th>\n",
       "      <th>SIGLADES_Sydney</th>\n",
       "      <th>SIGLADES_Temuco</th>\n",
       "      <th>SIGLADES_Toronto</th>\n",
       "      <th>SIGLADES_Tucuman</th>\n",
       "      <th>SIGLADES_Ushuia</th>\n",
       "      <th>SIGLADES_Valdivia</th>\n",
       "      <th>SIGLADES_Washington</th>\n",
       "    </tr>\n",
       "  </thead>\n",
       "  <tbody>\n",
       "    <tr>\n",
       "      <th>count</th>\n",
       "      <td>68206.000000</td>\n",
       "      <td>68206.000000</td>\n",
       "      <td>68206.000000</td>\n",
       "      <td>68206.000000</td>\n",
       "      <td>68206.000000</td>\n",
       "      <td>68206.000000</td>\n",
       "      <td>68206.000000</td>\n",
       "      <td>68206.000000</td>\n",
       "      <td>68206.000000</td>\n",
       "      <td>68206.000000</td>\n",
       "      <td>...</td>\n",
       "      <td>68206.000000</td>\n",
       "      <td>68206.000000</td>\n",
       "      <td>68206.000000</td>\n",
       "      <td>68206.000000</td>\n",
       "      <td>68206.000000</td>\n",
       "      <td>68206.000000</td>\n",
       "      <td>68206.000000</td>\n",
       "      <td>68206.000000</td>\n",
       "      <td>68206.000000</td>\n",
       "      <td>68206.000000</td>\n",
       "    </tr>\n",
       "    <tr>\n",
       "      <th>mean</th>\n",
       "      <td>0.027124</td>\n",
       "      <td>0.000411</td>\n",
       "      <td>0.273715</td>\n",
       "      <td>9.110855</td>\n",
       "      <td>0.667199</td>\n",
       "      <td>0.184940</td>\n",
       "      <td>0.325646</td>\n",
       "      <td>0.150295</td>\n",
       "      <td>0.148535</td>\n",
       "      <td>0.141659</td>\n",
       "      <td>...</td>\n",
       "      <td>0.000513</td>\n",
       "      <td>0.001759</td>\n",
       "      <td>0.052327</td>\n",
       "      <td>0.002844</td>\n",
       "      <td>0.037959</td>\n",
       "      <td>0.004149</td>\n",
       "      <td>0.000557</td>\n",
       "      <td>0.000088</td>\n",
       "      <td>0.011040</td>\n",
       "      <td>0.000015</td>\n",
       "    </tr>\n",
       "    <tr>\n",
       "      <th>std</th>\n",
       "      <td>0.162445</td>\n",
       "      <td>0.020257</td>\n",
       "      <td>0.445868</td>\n",
       "      <td>19.313387</td>\n",
       "      <td>0.471219</td>\n",
       "      <td>0.388252</td>\n",
       "      <td>0.468619</td>\n",
       "      <td>0.357363</td>\n",
       "      <td>0.355632</td>\n",
       "      <td>0.348703</td>\n",
       "      <td>...</td>\n",
       "      <td>0.022647</td>\n",
       "      <td>0.041908</td>\n",
       "      <td>0.222687</td>\n",
       "      <td>0.053257</td>\n",
       "      <td>0.191097</td>\n",
       "      <td>0.064281</td>\n",
       "      <td>0.023597</td>\n",
       "      <td>0.009379</td>\n",
       "      <td>0.104491</td>\n",
       "      <td>0.003829</td>\n",
       "    </tr>\n",
       "    <tr>\n",
       "      <th>min</th>\n",
       "      <td>0.000000</td>\n",
       "      <td>0.000000</td>\n",
       "      <td>0.000000</td>\n",
       "      <td>-14.000000</td>\n",
       "      <td>0.000000</td>\n",
       "      <td>0.000000</td>\n",
       "      <td>0.000000</td>\n",
       "      <td>0.000000</td>\n",
       "      <td>0.000000</td>\n",
       "      <td>0.000000</td>\n",
       "      <td>...</td>\n",
       "      <td>0.000000</td>\n",
       "      <td>0.000000</td>\n",
       "      <td>0.000000</td>\n",
       "      <td>0.000000</td>\n",
       "      <td>0.000000</td>\n",
       "      <td>0.000000</td>\n",
       "      <td>0.000000</td>\n",
       "      <td>0.000000</td>\n",
       "      <td>0.000000</td>\n",
       "      <td>0.000000</td>\n",
       "    </tr>\n",
       "    <tr>\n",
       "      <th>25%</th>\n",
       "      <td>0.000000</td>\n",
       "      <td>0.000000</td>\n",
       "      <td>0.000000</td>\n",
       "      <td>-1.000000</td>\n",
       "      <td>0.000000</td>\n",
       "      <td>0.000000</td>\n",
       "      <td>0.000000</td>\n",
       "      <td>0.000000</td>\n",
       "      <td>0.000000</td>\n",
       "      <td>0.000000</td>\n",
       "      <td>...</td>\n",
       "      <td>0.000000</td>\n",
       "      <td>0.000000</td>\n",
       "      <td>0.000000</td>\n",
       "      <td>0.000000</td>\n",
       "      <td>0.000000</td>\n",
       "      <td>0.000000</td>\n",
       "      <td>0.000000</td>\n",
       "      <td>0.000000</td>\n",
       "      <td>0.000000</td>\n",
       "      <td>0.000000</td>\n",
       "    </tr>\n",
       "    <tr>\n",
       "      <th>50%</th>\n",
       "      <td>0.000000</td>\n",
       "      <td>0.000000</td>\n",
       "      <td>0.000000</td>\n",
       "      <td>4.000000</td>\n",
       "      <td>1.000000</td>\n",
       "      <td>0.000000</td>\n",
       "      <td>0.000000</td>\n",
       "      <td>0.000000</td>\n",
       "      <td>0.000000</td>\n",
       "      <td>0.000000</td>\n",
       "      <td>...</td>\n",
       "      <td>0.000000</td>\n",
       "      <td>0.000000</td>\n",
       "      <td>0.000000</td>\n",
       "      <td>0.000000</td>\n",
       "      <td>0.000000</td>\n",
       "      <td>0.000000</td>\n",
       "      <td>0.000000</td>\n",
       "      <td>0.000000</td>\n",
       "      <td>0.000000</td>\n",
       "      <td>0.000000</td>\n",
       "    </tr>\n",
       "    <tr>\n",
       "      <th>75%</th>\n",
       "      <td>0.000000</td>\n",
       "      <td>0.000000</td>\n",
       "      <td>1.000000</td>\n",
       "      <td>12.000000</td>\n",
       "      <td>1.000000</td>\n",
       "      <td>0.000000</td>\n",
       "      <td>1.000000</td>\n",
       "      <td>0.000000</td>\n",
       "      <td>0.000000</td>\n",
       "      <td>0.000000</td>\n",
       "      <td>...</td>\n",
       "      <td>0.000000</td>\n",
       "      <td>0.000000</td>\n",
       "      <td>0.000000</td>\n",
       "      <td>0.000000</td>\n",
       "      <td>0.000000</td>\n",
       "      <td>0.000000</td>\n",
       "      <td>0.000000</td>\n",
       "      <td>0.000000</td>\n",
       "      <td>0.000000</td>\n",
       "      <td>0.000000</td>\n",
       "    </tr>\n",
       "    <tr>\n",
       "      <th>max</th>\n",
       "      <td>1.000000</td>\n",
       "      <td>1.000000</td>\n",
       "      <td>1.000000</td>\n",
       "      <td>161.000000</td>\n",
       "      <td>1.000000</td>\n",
       "      <td>1.000000</td>\n",
       "      <td>1.000000</td>\n",
       "      <td>1.000000</td>\n",
       "      <td>1.000000</td>\n",
       "      <td>1.000000</td>\n",
       "      <td>...</td>\n",
       "      <td>1.000000</td>\n",
       "      <td>1.000000</td>\n",
       "      <td>1.000000</td>\n",
       "      <td>1.000000</td>\n",
       "      <td>1.000000</td>\n",
       "      <td>1.000000</td>\n",
       "      <td>1.000000</td>\n",
       "      <td>1.000000</td>\n",
       "      <td>1.000000</td>\n",
       "      <td>1.000000</td>\n",
       "    </tr>\n",
       "  </tbody>\n",
       "</table>\n",
       "<p>8 rows × 139 columns</p>\n",
       "</div>"
      ],
      "text/plain": [
       "       Cambio_Nvuelo  Cambio_destino  Cambio_aerolinea       dif_min  \\\n",
       "count   68206.000000    68206.000000      68206.000000  68206.000000   \n",
       "mean        0.027124        0.000411          0.273715      9.110855   \n",
       "std         0.162445        0.020257          0.445868     19.313387   \n",
       "min         0.000000        0.000000          0.000000    -14.000000   \n",
       "25%         0.000000        0.000000          0.000000     -1.000000   \n",
       "50%         0.000000        0.000000          0.000000      4.000000   \n",
       "75%         0.000000        0.000000          1.000000     12.000000   \n",
       "max         1.000000        1.000000          1.000000    161.000000   \n",
       "\n",
       "       Retraso_dummie     atraso_15  temporada_alta  DIANOM_Jueves  \\\n",
       "count    68206.000000  68206.000000    68206.000000   68206.000000   \n",
       "mean         0.667199      0.184940        0.325646       0.150295   \n",
       "std          0.471219      0.388252        0.468619       0.357363   \n",
       "min          0.000000      0.000000        0.000000       0.000000   \n",
       "25%          0.000000      0.000000        0.000000       0.000000   \n",
       "50%          1.000000      0.000000        0.000000       0.000000   \n",
       "75%          1.000000      0.000000        1.000000       0.000000   \n",
       "max          1.000000      1.000000        1.000000       1.000000   \n",
       "\n",
       "       DIANOM_Lunes  DIANOM_Martes  ...  SIGLADES_San Juan, Arg.  \\\n",
       "count  68206.000000   68206.000000  ...             68206.000000   \n",
       "mean       0.148535       0.141659  ...                 0.000513   \n",
       "std        0.355632       0.348703  ...                 0.022647   \n",
       "min        0.000000       0.000000  ...                 0.000000   \n",
       "25%        0.000000       0.000000  ...                 0.000000   \n",
       "50%        0.000000       0.000000  ...                 0.000000   \n",
       "75%        0.000000       0.000000  ...                 0.000000   \n",
       "max        1.000000       1.000000  ...                 1.000000   \n",
       "\n",
       "       SIGLADES_Santa Cruz  SIGLADES_Sao Paulo  SIGLADES_Sydney  \\\n",
       "count         68206.000000        68206.000000     68206.000000   \n",
       "mean              0.001759            0.052327         0.002844   \n",
       "std               0.041908            0.222687         0.053257   \n",
       "min               0.000000            0.000000         0.000000   \n",
       "25%               0.000000            0.000000         0.000000   \n",
       "50%               0.000000            0.000000         0.000000   \n",
       "75%               0.000000            0.000000         0.000000   \n",
       "max               1.000000            1.000000         1.000000   \n",
       "\n",
       "       SIGLADES_Temuco  SIGLADES_Toronto  SIGLADES_Tucuman  SIGLADES_Ushuia  \\\n",
       "count     68206.000000      68206.000000      68206.000000     68206.000000   \n",
       "mean          0.037959          0.004149          0.000557         0.000088   \n",
       "std           0.191097          0.064281          0.023597         0.009379   \n",
       "min           0.000000          0.000000          0.000000         0.000000   \n",
       "25%           0.000000          0.000000          0.000000         0.000000   \n",
       "50%           0.000000          0.000000          0.000000         0.000000   \n",
       "75%           0.000000          0.000000          0.000000         0.000000   \n",
       "max           1.000000          1.000000          1.000000         1.000000   \n",
       "\n",
       "       SIGLADES_Valdivia  SIGLADES_Washington  \n",
       "count       68206.000000         68206.000000  \n",
       "mean            0.011040             0.000015  \n",
       "std             0.104491             0.003829  \n",
       "min             0.000000             0.000000  \n",
       "25%             0.000000             0.000000  \n",
       "50%             0.000000             0.000000  \n",
       "75%             0.000000             0.000000  \n",
       "max             1.000000             1.000000  \n",
       "\n",
       "[8 rows x 139 columns]"
      ]
     },
     "execution_count": 1266,
     "metadata": {},
     "output_type": "execute_result"
    }
   ],
   "source": [
    "data_ml.describe()"
   ]
  },
  {
   "cell_type": "code",
   "execution_count": null,
   "id": "697cf5d4",
   "metadata": {},
   "outputs": [],
   "source": []
  },
  {
   "cell_type": "code",
   "execution_count": null,
   "id": "1b81ada4",
   "metadata": {},
   "outputs": [],
   "source": []
  },
  {
   "cell_type": "code",
   "execution_count": null,
   "id": "62ebd600",
   "metadata": {},
   "outputs": [],
   "source": []
  },
  {
   "cell_type": "code",
   "execution_count": null,
   "id": "76df7c8e",
   "metadata": {},
   "outputs": [],
   "source": []
  },
  {
   "cell_type": "code",
   "execution_count": null,
   "id": "780b6a29",
   "metadata": {},
   "outputs": [],
   "source": []
  },
  {
   "cell_type": "code",
   "execution_count": null,
   "id": "3f99e3a0",
   "metadata": {},
   "outputs": [],
   "source": []
  },
  {
   "cell_type": "code",
   "execution_count": 1005,
   "id": "a687aba2",
   "metadata": {},
   "outputs": [],
   "source": [
    "#  para poder predecir, tengo que sacar las variables que dicen que ya esta atrasado,\n",
    "#dropear: dif_min y atraso_15"
   ]
  },
  {
   "cell_type": "code",
   "execution_count": 1267,
   "id": "2b8ca888",
   "metadata": {},
   "outputs": [],
   "source": [
    "data_ml= data_ml.drop(columns=['dif_min','atraso_15'])"
   ]
  },
  {
   "cell_type": "code",
   "execution_count": 1268,
   "id": "99703014",
   "metadata": {},
   "outputs": [
    {
     "data": {
      "text/plain": [
       "(68206, 137)"
      ]
     },
     "execution_count": 1268,
     "metadata": {},
     "output_type": "execute_result"
    }
   ],
   "source": [
    "data_ml.columns\n",
    "data_ml.shape"
   ]
  },
  {
   "cell_type": "code",
   "execution_count": null,
   "id": "a47e2d89",
   "metadata": {},
   "outputs": [],
   "source": []
  },
  {
   "cell_type": "code",
   "execution_count": null,
   "id": "0ad7f732",
   "metadata": {},
   "outputs": [],
   "source": [
    "data_ml.pd_to_csv()"
   ]
  },
  {
   "cell_type": "code",
   "execution_count": 1269,
   "id": "1a146e71",
   "metadata": {},
   "outputs": [],
   "source": [
    "#Creo modelo"
   ]
  },
  {
   "cell_type": "code",
   "execution_count": 1270,
   "id": "62058df9",
   "metadata": {},
   "outputs": [],
   "source": [
    "X = data_ml.drop(columns=['Retraso_dummie'])\n",
    "y = data_ml['Retraso_dummie']"
   ]
  },
  {
   "cell_type": "code",
   "execution_count": 1271,
   "id": "cc27a071",
   "metadata": {},
   "outputs": [
    {
     "data": {
      "text/plain": [
       "0        1\n",
       "1        1\n",
       "2        1\n",
       "3        1\n",
       "4        0\n",
       "        ..\n",
       "68201    1\n",
       "68202    1\n",
       "68203    1\n",
       "68204    1\n",
       "68205    1\n",
       "Name: Retraso_dummie, Length: 68206, dtype: int32"
      ]
     },
     "execution_count": 1271,
     "metadata": {},
     "output_type": "execute_result"
    }
   ],
   "source": [
    "y"
   ]
  },
  {
   "cell_type": "code",
   "execution_count": null,
   "id": "e112939b",
   "metadata": {},
   "outputs": [],
   "source": []
  },
  {
   "cell_type": "code",
   "execution_count": 1272,
   "id": "b2ac0169",
   "metadata": {},
   "outputs": [],
   "source": [
    "# Separamos un set de testeo para evaluar el modelo\n",
    "from sklearn.model_selection import train_test_split\n",
    "X_train, X_test, y_train, y_test = train_test_split(X, y, random_state = 123)"
   ]
  },
  {
   "cell_type": "code",
   "execution_count": 1273,
   "id": "3a406ec3",
   "metadata": {},
   "outputs": [
    {
     "data": {
      "text/plain": [
       "(0.6675137819134379, 0.666256157635468)"
      ]
     },
     "execution_count": 1273,
     "metadata": {},
     "output_type": "execute_result"
    }
   ],
   "source": [
    "# Verificamos que coincidan las proporciones del target\n",
    "y_train.mean(), y_test.mean()"
   ]
  },
  {
   "cell_type": "code",
   "execution_count": 1274,
   "id": "ea535ec2",
   "metadata": {},
   "outputs": [],
   "source": [
    "# Estandarizamos los datos para que la regularización sea correcta\n",
    "from sklearn.preprocessing import StandardScaler\n",
    "scaler = StandardScaler()\n",
    "X_train_std = scaler.fit_transform(X_train)\n",
    "X_test_std = scaler.transform(X_test)\n"
   ]
  },
  {
   "cell_type": "code",
   "execution_count": 1275,
   "id": "06c209db",
   "metadata": {},
   "outputs": [
    {
     "data": {
      "text/plain": [
       "LogisticRegression()"
      ]
     },
     "execution_count": 1275,
     "metadata": {},
     "output_type": "execute_result"
    }
   ],
   "source": [
    "from sklearn.linear_model import LogisticRegression\n",
    "lr = LogisticRegression()\n",
    "lr.fit(X_train_std, y_train)"
   ]
  },
  {
   "cell_type": "code",
   "execution_count": 1276,
   "id": "c29e0d51",
   "metadata": {},
   "outputs": [
    {
     "name": "stdout",
     "output_type": "stream",
     "text": [
      "[[ 4.05299447e-02  2.95913494e-03 -7.22858699e-03  4.59571404e-03\n",
      "   1.02532685e-01  8.20025342e-02  2.28132263e-02  4.18666907e-02\n",
      "   1.39641413e-02  1.44758297e-01 -2.08723464e-01 -3.19835798e-02\n",
      "  -1.44803141e-03  1.84252312e-02  1.29935158e-03  3.39493970e-03\n",
      "   1.65624162e-03 -8.89762932e-03 -1.02763945e-02  3.40584742e-02\n",
      "   4.62595153e-02  2.01953755e-02 -3.78050994e-04  1.04450940e-02\n",
      "   1.58526914e-02  2.36063764e-02  2.05574266e-03  9.52897170e-03\n",
      "   3.26956706e-03  2.23100087e-03  2.28906014e-03  9.27372979e-03\n",
      "  -6.39954956e-03  3.57793224e-03 -7.33951234e-03  8.36670576e-03\n",
      "  -5.16971376e-03 -2.76008680e-02  8.05178318e-03 -1.40976879e-02\n",
      "  -3.52490165e-02 -1.13941659e-02 -9.62170821e-02 -6.70396970e-02\n",
      "  -1.33143784e-02 -3.92074236e-03  1.74140555e-01  7.12128804e-03\n",
      "  -9.77137002e-03  9.73961266e-02  5.93265703e-02  1.30314510e-01\n",
      "   6.82216382e-02 -5.91696913e-02  1.61056193e-01 -2.57212694e-03\n",
      "   1.92962089e-02 -1.15592797e-01 -7.85086209e-03  5.66739037e-02\n",
      "   1.48849198e-02 -2.85938922e-02 -2.20310473e-02  3.77175931e-02\n",
      "   5.87358248e-01  2.78946678e-02  7.94111476e-02 -5.56010386e-02\n",
      "  -1.92079274e-03  2.00701128e-01 -8.87509608e-03  3.90969896e-02\n",
      "   1.11408448e-01  2.31850902e-01 -4.49450966e-02  3.72831376e-02\n",
      "   2.76279253e-02 -2.20310473e-02  5.84128130e-02  6.65633934e-02\n",
      "   6.58861104e-02  1.69895461e-02  1.51046334e-01 -2.44132373e-02\n",
      "   3.68458700e-03 -7.19259391e-03 -7.49265123e-03 -3.50691044e-02\n",
      "  -2.85938922e-02  4.74033266e-02  8.08904363e-03  5.15607941e-02\n",
      "   1.27085003e-01 -8.21995848e-03  6.86241697e-03 -2.92873431e-03\n",
      "  -1.83776818e-02 -4.19946564e-02  1.19968189e-01  6.83307874e-02\n",
      "   1.26614643e-02  2.06678787e-02  7.38785189e-03  1.48849198e-02\n",
      "   2.22284727e-02  1.63529314e-02  3.34186825e-02  4.95966150e-02\n",
      "   5.83158816e-02  6.81743889e-02 -1.83978590e-02  2.24941392e-02\n",
      "  -4.79767705e-03  2.91978012e-02 -2.57212694e-03  0.00000000e+00\n",
      "   1.49788930e-01 -5.95891730e-03  4.65921004e-02  1.56033406e-01\n",
      "   3.10458703e-02 -1.78186782e-02  4.79223611e-02  4.02397171e-02\n",
      "   1.92962089e-02  7.64582490e-02 -9.05168263e-03  4.74892262e-02\n",
      "   2.97486306e-02  2.87600347e-02  9.72697033e-02 -5.23343032e-02\n",
      "  -1.87169433e-02  9.41802041e-02  2.20711078e-02 -4.77664416e-02]]\n",
      "[0.7676033]\n"
     ]
    }
   ],
   "source": [
    "\n",
    "# Y visualizamos los coeficientes\n",
    "print(lr.coef_)\n",
    "print(lr.intercept_)"
   ]
  },
  {
   "cell_type": "code",
   "execution_count": 1277,
   "id": "323b4b92",
   "metadata": {},
   "outputs": [],
   "source": [
    "y_train_pred = lr.predict(X_train_std)\n",
    "y_test_pred = lr.predict(X_test_std) # Notar que debemos escalar los datos de testeo antes de realizar predicciones"
   ]
  },
  {
   "cell_type": "code",
   "execution_count": 1278,
   "id": "8bae9907",
   "metadata": {},
   "outputs": [
    {
     "data": {
      "image/png": "[encoded data removed]",
      "text/plain": [
       "<Figure size 432x288 with 2 Axes>"
      ]
     },
     "metadata": {
      "needs_background": "light"
     },
     "output_type": "display_data"
    }
   ],
   "source": [
    "# Elaboramos la matriz de confusión\n",
    "from sklearn.metrics import confusion_matrix\n",
    "confusion_matrix(y_test, y_test_pred)\n",
    "sns.heatmap(confusion_matrix(y_test, y_test_pred), annot=True)\n",
    "plt.ylabel('Verdaderos')\n",
    "plt.xlabel('Predichos');"
   ]
  },
  {
   "cell_type": "code",
   "execution_count": 1279,
   "id": "7432e037",
   "metadata": {},
   "outputs": [
    {
     "data": {
      "text/plain": [
       "0.6922355148956134"
      ]
     },
     "execution_count": 1279,
     "metadata": {},
     "output_type": "execute_result"
    }
   ],
   "source": [
    "from sklearn.metrics import accuracy_score\n",
    "accuracy_score(y_test, y_test_pred)"
   ]
  },
  {
   "cell_type": "code",
   "execution_count": 1280,
   "id": "9c324b7b",
   "metadata": {},
   "outputs": [],
   "source": [
    "#Modelo Naive Bayes"
   ]
  },
  {
   "cell_type": "code",
   "execution_count": null,
   "id": "e70bc82d",
   "metadata": {},
   "outputs": [],
   "source": []
  },
  {
   "cell_type": "code",
   "execution_count": 1284,
   "id": "8777c0b6",
   "metadata": {},
   "outputs": [
    {
     "data": {
      "text/plain": [
       "GaussianNB()"
      ]
     },
     "execution_count": 1284,
     "metadata": {},
     "output_type": "execute_result"
    }
   ],
   "source": [
    "\n",
    "\n",
    "\n",
    "\n",
    "from sklearn.naive_bayes import GaussianNB\n",
    "\n",
    "gnb = GaussianNB()\n",
    "\n",
    "gnb.fit(X_train, y_train)"
   ]
  },
  {
   "cell_type": "code",
   "execution_count": 1286,
   "id": "11d235db",
   "metadata": {},
   "outputs": [],
   "source": [
    "Y_pred_GNB = gnb.predict(X_test)\n"
   ]
  },
  {
   "cell_type": "code",
   "execution_count": 1288,
   "id": "3ec2ab64",
   "metadata": {},
   "outputs": [
    {
     "data": {
      "text/plain": [
       "0.38"
      ]
     },
     "execution_count": 1288,
     "metadata": {},
     "output_type": "execute_result"
    }
   ],
   "source": [
    "round(accuracy_score(y_test, Y_pred_GNB), 2)"
   ]
  },
  {
   "cell_type": "code",
   "execution_count": 1289,
   "id": "3e63691d",
   "metadata": {},
   "outputs": [
    {
     "data": {
      "image/png": "[encoded data removed]",
      "text/plain": [
       "<Figure size 432x288 with 2 Axes>"
      ]
     },
     "metadata": {
      "needs_background": "light"
     },
     "output_type": "display_data"
    }
   ],
   "source": [
    "confusion_matrix(y_test, y_test_pred)\n",
    "sns.heatmap(confusion_matrix(y_test, y_test_pred), annot=True)\n",
    "plt.ylabel('Verdaderos')\n",
    "plt.xlabel('Predichos');"
   ]
  },
  {
   "cell_type": "code",
   "execution_count": null,
   "id": "fea8dc58",
   "metadata": {},
   "outputs": [],
   "source": []
  },
  {
   "cell_type": "code",
   "execution_count": null,
   "id": "3d5cd372",
   "metadata": {},
   "outputs": [],
   "source": [
    "# Modelo KNN"
   ]
  },
  {
   "cell_type": "code",
   "execution_count": 1290,
   "id": "c2a6b2d1",
   "metadata": {},
   "outputs": [],
   "source": [
    "from sklearn.neighbors import KNeighborsClassifier"
   ]
  },
  {
   "cell_type": "code",
   "execution_count": 1298,
   "id": "8373ee1d",
   "metadata": {},
   "outputs": [],
   "source": [
    "from sklearn.model_selection import cross_val_score, KFold\n",
    "from sklearn.neighbors import KNeighborsClassifier"
   ]
  },
  {
   "cell_type": "code",
   "execution_count": 1299,
   "id": "c337d8ed",
   "metadata": {},
   "outputs": [],
   "source": [
    "def scores_knn(X, y, start,stop,step):\n",
    "    \n",
    "    # Vamos a querer graficar los distintos valores del score de cross validation en función del hiperparámetro n_neighbors\n",
    "    # Para esto vamos a generar una lista de diccionarios que después se puede convertir fácilmente en DataFrame\n",
    "    \n",
    "    # Lista de diccionarios - la inicializamos vacío y por fuera del for loop para ir alimentándola en cada iteración\n",
    "    scores_para_df = []\n",
    "    \n",
    "    \n",
    "    for i in range(start,stop,step):\n",
    "        \n",
    "        # En cada iteración, instanciamos el modelo con un hiperparámetro distinto\n",
    "        model = KNeighborsClassifier(n_neighbors=i)\n",
    "\n",
    "        # cross_val_scores nos devuelve un array de 5 resultados, uno por cada partición que hizo automáticamente CV\n",
    "        kf = KFold(n_splits=10, shuffle=True, random_state=10)\n",
    "        cv_scores = cross_val_score(model, X, y, cv=kf)\n",
    "\n",
    "        # Para cada valor de n_neighbours, creamos un diccionario con el valor de n_neighbours y la media y el desvío de los scores\n",
    "        dict_row_score = {'score_medio':np.mean(cv_scores),'score_std':np.std(cv_scores),'n_neighbours':i}\n",
    "\n",
    "        # Guardamos cada uno en la lista de diccionarios\n",
    "        scores_para_df.append(dict_row_score)\n",
    "    \n",
    "    # Creamos el DF a partir de la lista de resultados\n",
    "    df_scores = pd.DataFrame(scores_para_df)\n",
    "    \n",
    "    # Incorporamos los límites inferior y superior, restando y sumando el valor del desvío estándar, respectivamente\n",
    "    df_scores['limite_inferior'] = df_scores['score_medio'] - df_scores['score_std']\n",
    "    df_scores['limite_superior'] = df_scores['score_medio'] + df_scores['score_std']\n",
    "    \n",
    "    # Retornamos el DF\n",
    "    return df_scores"
   ]
  },
  {
   "cell_type": "code",
   "execution_count": null,
   "id": "35ff5aec",
   "metadata": {},
   "outputs": [],
   "source": [
    "# Probamos de 1 a 20 vecinos\n",
    "df_scores= scores_knn(X_train_std, y_train, 1, 10, 1)"
   ]
  },
  {
   "cell_type": "code",
   "execution_count": null,
   "id": "2d8c1c39",
   "metadata": {},
   "outputs": [],
   "source": [
    "best_k = df_scores.loc[df_scores.score_medio == df_scores.score_medio.max(),'n_neighbours'].values[0]\n",
    "best_k"
   ]
  },
  {
   "cell_type": "code",
   "execution_count": null,
   "id": "6ef9f525",
   "metadata": {},
   "outputs": [],
   "source": [
    "# Elegimos el modelo óptimo que nos había indicado cross validation\n",
    "model_knn = KNeighborsClassifier(n_neighbors=best_k)\n",
    "\n",
    "# Lo ajustamos sobre datos de entrenamiento\n",
    "model_knn.fit(X_train_std, y_train)"
   ]
  },
  {
   "cell_type": "code",
   "execution_count": 1293,
   "id": "fed1b494",
   "metadata": {},
   "outputs": [],
   "source": []
  },
  {
   "cell_type": "code",
   "execution_count": null,
   "id": "3327589a",
   "metadata": {},
   "outputs": [],
   "source": [
    "# Lo utilizamos para predecir en test\n",
    "y_pred_knn = model.predict(X_test_std)"
   ]
  },
  {
   "cell_type": "code",
   "execution_count": null,
   "id": "4ce51800",
   "metadata": {},
   "outputs": [],
   "source": [
    "# Computamos el accuracy score en test\n",
    "accuracy_score(y_test, y_pred_knn)"
   ]
  },
  {
   "cell_type": "code",
   "execution_count": null,
   "id": "d1733ee1",
   "metadata": {},
   "outputs": [],
   "source": [
    "sns.heatmap(confusion_matrix(y_test, y_pred_knn), annot=True, fmt='.0f')\n",
    "plt.ylabel('Etiquetas reales')\n",
    "plt.xlabel('Etiquetas predichas');"
   ]
  },
  {
   "cell_type": "code",
   "execution_count": null,
   "id": "178ce33d",
   "metadata": {},
   "outputs": [],
   "source": []
  },
  {
   "cell_type": "code",
   "execution_count": null,
   "id": "ce413abc",
   "metadata": {},
   "outputs": [],
   "source": [
    "#Aplicación de GRIDSEARCH"
   ]
  },
  {
   "cell_type": "code",
   "execution_count": null,
   "id": "8b875688",
   "metadata": {},
   "outputs": [],
   "source": [
    "models = [LogisticRegression(),\n",
    "          KNeighborsClassifier()]"
   ]
  },
  {
   "cell_type": "code",
   "execution_count": null,
   "id": "63ca4128",
   "metadata": {},
   "outputs": [],
   "source": [
    "params = [\n",
    "    {'C': [1, 10, 100, 1000],\n",
    "     'penalty': ['l1', 'l2',],\n",
    "     'solver': ['saga']},\n",
    "    {'n_neighbors': range(1,200),\n",
    "     'weights' : ['uniform', 'distance'],\n",
    "     'p' : [1, 2, 3]}\n",
    "]"
   ]
  },
  {
   "cell_type": "code",
   "execution_count": null,
   "id": "d67479c1",
   "metadata": {},
   "outputs": [],
   "source": [
    "from sklearn.model_selection import StratifiedKFold\n",
    "folds=StratifiedKFold(n_splits=10, random_state=19, shuffle=True)"
   ]
  },
  {
   "cell_type": "code",
   "execution_count": null,
   "id": "c0dce095",
   "metadata": {},
   "outputs": [],
   "source": [
    "grids = []\n",
    "for i in range(len(models)):\n",
    "    gs = GridSearchCV(estimator=models[i], param_grid=params[i], scoring='accuracy', cv=folds, n_jobs=4)\n",
    "    print (gs)\n",
    "    fit = gs.fit(X_train, y_train)\n",
    "    grids.append(fit)"
   ]
  },
  {
   "cell_type": "code",
   "execution_count": null,
   "id": "c15a4458",
   "metadata": {},
   "outputs": [],
   "source": [
    "for i in grids:\n",
    "    print (i.best_score_)\n",
    "    print (i.best_estimator_)\n",
    "    print (i.best_params_)"
   ]
  },
  {
   "cell_type": "code",
   "execution_count": 167,
   "id": "03350681",
   "metadata": {},
   "outputs": [],
   "source": [
    "pd.DataFrame(grids[0].cv_results_)"
   ]
  },
  {
   "cell_type": "code",
   "execution_count": null,
   "id": "c21a4448",
   "metadata": {},
   "outputs": [],
   "source": [
    "pd.DataFrame(grids[1].cv_results_)"
   ]
  },
  {
   "cell_type": "code",
   "execution_count": null,
   "id": "fcfd5e87",
   "metadata": {},
   "outputs": [],
   "source": [
    "X_test = scaler.transform(X_test)"
   ]
  },
  {
   "cell_type": "code",
   "execution_count": null,
   "id": "49e8c283",
   "metadata": {},
   "outputs": [],
   "source": [
    "X_test = scaler.transform(X_test)\n",
    "X_test = scaler.transform(X_test)\n",
    "y_preds_log = grids[0].predict(X_test)\n",
    "y_preds_knn = grids[1].predict(X_test)"
   ]
  },
  {
   "cell_type": "code",
   "execution_count": null,
   "id": "f868072d",
   "metadata": {},
   "outputs": [],
   "source": [
    "print (classification_report(y_test, y_preds_log))"
   ]
  },
  {
   "cell_type": "code",
   "execution_count": null,
   "id": "b91dc7b7",
   "metadata": {},
   "outputs": [],
   "source": [
    "confusion_matrix(y_test, y_preds_log)"
   ]
  },
  {
   "cell_type": "code",
   "execution_count": null,
   "id": "157edc42",
   "metadata": {},
   "outputs": [],
   "source": [
    "print (classification_report(y_test, y_preds_knn)"
   ]
  },
  {
   "cell_type": "code",
   "execution_count": null,
   "id": "ee671087",
   "metadata": {},
   "outputs": [],
   "source": [
    "confusion_matrix(y_test, y_preds_knn)"
   ]
  },
  {
   "cell_type": "code",
   "execution_count": null,
   "id": "368e0c11",
   "metadata": {},
   "outputs": [],
   "source": []
  },
  {
   "cell_type": "code",
   "execution_count": null,
   "id": "cace517d",
   "metadata": {},
   "outputs": [],
   "source": []
  },
  {
   "cell_type": "code",
   "execution_count": null,
   "id": "fdafbf56",
   "metadata": {},
   "outputs": [],
   "source": []
  }
 ],
 "metadata": {
  "kernelspec": {
   "display_name": "Python 3",
   "language": "python",
   "name": "python3"
  },
  "language_info": {
   "codemirror_mode": {
    "name": "ipython",
    "version": 3
   },
   "file_extension": ".py",
   "mimetype": "text/x-python",
   "name": "python",
   "nbconvert_exporter": "python",
   "pygments_lexer": "ipython3",
   "version": "3.8.10"
  }
 },
 "nbformat": 4,
 "nbformat_minor": 5
}
